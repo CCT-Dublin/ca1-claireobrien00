{
 "cells": [
  {
   "cell_type": "code",
   "execution_count": 1,
   "id": "f45cb349",
   "metadata": {},
   "outputs": [],
   "source": [
    "import pandas as pd #data manipulation\n",
    "import numpy as np #calculus and algebra\n",
    "import seaborn as sns\n",
    "import matplotlib.pyplot as plt\n",
    "from scipy.stats import norm\n",
    "from scipy.stats import stats\n",
    "import warnings\n",
    "warnings.filterwarnings('ignore') # We can suppress the warnings"
   ]
  },
  {
   "cell_type": "code",
   "execution_count": 2,
   "id": "0da7d4d1",
   "metadata": {},
   "outputs": [],
   "source": [
    "passenger_movement_df = pd.read_csv('TRBM1.20240317134742.csv') #Loading the CSV file into a pandas DF"
   ]
  },
  {
   "cell_type": "markdown",
   "id": "4191e3ab",
   "metadata": {},
   "source": [
    "# EDA"
   ]
  },
  {
   "cell_type": "code",
   "execution_count": 3,
   "id": "dce7f8ad",
   "metadata": {},
   "outputs": [
    {
     "data": {
      "text/html": [
       "<div>\n",
       "<style scoped>\n",
       "    .dataframe tbody tr th:only-of-type {\n",
       "        vertical-align: middle;\n",
       "    }\n",
       "\n",
       "    .dataframe tbody tr th {\n",
       "        vertical-align: top;\n",
       "    }\n",
       "\n",
       "    .dataframe thead th {\n",
       "        text-align: right;\n",
       "    }\n",
       "</style>\n",
       "<table border=\"1\" class=\"dataframe\">\n",
       "  <thead>\n",
       "    <tr style=\"text-align: right;\">\n",
       "      <th></th>\n",
       "      <th>STATISTIC</th>\n",
       "      <th>STATISTIC Label</th>\n",
       "      <th>TLIST(M1)</th>\n",
       "      <th>Month</th>\n",
       "      <th>DIRECT</th>\n",
       "      <th>Direction</th>\n",
       "      <th>TYPASS</th>\n",
       "      <th>Type of Passenger Movement</th>\n",
       "      <th>UNIT</th>\n",
       "      <th>VALUE</th>\n",
       "    </tr>\n",
       "  </thead>\n",
       "  <tbody>\n",
       "    <tr>\n",
       "      <th>0</th>\n",
       "      <td>TRBM1</td>\n",
       "      <td>Passenger Movement</td>\n",
       "      <td>196101</td>\n",
       "      <td>1961M01</td>\n",
       "      <td>1</td>\n",
       "      <td>Arriving in Eire</td>\n",
       "      <td>1</td>\n",
       "      <td>Passenger Movement by Sea to All Countries</td>\n",
       "      <td>Number</td>\n",
       "      <td>20102.0</td>\n",
       "    </tr>\n",
       "    <tr>\n",
       "      <th>1</th>\n",
       "      <td>TRBM1</td>\n",
       "      <td>Passenger Movement</td>\n",
       "      <td>196101</td>\n",
       "      <td>1961M01</td>\n",
       "      <td>1</td>\n",
       "      <td>Arriving in Eire</td>\n",
       "      <td>11</td>\n",
       "      <td>Passenger Movement by Sea to Great Britain</td>\n",
       "      <td>Number</td>\n",
       "      <td>19963.0</td>\n",
       "    </tr>\n",
       "    <tr>\n",
       "      <th>2</th>\n",
       "      <td>TRBM1</td>\n",
       "      <td>Passenger Movement</td>\n",
       "      <td>196101</td>\n",
       "      <td>1961M01</td>\n",
       "      <td>1</td>\n",
       "      <td>Arriving in Eire</td>\n",
       "      <td>12</td>\n",
       "      <td>Passenger Movement by Sea to Countries Other T...</td>\n",
       "      <td>Number</td>\n",
       "      <td>139.0</td>\n",
       "    </tr>\n",
       "    <tr>\n",
       "      <th>3</th>\n",
       "      <td>TRBM1</td>\n",
       "      <td>Passenger Movement</td>\n",
       "      <td>196101</td>\n",
       "      <td>1961M01</td>\n",
       "      <td>1</td>\n",
       "      <td>Arriving in Eire</td>\n",
       "      <td>2</td>\n",
       "      <td>Passenger Movement Cross-Border Rail</td>\n",
       "      <td>Number</td>\n",
       "      <td>10344.0</td>\n",
       "    </tr>\n",
       "    <tr>\n",
       "      <th>4</th>\n",
       "      <td>TRBM1</td>\n",
       "      <td>Passenger Movement</td>\n",
       "      <td>196101</td>\n",
       "      <td>1961M01</td>\n",
       "      <td>1</td>\n",
       "      <td>Arriving in Eire</td>\n",
       "      <td>3</td>\n",
       "      <td>Passenger Movement Cross-Border Bus</td>\n",
       "      <td>Number</td>\n",
       "      <td>40063.0</td>\n",
       "    </tr>\n",
       "    <tr>\n",
       "      <th>5</th>\n",
       "      <td>TRBM1</td>\n",
       "      <td>Passenger Movement</td>\n",
       "      <td>196101</td>\n",
       "      <td>1961M01</td>\n",
       "      <td>1</td>\n",
       "      <td>Arriving in Eire</td>\n",
       "      <td>4</td>\n",
       "      <td>Passenger Movement by Air from All Airports</td>\n",
       "      <td>Number</td>\n",
       "      <td>18098.0</td>\n",
       "    </tr>\n",
       "    <tr>\n",
       "      <th>6</th>\n",
       "      <td>TRBM1</td>\n",
       "      <td>Passenger Movement</td>\n",
       "      <td>196101</td>\n",
       "      <td>1961M01</td>\n",
       "      <td>1</td>\n",
       "      <td>Arriving in Eire</td>\n",
       "      <td>41</td>\n",
       "      <td>Passenger Movement by Air from Dublin Airport</td>\n",
       "      <td>Number</td>\n",
       "      <td>16762.0</td>\n",
       "    </tr>\n",
       "    <tr>\n",
       "      <th>7</th>\n",
       "      <td>TRBM1</td>\n",
       "      <td>Passenger Movement</td>\n",
       "      <td>196101</td>\n",
       "      <td>1961M01</td>\n",
       "      <td>1</td>\n",
       "      <td>Arriving in Eire</td>\n",
       "      <td>42</td>\n",
       "      <td>Passenger Movement by Air from Cork Airport</td>\n",
       "      <td>Number</td>\n",
       "      <td>0.0</td>\n",
       "    </tr>\n",
       "    <tr>\n",
       "      <th>8</th>\n",
       "      <td>TRBM1</td>\n",
       "      <td>Passenger Movement</td>\n",
       "      <td>196101</td>\n",
       "      <td>1961M01</td>\n",
       "      <td>1</td>\n",
       "      <td>Arriving in Eire</td>\n",
       "      <td>43</td>\n",
       "      <td>Passenger Movement by Air from Shannon Airport</td>\n",
       "      <td>Number</td>\n",
       "      <td>1336.0</td>\n",
       "    </tr>\n",
       "    <tr>\n",
       "      <th>9</th>\n",
       "      <td>TRBM1</td>\n",
       "      <td>Passenger Movement</td>\n",
       "      <td>196101</td>\n",
       "      <td>1961M01</td>\n",
       "      <td>1</td>\n",
       "      <td>Arriving in Eire</td>\n",
       "      <td>431</td>\n",
       "      <td>Passenger Movement by Air from Shannon Airport...</td>\n",
       "      <td>Number</td>\n",
       "      <td>747.0</td>\n",
       "    </tr>\n",
       "    <tr>\n",
       "      <th>10</th>\n",
       "      <td>TRBM1</td>\n",
       "      <td>Passenger Movement</td>\n",
       "      <td>196101</td>\n",
       "      <td>1961M01</td>\n",
       "      <td>1</td>\n",
       "      <td>Arriving in Eire</td>\n",
       "      <td>432</td>\n",
       "      <td>Passenger Movement by Air from Shannon Airport...</td>\n",
       "      <td>Number</td>\n",
       "      <td>589.0</td>\n",
       "    </tr>\n",
       "    <tr>\n",
       "      <th>11</th>\n",
       "      <td>TRBM1</td>\n",
       "      <td>Passenger Movement</td>\n",
       "      <td>196101</td>\n",
       "      <td>1961M01</td>\n",
       "      <td>2</td>\n",
       "      <td>Departing Eire</td>\n",
       "      <td>1</td>\n",
       "      <td>Passenger Movement by Sea to All Countries</td>\n",
       "      <td>Number</td>\n",
       "      <td>44076.0</td>\n",
       "    </tr>\n",
       "    <tr>\n",
       "      <th>12</th>\n",
       "      <td>TRBM1</td>\n",
       "      <td>Passenger Movement</td>\n",
       "      <td>196101</td>\n",
       "      <td>1961M01</td>\n",
       "      <td>2</td>\n",
       "      <td>Departing Eire</td>\n",
       "      <td>11</td>\n",
       "      <td>Passenger Movement by Sea to Great Britain</td>\n",
       "      <td>Number</td>\n",
       "      <td>43860.0</td>\n",
       "    </tr>\n",
       "    <tr>\n",
       "      <th>13</th>\n",
       "      <td>TRBM1</td>\n",
       "      <td>Passenger Movement</td>\n",
       "      <td>196101</td>\n",
       "      <td>1961M01</td>\n",
       "      <td>2</td>\n",
       "      <td>Departing Eire</td>\n",
       "      <td>12</td>\n",
       "      <td>Passenger Movement by Sea to Countries Other T...</td>\n",
       "      <td>Number</td>\n",
       "      <td>216.0</td>\n",
       "    </tr>\n",
       "    <tr>\n",
       "      <th>14</th>\n",
       "      <td>TRBM1</td>\n",
       "      <td>Passenger Movement</td>\n",
       "      <td>196101</td>\n",
       "      <td>1961M01</td>\n",
       "      <td>2</td>\n",
       "      <td>Departing Eire</td>\n",
       "      <td>2</td>\n",
       "      <td>Passenger Movement Cross-Border Rail</td>\n",
       "      <td>Number</td>\n",
       "      <td>9967.0</td>\n",
       "    </tr>\n",
       "    <tr>\n",
       "      <th>15</th>\n",
       "      <td>TRBM1</td>\n",
       "      <td>Passenger Movement</td>\n",
       "      <td>196101</td>\n",
       "      <td>1961M01</td>\n",
       "      <td>2</td>\n",
       "      <td>Departing Eire</td>\n",
       "      <td>3</td>\n",
       "      <td>Passenger Movement Cross-Border Bus</td>\n",
       "      <td>Number</td>\n",
       "      <td>40137.0</td>\n",
       "    </tr>\n",
       "    <tr>\n",
       "      <th>16</th>\n",
       "      <td>TRBM1</td>\n",
       "      <td>Passenger Movement</td>\n",
       "      <td>196101</td>\n",
       "      <td>1961M01</td>\n",
       "      <td>2</td>\n",
       "      <td>Departing Eire</td>\n",
       "      <td>4</td>\n",
       "      <td>Passenger Movement by Air from All Airports</td>\n",
       "      <td>Number</td>\n",
       "      <td>27496.0</td>\n",
       "    </tr>\n",
       "    <tr>\n",
       "      <th>17</th>\n",
       "      <td>TRBM1</td>\n",
       "      <td>Passenger Movement</td>\n",
       "      <td>196101</td>\n",
       "      <td>1961M01</td>\n",
       "      <td>2</td>\n",
       "      <td>Departing Eire</td>\n",
       "      <td>41</td>\n",
       "      <td>Passenger Movement by Air from Dublin Airport</td>\n",
       "      <td>Number</td>\n",
       "      <td>24166.0</td>\n",
       "    </tr>\n",
       "    <tr>\n",
       "      <th>18</th>\n",
       "      <td>TRBM1</td>\n",
       "      <td>Passenger Movement</td>\n",
       "      <td>196101</td>\n",
       "      <td>1961M01</td>\n",
       "      <td>2</td>\n",
       "      <td>Departing Eire</td>\n",
       "      <td>42</td>\n",
       "      <td>Passenger Movement by Air from Cork Airport</td>\n",
       "      <td>Number</td>\n",
       "      <td>0.0</td>\n",
       "    </tr>\n",
       "    <tr>\n",
       "      <th>19</th>\n",
       "      <td>TRBM1</td>\n",
       "      <td>Passenger Movement</td>\n",
       "      <td>196101</td>\n",
       "      <td>1961M01</td>\n",
       "      <td>2</td>\n",
       "      <td>Departing Eire</td>\n",
       "      <td>43</td>\n",
       "      <td>Passenger Movement by Air from Shannon Airport</td>\n",
       "      <td>Number</td>\n",
       "      <td>3330.0</td>\n",
       "    </tr>\n",
       "    <tr>\n",
       "      <th>20</th>\n",
       "      <td>TRBM1</td>\n",
       "      <td>Passenger Movement</td>\n",
       "      <td>196101</td>\n",
       "      <td>1961M01</td>\n",
       "      <td>2</td>\n",
       "      <td>Departing Eire</td>\n",
       "      <td>431</td>\n",
       "      <td>Passenger Movement by Air from Shannon Airport...</td>\n",
       "      <td>Number</td>\n",
       "      <td>779.0</td>\n",
       "    </tr>\n",
       "    <tr>\n",
       "      <th>21</th>\n",
       "      <td>TRBM1</td>\n",
       "      <td>Passenger Movement</td>\n",
       "      <td>196101</td>\n",
       "      <td>1961M01</td>\n",
       "      <td>2</td>\n",
       "      <td>Departing Eire</td>\n",
       "      <td>432</td>\n",
       "      <td>Passenger Movement by Air from Shannon Airport...</td>\n",
       "      <td>Number</td>\n",
       "      <td>2551.0</td>\n",
       "    </tr>\n",
       "    <tr>\n",
       "      <th>22</th>\n",
       "      <td>TRBM1</td>\n",
       "      <td>Passenger Movement</td>\n",
       "      <td>196102</td>\n",
       "      <td>1961M02</td>\n",
       "      <td>1</td>\n",
       "      <td>Arriving in Eire</td>\n",
       "      <td>1</td>\n",
       "      <td>Passenger Movement by Sea to All Countries</td>\n",
       "      <td>Number</td>\n",
       "      <td>19157.0</td>\n",
       "    </tr>\n",
       "    <tr>\n",
       "      <th>23</th>\n",
       "      <td>TRBM1</td>\n",
       "      <td>Passenger Movement</td>\n",
       "      <td>196102</td>\n",
       "      <td>1961M02</td>\n",
       "      <td>1</td>\n",
       "      <td>Arriving in Eire</td>\n",
       "      <td>11</td>\n",
       "      <td>Passenger Movement by Sea to Great Britain</td>\n",
       "      <td>Number</td>\n",
       "      <td>19079.0</td>\n",
       "    </tr>\n",
       "    <tr>\n",
       "      <th>24</th>\n",
       "      <td>TRBM1</td>\n",
       "      <td>Passenger Movement</td>\n",
       "      <td>196102</td>\n",
       "      <td>1961M02</td>\n",
       "      <td>1</td>\n",
       "      <td>Arriving in Eire</td>\n",
       "      <td>12</td>\n",
       "      <td>Passenger Movement by Sea to Countries Other T...</td>\n",
       "      <td>Number</td>\n",
       "      <td>78.0</td>\n",
       "    </tr>\n",
       "    <tr>\n",
       "      <th>25</th>\n",
       "      <td>TRBM1</td>\n",
       "      <td>Passenger Movement</td>\n",
       "      <td>196102</td>\n",
       "      <td>1961M02</td>\n",
       "      <td>1</td>\n",
       "      <td>Arriving in Eire</td>\n",
       "      <td>2</td>\n",
       "      <td>Passenger Movement Cross-Border Rail</td>\n",
       "      <td>Number</td>\n",
       "      <td>10013.0</td>\n",
       "    </tr>\n",
       "    <tr>\n",
       "      <th>26</th>\n",
       "      <td>TRBM1</td>\n",
       "      <td>Passenger Movement</td>\n",
       "      <td>196102</td>\n",
       "      <td>1961M02</td>\n",
       "      <td>1</td>\n",
       "      <td>Arriving in Eire</td>\n",
       "      <td>3</td>\n",
       "      <td>Passenger Movement Cross-Border Bus</td>\n",
       "      <td>Number</td>\n",
       "      <td>37184.0</td>\n",
       "    </tr>\n",
       "    <tr>\n",
       "      <th>27</th>\n",
       "      <td>TRBM1</td>\n",
       "      <td>Passenger Movement</td>\n",
       "      <td>196102</td>\n",
       "      <td>1961M02</td>\n",
       "      <td>1</td>\n",
       "      <td>Arriving in Eire</td>\n",
       "      <td>4</td>\n",
       "      <td>Passenger Movement by Air from All Airports</td>\n",
       "      <td>Number</td>\n",
       "      <td>17250.0</td>\n",
       "    </tr>\n",
       "    <tr>\n",
       "      <th>28</th>\n",
       "      <td>TRBM1</td>\n",
       "      <td>Passenger Movement</td>\n",
       "      <td>196102</td>\n",
       "      <td>1961M02</td>\n",
       "      <td>1</td>\n",
       "      <td>Arriving in Eire</td>\n",
       "      <td>41</td>\n",
       "      <td>Passenger Movement by Air from Dublin Airport</td>\n",
       "      <td>Number</td>\n",
       "      <td>15964.0</td>\n",
       "    </tr>\n",
       "    <tr>\n",
       "      <th>29</th>\n",
       "      <td>TRBM1</td>\n",
       "      <td>Passenger Movement</td>\n",
       "      <td>196102</td>\n",
       "      <td>1961M02</td>\n",
       "      <td>1</td>\n",
       "      <td>Arriving in Eire</td>\n",
       "      <td>42</td>\n",
       "      <td>Passenger Movement by Air from Cork Airport</td>\n",
       "      <td>Number</td>\n",
       "      <td>0.0</td>\n",
       "    </tr>\n",
       "  </tbody>\n",
       "</table>\n",
       "</div>"
      ],
      "text/plain": [
       "   STATISTIC     STATISTIC Label  TLIST(M1)    Month  DIRECT   \n",
       "0      TRBM1  Passenger Movement     196101  1961M01       1  \\\n",
       "1      TRBM1  Passenger Movement     196101  1961M01       1   \n",
       "2      TRBM1  Passenger Movement     196101  1961M01       1   \n",
       "3      TRBM1  Passenger Movement     196101  1961M01       1   \n",
       "4      TRBM1  Passenger Movement     196101  1961M01       1   \n",
       "5      TRBM1  Passenger Movement     196101  1961M01       1   \n",
       "6      TRBM1  Passenger Movement     196101  1961M01       1   \n",
       "7      TRBM1  Passenger Movement     196101  1961M01       1   \n",
       "8      TRBM1  Passenger Movement     196101  1961M01       1   \n",
       "9      TRBM1  Passenger Movement     196101  1961M01       1   \n",
       "10     TRBM1  Passenger Movement     196101  1961M01       1   \n",
       "11     TRBM1  Passenger Movement     196101  1961M01       2   \n",
       "12     TRBM1  Passenger Movement     196101  1961M01       2   \n",
       "13     TRBM1  Passenger Movement     196101  1961M01       2   \n",
       "14     TRBM1  Passenger Movement     196101  1961M01       2   \n",
       "15     TRBM1  Passenger Movement     196101  1961M01       2   \n",
       "16     TRBM1  Passenger Movement     196101  1961M01       2   \n",
       "17     TRBM1  Passenger Movement     196101  1961M01       2   \n",
       "18     TRBM1  Passenger Movement     196101  1961M01       2   \n",
       "19     TRBM1  Passenger Movement     196101  1961M01       2   \n",
       "20     TRBM1  Passenger Movement     196101  1961M01       2   \n",
       "21     TRBM1  Passenger Movement     196101  1961M01       2   \n",
       "22     TRBM1  Passenger Movement     196102  1961M02       1   \n",
       "23     TRBM1  Passenger Movement     196102  1961M02       1   \n",
       "24     TRBM1  Passenger Movement     196102  1961M02       1   \n",
       "25     TRBM1  Passenger Movement     196102  1961M02       1   \n",
       "26     TRBM1  Passenger Movement     196102  1961M02       1   \n",
       "27     TRBM1  Passenger Movement     196102  1961M02       1   \n",
       "28     TRBM1  Passenger Movement     196102  1961M02       1   \n",
       "29     TRBM1  Passenger Movement     196102  1961M02       1   \n",
       "\n",
       "           Direction  TYPASS   \n",
       "0   Arriving in Eire       1  \\\n",
       "1   Arriving in Eire      11   \n",
       "2   Arriving in Eire      12   \n",
       "3   Arriving in Eire       2   \n",
       "4   Arriving in Eire       3   \n",
       "5   Arriving in Eire       4   \n",
       "6   Arriving in Eire      41   \n",
       "7   Arriving in Eire      42   \n",
       "8   Arriving in Eire      43   \n",
       "9   Arriving in Eire     431   \n",
       "10  Arriving in Eire     432   \n",
       "11    Departing Eire       1   \n",
       "12    Departing Eire      11   \n",
       "13    Departing Eire      12   \n",
       "14    Departing Eire       2   \n",
       "15    Departing Eire       3   \n",
       "16    Departing Eire       4   \n",
       "17    Departing Eire      41   \n",
       "18    Departing Eire      42   \n",
       "19    Departing Eire      43   \n",
       "20    Departing Eire     431   \n",
       "21    Departing Eire     432   \n",
       "22  Arriving in Eire       1   \n",
       "23  Arriving in Eire      11   \n",
       "24  Arriving in Eire      12   \n",
       "25  Arriving in Eire       2   \n",
       "26  Arriving in Eire       3   \n",
       "27  Arriving in Eire       4   \n",
       "28  Arriving in Eire      41   \n",
       "29  Arriving in Eire      42   \n",
       "\n",
       "                           Type of Passenger Movement    UNIT    VALUE  \n",
       "0          Passenger Movement by Sea to All Countries  Number  20102.0  \n",
       "1          Passenger Movement by Sea to Great Britain  Number  19963.0  \n",
       "2   Passenger Movement by Sea to Countries Other T...  Number    139.0  \n",
       "3                Passenger Movement Cross-Border Rail  Number  10344.0  \n",
       "4                 Passenger Movement Cross-Border Bus  Number  40063.0  \n",
       "5         Passenger Movement by Air from All Airports  Number  18098.0  \n",
       "6       Passenger Movement by Air from Dublin Airport  Number  16762.0  \n",
       "7         Passenger Movement by Air from Cork Airport  Number      0.0  \n",
       "8      Passenger Movement by Air from Shannon Airport  Number   1336.0  \n",
       "9   Passenger Movement by Air from Shannon Airport...  Number    747.0  \n",
       "10  Passenger Movement by Air from Shannon Airport...  Number    589.0  \n",
       "11         Passenger Movement by Sea to All Countries  Number  44076.0  \n",
       "12         Passenger Movement by Sea to Great Britain  Number  43860.0  \n",
       "13  Passenger Movement by Sea to Countries Other T...  Number    216.0  \n",
       "14               Passenger Movement Cross-Border Rail  Number   9967.0  \n",
       "15                Passenger Movement Cross-Border Bus  Number  40137.0  \n",
       "16        Passenger Movement by Air from All Airports  Number  27496.0  \n",
       "17      Passenger Movement by Air from Dublin Airport  Number  24166.0  \n",
       "18        Passenger Movement by Air from Cork Airport  Number      0.0  \n",
       "19     Passenger Movement by Air from Shannon Airport  Number   3330.0  \n",
       "20  Passenger Movement by Air from Shannon Airport...  Number    779.0  \n",
       "21  Passenger Movement by Air from Shannon Airport...  Number   2551.0  \n",
       "22         Passenger Movement by Sea to All Countries  Number  19157.0  \n",
       "23         Passenger Movement by Sea to Great Britain  Number  19079.0  \n",
       "24  Passenger Movement by Sea to Countries Other T...  Number     78.0  \n",
       "25               Passenger Movement Cross-Border Rail  Number  10013.0  \n",
       "26                Passenger Movement Cross-Border Bus  Number  37184.0  \n",
       "27        Passenger Movement by Air from All Airports  Number  17250.0  \n",
       "28      Passenger Movement by Air from Dublin Airport  Number  15964.0  \n",
       "29        Passenger Movement by Air from Cork Airport  Number      0.0  "
      ]
     },
     "execution_count": 3,
     "metadata": {},
     "output_type": "execute_result"
    }
   ],
   "source": [
    "passenger_movement_df.head(30) #First 30 rows "
   ]
  },
  {
   "cell_type": "code",
   "execution_count": 4,
   "id": "a11807b3",
   "metadata": {},
   "outputs": [
    {
     "data": {
      "text/plain": [
       "(12936, 10)"
      ]
     },
     "execution_count": 4,
     "metadata": {},
     "output_type": "execute_result"
    }
   ],
   "source": [
    "passenger_movement_df.shape #12936 rows, 10 columns"
   ]
  },
  {
   "cell_type": "code",
   "execution_count": 5,
   "id": "a5a19f92",
   "metadata": {},
   "outputs": [],
   "source": [
    "#Renaming columns intuitively\n",
    "passenger_movement_df = passenger_movement_df.rename(columns={'TLIST(M1)': 'Year' })"
   ]
  },
  {
   "cell_type": "code",
   "execution_count": 6,
   "id": "62ae39f1",
   "metadata": {},
   "outputs": [
    {
     "data": {
      "text/plain": [
       "STATISTIC                      object\n",
       "STATISTIC Label                object\n",
       "Year                            int64\n",
       "Month                          object\n",
       "DIRECT                          int64\n",
       "Direction                      object\n",
       "TYPASS                          int64\n",
       "Type of Passenger Movement     object\n",
       "UNIT                           object\n",
       "VALUE                         float64\n",
       "dtype: object"
      ]
     },
     "execution_count": 6,
     "metadata": {},
     "output_type": "execute_result"
    }
   ],
   "source": [
    "passenger_movement_df.dtypes \n",
    "#value has no incorrectly inputted values (such as numbers inputted as words), all floats"
   ]
  },
  {
   "cell_type": "code",
   "execution_count": 7,
   "id": "22d37eb0",
   "metadata": {},
   "outputs": [
    {
     "data": {
      "text/plain": [
       "STATISTIC                     12936\n",
       "STATISTIC Label               12936\n",
       "Year                          12936\n",
       "Month                         12936\n",
       "DIRECT                        12936\n",
       "Direction                     12936\n",
       "TYPASS                        12936\n",
       "Type of Passenger Movement    12936\n",
       "UNIT                          12936\n",
       "VALUE                         12934\n",
       "dtype: int64"
      ]
     },
     "execution_count": 7,
     "metadata": {},
     "output_type": "execute_result"
    }
   ],
   "source": [
    "passenger_movement_df.count() #VALUE column missing two values"
   ]
  },
  {
   "cell_type": "code",
   "execution_count": 8,
   "id": "9dd010bf",
   "metadata": {},
   "outputs": [],
   "source": [
    "passenger_movement_df = passenger_movement_df.drop([\"STATISTIC Label\", \"TYPASS\", \"UNIT\", \"DIRECT\", \"STATISTIC\",\"Month\"], axis=1)\n",
    "#removing columns which aren't needed/contain the same info\n",
    "#going to keep the two year-month columns as the original form will be used later on in ML section\n",
    "#copied"
   ]
  },
  {
   "cell_type": "code",
   "execution_count": 9,
   "id": "f5e87a50",
   "metadata": {},
   "outputs": [
    {
     "data": {
      "text/html": [
       "<div>\n",
       "<style scoped>\n",
       "    .dataframe tbody tr th:only-of-type {\n",
       "        vertical-align: middle;\n",
       "    }\n",
       "\n",
       "    .dataframe tbody tr th {\n",
       "        vertical-align: top;\n",
       "    }\n",
       "\n",
       "    .dataframe thead th {\n",
       "        text-align: right;\n",
       "    }\n",
       "</style>\n",
       "<table border=\"1\" class=\"dataframe\">\n",
       "  <thead>\n",
       "    <tr style=\"text-align: right;\">\n",
       "      <th></th>\n",
       "      <th>Year</th>\n",
       "      <th>Direction</th>\n",
       "      <th>Type of Passenger Movement</th>\n",
       "      <th>VALUE</th>\n",
       "    </tr>\n",
       "  </thead>\n",
       "  <tbody>\n",
       "    <tr>\n",
       "      <th>12567</th>\n",
       "      <td>200808</td>\n",
       "      <td>Arriving in Eire</td>\n",
       "      <td>Passenger Movement by Air from All Airports</td>\n",
       "      <td>1603381.0</td>\n",
       "    </tr>\n",
       "    <tr>\n",
       "      <th>12303</th>\n",
       "      <td>200708</td>\n",
       "      <td>Arriving in Eire</td>\n",
       "      <td>Passenger Movement by Air from All Airports</td>\n",
       "      <td>1575955.0</td>\n",
       "    </tr>\n",
       "    <tr>\n",
       "      <th>12281</th>\n",
       "      <td>200707</td>\n",
       "      <td>Arriving in Eire</td>\n",
       "      <td>Passenger Movement by Air from All Airports</td>\n",
       "      <td>1565640.0</td>\n",
       "    </tr>\n",
       "    <tr>\n",
       "      <th>12545</th>\n",
       "      <td>200807</td>\n",
       "      <td>Arriving in Eire</td>\n",
       "      <td>Passenger Movement by Air from All Airports</td>\n",
       "      <td>1555437.0</td>\n",
       "    </tr>\n",
       "    <tr>\n",
       "      <th>12292</th>\n",
       "      <td>200707</td>\n",
       "      <td>Departing Eire</td>\n",
       "      <td>Passenger Movement by Air from All Airports</td>\n",
       "      <td>1555235.0</td>\n",
       "    </tr>\n",
       "    <tr>\n",
       "      <th>...</th>\n",
       "      <td>...</td>\n",
       "      <td>...</td>\n",
       "      <td>...</td>\n",
       "      <td>...</td>\n",
       "    </tr>\n",
       "    <tr>\n",
       "      <th>161</th>\n",
       "      <td>196108</td>\n",
       "      <td>Arriving in Eire</td>\n",
       "      <td>Passenger Movement by Air from Cork Airport</td>\n",
       "      <td>0.0</td>\n",
       "    </tr>\n",
       "    <tr>\n",
       "      <th>2675</th>\n",
       "      <td>197102</td>\n",
       "      <td>Departing Eire</td>\n",
       "      <td>Passenger Movement by Sea to Countries Other T...</td>\n",
       "      <td>0.0</td>\n",
       "    </tr>\n",
       "    <tr>\n",
       "      <th>2631</th>\n",
       "      <td>197012</td>\n",
       "      <td>Departing Eire</td>\n",
       "      <td>Passenger Movement by Sea to Countries Other T...</td>\n",
       "      <td>0.0</td>\n",
       "    </tr>\n",
       "    <tr>\n",
       "      <th>12126</th>\n",
       "      <td>200612</td>\n",
       "      <td>Arriving in Eire</td>\n",
       "      <td>Passenger Movement Cross-Border Bus</td>\n",
       "      <td>NaN</td>\n",
       "    </tr>\n",
       "    <tr>\n",
       "      <th>12137</th>\n",
       "      <td>200612</td>\n",
       "      <td>Departing Eire</td>\n",
       "      <td>Passenger Movement Cross-Border Bus</td>\n",
       "      <td>NaN</td>\n",
       "    </tr>\n",
       "  </tbody>\n",
       "</table>\n",
       "<p>12936 rows × 4 columns</p>\n",
       "</div>"
      ],
      "text/plain": [
       "         Year         Direction   \n",
       "12567  200808  Arriving in Eire  \\\n",
       "12303  200708  Arriving in Eire   \n",
       "12281  200707  Arriving in Eire   \n",
       "12545  200807  Arriving in Eire   \n",
       "12292  200707    Departing Eire   \n",
       "...       ...               ...   \n",
       "161    196108  Arriving in Eire   \n",
       "2675   197102    Departing Eire   \n",
       "2631   197012    Departing Eire   \n",
       "12126  200612  Arriving in Eire   \n",
       "12137  200612    Departing Eire   \n",
       "\n",
       "                              Type of Passenger Movement      VALUE  \n",
       "12567        Passenger Movement by Air from All Airports  1603381.0  \n",
       "12303        Passenger Movement by Air from All Airports  1575955.0  \n",
       "12281        Passenger Movement by Air from All Airports  1565640.0  \n",
       "12545        Passenger Movement by Air from All Airports  1555437.0  \n",
       "12292        Passenger Movement by Air from All Airports  1555235.0  \n",
       "...                                                  ...        ...  \n",
       "161          Passenger Movement by Air from Cork Airport        0.0  \n",
       "2675   Passenger Movement by Sea to Countries Other T...        0.0  \n",
       "2631   Passenger Movement by Sea to Countries Other T...        0.0  \n",
       "12126                Passenger Movement Cross-Border Bus        NaN  \n",
       "12137                Passenger Movement Cross-Border Bus        NaN  \n",
       "\n",
       "[12936 rows x 4 columns]"
      ]
     },
     "execution_count": 9,
     "metadata": {},
     "output_type": "execute_result"
    }
   ],
   "source": [
    "ascending_passenger_movement_df = passenger_movement_df.sort_values(by='VALUE', ascending=False) #Year with the most movement\n",
    "ascending_passenger_movement_df "
   ]
  },
  {
   "cell_type": "code",
   "execution_count": 10,
   "id": "1bd94cc7",
   "metadata": {},
   "outputs": [
    {
     "name": "stdout",
     "output_type": "stream",
     "text": [
      "number of duplicate rows:  (0, 4)\n"
     ]
    }
   ],
   "source": [
    "#Checking for duplicates\n",
    "duplicate_rows_df = passenger_movement_df[passenger_movement_df.duplicated()]\n",
    "print('number of duplicate rows: ', duplicate_rows_df.shape)\n",
    "#no duplicated data"
   ]
  },
  {
   "cell_type": "code",
   "execution_count": 11,
   "id": "2e661267",
   "metadata": {},
   "outputs": [
    {
     "name": "stdout",
     "output_type": "stream",
     "text": [
      "<class 'pandas.core.frame.DataFrame'>\n",
      "RangeIndex: 12936 entries, 0 to 12935\n",
      "Data columns (total 4 columns):\n",
      " #   Column                      Non-Null Count  Dtype  \n",
      "---  ------                      --------------  -----  \n",
      " 0   Year                        12936 non-null  int64  \n",
      " 1   Direction                   12936 non-null  object \n",
      " 2   Type of Passenger Movement  12936 non-null  object \n",
      " 3   VALUE                       12934 non-null  float64\n",
      "dtypes: float64(1), int64(1), object(2)\n",
      "memory usage: 404.4+ KB\n"
     ]
    }
   ],
   "source": [
    "passenger_movement_df.info() "
   ]
  },
  {
   "cell_type": "code",
   "execution_count": 12,
   "id": "eb053d88",
   "metadata": {},
   "outputs": [
    {
     "name": "stdout",
     "output_type": "stream",
     "text": [
      "True\n"
     ]
    }
   ],
   "source": [
    "print(passenger_movement_df.isnull().values.any()) #Checking for null values"
   ]
  },
  {
   "cell_type": "code",
   "execution_count": 13,
   "id": "bb59fe2a",
   "metadata": {},
   "outputs": [
    {
     "name": "stdout",
     "output_type": "stream",
     "text": [
      "Year                          0\n",
      "Direction                     0\n",
      "Type of Passenger Movement    0\n",
      "VALUE                         2\n",
      "dtype: int64\n"
     ]
    }
   ],
   "source": [
    "print(passenger_movement_df.isnull().sum()) #two null values"
   ]
  },
  {
   "cell_type": "code",
   "execution_count": 14,
   "id": "52cd7209",
   "metadata": {},
   "outputs": [],
   "source": [
    "passenger_movement_df.dropna(axis=0,inplace=True) #dropping the two rows with null values"
   ]
  },
  {
   "cell_type": "code",
   "execution_count": 15,
   "id": "2ffc675f",
   "metadata": {},
   "outputs": [
    {
     "data": {
      "text/plain": [
       "(12934, 4)"
      ]
     },
     "execution_count": 15,
     "metadata": {},
     "output_type": "execute_result"
    }
   ],
   "source": [
    "passenger_movement_df.shape #two rows have been dropped"
   ]
  },
  {
   "cell_type": "code",
   "execution_count": 16,
   "id": "d3348fb7",
   "metadata": {},
   "outputs": [],
   "source": [
    "#function to convert imported year to a decimal for graphing\n",
    "def year_month_to_decimal(year_month):\n",
    "    \n",
    "    year = int(year_month[:4])\n",
    "    month = int(year_month[4:])\n",
    "    decimal_month = month / 12.0\n",
    "    return year + decimal_month"
   ]
  },
  {
   "cell_type": "code",
   "execution_count": 17,
   "id": "5819896e",
   "metadata": {},
   "outputs": [
    {
     "data": {
      "text/html": [
       "<div>\n",
       "<style scoped>\n",
       "    .dataframe tbody tr th:only-of-type {\n",
       "        vertical-align: middle;\n",
       "    }\n",
       "\n",
       "    .dataframe tbody tr th {\n",
       "        vertical-align: top;\n",
       "    }\n",
       "\n",
       "    .dataframe thead th {\n",
       "        text-align: right;\n",
       "    }\n",
       "</style>\n",
       "<table border=\"1\" class=\"dataframe\">\n",
       "  <thead>\n",
       "    <tr style=\"text-align: right;\">\n",
       "      <th></th>\n",
       "      <th>Year</th>\n",
       "      <th>Direction</th>\n",
       "      <th>Type of Passenger Movement</th>\n",
       "      <th>VALUE</th>\n",
       "      <th>decimal_year</th>\n",
       "    </tr>\n",
       "  </thead>\n",
       "  <tbody>\n",
       "    <tr>\n",
       "      <th>0</th>\n",
       "      <td>196101</td>\n",
       "      <td>Arriving in Eire</td>\n",
       "      <td>Passenger Movement by Sea to All Countries</td>\n",
       "      <td>20102.0</td>\n",
       "      <td>1961.083333</td>\n",
       "    </tr>\n",
       "    <tr>\n",
       "      <th>1</th>\n",
       "      <td>196101</td>\n",
       "      <td>Arriving in Eire</td>\n",
       "      <td>Passenger Movement by Sea to Great Britain</td>\n",
       "      <td>19963.0</td>\n",
       "      <td>1961.083333</td>\n",
       "    </tr>\n",
       "    <tr>\n",
       "      <th>2</th>\n",
       "      <td>196101</td>\n",
       "      <td>Arriving in Eire</td>\n",
       "      <td>Passenger Movement by Sea to Countries Other T...</td>\n",
       "      <td>139.0</td>\n",
       "      <td>1961.083333</td>\n",
       "    </tr>\n",
       "    <tr>\n",
       "      <th>3</th>\n",
       "      <td>196101</td>\n",
       "      <td>Arriving in Eire</td>\n",
       "      <td>Passenger Movement Cross-Border Rail</td>\n",
       "      <td>10344.0</td>\n",
       "      <td>1961.083333</td>\n",
       "    </tr>\n",
       "    <tr>\n",
       "      <th>4</th>\n",
       "      <td>196101</td>\n",
       "      <td>Arriving in Eire</td>\n",
       "      <td>Passenger Movement Cross-Border Bus</td>\n",
       "      <td>40063.0</td>\n",
       "      <td>1961.083333</td>\n",
       "    </tr>\n",
       "    <tr>\n",
       "      <th>...</th>\n",
       "      <td>...</td>\n",
       "      <td>...</td>\n",
       "      <td>...</td>\n",
       "      <td>...</td>\n",
       "      <td>...</td>\n",
       "    </tr>\n",
       "    <tr>\n",
       "      <th>12931</th>\n",
       "      <td>200912</td>\n",
       "      <td>Departing Eire</td>\n",
       "      <td>Passenger Movement by Air from Dublin Airport</td>\n",
       "      <td>664962.0</td>\n",
       "      <td>2010.000000</td>\n",
       "    </tr>\n",
       "    <tr>\n",
       "      <th>12932</th>\n",
       "      <td>200912</td>\n",
       "      <td>Departing Eire</td>\n",
       "      <td>Passenger Movement by Air from Cork Airport</td>\n",
       "      <td>76086.0</td>\n",
       "      <td>2010.000000</td>\n",
       "    </tr>\n",
       "    <tr>\n",
       "      <th>12933</th>\n",
       "      <td>200912</td>\n",
       "      <td>Departing Eire</td>\n",
       "      <td>Passenger Movement by Air from Shannon Airport</td>\n",
       "      <td>61229.0</td>\n",
       "      <td>2010.000000</td>\n",
       "    </tr>\n",
       "    <tr>\n",
       "      <th>12934</th>\n",
       "      <td>200912</td>\n",
       "      <td>Departing Eire</td>\n",
       "      <td>Passenger Movement by Air from Shannon Airport...</td>\n",
       "      <td>50767.0</td>\n",
       "      <td>2010.000000</td>\n",
       "    </tr>\n",
       "    <tr>\n",
       "      <th>12935</th>\n",
       "      <td>200912</td>\n",
       "      <td>Departing Eire</td>\n",
       "      <td>Passenger Movement by Air from Shannon Airport...</td>\n",
       "      <td>10462.0</td>\n",
       "      <td>2010.000000</td>\n",
       "    </tr>\n",
       "  </tbody>\n",
       "</table>\n",
       "<p>12934 rows × 5 columns</p>\n",
       "</div>"
      ],
      "text/plain": [
       "         Year         Direction   \n",
       "0      196101  Arriving in Eire  \\\n",
       "1      196101  Arriving in Eire   \n",
       "2      196101  Arriving in Eire   \n",
       "3      196101  Arriving in Eire   \n",
       "4      196101  Arriving in Eire   \n",
       "...       ...               ...   \n",
       "12931  200912    Departing Eire   \n",
       "12932  200912    Departing Eire   \n",
       "12933  200912    Departing Eire   \n",
       "12934  200912    Departing Eire   \n",
       "12935  200912    Departing Eire   \n",
       "\n",
       "                              Type of Passenger Movement     VALUE   \n",
       "0             Passenger Movement by Sea to All Countries   20102.0  \\\n",
       "1             Passenger Movement by Sea to Great Britain   19963.0   \n",
       "2      Passenger Movement by Sea to Countries Other T...     139.0   \n",
       "3                   Passenger Movement Cross-Border Rail   10344.0   \n",
       "4                    Passenger Movement Cross-Border Bus   40063.0   \n",
       "...                                                  ...       ...   \n",
       "12931      Passenger Movement by Air from Dublin Airport  664962.0   \n",
       "12932        Passenger Movement by Air from Cork Airport   76086.0   \n",
       "12933     Passenger Movement by Air from Shannon Airport   61229.0   \n",
       "12934  Passenger Movement by Air from Shannon Airport...   50767.0   \n",
       "12935  Passenger Movement by Air from Shannon Airport...   10462.0   \n",
       "\n",
       "       decimal_year  \n",
       "0       1961.083333  \n",
       "1       1961.083333  \n",
       "2       1961.083333  \n",
       "3       1961.083333  \n",
       "4       1961.083333  \n",
       "...             ...  \n",
       "12931   2010.000000  \n",
       "12932   2010.000000  \n",
       "12933   2010.000000  \n",
       "12934   2010.000000  \n",
       "12935   2010.000000  \n",
       "\n",
       "[12934 rows x 5 columns]"
      ]
     },
     "execution_count": 17,
     "metadata": {},
     "output_type": "execute_result"
    }
   ],
   "source": [
    "#applying the function to the year \n",
    "passenger_movement_df['Year'] = passenger_movement_df['Year'].astype(str)\n",
    "passenger_movement_df['decimal_year'] = passenger_movement_df['Year'].apply(year_month_to_decimal)\n",
    "passenger_movement_df['decimal_year'] = passenger_movement_df['decimal_year'].astype(float)\n",
    "passenger_movement_df"
   ]
  },
  {
   "cell_type": "code",
   "execution_count": 18,
   "id": "80f02976",
   "metadata": {},
   "outputs": [
    {
     "data": {
      "text/plain": [
       "array(['Arriving in Eire', 'Departing Eire'], dtype=object)"
      ]
     },
     "execution_count": 18,
     "metadata": {},
     "output_type": "execute_result"
    }
   ],
   "source": [
    "passenger_movement_df[\"Direction\"].unique() #two unique values"
   ]
  },
  {
   "cell_type": "code",
   "execution_count": 19,
   "id": "9126fbc8",
   "metadata": {},
   "outputs": [
    {
     "data": {
      "text/plain": [
       "array(['Passenger Movement by Sea to All Countries',\n",
       "       'Passenger Movement by Sea to Great Britain',\n",
       "       'Passenger Movement by Sea to Countries Other Than Great Britain',\n",
       "       'Passenger Movement Cross-Border Rail',\n",
       "       'Passenger Movement Cross-Border Bus',\n",
       "       'Passenger Movement by Air from All Airports',\n",
       "       'Passenger Movement by Air from Dublin Airport',\n",
       "       'Passenger Movement by Air from Cork Airport',\n",
       "       'Passenger Movement by Air from Shannon Airport',\n",
       "       'Passenger Movement by Air from Shannon Airport (Eastbound)',\n",
       "       'Passenger Movement by Air from Shannon Airport (Westbound)'],\n",
       "      dtype=object)"
      ]
     },
     "execution_count": 19,
     "metadata": {},
     "output_type": "execute_result"
    }
   ],
   "source": [
    "passenger_movement_df[\"Type of Passenger Movement\"].unique() #11 unique columns"
   ]
  },
  {
   "cell_type": "code",
   "execution_count": 20,
   "id": "b304e68d",
   "metadata": {},
   "outputs": [
    {
     "data": {
      "text/html": [
       "<div>\n",
       "<style scoped>\n",
       "    .dataframe tbody tr th:only-of-type {\n",
       "        vertical-align: middle;\n",
       "    }\n",
       "\n",
       "    .dataframe tbody tr th {\n",
       "        vertical-align: top;\n",
       "    }\n",
       "\n",
       "    .dataframe thead th {\n",
       "        text-align: right;\n",
       "    }\n",
       "</style>\n",
       "<table border=\"1\" class=\"dataframe\">\n",
       "  <thead>\n",
       "    <tr style=\"text-align: right;\">\n",
       "      <th></th>\n",
       "      <th>VALUE</th>\n",
       "      <th>decimal_year</th>\n",
       "    </tr>\n",
       "  </thead>\n",
       "  <tbody>\n",
       "    <tr>\n",
       "      <th>count</th>\n",
       "      <td>1.293400e+04</td>\n",
       "      <td>12934.000000</td>\n",
       "    </tr>\n",
       "    <tr>\n",
       "      <th>mean</th>\n",
       "      <td>9.242068e+04</td>\n",
       "      <td>1985.538349</td>\n",
       "    </tr>\n",
       "    <tr>\n",
       "      <th>std</th>\n",
       "      <td>1.769196e+05</td>\n",
       "      <td>14.144184</td>\n",
       "    </tr>\n",
       "    <tr>\n",
       "      <th>min</th>\n",
       "      <td>0.000000e+00</td>\n",
       "      <td>1961.083333</td>\n",
       "    </tr>\n",
       "    <tr>\n",
       "      <th>25%</th>\n",
       "      <td>1.340125e+04</td>\n",
       "      <td>1973.270833</td>\n",
       "    </tr>\n",
       "    <tr>\n",
       "      <th>50%</th>\n",
       "      <td>3.542900e+04</td>\n",
       "      <td>1985.500000</td>\n",
       "    </tr>\n",
       "    <tr>\n",
       "      <th>75%</th>\n",
       "      <td>8.617450e+04</td>\n",
       "      <td>1997.750000</td>\n",
       "    </tr>\n",
       "    <tr>\n",
       "      <th>max</th>\n",
       "      <td>1.603381e+06</td>\n",
       "      <td>2010.000000</td>\n",
       "    </tr>\n",
       "  </tbody>\n",
       "</table>\n",
       "</div>"
      ],
      "text/plain": [
       "              VALUE  decimal_year\n",
       "count  1.293400e+04  12934.000000\n",
       "mean   9.242068e+04   1985.538349\n",
       "std    1.769196e+05     14.144184\n",
       "min    0.000000e+00   1961.083333\n",
       "25%    1.340125e+04   1973.270833\n",
       "50%    3.542900e+04   1985.500000\n",
       "75%    8.617450e+04   1997.750000\n",
       "max    1.603381e+06   2010.000000"
      ]
     },
     "execution_count": 20,
     "metadata": {},
     "output_type": "execute_result"
    }
   ],
   "source": [
    "passenger_movement_df.describe() #mean and std indicate the data is heavily skewed"
   ]
  },
  {
   "cell_type": "code",
   "execution_count": 21,
   "id": "38ce1514",
   "metadata": {},
   "outputs": [
    {
     "data": {
      "text/html": [
       "<div>\n",
       "<style scoped>\n",
       "    .dataframe tbody tr th:only-of-type {\n",
       "        vertical-align: middle;\n",
       "    }\n",
       "\n",
       "    .dataframe tbody tr th {\n",
       "        vertical-align: top;\n",
       "    }\n",
       "\n",
       "    .dataframe thead th {\n",
       "        text-align: right;\n",
       "    }\n",
       "</style>\n",
       "<table border=\"1\" class=\"dataframe\">\n",
       "  <thead>\n",
       "    <tr style=\"text-align: right;\">\n",
       "      <th></th>\n",
       "      <th>Year</th>\n",
       "      <th>Direction</th>\n",
       "      <th>Type of Passenger Movement</th>\n",
       "    </tr>\n",
       "  </thead>\n",
       "  <tbody>\n",
       "    <tr>\n",
       "      <th>count</th>\n",
       "      <td>12934</td>\n",
       "      <td>12934</td>\n",
       "      <td>12934</td>\n",
       "    </tr>\n",
       "    <tr>\n",
       "      <th>unique</th>\n",
       "      <td>588</td>\n",
       "      <td>2</td>\n",
       "      <td>11</td>\n",
       "    </tr>\n",
       "    <tr>\n",
       "      <th>top</th>\n",
       "      <td>196101</td>\n",
       "      <td>Arriving in Eire</td>\n",
       "      <td>Passenger Movement by Sea to All Countries</td>\n",
       "    </tr>\n",
       "    <tr>\n",
       "      <th>freq</th>\n",
       "      <td>22</td>\n",
       "      <td>6467</td>\n",
       "      <td>1176</td>\n",
       "    </tr>\n",
       "  </tbody>\n",
       "</table>\n",
       "</div>"
      ],
      "text/plain": [
       "          Year         Direction                  Type of Passenger Movement\n",
       "count    12934             12934                                       12934\n",
       "unique     588                 2                                          11\n",
       "top     196101  Arriving in Eire  Passenger Movement by Sea to All Countries\n",
       "freq        22              6467                                        1176"
      ]
     },
     "execution_count": 21,
     "metadata": {},
     "output_type": "execute_result"
    }
   ],
   "source": [
    "passenger_movement_df.describe(include=\"object\") "
   ]
  },
  {
   "cell_type": "code",
   "execution_count": 22,
   "id": "71d8b4b0",
   "metadata": {},
   "outputs": [],
   "source": [
    "def season(x):\n",
    "    month = int(str(x)[-2:])\n",
    "    if month in [12, 1, 2]:\n",
    "        return 'Winter'\n",
    "    elif month in [3, 4, 5]:\n",
    "        return 'Spring'\n",
    "    elif month in [6, 7, 8]:\n",
    "        return 'Summer'\n",
    "    else:\n",
    "        return 'Autumn'\n",
    "    \n",
    "passenger_movement_df['Season'] =  passenger_movement_df['Year'].apply(season)"
   ]
  },
  {
   "cell_type": "code",
   "execution_count": 81,
   "id": "6b633611",
   "metadata": {},
   "outputs": [],
   "source": [
    "#Splitting data into two data frames: arriving into Ireland and departing from Ireland, making sure to not double count\n",
    "\n",
    "options =['Passenger Movement by Sea to All Countries', 'Passenger Movement Cross-Border Rail', 'Passenger Movement Cross-Border Bus', 'Passenger Movement by Air from All Airports']\n",
    "#ensure values aren't being double counted\n",
    "\n",
    "passenger_movement_net_df = passenger_movement_df[passenger_movement_df['Type of Passenger Movement'].isin(options)]\n",
    "\n",
    "arriving_df = passenger_movement_df[passenger_movement_df['Direction'].isin(['Arriving in Eire'])]\n",
    "arriving_net_df = arriving_df[arriving_df['Type of Passenger Movement'].isin(options)]\n",
    "\n",
    "departing_df = passenger_movement_df[passenger_movement_df['Direction'].isin(['Departing Eire'])]\n",
    "departing_net_df = departing_df[departing_df['Type of Passenger Movement'].isin(options)]"
   ]
  },
  {
   "cell_type": "markdown",
   "id": "2dc412c3",
   "metadata": {},
   "source": [
    "# Visualisations"
   ]
  },
  {
   "cell_type": "code",
   "execution_count": 24,
   "id": "587bb97a",
   "metadata": {},
   "outputs": [
    {
     "data": {
      "image/png": "[encoded data removed]",
      "text/plain": [
       "<Figure size 640x480 with 1 Axes>"
      ]
     },
     "metadata": {},
     "output_type": "display_data"
    }
   ],
   "source": [
    "sns.histplot(data=passenger_movement_net_df, x=\"VALUE\", kde = True)\n",
    "plt.xlabel('Number of passengers')\n",
    "plt.ylabel('Count')\n",
    "plt.savefig('hist')"
   ]
  },
  {
   "cell_type": "code",
   "execution_count": 25,
   "id": "91b3de0c",
   "metadata": {},
   "outputs": [
    {
     "data": {
      "text/plain": [
       "Text(0.5, 1.0, 'Boxplot')"
      ]
     },
     "execution_count": 25,
     "metadata": {},
     "output_type": "execute_result"
    },
    {
     "data": {
      "image/png": "[encoded data removed]",
      "text/plain": [
       "<Figure size 640x480 with 1 Axes>"
      ]
     },
     "metadata": {},
     "output_type": "display_data"
    }
   ],
   "source": [
    "sns.boxplot(y = 'VALUE', data = passenger_movement_net_df) #numbers arriving by sea have remained very stable over the years - presents better on the boxplot, too much variance otherwise\n",
    "plt.title('Boxplot')"
   ]
  },
  {
   "cell_type": "code",
   "execution_count": 108,
   "id": "0d86b027",
   "metadata": {},
   "outputs": [
    {
     "data": {
      "text/plain": [
       "<matplotlib.legend.Legend at 0x170cbfed0>"
      ]
     },
     "execution_count": 108,
     "metadata": {},
     "output_type": "execute_result"
    },
    {
     "data": {
      "image/png": "[encoded data removed]",
      "text/plain": [
       "<Figure size 640x480 with 1 Axes>"
      ]
     },
     "metadata": {},
     "output_type": "display_data"
    }
   ],
   "source": [
    "sns.histplot(data=departing_net_df, x=\"VALUE\", kde = True, label='Passeneger departing')\n",
    "sns.histplot(data=arriving_net_df, x=\"VALUE\", kde = True, label='Passeneger arriving')\n",
    "plt.legend(loc='upper right')"
   ]
  },
  {
   "cell_type": "code",
   "execution_count": 27,
   "id": "84008f9d",
   "metadata": {},
   "outputs": [],
   "source": [
    "arriving_by_air_df = arriving_net_df[arriving_df['Type of Passenger Movement'].isin(['Passenger Movement by Air from All Airports'])]  \n",
    "arriving_by_sea_df = arriving_net_df[arriving_df['Type of Passenger Movement'].isin(['Passenger Movement by Sea to All Countries'])]\n",
    "departing_by_air_df = departing_net_df[departing_df['Type of Passenger Movement'].isin(['Passenger Movement by Air from All Airports'])]\n",
    "departing_by_sea_df = departing_net_df[departing_df['Type of Passenger Movement'].isin(['Passenger Movement by Sea to All Countries'])]"
   ]
  },
  {
   "cell_type": "code",
   "execution_count": 28,
   "id": "c11c002c",
   "metadata": {},
   "outputs": [
    {
     "data": {
      "image/png": "[encoded data removed]",
      "text/plain": [
       "<Figure size 2000x1000 with 1 Axes>"
      ]
     },
     "metadata": {},
     "output_type": "display_data"
    }
   ],
   "source": [
    "fig, ax = plt.subplots(figsize=(20,10))\n",
    "ax.scatter(departing_by_air_df[\"decimal_year\"], departing_by_air_df[\"VALUE\"], s=10, c='green', marker=\"s\", label='departing air')\n",
    "ax.scatter(departing_by_sea_df[\"decimal_year\"],departing_by_sea_df[\"VALUE\"],s=10, c='red', marker=\"s\", label='departing sea')\n",
    "ax.scatter(arriving_by_air_df[\"decimal_year\"], arriving_by_air_df[\"VALUE\"], s=10, c='blue', marker=\"o\", label='arriving air')\n",
    "ax.scatter(arriving_by_sea_df[\"decimal_year\"], arriving_by_sea_df[\"VALUE\"], s=10, c='black', marker=\"o\", label='arriving sea')\n",
    "plt.legend(loc='upper left')\n",
    "ax.set_xlabel(\"Year\")\n",
    "ax.set_ylabel(\"Numbers arriving\")\n",
    "plt.savefig('scatter')\n",
    "plt.show()"
   ]
  },
  {
   "cell_type": "code",
   "execution_count": 29,
   "id": "9928f07b",
   "metadata": {},
   "outputs": [
    {
     "data": {
      "image/png": "[encoded data removed]",
      "text/plain": [
       "<Figure size 2000x600 with 1 Axes>"
      ]
     },
     "metadata": {},
     "output_type": "display_data"
    }
   ],
   "source": [
    "#look at a plot of one year - normally distributed?\n",
    "departing_by_air_1961_df = departing_by_air_df[departing_by_air_df['Year'].str.contains('1961')]\n",
    "departing_by_air_1962_df = departing_by_air_df[departing_by_air_df['Year'].str.contains('1962')]\n",
    "fig, ax = plt.subplots(figsize=(20,6))\n",
    "ax.scatter(departing_by_air_1961_df[\"decimal_year\"], departing_by_air_1961_df[\"VALUE\"], s=10, c='b', marker=\"s\", label='1961')\n",
    "ax.scatter(departing_by_air_1962_df[\"decimal_year\"], departing_by_air_1962_df[\"VALUE\"], s=10, c='r', marker=\"s\", label='1962')\n",
    "plt.legend(loc='upper left')\n",
    "ax.set_xlabel(\"Month\")\n",
    "ax.set_ylabel(\"Numbers arriving\")\n",
    "plt.show() "
   ]
  },
  {
   "cell_type": "code",
   "execution_count": 30,
   "id": "a2a7d9a8",
   "metadata": {},
   "outputs": [
    {
     "data": {
      "image/png": "[encoded data removed]",
      "text/plain": [
       "<Figure size 800x500 with 1 Axes>"
      ]
     },
     "metadata": {},
     "output_type": "display_data"
    }
   ],
   "source": [
    "arriving_by_air_df['Dataset'] = 'arriving_by_air_df'\n",
    "arriving_by_sea_df['Dataset'] = 'arriving_by_sea_df'\n",
    "departing_by_sea_df['Dataset'] = 'departing_by_sea_df'\n",
    "departing_by_air_df['Dataset'] = 'departing_by_air_df'\n",
    "all_data = pd.concat([arriving_by_air_df, arriving_by_sea_df, departing_by_air_df, departing_by_sea_df])\n",
    "plt.figure(figsize=(8, 5)) \n",
    "sns.boxplot(x='Dataset', y='VALUE', data=all_data, width=0.5)\n",
    "plt.title('') \n",
    "plt.xlabel('')  \n",
    "plt.ylabel('Number of passengers arriving')  \n",
    "plt.savefig('boxplot')\n",
    "plt.show()"
   ]
  },
  {
   "cell_type": "code",
   "execution_count": 79,
   "id": "b688bfca",
   "metadata": {},
   "outputs": [
    {
     "name": "stdout",
     "output_type": "stream",
     "text": [
      "              VALUE  decimal_year\n",
      "count  5.880000e+02    588.000000\n",
      "mean   3.413003e+05   1985.541667\n",
      "std    3.579344e+05     14.157105\n",
      "min    1.725000e+04   1961.083333\n",
      "25%    8.918600e+04   1973.312500\n",
      "50%    1.771845e+05   1985.541667\n",
      "75%    4.945732e+05   1997.770833\n",
      "max    1.603381e+06   2010.000000\n",
      "               VALUE  decimal_year\n",
      "count     588.000000    588.000000\n",
      "mean   118646.709184   1985.541667\n",
      "std     86918.855434     14.157105\n",
      "min     10712.000000   1961.083333\n",
      "25%     49729.000000   1973.312500\n",
      "50%     93685.000000   1985.541667\n",
      "75%    166887.750000   1997.770833\n",
      "max    395819.000000   2010.000000\n"
     ]
    }
   ],
   "source": [
    "print(arriving_by_air_df.describe())\n",
    "print(arriving_by_sea_df.describe())"
   ]
  },
  {
   "cell_type": "markdown",
   "id": "ebf77d54",
   "metadata": {},
   "source": [
    "# Statistics"
   ]
  },
  {
   "cell_type": "markdown",
   "id": "beaacf04",
   "metadata": {},
   "source": [
    "## Binomial Distribution"
   ]
  },
  {
   "cell_type": "code",
   "execution_count": 31,
   "id": "90f8d5bc",
   "metadata": {},
   "outputs": [
    {
     "name": "stdout",
     "output_type": "stream",
     "text": [
      "69555589.0 69764265.0 139319854.0\n"
     ]
    }
   ],
   "source": [
    "from scipy.stats import binom\n",
    "#numbers arriving by departing by sea relatively stable over time - probability will be more constant than air travel\n",
    "total_departing_by_sea = departing_by_sea_df['VALUE'].sum()\n",
    "total_arriving_by_sea = arriving_by_sea_df['VALUE'].sum()\n",
    "total_sea_df = passenger_movement_df[passenger_movement_df['Type of Passenger Movement'] == 'Passenger Movement by Sea to All Countries'] \n",
    "\n",
    "# Sum the values in 'column_to_sum' from the filtered DataFrame\n",
    "total_movement_sea = total_sea_df['VALUE'].sum()\n",
    "print(total_departing_by_sea, total_arriving_by_sea, total_movement_sea)"
   ]
  },
  {
   "cell_type": "code",
   "execution_count": 32,
   "id": "4ef4ff3e",
   "metadata": {},
   "outputs": [
    {
     "name": "stdout",
     "output_type": "stream",
     "text": [
      "0.49925109022867625 0.5007489097713238\n"
     ]
    }
   ],
   "source": [
    "p = total_departing_by_sea/total_movement_sea \n",
    "q = total_arriving_by_sea/total_movement_sea\n",
    "print(p,q)"
   ]
  },
  {
   "cell_type": "code",
   "execution_count": 33,
   "id": "6b3ffaed",
   "metadata": {},
   "outputs": [
    {
     "data": {
      "text/plain": [
       "True"
      ]
     },
     "execution_count": 33,
     "metadata": {},
     "output_type": "execute_result"
    }
   ],
   "source": [
    "p + q == 1 #checking the two probabilities sum to 1"
   ]
  },
  {
   "cell_type": "code",
   "execution_count": 45,
   "id": "f06c1a12",
   "metadata": {},
   "outputs": [
    {
     "data": {
      "text/plain": [
       "0.24609098950080252"
      ]
     },
     "execution_count": 45,
     "metadata": {},
     "output_type": "execute_result"
    }
   ],
   "source": [
    "#if xx number of people are chosen at random who arrived by sea what is the probability they were entering or leaving the country?\n",
    "#binom.pmf(k = number that you want, n = sample size or limit, p = probability)\n",
    "binom.pmf(5, 10, p)\n",
    "#there is a probability of 0.246 that exactly 5 out of 10 people were departing the country by sea from 1961 to 2009"
   ]
  },
  {
   "cell_type": "code",
   "execution_count": 46,
   "id": "74f3de97",
   "metadata": {},
   "outputs": [
    {
     "data": {
      "text/plain": [
       "0.6248885093777816"
      ]
     },
     "execution_count": 46,
     "metadata": {},
     "output_type": "execute_result"
    }
   ],
   "source": [
    "binom.cdf(5, 10, p) #less than 5 (4 or less) departing"
   ]
  },
  {
   "cell_type": "code",
   "execution_count": 47,
   "id": "35e27c6d",
   "metadata": {},
   "outputs": [
    {
     "data": {
      "text/plain": [
       "0.3751114906222183"
      ]
     },
     "execution_count": 47,
     "metadata": {},
     "output_type": "execute_result"
    }
   ],
   "source": [
    "binom.sf(5, 10, p) #more than 5 (4 or more) departing"
   ]
  },
  {
   "cell_type": "code",
   "execution_count": 48,
   "id": "b7030d9e",
   "metadata": {},
   "outputs": [
    {
     "data": {
      "image/png": "[encoded data removed]",
      "text/plain": [
       "<Figure size 640x480 with 1 Axes>"
      ]
     },
     "metadata": {},
     "output_type": "display_data"
    }
   ],
   "source": [
    "n = 10  # Number of trials\n",
    "\n",
    "# Generate x values (number of successes)\n",
    "x_values = np.arange(0, n+1)\n",
    "\n",
    "# Calculate probabilities using binomial distribution\n",
    "probabilities = binom.pmf(x_values, n, p)\n",
    "\n",
    "# Plot the binomial distribution\n",
    "plt.bar(x_values, probabilities, color='blue')\n",
    "plt.xlabel('Number of Trials')\n",
    "plt.ylabel('Probability chosen person is departing')\n",
    "plt.xticks(x_values)\n",
    "plt.grid(True)\n",
    "plt.show()"
   ]
  },
  {
   "cell_type": "code",
   "execution_count": 49,
   "id": "e90c5c0b",
   "metadata": {},
   "outputs": [
    {
     "data": {
      "image/png": "[encoded data removed]",
      "text/plain": [
       "<Figure size 1000x600 with 1 Axes>"
      ]
     },
     "metadata": {},
     "output_type": "display_data"
    }
   ],
   "source": [
    "n = 10\n",
    "x_values = np.arange(0, n+1)\n",
    "\n",
    "# Calculate probabilities using binomial distribution\n",
    "probabilities_pmf = binom.pmf(x_values, n, p)\n",
    "probabilities_sf = binom.sf(x_values, n, p)\n",
    "probabilities_cdf = binom.cdf(x_values, n, p)\n",
    "\n",
    "# Plot the binomial distributions\n",
    "plt.figure(figsize=(10, 6))\n",
    "\n",
    "# Plot PMF\n",
    "plt.bar(x_values - 0.2, probabilities_pmf, width=0.2, color='black', label='PMF')\n",
    "\n",
    "# Plot SF\n",
    "plt.bar(x_values, probabilities_sf, width=0.2, color='blue', label='SF')\n",
    "\n",
    "# Plot CDF\n",
    "plt.bar(x_values + 0.2, probabilities_cdf, width=0.2, color='magenta', label='CDF')\n",
    "\n",
    "plt.xlabel('Number of sucesses for 10 trials')\n",
    "plt.ylabel('Probability chosen person is departing')\n",
    "plt.xticks(x_values)\n",
    "plt.legend()\n",
    "plt.grid(True)\n",
    "plt.savefig('binomial')\n",
    "plt.show()"
   ]
  },
  {
   "cell_type": "code",
   "execution_count": 50,
   "id": "28bdc6a3",
   "metadata": {},
   "outputs": [
    {
     "data": {
      "text/plain": [
       "4.992510902286763"
      ]
     },
     "execution_count": 50,
     "metadata": {},
     "output_type": "execute_result"
    }
   ],
   "source": [
    "#Two probabilities are approx equal\n",
    "#Expected value over the long run that 10 people would be departing\n",
    "n = 10\n",
    "expected_value = 10*p\n",
    "expected_value"
   ]
  },
  {
   "cell_type": "code",
   "execution_count": 51,
   "id": "0a0c9228",
   "metadata": {
    "scrolled": true
   },
   "outputs": [
    {
     "data": {
      "image/png": "[encoded data removed]",
      "text/plain": [
       "<Figure size 1000x600 with 1 Axes>"
      ]
     },
     "metadata": {},
     "output_type": "display_data"
    }
   ],
   "source": [
    "#initialise \n",
    "n_values = []\n",
    "k_values = []\n",
    "pmf_values = []\n",
    "\n",
    "for i in range(1, 10000, 100):  \n",
    "    n = i\n",
    "    k = i // 2  # Set k to half of n\n",
    "    pmf = binom.pmf(k, n, p)\n",
    "    \n",
    "    n_values.append(n) #add values to list\n",
    "    k_values.append(k)\n",
    "    pmf_values.append(pmf)\n",
    "\n",
    "# Plot the results\n",
    "plt.figure(figsize=(10, 6))\n",
    "plt.plot(n_values, pmf_values, marker='*', linestyle='-', color = 'purple')\n",
    "plt.xlabel('Number of Trials (n)')\n",
    "plt.ylabel('Probability Mass Function')\n",
    "plt.grid(True)\n",
    "plt.savefig('binomial large number of trails')\n",
    "plt.show()"
   ]
  },
  {
   "cell_type": "markdown",
   "id": "1a9e6117",
   "metadata": {},
   "source": [
    "## Poisson Distribution"
   ]
  },
  {
   "cell_type": "code",
   "execution_count": 52,
   "id": "06c0f3c4",
   "metadata": {},
   "outputs": [
    {
     "data": {
      "text/plain": [
       "649.1466498928338"
      ]
     },
     "execution_count": 52,
     "metadata": {},
     "output_type": "execute_result"
    }
   ],
   "source": [
    "#finding the average number of people moving by by sea\n",
    "from scipy.stats import poisson\n",
    "total_number_of_months = len(departing_by_sea_df)\n",
    "lambda_poisson_daily= (total_departing_by_sea + total_arriving_by_sea)/(total_number_of_months*365)#per day\n",
    "lambda_poisson_daily #avergae number of people coming a day"
   ]
  },
  {
   "cell_type": "code",
   "execution_count": 53,
   "id": "1efcefe0",
   "metadata": {},
   "outputs": [
    {
     "data": {
      "text/plain": [
       "0.01565758428655263"
      ]
     },
     "execution_count": 53,
     "metadata": {},
     "output_type": "execute_result"
    }
   ],
   "source": [
    "k = round(lambda_poisson_daily)\n",
    "poisson.pmf(k, lambda_poisson_daily)"
   ]
  },
  {
   "cell_type": "code",
   "execution_count": 54,
   "id": "098e90f7",
   "metadata": {},
   "outputs": [
    {
     "data": {
      "text/plain": [
       "0.49185836070889655"
      ]
     },
     "execution_count": 54,
     "metadata": {},
     "output_type": "execute_result"
    }
   ],
   "source": [
    "poisson.sf(k, lambda_poisson_daily)"
   ]
  },
  {
   "cell_type": "code",
   "execution_count": 55,
   "id": "ead3004a",
   "metadata": {},
   "outputs": [
    {
     "data": {
      "text/plain": [
       "0.5081416392911033"
      ]
     },
     "execution_count": 55,
     "metadata": {},
     "output_type": "execute_result"
    }
   ],
   "source": [
    "poisson.cdf(k, lambda_poisson_daily)"
   ]
  },
  {
   "cell_type": "code",
   "execution_count": 56,
   "id": "65d32bed",
   "metadata": {},
   "outputs": [
    {
     "data": {
      "image/png": "[encoded data removed]",
      "text/plain": [
       "<Figure size 640x480 with 1 Axes>"
      ]
     },
     "metadata": {},
     "output_type": "display_data"
    }
   ],
   "source": [
    "lambda_poisson_values = []\n",
    "pmf_values = []\n",
    "lambda_poisson = (total_departing_by_sea + total_arriving_by_sea) / total_number_of_months #base units = per month\n",
    "time_scale = [1/365, 0.5, 1, 6, 12, 24, 36, 48, 120]\n",
    "\n",
    "for time in time_scale:\n",
    "    lambda_poisson_i = lambda_poisson * time\n",
    "    k = round(lambda_poisson_i)\n",
    "    pmf = poisson.pmf(k, lambda_poisson_i)  # Calculate PMF for lambda_poisson_i\n",
    "    # Add values to list for each iteration\n",
    "    lambda_poisson_values.append(lambda_poisson_i)\n",
    "    pmf_values.append(pmf)\n",
    "\n",
    "# Plot the results\n",
    "plt.plot(time_scale, pmf_values, marker='*', linestyle='-', color = 'purple')\n",
    "\n",
    "plt.xlabel('Time frame (in months)')\n",
    "plt.ylabel('Probability Mass Function')\n",
    "#plt.legend()\n",
    "plt.grid(True)\n",
    "plt.savefig('large_poisson.png')\n",
    "plt.show()"
   ]
  },
  {
   "cell_type": "markdown",
   "id": "467ca227",
   "metadata": {},
   "source": [
    "# Normal Distribuiton"
   ]
  },
  {
   "cell_type": "code",
   "execution_count": 58,
   "id": "31dcfc71",
   "metadata": {},
   "outputs": [
    {
     "data": {
      "text/plain": [
       "<Axes: xlabel='VALUE', ylabel='Count'>"
      ]
     },
     "execution_count": 58,
     "metadata": {},
     "output_type": "execute_result"
    },
    {
     "data": {
      "image/png": "[encoded data removed]",
      "text/plain": [
       "<Figure size 640x480 with 1 Axes>"
      ]
     },
     "metadata": {},
     "output_type": "display_data"
    }
   ],
   "source": [
    "departing_by_sea_summer_df = departing_by_sea_df[departing_by_sea_df['Season'].str.contains('Summer')]\n",
    "departing_by_air_summer_df = departing_by_air_df[departing_by_air_df['Season'].str.contains('Summer') ]\n",
    "sns.histplot(data=departing_by_sea_summer_df, x=\"VALUE\", kde = True)\n",
    "sns.histplot(data=departing_by_air_summer_df, x=\"VALUE\", kde = True)"
   ]
  },
  {
   "cell_type": "code",
   "execution_count": 59,
   "id": "1b739e1f",
   "metadata": {},
   "outputs": [
    {
     "data": {
      "image/png": "[encoded data removed]",
      "text/plain": [
       "<Figure size 640x480 with 1 Axes>"
      ]
     },
     "metadata": {},
     "output_type": "display_data"
    }
   ],
   "source": [
    "sns.histplot(data=departing_by_sea_summer_df, color='red', x=\"VALUE\", kde = True, label='departing_by_sea_summer_df') \n",
    "data = np.random.normal(loc=217441.510204, scale=87330.674017, size=350)\n",
    "sns.histplot(data, kde=True, color='skyblue', bins=30, label='Model Normal Distribution')\n",
    "plt.legend(loc='upper left')\n",
    "# Plot the normal distribution curve\n",
    "plt.savefig('approx norm')\n",
    "plt.show()"
   ]
  },
  {
   "cell_type": "code",
   "execution_count": 66,
   "id": "745df1f3",
   "metadata": {},
   "outputs": [
    {
     "data": {
      "text/html": [
       "<div>\n",
       "<style scoped>\n",
       "    .dataframe tbody tr th:only-of-type {\n",
       "        vertical-align: middle;\n",
       "    }\n",
       "\n",
       "    .dataframe tbody tr th {\n",
       "        vertical-align: top;\n",
       "    }\n",
       "\n",
       "    .dataframe thead th {\n",
       "        text-align: right;\n",
       "    }\n",
       "</style>\n",
       "<table border=\"1\" class=\"dataframe\">\n",
       "  <thead>\n",
       "    <tr style=\"text-align: right;\">\n",
       "      <th></th>\n",
       "      <th>VALUE</th>\n",
       "      <th>decimal_year</th>\n",
       "    </tr>\n",
       "  </thead>\n",
       "  <tbody>\n",
       "    <tr>\n",
       "      <th>count</th>\n",
       "      <td>147.000000</td>\n",
       "      <td>147.000000</td>\n",
       "    </tr>\n",
       "    <tr>\n",
       "      <th>mean</th>\n",
       "      <td>217441.510204</td>\n",
       "      <td>1985.583333</td>\n",
       "    </tr>\n",
       "    <tr>\n",
       "      <th>std</th>\n",
       "      <td>87330.674017</td>\n",
       "      <td>14.190649</td>\n",
       "    </tr>\n",
       "    <tr>\n",
       "      <th>min</th>\n",
       "      <td>32517.000000</td>\n",
       "      <td>1961.500000</td>\n",
       "    </tr>\n",
       "    <tr>\n",
       "      <th>25%</th>\n",
       "      <td>144680.500000</td>\n",
       "      <td>1973.541667</td>\n",
       "    </tr>\n",
       "    <tr>\n",
       "      <th>50%</th>\n",
       "      <td>218386.000000</td>\n",
       "      <td>1985.583333</td>\n",
       "    </tr>\n",
       "    <tr>\n",
       "      <th>75%</th>\n",
       "      <td>275698.000000</td>\n",
       "      <td>1997.625000</td>\n",
       "    </tr>\n",
       "    <tr>\n",
       "      <th>max</th>\n",
       "      <td>416886.000000</td>\n",
       "      <td>2009.666667</td>\n",
       "    </tr>\n",
       "  </tbody>\n",
       "</table>\n",
       "</div>"
      ],
      "text/plain": [
       "               VALUE  decimal_year\n",
       "count     147.000000    147.000000\n",
       "mean   217441.510204   1985.583333\n",
       "std     87330.674017     14.190649\n",
       "min     32517.000000   1961.500000\n",
       "25%    144680.500000   1973.541667\n",
       "50%    218386.000000   1985.583333\n",
       "75%    275698.000000   1997.625000\n",
       "max    416886.000000   2009.666667"
      ]
     },
     "execution_count": 66,
     "metadata": {},
     "output_type": "execute_result"
    }
   ],
   "source": [
    "departing_by_sea_summer_df.describe()"
   ]
  },
  {
   "cell_type": "code",
   "execution_count": 69,
   "id": "30eca666",
   "metadata": {},
   "outputs": [
    {
     "name": "stdout",
     "output_type": "stream",
     "text": [
      "217441.51020408163 87330.67401677495\n"
     ]
    }
   ],
   "source": [
    "norm_dist = departing_by_sea_summer_df.describe()\n",
    "mu = norm_dist.iloc[1, 0]\n",
    "sigma = norm_dist.iloc[2, 0]\n",
    "print(mu, sigma)"
   ]
  },
  {
   "cell_type": "code",
   "execution_count": 72,
   "id": "9b6a0833",
   "metadata": {},
   "outputs": [
    {
     "data": {
      "text/plain": [
       "0.5791494441612952"
      ]
     },
     "execution_count": 72,
     "metadata": {},
     "output_type": "execute_result"
    }
   ],
   "source": [
    "norm.sf(200000, mu, sigma)"
   ]
  },
  {
   "cell_type": "code",
   "execution_count": 73,
   "id": "793dca3e",
   "metadata": {},
   "outputs": [
    {
     "data": {
      "text/plain": [
       "0.42085055583870473"
      ]
     },
     "execution_count": 73,
     "metadata": {},
     "output_type": "execute_result"
    }
   ],
   "source": [
    "norm.cdf(200000, mu, sigma)"
   ]
  },
  {
   "cell_type": "code",
   "execution_count": 74,
   "id": "d3fa7634",
   "metadata": {},
   "outputs": [
    {
     "data": {
      "text/plain": [
       "1.0"
      ]
     },
     "execution_count": 74,
     "metadata": {},
     "output_type": "execute_result"
    }
   ],
   "source": [
    "norm.cdf(200000, mu, sigma) + norm.sf(200000, mu, sigma) "
   ]
  },
  {
   "cell_type": "code",
   "execution_count": 76,
   "id": "ff64181d",
   "metadata": {},
   "outputs": [
    {
     "name": "stdout",
     "output_type": "stream",
     "text": [
      "392102.8582376315 42780.16217053172\n"
     ]
    }
   ],
   "source": [
    "upper = mu+2*sigma\n",
    "lower = mu-2*sigma\n",
    "print(upper, lower) #95% probability that between the upper and lower limit will leave via sea during the summer months"
   ]
  },
  {
   "cell_type": "code",
   "execution_count": 83,
   "id": "62be1d9e",
   "metadata": {},
   "outputs": [
    {
     "data": {
      "text/html": [
       "<div>\n",
       "<style scoped>\n",
       "    .dataframe tbody tr th:only-of-type {\n",
       "        vertical-align: middle;\n",
       "    }\n",
       "\n",
       "    .dataframe tbody tr th {\n",
       "        vertical-align: top;\n",
       "    }\n",
       "\n",
       "    .dataframe thead th {\n",
       "        text-align: right;\n",
       "    }\n",
       "</style>\n",
       "<table border=\"1\" class=\"dataframe\">\n",
       "  <thead>\n",
       "    <tr style=\"text-align: right;\">\n",
       "      <th></th>\n",
       "      <th>Year</th>\n",
       "      <th>Direction</th>\n",
       "      <th>Type of Passenger Movement</th>\n",
       "      <th>VALUE</th>\n",
       "      <th>decimal_year</th>\n",
       "      <th>Season</th>\n",
       "    </tr>\n",
       "  </thead>\n",
       "  <tbody>\n",
       "    <tr>\n",
       "      <th>0</th>\n",
       "      <td>196101</td>\n",
       "      <td>Arriving in Eire</td>\n",
       "      <td>Passenger Movement by Sea to All Countries</td>\n",
       "      <td>20102.0</td>\n",
       "      <td>1961.083333</td>\n",
       "      <td>Winter</td>\n",
       "    </tr>\n",
       "    <tr>\n",
       "      <th>3</th>\n",
       "      <td>196101</td>\n",
       "      <td>Arriving in Eire</td>\n",
       "      <td>Passenger Movement Cross-Border Rail</td>\n",
       "      <td>10344.0</td>\n",
       "      <td>1961.083333</td>\n",
       "      <td>Winter</td>\n",
       "    </tr>\n",
       "    <tr>\n",
       "      <th>4</th>\n",
       "      <td>196101</td>\n",
       "      <td>Arriving in Eire</td>\n",
       "      <td>Passenger Movement Cross-Border Bus</td>\n",
       "      <td>40063.0</td>\n",
       "      <td>1961.083333</td>\n",
       "      <td>Winter</td>\n",
       "    </tr>\n",
       "    <tr>\n",
       "      <th>5</th>\n",
       "      <td>196101</td>\n",
       "      <td>Arriving in Eire</td>\n",
       "      <td>Passenger Movement by Air from All Airports</td>\n",
       "      <td>18098.0</td>\n",
       "      <td>1961.083333</td>\n",
       "      <td>Winter</td>\n",
       "    </tr>\n",
       "    <tr>\n",
       "      <th>11</th>\n",
       "      <td>196101</td>\n",
       "      <td>Departing Eire</td>\n",
       "      <td>Passenger Movement by Sea to All Countries</td>\n",
       "      <td>44076.0</td>\n",
       "      <td>1961.083333</td>\n",
       "      <td>Winter</td>\n",
       "    </tr>\n",
       "    <tr>\n",
       "      <th>...</th>\n",
       "      <td>...</td>\n",
       "      <td>...</td>\n",
       "      <td>...</td>\n",
       "      <td>...</td>\n",
       "      <td>...</td>\n",
       "      <td>...</td>\n",
       "    </tr>\n",
       "    <tr>\n",
       "      <th>12919</th>\n",
       "      <td>200912</td>\n",
       "      <td>Arriving in Eire</td>\n",
       "      <td>Passenger Movement by Air from All Airports</td>\n",
       "      <td>818525.0</td>\n",
       "      <td>2010.000000</td>\n",
       "      <td>Winter</td>\n",
       "    </tr>\n",
       "    <tr>\n",
       "      <th>12925</th>\n",
       "      <td>200912</td>\n",
       "      <td>Departing Eire</td>\n",
       "      <td>Passenger Movement by Sea to All Countries</td>\n",
       "      <td>79667.0</td>\n",
       "      <td>2010.000000</td>\n",
       "      <td>Winter</td>\n",
       "    </tr>\n",
       "    <tr>\n",
       "      <th>12928</th>\n",
       "      <td>200912</td>\n",
       "      <td>Departing Eire</td>\n",
       "      <td>Passenger Movement Cross-Border Rail</td>\n",
       "      <td>38111.0</td>\n",
       "      <td>2010.000000</td>\n",
       "      <td>Winter</td>\n",
       "    </tr>\n",
       "    <tr>\n",
       "      <th>12929</th>\n",
       "      <td>200912</td>\n",
       "      <td>Departing Eire</td>\n",
       "      <td>Passenger Movement Cross-Border Bus</td>\n",
       "      <td>33924.0</td>\n",
       "      <td>2010.000000</td>\n",
       "      <td>Winter</td>\n",
       "    </tr>\n",
       "    <tr>\n",
       "      <th>12930</th>\n",
       "      <td>200912</td>\n",
       "      <td>Departing Eire</td>\n",
       "      <td>Passenger Movement by Air from All Airports</td>\n",
       "      <td>836271.0</td>\n",
       "      <td>2010.000000</td>\n",
       "      <td>Winter</td>\n",
       "    </tr>\n",
       "  </tbody>\n",
       "</table>\n",
       "<p>4702 rows × 6 columns</p>\n",
       "</div>"
      ],
      "text/plain": [
       "         Year         Direction                   Type of Passenger Movement   \n",
       "0      196101  Arriving in Eire   Passenger Movement by Sea to All Countries  \\\n",
       "3      196101  Arriving in Eire         Passenger Movement Cross-Border Rail   \n",
       "4      196101  Arriving in Eire          Passenger Movement Cross-Border Bus   \n",
       "5      196101  Arriving in Eire  Passenger Movement by Air from All Airports   \n",
       "11     196101    Departing Eire   Passenger Movement by Sea to All Countries   \n",
       "...       ...               ...                                          ...   \n",
       "12919  200912  Arriving in Eire  Passenger Movement by Air from All Airports   \n",
       "12925  200912    Departing Eire   Passenger Movement by Sea to All Countries   \n",
       "12928  200912    Departing Eire         Passenger Movement Cross-Border Rail   \n",
       "12929  200912    Departing Eire          Passenger Movement Cross-Border Bus   \n",
       "12930  200912    Departing Eire  Passenger Movement by Air from All Airports   \n",
       "\n",
       "          VALUE  decimal_year  Season  \n",
       "0       20102.0   1961.083333  Winter  \n",
       "3       10344.0   1961.083333  Winter  \n",
       "4       40063.0   1961.083333  Winter  \n",
       "5       18098.0   1961.083333  Winter  \n",
       "11      44076.0   1961.083333  Winter  \n",
       "...         ...           ...     ...  \n",
       "12919  818525.0   2010.000000  Winter  \n",
       "12925   79667.0   2010.000000  Winter  \n",
       "12928   38111.0   2010.000000  Winter  \n",
       "12929   33924.0   2010.000000  Winter  \n",
       "12930  836271.0   2010.000000  Winter  \n",
       "\n",
       "[4702 rows x 6 columns]"
      ]
     },
     "execution_count": 83,
     "metadata": {},
     "output_type": "execute_result"
    }
   ],
   "source": [
    "passenger_movement_net_df"
   ]
  },
  {
   "cell_type": "markdown",
   "id": "862b7988",
   "metadata": {},
   "source": [
    "# Encoding"
   ]
  },
  {
   "cell_type": "code",
   "execution_count": 110,
   "id": "b68c672a",
   "metadata": {},
   "outputs": [],
   "source": [
    "#Label Encoder\n",
    "from sklearn.preprocessing import LabelEncoder\n",
    "lencoder = LabelEncoder()\n",
    "#Season, direction, Type of Passenger Movement need to be encoded\n",
    "passenger_movement_net_df['Year'] = passenger_movement_df['Year'].astype(float) #changing Year to float so it won't be encoded\n",
    "\n",
    "def encode_label(dataFrame): #function to encode any dataframe\n",
    "    encoded_df = dataFrame.copy()\n",
    "    for column in encoded_df.columns:\n",
    "        if encoded_df[column].dtype == 'object': #only encodes objects\n",
    "            encoded_df[column] = lencoder.fit_transform(encoded_df[column]) #need to try a few types of encoding\n",
    "    return encoded_df"
   ]
  },
  {
   "cell_type": "code",
   "execution_count": 104,
   "id": "4fdd7c7f",
   "metadata": {},
   "outputs": [],
   "source": [
    "#One Hot Encoder\n",
    "from sklearn.preprocessing import OneHotEncoder\n",
    "onehotencoder = OneHotEncoder(sparse_output = False)\n",
    "#Season, direction, Type of Passenger Movement need to be encoded\n",
    "passenger_movement_net_df['Year'] = passenger_movement_df['Year'].astype(float) #changing Year to float so it won't be encoded\n",
    "\n",
    "def encode_one_hot(data_frame): #function to encode any dataframe\n",
    "    encoded_df = data_frame.copy()\n",
    "    for column in encoded_df.columns:\n",
    "        if encoded_df[column].dtype == 'object': #only encodes objects\n",
    "            encoder = OneHotEncoder(sparse=False)\n",
    "            column_encoded = encoder.fit_transform(encoded_df[[column]])\n",
    "            column_encoded_df = pd.DataFrame(column_encoded, columns=encoder.get_feature_names_out([column]))\n",
    "            encoded_df = pd.concat([encoded_df, column_encoded_df], axis=1)\n",
    "            encoded_df.drop(column, axis=1, inplace=True)\n",
    "    return encoded_df\n"
   ]
  },
  {
   "cell_type": "code",
   "execution_count": 124,
   "id": "da8fb9d3",
   "metadata": {},
   "outputs": [],
   "source": [
    "passenger_movement_net_df_label_encoded = encode_label(passenger_movement_net_df)\n",
    "passenger_movement_net_df_one_hot_encoded = encode_one_hot(passenger_movement_net_df)"
   ]
  },
  {
   "cell_type": "markdown",
   "id": "43e2d59c",
   "metadata": {},
   "source": [
    "# Scaling "
   ]
  },
  {
   "cell_type": "code",
   "execution_count": 117,
   "id": "a1d912a5",
   "metadata": {},
   "outputs": [
    {
     "data": {
      "text/html": [
       "<div>\n",
       "<style scoped>\n",
       "    .dataframe tbody tr th:only-of-type {\n",
       "        vertical-align: middle;\n",
       "    }\n",
       "\n",
       "    .dataframe tbody tr th {\n",
       "        vertical-align: top;\n",
       "    }\n",
       "\n",
       "    .dataframe thead th {\n",
       "        text-align: right;\n",
       "    }\n",
       "</style>\n",
       "<table border=\"1\" class=\"dataframe\">\n",
       "  <thead>\n",
       "    <tr style=\"text-align: right;\">\n",
       "      <th></th>\n",
       "      <th>Year</th>\n",
       "      <th>VALUE</th>\n",
       "      <th>decimal_year</th>\n",
       "      <th>Direction_Arriving in Eire</th>\n",
       "      <th>Direction_Departing Eire</th>\n",
       "      <th>Type of Passenger Movement_Passenger Movement Cross-Border Bus</th>\n",
       "      <th>Type of Passenger Movement_Passenger Movement Cross-Border Rail</th>\n",
       "      <th>Type of Passenger Movement_Passenger Movement by Air from All Airports</th>\n",
       "      <th>Type of Passenger Movement_Passenger Movement by Sea to All Countries</th>\n",
       "      <th>Type of Passenger Movement_nan</th>\n",
       "      <th>Season_Autumn</th>\n",
       "      <th>Season_Spring</th>\n",
       "      <th>Season_Summer</th>\n",
       "      <th>Season_Winter</th>\n",
       "      <th>Season_nan</th>\n",
       "    </tr>\n",
       "  </thead>\n",
       "  <tbody>\n",
       "    <tr>\n",
       "      <th>0</th>\n",
       "      <td>196101.0</td>\n",
       "      <td>0.009563</td>\n",
       "      <td>1961.083333</td>\n",
       "      <td>1.0</td>\n",
       "      <td>0.0</td>\n",
       "      <td>0.0</td>\n",
       "      <td>0.0</td>\n",
       "      <td>0.0</td>\n",
       "      <td>1.0</td>\n",
       "      <td>0.0</td>\n",
       "      <td>0.0</td>\n",
       "      <td>0.0</td>\n",
       "      <td>0.0</td>\n",
       "      <td>1.0</td>\n",
       "      <td>0.0</td>\n",
       "    </tr>\n",
       "    <tr>\n",
       "      <th>3</th>\n",
       "      <td>196101.0</td>\n",
       "      <td>0.003459</td>\n",
       "      <td>1961.083333</td>\n",
       "      <td>1.0</td>\n",
       "      <td>0.0</td>\n",
       "      <td>0.0</td>\n",
       "      <td>0.0</td>\n",
       "      <td>1.0</td>\n",
       "      <td>0.0</td>\n",
       "      <td>0.0</td>\n",
       "      <td>0.0</td>\n",
       "      <td>0.0</td>\n",
       "      <td>0.0</td>\n",
       "      <td>1.0</td>\n",
       "      <td>0.0</td>\n",
       "    </tr>\n",
       "    <tr>\n",
       "      <th>4</th>\n",
       "      <td>196101.0</td>\n",
       "      <td>0.022050</td>\n",
       "      <td>1961.083333</td>\n",
       "      <td>0.0</td>\n",
       "      <td>1.0</td>\n",
       "      <td>0.0</td>\n",
       "      <td>0.0</td>\n",
       "      <td>0.0</td>\n",
       "      <td>1.0</td>\n",
       "      <td>0.0</td>\n",
       "      <td>0.0</td>\n",
       "      <td>0.0</td>\n",
       "      <td>0.0</td>\n",
       "      <td>1.0</td>\n",
       "      <td>0.0</td>\n",
       "    </tr>\n",
       "    <tr>\n",
       "      <th>5</th>\n",
       "      <td>196101.0</td>\n",
       "      <td>0.008309</td>\n",
       "      <td>1961.083333</td>\n",
       "      <td>0.0</td>\n",
       "      <td>1.0</td>\n",
       "      <td>0.0</td>\n",
       "      <td>1.0</td>\n",
       "      <td>0.0</td>\n",
       "      <td>0.0</td>\n",
       "      <td>0.0</td>\n",
       "      <td>0.0</td>\n",
       "      <td>0.0</td>\n",
       "      <td>0.0</td>\n",
       "      <td>1.0</td>\n",
       "      <td>0.0</td>\n",
       "    </tr>\n",
       "    <tr>\n",
       "      <th>11</th>\n",
       "      <td>196101.0</td>\n",
       "      <td>0.024560</td>\n",
       "      <td>1961.083333</td>\n",
       "      <td>1.0</td>\n",
       "      <td>0.0</td>\n",
       "      <td>0.0</td>\n",
       "      <td>0.0</td>\n",
       "      <td>1.0</td>\n",
       "      <td>0.0</td>\n",
       "      <td>0.0</td>\n",
       "      <td>0.0</td>\n",
       "      <td>0.0</td>\n",
       "      <td>0.0</td>\n",
       "      <td>1.0</td>\n",
       "      <td>0.0</td>\n",
       "    </tr>\n",
       "  </tbody>\n",
       "</table>\n",
       "</div>"
      ],
      "text/plain": [
       "        Year     VALUE  decimal_year  Direction_Arriving in Eire   \n",
       "0   196101.0  0.009563   1961.083333                         1.0  \\\n",
       "3   196101.0  0.003459   1961.083333                         1.0   \n",
       "4   196101.0  0.022050   1961.083333                         0.0   \n",
       "5   196101.0  0.008309   1961.083333                         0.0   \n",
       "11  196101.0  0.024560   1961.083333                         1.0   \n",
       "\n",
       "    Direction_Departing Eire   \n",
       "0                        0.0  \\\n",
       "3                        0.0   \n",
       "4                        1.0   \n",
       "5                        1.0   \n",
       "11                       0.0   \n",
       "\n",
       "    Type of Passenger Movement_Passenger Movement Cross-Border Bus   \n",
       "0                                                 0.0               \\\n",
       "3                                                 0.0                \n",
       "4                                                 0.0                \n",
       "5                                                 0.0                \n",
       "11                                                0.0                \n",
       "\n",
       "    Type of Passenger Movement_Passenger Movement Cross-Border Rail   \n",
       "0                                                 0.0                \\\n",
       "3                                                 0.0                 \n",
       "4                                                 0.0                 \n",
       "5                                                 1.0                 \n",
       "11                                                0.0                 \n",
       "\n",
       "    Type of Passenger Movement_Passenger Movement by Air from All Airports   \n",
       "0                                                 0.0                       \\\n",
       "3                                                 1.0                        \n",
       "4                                                 0.0                        \n",
       "5                                                 0.0                        \n",
       "11                                                1.0                        \n",
       "\n",
       "    Type of Passenger Movement_Passenger Movement by Sea to All Countries   \n",
       "0                                                 1.0                      \\\n",
       "3                                                 0.0                       \n",
       "4                                                 1.0                       \n",
       "5                                                 0.0                       \n",
       "11                                                0.0                       \n",
       "\n",
       "    Type of Passenger Movement_nan  Season_Autumn  Season_Spring   \n",
       "0                              0.0            0.0            0.0  \\\n",
       "3                              0.0            0.0            0.0   \n",
       "4                              0.0            0.0            0.0   \n",
       "5                              0.0            0.0            0.0   \n",
       "11                             0.0            0.0            0.0   \n",
       "\n",
       "    Season_Summer  Season_Winter  Season_nan  \n",
       "0             0.0            1.0         0.0  \n",
       "3             0.0            1.0         0.0  \n",
       "4             0.0            1.0         0.0  \n",
       "5             0.0            1.0         0.0  \n",
       "11            0.0            1.0         0.0  "
      ]
     },
     "execution_count": 117,
     "metadata": {},
     "output_type": "execute_result"
    }
   ],
   "source": [
    "import sklearn.preprocessing as preproc # data is skewed, minmax used\n",
    "passenger_movement_net_df_encoded_scaled = passenger_movement_net_df_encoded.copy() #create copy of encoded dataframe\n",
    "passenger_movement_net_df_encoded_scaled['VALUE'] = preproc.minmax_scale(passenger_movement_net_df_encoded_scaled['VALUE']) #only VALUE needs to be scaled\n",
    "passenger_movement_net_df_encoded_scaled.head()"
   ]
  },
  {
   "cell_type": "markdown",
   "id": "e047b860",
   "metadata": {},
   "source": [
    "# Machine Learning"
   ]
  },
  {
   "cell_type": "code",
   "execution_count": null,
   "id": "5e50e9e7",
   "metadata": {},
   "outputs": [],
   "source": []
  }
 ],
 "metadata": {
  "kernelspec": {
   "display_name": "Python 3 (ipykernel)",
   "language": "python",
   "name": "python3"
  },
  "language_info": {
   "codemirror_mode": {
    "name": "ipython",
    "version": 3
   },
   "file_extension": ".py",
   "mimetype": "text/x-python",
   "name": "python",
   "nbconvert_exporter": "python",
   "pygments_lexer": "ipython3",
   "version": "3.11.5"
  }
 },
 "nbformat": 4,
 "nbformat_minor": 5
}
