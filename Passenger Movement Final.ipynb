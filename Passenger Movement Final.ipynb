{
 "cells": [
  {
   "cell_type": "code",
   "execution_count": 1,
   "id": "4a10113e",
   "metadata": {},
   "outputs": [],
   "source": [
    "import pandas as pd \n",
    "import numpy as np\n",
    "import seaborn as sns\n",
    "import matplotlib.pyplot as plt\n",
    "from scipy.stats import norm\n",
    "from scipy.stats import stats\n",
    "import warnings\n",
    "warnings.filterwarnings('ignore') # We can suppress the warnings"
   ]
  },
  {
   "cell_type": "code",
   "execution_count": 2,
   "id": "7ad8fc5f",
   "metadata": {},
   "outputs": [],
   "source": [
    "passenger_movement_df = pd.read_csv('TRBM1.20240317134742.csv') #Loading the CSV file into a pandas DF"
   ]
  },
  {
   "cell_type": "markdown",
   "id": "80e97d57",
   "metadata": {},
   "source": [
    "# EDA"
   ]
  },
  {
   "cell_type": "code",
   "execution_count": 3,
   "id": "7e7e2ddd",
   "metadata": {},
   "outputs": [
    {
     "data": {
      "text/html": [
       "<div>\n",
       "<style scoped>\n",
       "    .dataframe tbody tr th:only-of-type {\n",
       "        vertical-align: middle;\n",
       "    }\n",
       "\n",
       "    .dataframe tbody tr th {\n",
       "        vertical-align: top;\n",
       "    }\n",
       "\n",
       "    .dataframe thead th {\n",
       "        text-align: right;\n",
       "    }\n",
       "</style>\n",
       "<table border=\"1\" class=\"dataframe\">\n",
       "  <thead>\n",
       "    <tr style=\"text-align: right;\">\n",
       "      <th></th>\n",
       "      <th>STATISTIC</th>\n",
       "      <th>STATISTIC Label</th>\n",
       "      <th>TLIST(M1)</th>\n",
       "      <th>Month</th>\n",
       "      <th>DIRECT</th>\n",
       "      <th>Direction</th>\n",
       "      <th>TYPASS</th>\n",
       "      <th>Type of Passenger Movement</th>\n",
       "      <th>UNIT</th>\n",
       "      <th>VALUE</th>\n",
       "    </tr>\n",
       "  </thead>\n",
       "  <tbody>\n",
       "    <tr>\n",
       "      <th>0</th>\n",
       "      <td>TRBM1</td>\n",
       "      <td>Passenger Movement</td>\n",
       "      <td>196101</td>\n",
       "      <td>1961M01</td>\n",
       "      <td>1</td>\n",
       "      <td>Arriving in Eire</td>\n",
       "      <td>1</td>\n",
       "      <td>Passenger Movement by Sea to All Countries</td>\n",
       "      <td>Number</td>\n",
       "      <td>20102.0</td>\n",
       "    </tr>\n",
       "    <tr>\n",
       "      <th>1</th>\n",
       "      <td>TRBM1</td>\n",
       "      <td>Passenger Movement</td>\n",
       "      <td>196101</td>\n",
       "      <td>1961M01</td>\n",
       "      <td>1</td>\n",
       "      <td>Arriving in Eire</td>\n",
       "      <td>11</td>\n",
       "      <td>Passenger Movement by Sea to Great Britain</td>\n",
       "      <td>Number</td>\n",
       "      <td>19963.0</td>\n",
       "    </tr>\n",
       "    <tr>\n",
       "      <th>2</th>\n",
       "      <td>TRBM1</td>\n",
       "      <td>Passenger Movement</td>\n",
       "      <td>196101</td>\n",
       "      <td>1961M01</td>\n",
       "      <td>1</td>\n",
       "      <td>Arriving in Eire</td>\n",
       "      <td>12</td>\n",
       "      <td>Passenger Movement by Sea to Countries Other T...</td>\n",
       "      <td>Number</td>\n",
       "      <td>139.0</td>\n",
       "    </tr>\n",
       "    <tr>\n",
       "      <th>3</th>\n",
       "      <td>TRBM1</td>\n",
       "      <td>Passenger Movement</td>\n",
       "      <td>196101</td>\n",
       "      <td>1961M01</td>\n",
       "      <td>1</td>\n",
       "      <td>Arriving in Eire</td>\n",
       "      <td>2</td>\n",
       "      <td>Passenger Movement Cross-Border Rail</td>\n",
       "      <td>Number</td>\n",
       "      <td>10344.0</td>\n",
       "    </tr>\n",
       "    <tr>\n",
       "      <th>4</th>\n",
       "      <td>TRBM1</td>\n",
       "      <td>Passenger Movement</td>\n",
       "      <td>196101</td>\n",
       "      <td>1961M01</td>\n",
       "      <td>1</td>\n",
       "      <td>Arriving in Eire</td>\n",
       "      <td>3</td>\n",
       "      <td>Passenger Movement Cross-Border Bus</td>\n",
       "      <td>Number</td>\n",
       "      <td>40063.0</td>\n",
       "    </tr>\n",
       "    <tr>\n",
       "      <th>5</th>\n",
       "      <td>TRBM1</td>\n",
       "      <td>Passenger Movement</td>\n",
       "      <td>196101</td>\n",
       "      <td>1961M01</td>\n",
       "      <td>1</td>\n",
       "      <td>Arriving in Eire</td>\n",
       "      <td>4</td>\n",
       "      <td>Passenger Movement by Air from All Airports</td>\n",
       "      <td>Number</td>\n",
       "      <td>18098.0</td>\n",
       "    </tr>\n",
       "    <tr>\n",
       "      <th>6</th>\n",
       "      <td>TRBM1</td>\n",
       "      <td>Passenger Movement</td>\n",
       "      <td>196101</td>\n",
       "      <td>1961M01</td>\n",
       "      <td>1</td>\n",
       "      <td>Arriving in Eire</td>\n",
       "      <td>41</td>\n",
       "      <td>Passenger Movement by Air from Dublin Airport</td>\n",
       "      <td>Number</td>\n",
       "      <td>16762.0</td>\n",
       "    </tr>\n",
       "    <tr>\n",
       "      <th>7</th>\n",
       "      <td>TRBM1</td>\n",
       "      <td>Passenger Movement</td>\n",
       "      <td>196101</td>\n",
       "      <td>1961M01</td>\n",
       "      <td>1</td>\n",
       "      <td>Arriving in Eire</td>\n",
       "      <td>42</td>\n",
       "      <td>Passenger Movement by Air from Cork Airport</td>\n",
       "      <td>Number</td>\n",
       "      <td>0.0</td>\n",
       "    </tr>\n",
       "    <tr>\n",
       "      <th>8</th>\n",
       "      <td>TRBM1</td>\n",
       "      <td>Passenger Movement</td>\n",
       "      <td>196101</td>\n",
       "      <td>1961M01</td>\n",
       "      <td>1</td>\n",
       "      <td>Arriving in Eire</td>\n",
       "      <td>43</td>\n",
       "      <td>Passenger Movement by Air from Shannon Airport</td>\n",
       "      <td>Number</td>\n",
       "      <td>1336.0</td>\n",
       "    </tr>\n",
       "    <tr>\n",
       "      <th>9</th>\n",
       "      <td>TRBM1</td>\n",
       "      <td>Passenger Movement</td>\n",
       "      <td>196101</td>\n",
       "      <td>1961M01</td>\n",
       "      <td>1</td>\n",
       "      <td>Arriving in Eire</td>\n",
       "      <td>431</td>\n",
       "      <td>Passenger Movement by Air from Shannon Airport...</td>\n",
       "      <td>Number</td>\n",
       "      <td>747.0</td>\n",
       "    </tr>\n",
       "    <tr>\n",
       "      <th>10</th>\n",
       "      <td>TRBM1</td>\n",
       "      <td>Passenger Movement</td>\n",
       "      <td>196101</td>\n",
       "      <td>1961M01</td>\n",
       "      <td>1</td>\n",
       "      <td>Arriving in Eire</td>\n",
       "      <td>432</td>\n",
       "      <td>Passenger Movement by Air from Shannon Airport...</td>\n",
       "      <td>Number</td>\n",
       "      <td>589.0</td>\n",
       "    </tr>\n",
       "    <tr>\n",
       "      <th>11</th>\n",
       "      <td>TRBM1</td>\n",
       "      <td>Passenger Movement</td>\n",
       "      <td>196101</td>\n",
       "      <td>1961M01</td>\n",
       "      <td>2</td>\n",
       "      <td>Departing Eire</td>\n",
       "      <td>1</td>\n",
       "      <td>Passenger Movement by Sea to All Countries</td>\n",
       "      <td>Number</td>\n",
       "      <td>44076.0</td>\n",
       "    </tr>\n",
       "    <tr>\n",
       "      <th>12</th>\n",
       "      <td>TRBM1</td>\n",
       "      <td>Passenger Movement</td>\n",
       "      <td>196101</td>\n",
       "      <td>1961M01</td>\n",
       "      <td>2</td>\n",
       "      <td>Departing Eire</td>\n",
       "      <td>11</td>\n",
       "      <td>Passenger Movement by Sea to Great Britain</td>\n",
       "      <td>Number</td>\n",
       "      <td>43860.0</td>\n",
       "    </tr>\n",
       "    <tr>\n",
       "      <th>13</th>\n",
       "      <td>TRBM1</td>\n",
       "      <td>Passenger Movement</td>\n",
       "      <td>196101</td>\n",
       "      <td>1961M01</td>\n",
       "      <td>2</td>\n",
       "      <td>Departing Eire</td>\n",
       "      <td>12</td>\n",
       "      <td>Passenger Movement by Sea to Countries Other T...</td>\n",
       "      <td>Number</td>\n",
       "      <td>216.0</td>\n",
       "    </tr>\n",
       "    <tr>\n",
       "      <th>14</th>\n",
       "      <td>TRBM1</td>\n",
       "      <td>Passenger Movement</td>\n",
       "      <td>196101</td>\n",
       "      <td>1961M01</td>\n",
       "      <td>2</td>\n",
       "      <td>Departing Eire</td>\n",
       "      <td>2</td>\n",
       "      <td>Passenger Movement Cross-Border Rail</td>\n",
       "      <td>Number</td>\n",
       "      <td>9967.0</td>\n",
       "    </tr>\n",
       "    <tr>\n",
       "      <th>15</th>\n",
       "      <td>TRBM1</td>\n",
       "      <td>Passenger Movement</td>\n",
       "      <td>196101</td>\n",
       "      <td>1961M01</td>\n",
       "      <td>2</td>\n",
       "      <td>Departing Eire</td>\n",
       "      <td>3</td>\n",
       "      <td>Passenger Movement Cross-Border Bus</td>\n",
       "      <td>Number</td>\n",
       "      <td>40137.0</td>\n",
       "    </tr>\n",
       "    <tr>\n",
       "      <th>16</th>\n",
       "      <td>TRBM1</td>\n",
       "      <td>Passenger Movement</td>\n",
       "      <td>196101</td>\n",
       "      <td>1961M01</td>\n",
       "      <td>2</td>\n",
       "      <td>Departing Eire</td>\n",
       "      <td>4</td>\n",
       "      <td>Passenger Movement by Air from All Airports</td>\n",
       "      <td>Number</td>\n",
       "      <td>27496.0</td>\n",
       "    </tr>\n",
       "    <tr>\n",
       "      <th>17</th>\n",
       "      <td>TRBM1</td>\n",
       "      <td>Passenger Movement</td>\n",
       "      <td>196101</td>\n",
       "      <td>1961M01</td>\n",
       "      <td>2</td>\n",
       "      <td>Departing Eire</td>\n",
       "      <td>41</td>\n",
       "      <td>Passenger Movement by Air from Dublin Airport</td>\n",
       "      <td>Number</td>\n",
       "      <td>24166.0</td>\n",
       "    </tr>\n",
       "    <tr>\n",
       "      <th>18</th>\n",
       "      <td>TRBM1</td>\n",
       "      <td>Passenger Movement</td>\n",
       "      <td>196101</td>\n",
       "      <td>1961M01</td>\n",
       "      <td>2</td>\n",
       "      <td>Departing Eire</td>\n",
       "      <td>42</td>\n",
       "      <td>Passenger Movement by Air from Cork Airport</td>\n",
       "      <td>Number</td>\n",
       "      <td>0.0</td>\n",
       "    </tr>\n",
       "    <tr>\n",
       "      <th>19</th>\n",
       "      <td>TRBM1</td>\n",
       "      <td>Passenger Movement</td>\n",
       "      <td>196101</td>\n",
       "      <td>1961M01</td>\n",
       "      <td>2</td>\n",
       "      <td>Departing Eire</td>\n",
       "      <td>43</td>\n",
       "      <td>Passenger Movement by Air from Shannon Airport</td>\n",
       "      <td>Number</td>\n",
       "      <td>3330.0</td>\n",
       "    </tr>\n",
       "    <tr>\n",
       "      <th>20</th>\n",
       "      <td>TRBM1</td>\n",
       "      <td>Passenger Movement</td>\n",
       "      <td>196101</td>\n",
       "      <td>1961M01</td>\n",
       "      <td>2</td>\n",
       "      <td>Departing Eire</td>\n",
       "      <td>431</td>\n",
       "      <td>Passenger Movement by Air from Shannon Airport...</td>\n",
       "      <td>Number</td>\n",
       "      <td>779.0</td>\n",
       "    </tr>\n",
       "    <tr>\n",
       "      <th>21</th>\n",
       "      <td>TRBM1</td>\n",
       "      <td>Passenger Movement</td>\n",
       "      <td>196101</td>\n",
       "      <td>1961M01</td>\n",
       "      <td>2</td>\n",
       "      <td>Departing Eire</td>\n",
       "      <td>432</td>\n",
       "      <td>Passenger Movement by Air from Shannon Airport...</td>\n",
       "      <td>Number</td>\n",
       "      <td>2551.0</td>\n",
       "    </tr>\n",
       "    <tr>\n",
       "      <th>22</th>\n",
       "      <td>TRBM1</td>\n",
       "      <td>Passenger Movement</td>\n",
       "      <td>196102</td>\n",
       "      <td>1961M02</td>\n",
       "      <td>1</td>\n",
       "      <td>Arriving in Eire</td>\n",
       "      <td>1</td>\n",
       "      <td>Passenger Movement by Sea to All Countries</td>\n",
       "      <td>Number</td>\n",
       "      <td>19157.0</td>\n",
       "    </tr>\n",
       "    <tr>\n",
       "      <th>23</th>\n",
       "      <td>TRBM1</td>\n",
       "      <td>Passenger Movement</td>\n",
       "      <td>196102</td>\n",
       "      <td>1961M02</td>\n",
       "      <td>1</td>\n",
       "      <td>Arriving in Eire</td>\n",
       "      <td>11</td>\n",
       "      <td>Passenger Movement by Sea to Great Britain</td>\n",
       "      <td>Number</td>\n",
       "      <td>19079.0</td>\n",
       "    </tr>\n",
       "    <tr>\n",
       "      <th>24</th>\n",
       "      <td>TRBM1</td>\n",
       "      <td>Passenger Movement</td>\n",
       "      <td>196102</td>\n",
       "      <td>1961M02</td>\n",
       "      <td>1</td>\n",
       "      <td>Arriving in Eire</td>\n",
       "      <td>12</td>\n",
       "      <td>Passenger Movement by Sea to Countries Other T...</td>\n",
       "      <td>Number</td>\n",
       "      <td>78.0</td>\n",
       "    </tr>\n",
       "    <tr>\n",
       "      <th>25</th>\n",
       "      <td>TRBM1</td>\n",
       "      <td>Passenger Movement</td>\n",
       "      <td>196102</td>\n",
       "      <td>1961M02</td>\n",
       "      <td>1</td>\n",
       "      <td>Arriving in Eire</td>\n",
       "      <td>2</td>\n",
       "      <td>Passenger Movement Cross-Border Rail</td>\n",
       "      <td>Number</td>\n",
       "      <td>10013.0</td>\n",
       "    </tr>\n",
       "    <tr>\n",
       "      <th>26</th>\n",
       "      <td>TRBM1</td>\n",
       "      <td>Passenger Movement</td>\n",
       "      <td>196102</td>\n",
       "      <td>1961M02</td>\n",
       "      <td>1</td>\n",
       "      <td>Arriving in Eire</td>\n",
       "      <td>3</td>\n",
       "      <td>Passenger Movement Cross-Border Bus</td>\n",
       "      <td>Number</td>\n",
       "      <td>37184.0</td>\n",
       "    </tr>\n",
       "    <tr>\n",
       "      <th>27</th>\n",
       "      <td>TRBM1</td>\n",
       "      <td>Passenger Movement</td>\n",
       "      <td>196102</td>\n",
       "      <td>1961M02</td>\n",
       "      <td>1</td>\n",
       "      <td>Arriving in Eire</td>\n",
       "      <td>4</td>\n",
       "      <td>Passenger Movement by Air from All Airports</td>\n",
       "      <td>Number</td>\n",
       "      <td>17250.0</td>\n",
       "    </tr>\n",
       "    <tr>\n",
       "      <th>28</th>\n",
       "      <td>TRBM1</td>\n",
       "      <td>Passenger Movement</td>\n",
       "      <td>196102</td>\n",
       "      <td>1961M02</td>\n",
       "      <td>1</td>\n",
       "      <td>Arriving in Eire</td>\n",
       "      <td>41</td>\n",
       "      <td>Passenger Movement by Air from Dublin Airport</td>\n",
       "      <td>Number</td>\n",
       "      <td>15964.0</td>\n",
       "    </tr>\n",
       "    <tr>\n",
       "      <th>29</th>\n",
       "      <td>TRBM1</td>\n",
       "      <td>Passenger Movement</td>\n",
       "      <td>196102</td>\n",
       "      <td>1961M02</td>\n",
       "      <td>1</td>\n",
       "      <td>Arriving in Eire</td>\n",
       "      <td>42</td>\n",
       "      <td>Passenger Movement by Air from Cork Airport</td>\n",
       "      <td>Number</td>\n",
       "      <td>0.0</td>\n",
       "    </tr>\n",
       "  </tbody>\n",
       "</table>\n",
       "</div>"
      ],
      "text/plain": [
       "   STATISTIC     STATISTIC Label  TLIST(M1)    Month  DIRECT   \n",
       "0      TRBM1  Passenger Movement     196101  1961M01       1  \\\n",
       "1      TRBM1  Passenger Movement     196101  1961M01       1   \n",
       "2      TRBM1  Passenger Movement     196101  1961M01       1   \n",
       "3      TRBM1  Passenger Movement     196101  1961M01       1   \n",
       "4      TRBM1  Passenger Movement     196101  1961M01       1   \n",
       "5      TRBM1  Passenger Movement     196101  1961M01       1   \n",
       "6      TRBM1  Passenger Movement     196101  1961M01       1   \n",
       "7      TRBM1  Passenger Movement     196101  1961M01       1   \n",
       "8      TRBM1  Passenger Movement     196101  1961M01       1   \n",
       "9      TRBM1  Passenger Movement     196101  1961M01       1   \n",
       "10     TRBM1  Passenger Movement     196101  1961M01       1   \n",
       "11     TRBM1  Passenger Movement     196101  1961M01       2   \n",
       "12     TRBM1  Passenger Movement     196101  1961M01       2   \n",
       "13     TRBM1  Passenger Movement     196101  1961M01       2   \n",
       "14     TRBM1  Passenger Movement     196101  1961M01       2   \n",
       "15     TRBM1  Passenger Movement     196101  1961M01       2   \n",
       "16     TRBM1  Passenger Movement     196101  1961M01       2   \n",
       "17     TRBM1  Passenger Movement     196101  1961M01       2   \n",
       "18     TRBM1  Passenger Movement     196101  1961M01       2   \n",
       "19     TRBM1  Passenger Movement     196101  1961M01       2   \n",
       "20     TRBM1  Passenger Movement     196101  1961M01       2   \n",
       "21     TRBM1  Passenger Movement     196101  1961M01       2   \n",
       "22     TRBM1  Passenger Movement     196102  1961M02       1   \n",
       "23     TRBM1  Passenger Movement     196102  1961M02       1   \n",
       "24     TRBM1  Passenger Movement     196102  1961M02       1   \n",
       "25     TRBM1  Passenger Movement     196102  1961M02       1   \n",
       "26     TRBM1  Passenger Movement     196102  1961M02       1   \n",
       "27     TRBM1  Passenger Movement     196102  1961M02       1   \n",
       "28     TRBM1  Passenger Movement     196102  1961M02       1   \n",
       "29     TRBM1  Passenger Movement     196102  1961M02       1   \n",
       "\n",
       "           Direction  TYPASS   \n",
       "0   Arriving in Eire       1  \\\n",
       "1   Arriving in Eire      11   \n",
       "2   Arriving in Eire      12   \n",
       "3   Arriving in Eire       2   \n",
       "4   Arriving in Eire       3   \n",
       "5   Arriving in Eire       4   \n",
       "6   Arriving in Eire      41   \n",
       "7   Arriving in Eire      42   \n",
       "8   Arriving in Eire      43   \n",
       "9   Arriving in Eire     431   \n",
       "10  Arriving in Eire     432   \n",
       "11    Departing Eire       1   \n",
       "12    Departing Eire      11   \n",
       "13    Departing Eire      12   \n",
       "14    Departing Eire       2   \n",
       "15    Departing Eire       3   \n",
       "16    Departing Eire       4   \n",
       "17    Departing Eire      41   \n",
       "18    Departing Eire      42   \n",
       "19    Departing Eire      43   \n",
       "20    Departing Eire     431   \n",
       "21    Departing Eire     432   \n",
       "22  Arriving in Eire       1   \n",
       "23  Arriving in Eire      11   \n",
       "24  Arriving in Eire      12   \n",
       "25  Arriving in Eire       2   \n",
       "26  Arriving in Eire       3   \n",
       "27  Arriving in Eire       4   \n",
       "28  Arriving in Eire      41   \n",
       "29  Arriving in Eire      42   \n",
       "\n",
       "                           Type of Passenger Movement    UNIT    VALUE  \n",
       "0          Passenger Movement by Sea to All Countries  Number  20102.0  \n",
       "1          Passenger Movement by Sea to Great Britain  Number  19963.0  \n",
       "2   Passenger Movement by Sea to Countries Other T...  Number    139.0  \n",
       "3                Passenger Movement Cross-Border Rail  Number  10344.0  \n",
       "4                 Passenger Movement Cross-Border Bus  Number  40063.0  \n",
       "5         Passenger Movement by Air from All Airports  Number  18098.0  \n",
       "6       Passenger Movement by Air from Dublin Airport  Number  16762.0  \n",
       "7         Passenger Movement by Air from Cork Airport  Number      0.0  \n",
       "8      Passenger Movement by Air from Shannon Airport  Number   1336.0  \n",
       "9   Passenger Movement by Air from Shannon Airport...  Number    747.0  \n",
       "10  Passenger Movement by Air from Shannon Airport...  Number    589.0  \n",
       "11         Passenger Movement by Sea to All Countries  Number  44076.0  \n",
       "12         Passenger Movement by Sea to Great Britain  Number  43860.0  \n",
       "13  Passenger Movement by Sea to Countries Other T...  Number    216.0  \n",
       "14               Passenger Movement Cross-Border Rail  Number   9967.0  \n",
       "15                Passenger Movement Cross-Border Bus  Number  40137.0  \n",
       "16        Passenger Movement by Air from All Airports  Number  27496.0  \n",
       "17      Passenger Movement by Air from Dublin Airport  Number  24166.0  \n",
       "18        Passenger Movement by Air from Cork Airport  Number      0.0  \n",
       "19     Passenger Movement by Air from Shannon Airport  Number   3330.0  \n",
       "20  Passenger Movement by Air from Shannon Airport...  Number    779.0  \n",
       "21  Passenger Movement by Air from Shannon Airport...  Number   2551.0  \n",
       "22         Passenger Movement by Sea to All Countries  Number  19157.0  \n",
       "23         Passenger Movement by Sea to Great Britain  Number  19079.0  \n",
       "24  Passenger Movement by Sea to Countries Other T...  Number     78.0  \n",
       "25               Passenger Movement Cross-Border Rail  Number  10013.0  \n",
       "26                Passenger Movement Cross-Border Bus  Number  37184.0  \n",
       "27        Passenger Movement by Air from All Airports  Number  17250.0  \n",
       "28      Passenger Movement by Air from Dublin Airport  Number  15964.0  \n",
       "29        Passenger Movement by Air from Cork Airport  Number      0.0  "
      ]
     },
     "execution_count": 3,
     "metadata": {},
     "output_type": "execute_result"
    }
   ],
   "source": [
    "passenger_movement_df.head(30) #First 30 rows "
   ]
  },
  {
   "cell_type": "code",
   "execution_count": 4,
   "id": "563645d1",
   "metadata": {},
   "outputs": [
    {
     "data": {
      "text/plain": [
       "(12936, 10)"
      ]
     },
     "execution_count": 4,
     "metadata": {},
     "output_type": "execute_result"
    }
   ],
   "source": [
    "passenger_movement_df.shape #12936 rows, 10 columns"
   ]
  },
  {
   "cell_type": "code",
   "execution_count": 5,
   "id": "26c7dc7a",
   "metadata": {},
   "outputs": [],
   "source": [
    "#Renaming columns intuitively\n",
    "passenger_movement_df = passenger_movement_df.rename(columns={'TLIST(M1)': 'Year' })"
   ]
  },
  {
   "cell_type": "code",
   "execution_count": 6,
   "id": "f6dd23d3",
   "metadata": {},
   "outputs": [
    {
     "data": {
      "text/plain": [
       "STATISTIC                      object\n",
       "STATISTIC Label                object\n",
       "Year                            int64\n",
       "Month                          object\n",
       "DIRECT                          int64\n",
       "Direction                      object\n",
       "TYPASS                          int64\n",
       "Type of Passenger Movement     object\n",
       "UNIT                           object\n",
       "VALUE                         float64\n",
       "dtype: object"
      ]
     },
     "execution_count": 6,
     "metadata": {},
     "output_type": "execute_result"
    }
   ],
   "source": [
    "passenger_movement_df.dtypes \n",
    "#value has no incorrectly inputted values (such as numbers inputted as words), all floats"
   ]
  },
  {
   "cell_type": "code",
   "execution_count": 7,
   "id": "ba72515a",
   "metadata": {},
   "outputs": [
    {
     "data": {
      "text/plain": [
       "STATISTIC                     12936\n",
       "STATISTIC Label               12936\n",
       "Year                          12936\n",
       "Month                         12936\n",
       "DIRECT                        12936\n",
       "Direction                     12936\n",
       "TYPASS                        12936\n",
       "Type of Passenger Movement    12936\n",
       "UNIT                          12936\n",
       "VALUE                         12934\n",
       "dtype: int64"
      ]
     },
     "execution_count": 7,
     "metadata": {},
     "output_type": "execute_result"
    }
   ],
   "source": [
    "passenger_movement_df.count() #VALUE column missing two values"
   ]
  },
  {
   "cell_type": "code",
   "execution_count": 8,
   "id": "82f4f6d8",
   "metadata": {},
   "outputs": [],
   "source": [
    "passenger_movement_df = passenger_movement_df.drop([\"STATISTIC Label\", \"TYPASS\", \"UNIT\", \"DIRECT\", \"STATISTIC\",\"Month\"], axis=1)\n",
    "#removing columns which aren't needed/contain the same info\n",
    "#going to keep the two year-month columns as the original form will be used later on in ML section\n",
    "#copied"
   ]
  },
  {
   "cell_type": "code",
   "execution_count": 9,
   "id": "8c14ea54",
   "metadata": {},
   "outputs": [
    {
     "data": {
      "text/html": [
       "<div>\n",
       "<style scoped>\n",
       "    .dataframe tbody tr th:only-of-type {\n",
       "        vertical-align: middle;\n",
       "    }\n",
       "\n",
       "    .dataframe tbody tr th {\n",
       "        vertical-align: top;\n",
       "    }\n",
       "\n",
       "    .dataframe thead th {\n",
       "        text-align: right;\n",
       "    }\n",
       "</style>\n",
       "<table border=\"1\" class=\"dataframe\">\n",
       "  <thead>\n",
       "    <tr style=\"text-align: right;\">\n",
       "      <th></th>\n",
       "      <th>Year</th>\n",
       "      <th>Direction</th>\n",
       "      <th>Type of Passenger Movement</th>\n",
       "      <th>VALUE</th>\n",
       "    </tr>\n",
       "  </thead>\n",
       "  <tbody>\n",
       "    <tr>\n",
       "      <th>12567</th>\n",
       "      <td>200808</td>\n",
       "      <td>Arriving in Eire</td>\n",
       "      <td>Passenger Movement by Air from All Airports</td>\n",
       "      <td>1603381.0</td>\n",
       "    </tr>\n",
       "    <tr>\n",
       "      <th>12303</th>\n",
       "      <td>200708</td>\n",
       "      <td>Arriving in Eire</td>\n",
       "      <td>Passenger Movement by Air from All Airports</td>\n",
       "      <td>1575955.0</td>\n",
       "    </tr>\n",
       "    <tr>\n",
       "      <th>12281</th>\n",
       "      <td>200707</td>\n",
       "      <td>Arriving in Eire</td>\n",
       "      <td>Passenger Movement by Air from All Airports</td>\n",
       "      <td>1565640.0</td>\n",
       "    </tr>\n",
       "    <tr>\n",
       "      <th>12545</th>\n",
       "      <td>200807</td>\n",
       "      <td>Arriving in Eire</td>\n",
       "      <td>Passenger Movement by Air from All Airports</td>\n",
       "      <td>1555437.0</td>\n",
       "    </tr>\n",
       "    <tr>\n",
       "      <th>12292</th>\n",
       "      <td>200707</td>\n",
       "      <td>Departing Eire</td>\n",
       "      <td>Passenger Movement by Air from All Airports</td>\n",
       "      <td>1555235.0</td>\n",
       "    </tr>\n",
       "    <tr>\n",
       "      <th>...</th>\n",
       "      <td>...</td>\n",
       "      <td>...</td>\n",
       "      <td>...</td>\n",
       "      <td>...</td>\n",
       "    </tr>\n",
       "    <tr>\n",
       "      <th>161</th>\n",
       "      <td>196108</td>\n",
       "      <td>Arriving in Eire</td>\n",
       "      <td>Passenger Movement by Air from Cork Airport</td>\n",
       "      <td>0.0</td>\n",
       "    </tr>\n",
       "    <tr>\n",
       "      <th>2675</th>\n",
       "      <td>197102</td>\n",
       "      <td>Departing Eire</td>\n",
       "      <td>Passenger Movement by Sea to Countries Other T...</td>\n",
       "      <td>0.0</td>\n",
       "    </tr>\n",
       "    <tr>\n",
       "      <th>2631</th>\n",
       "      <td>197012</td>\n",
       "      <td>Departing Eire</td>\n",
       "      <td>Passenger Movement by Sea to Countries Other T...</td>\n",
       "      <td>0.0</td>\n",
       "    </tr>\n",
       "    <tr>\n",
       "      <th>12126</th>\n",
       "      <td>200612</td>\n",
       "      <td>Arriving in Eire</td>\n",
       "      <td>Passenger Movement Cross-Border Bus</td>\n",
       "      <td>NaN</td>\n",
       "    </tr>\n",
       "    <tr>\n",
       "      <th>12137</th>\n",
       "      <td>200612</td>\n",
       "      <td>Departing Eire</td>\n",
       "      <td>Passenger Movement Cross-Border Bus</td>\n",
       "      <td>NaN</td>\n",
       "    </tr>\n",
       "  </tbody>\n",
       "</table>\n",
       "<p>12936 rows × 4 columns</p>\n",
       "</div>"
      ],
      "text/plain": [
       "         Year         Direction   \n",
       "12567  200808  Arriving in Eire  \\\n",
       "12303  200708  Arriving in Eire   \n",
       "12281  200707  Arriving in Eire   \n",
       "12545  200807  Arriving in Eire   \n",
       "12292  200707    Departing Eire   \n",
       "...       ...               ...   \n",
       "161    196108  Arriving in Eire   \n",
       "2675   197102    Departing Eire   \n",
       "2631   197012    Departing Eire   \n",
       "12126  200612  Arriving in Eire   \n",
       "12137  200612    Departing Eire   \n",
       "\n",
       "                              Type of Passenger Movement      VALUE  \n",
       "12567        Passenger Movement by Air from All Airports  1603381.0  \n",
       "12303        Passenger Movement by Air from All Airports  1575955.0  \n",
       "12281        Passenger Movement by Air from All Airports  1565640.0  \n",
       "12545        Passenger Movement by Air from All Airports  1555437.0  \n",
       "12292        Passenger Movement by Air from All Airports  1555235.0  \n",
       "...                                                  ...        ...  \n",
       "161          Passenger Movement by Air from Cork Airport        0.0  \n",
       "2675   Passenger Movement by Sea to Countries Other T...        0.0  \n",
       "2631   Passenger Movement by Sea to Countries Other T...        0.0  \n",
       "12126                Passenger Movement Cross-Border Bus        NaN  \n",
       "12137                Passenger Movement Cross-Border Bus        NaN  \n",
       "\n",
       "[12936 rows x 4 columns]"
      ]
     },
     "execution_count": 9,
     "metadata": {},
     "output_type": "execute_result"
    }
   ],
   "source": [
    "ascending_passenger_movement_df = passenger_movement_df.sort_values(by='VALUE', ascending=False) #Year with the most movement\n",
    "ascending_passenger_movement_df "
   ]
  },
  {
   "cell_type": "code",
   "execution_count": 10,
   "id": "6e0b7938",
   "metadata": {},
   "outputs": [
    {
     "name": "stdout",
     "output_type": "stream",
     "text": [
      "number of duplicate rows:  (0, 4)\n"
     ]
    }
   ],
   "source": [
    "#Checking for duplicates\n",
    "duplicate_rows_df = passenger_movement_df[passenger_movement_df.duplicated()]\n",
    "print('number of duplicate rows: ', duplicate_rows_df.shape)\n",
    "#no duplicated data"
   ]
  },
  {
   "cell_type": "code",
   "execution_count": 11,
   "id": "f6da4494",
   "metadata": {},
   "outputs": [
    {
     "name": "stdout",
     "output_type": "stream",
     "text": [
      "<class 'pandas.core.frame.DataFrame'>\n",
      "RangeIndex: 12936 entries, 0 to 12935\n",
      "Data columns (total 4 columns):\n",
      " #   Column                      Non-Null Count  Dtype  \n",
      "---  ------                      --------------  -----  \n",
      " 0   Year                        12936 non-null  int64  \n",
      " 1   Direction                   12936 non-null  object \n",
      " 2   Type of Passenger Movement  12936 non-null  object \n",
      " 3   VALUE                       12934 non-null  float64\n",
      "dtypes: float64(1), int64(1), object(2)\n",
      "memory usage: 404.4+ KB\n"
     ]
    }
   ],
   "source": [
    "passenger_movement_df.info() "
   ]
  },
  {
   "cell_type": "code",
   "execution_count": 12,
   "id": "6ae9b116",
   "metadata": {},
   "outputs": [
    {
     "name": "stdout",
     "output_type": "stream",
     "text": [
      "True\n"
     ]
    }
   ],
   "source": [
    "print(passenger_movement_df.isnull().values.any()) #Checking for null values"
   ]
  },
  {
   "cell_type": "code",
   "execution_count": 13,
   "id": "fab30083",
   "metadata": {},
   "outputs": [
    {
     "name": "stdout",
     "output_type": "stream",
     "text": [
      "Year                          0\n",
      "Direction                     0\n",
      "Type of Passenger Movement    0\n",
      "VALUE                         2\n",
      "dtype: int64\n"
     ]
    }
   ],
   "source": [
    "print(passenger_movement_df.isnull().sum()) #two null values"
   ]
  },
  {
   "cell_type": "code",
   "execution_count": 14,
   "id": "dd5be9d8",
   "metadata": {},
   "outputs": [],
   "source": [
    "passenger_movement_df.dropna(axis=0,inplace=True) #dropping the two rows with null values"
   ]
  },
  {
   "cell_type": "code",
   "execution_count": 15,
   "id": "fb23f862",
   "metadata": {},
   "outputs": [
    {
     "data": {
      "text/plain": [
       "(12934, 4)"
      ]
     },
     "execution_count": 15,
     "metadata": {},
     "output_type": "execute_result"
    }
   ],
   "source": [
    "passenger_movement_df.shape #two rows have been dropped"
   ]
  },
  {
   "cell_type": "code",
   "execution_count": 16,
   "id": "6b9bdfa9",
   "metadata": {},
   "outputs": [],
   "source": [
    "#function to convert imported year to a decimal for graphing\n",
    "def year_month_to_decimal(year_month):\n",
    "    \n",
    "    year = int(year_month[:4])\n",
    "    month = int(year_month[4:])\n",
    "    decimal_month = month / 12.0\n",
    "    return year + decimal_month"
   ]
  },
  {
   "cell_type": "code",
   "execution_count": 17,
   "id": "7a0790ba",
   "metadata": {},
   "outputs": [
    {
     "data": {
      "text/html": [
       "<div>\n",
       "<style scoped>\n",
       "    .dataframe tbody tr th:only-of-type {\n",
       "        vertical-align: middle;\n",
       "    }\n",
       "\n",
       "    .dataframe tbody tr th {\n",
       "        vertical-align: top;\n",
       "    }\n",
       "\n",
       "    .dataframe thead th {\n",
       "        text-align: right;\n",
       "    }\n",
       "</style>\n",
       "<table border=\"1\" class=\"dataframe\">\n",
       "  <thead>\n",
       "    <tr style=\"text-align: right;\">\n",
       "      <th></th>\n",
       "      <th>Year</th>\n",
       "      <th>Direction</th>\n",
       "      <th>Type of Passenger Movement</th>\n",
       "      <th>VALUE</th>\n",
       "      <th>decimal_year</th>\n",
       "    </tr>\n",
       "  </thead>\n",
       "  <tbody>\n",
       "    <tr>\n",
       "      <th>0</th>\n",
       "      <td>196101</td>\n",
       "      <td>Arriving in Eire</td>\n",
       "      <td>Passenger Movement by Sea to All Countries</td>\n",
       "      <td>20102.0</td>\n",
       "      <td>1961.083333</td>\n",
       "    </tr>\n",
       "    <tr>\n",
       "      <th>1</th>\n",
       "      <td>196101</td>\n",
       "      <td>Arriving in Eire</td>\n",
       "      <td>Passenger Movement by Sea to Great Britain</td>\n",
       "      <td>19963.0</td>\n",
       "      <td>1961.083333</td>\n",
       "    </tr>\n",
       "    <tr>\n",
       "      <th>2</th>\n",
       "      <td>196101</td>\n",
       "      <td>Arriving in Eire</td>\n",
       "      <td>Passenger Movement by Sea to Countries Other T...</td>\n",
       "      <td>139.0</td>\n",
       "      <td>1961.083333</td>\n",
       "    </tr>\n",
       "    <tr>\n",
       "      <th>3</th>\n",
       "      <td>196101</td>\n",
       "      <td>Arriving in Eire</td>\n",
       "      <td>Passenger Movement Cross-Border Rail</td>\n",
       "      <td>10344.0</td>\n",
       "      <td>1961.083333</td>\n",
       "    </tr>\n",
       "    <tr>\n",
       "      <th>4</th>\n",
       "      <td>196101</td>\n",
       "      <td>Arriving in Eire</td>\n",
       "      <td>Passenger Movement Cross-Border Bus</td>\n",
       "      <td>40063.0</td>\n",
       "      <td>1961.083333</td>\n",
       "    </tr>\n",
       "    <tr>\n",
       "      <th>...</th>\n",
       "      <td>...</td>\n",
       "      <td>...</td>\n",
       "      <td>...</td>\n",
       "      <td>...</td>\n",
       "      <td>...</td>\n",
       "    </tr>\n",
       "    <tr>\n",
       "      <th>12931</th>\n",
       "      <td>200912</td>\n",
       "      <td>Departing Eire</td>\n",
       "      <td>Passenger Movement by Air from Dublin Airport</td>\n",
       "      <td>664962.0</td>\n",
       "      <td>2010.000000</td>\n",
       "    </tr>\n",
       "    <tr>\n",
       "      <th>12932</th>\n",
       "      <td>200912</td>\n",
       "      <td>Departing Eire</td>\n",
       "      <td>Passenger Movement by Air from Cork Airport</td>\n",
       "      <td>76086.0</td>\n",
       "      <td>2010.000000</td>\n",
       "    </tr>\n",
       "    <tr>\n",
       "      <th>12933</th>\n",
       "      <td>200912</td>\n",
       "      <td>Departing Eire</td>\n",
       "      <td>Passenger Movement by Air from Shannon Airport</td>\n",
       "      <td>61229.0</td>\n",
       "      <td>2010.000000</td>\n",
       "    </tr>\n",
       "    <tr>\n",
       "      <th>12934</th>\n",
       "      <td>200912</td>\n",
       "      <td>Departing Eire</td>\n",
       "      <td>Passenger Movement by Air from Shannon Airport...</td>\n",
       "      <td>50767.0</td>\n",
       "      <td>2010.000000</td>\n",
       "    </tr>\n",
       "    <tr>\n",
       "      <th>12935</th>\n",
       "      <td>200912</td>\n",
       "      <td>Departing Eire</td>\n",
       "      <td>Passenger Movement by Air from Shannon Airport...</td>\n",
       "      <td>10462.0</td>\n",
       "      <td>2010.000000</td>\n",
       "    </tr>\n",
       "  </tbody>\n",
       "</table>\n",
       "<p>12934 rows × 5 columns</p>\n",
       "</div>"
      ],
      "text/plain": [
       "         Year         Direction   \n",
       "0      196101  Arriving in Eire  \\\n",
       "1      196101  Arriving in Eire   \n",
       "2      196101  Arriving in Eire   \n",
       "3      196101  Arriving in Eire   \n",
       "4      196101  Arriving in Eire   \n",
       "...       ...               ...   \n",
       "12931  200912    Departing Eire   \n",
       "12932  200912    Departing Eire   \n",
       "12933  200912    Departing Eire   \n",
       "12934  200912    Departing Eire   \n",
       "12935  200912    Departing Eire   \n",
       "\n",
       "                              Type of Passenger Movement     VALUE   \n",
       "0             Passenger Movement by Sea to All Countries   20102.0  \\\n",
       "1             Passenger Movement by Sea to Great Britain   19963.0   \n",
       "2      Passenger Movement by Sea to Countries Other T...     139.0   \n",
       "3                   Passenger Movement Cross-Border Rail   10344.0   \n",
       "4                    Passenger Movement Cross-Border Bus   40063.0   \n",
       "...                                                  ...       ...   \n",
       "12931      Passenger Movement by Air from Dublin Airport  664962.0   \n",
       "12932        Passenger Movement by Air from Cork Airport   76086.0   \n",
       "12933     Passenger Movement by Air from Shannon Airport   61229.0   \n",
       "12934  Passenger Movement by Air from Shannon Airport...   50767.0   \n",
       "12935  Passenger Movement by Air from Shannon Airport...   10462.0   \n",
       "\n",
       "       decimal_year  \n",
       "0       1961.083333  \n",
       "1       1961.083333  \n",
       "2       1961.083333  \n",
       "3       1961.083333  \n",
       "4       1961.083333  \n",
       "...             ...  \n",
       "12931   2010.000000  \n",
       "12932   2010.000000  \n",
       "12933   2010.000000  \n",
       "12934   2010.000000  \n",
       "12935   2010.000000  \n",
       "\n",
       "[12934 rows x 5 columns]"
      ]
     },
     "execution_count": 17,
     "metadata": {},
     "output_type": "execute_result"
    }
   ],
   "source": [
    "#applying the function to the year \n",
    "passenger_movement_df['Year'] = passenger_movement_df['Year'].astype(str)\n",
    "passenger_movement_df['decimal_year'] = passenger_movement_df['Year'].apply(year_month_to_decimal)\n",
    "passenger_movement_df['decimal_year'] = passenger_movement_df['decimal_year'].astype(float)\n",
    "passenger_movement_df"
   ]
  },
  {
   "cell_type": "code",
   "execution_count": 18,
   "id": "b64fc2f2",
   "metadata": {},
   "outputs": [
    {
     "data": {
      "text/plain": [
       "array(['Arriving in Eire', 'Departing Eire'], dtype=object)"
      ]
     },
     "execution_count": 18,
     "metadata": {},
     "output_type": "execute_result"
    }
   ],
   "source": [
    "passenger_movement_df[\"Direction\"].unique() #two unique values"
   ]
  },
  {
   "cell_type": "code",
   "execution_count": 19,
   "id": "fd654425",
   "metadata": {},
   "outputs": [
    {
     "data": {
      "text/plain": [
       "array(['Passenger Movement by Sea to All Countries',\n",
       "       'Passenger Movement by Sea to Great Britain',\n",
       "       'Passenger Movement by Sea to Countries Other Than Great Britain',\n",
       "       'Passenger Movement Cross-Border Rail',\n",
       "       'Passenger Movement Cross-Border Bus',\n",
       "       'Passenger Movement by Air from All Airports',\n",
       "       'Passenger Movement by Air from Dublin Airport',\n",
       "       'Passenger Movement by Air from Cork Airport',\n",
       "       'Passenger Movement by Air from Shannon Airport',\n",
       "       'Passenger Movement by Air from Shannon Airport (Eastbound)',\n",
       "       'Passenger Movement by Air from Shannon Airport (Westbound)'],\n",
       "      dtype=object)"
      ]
     },
     "execution_count": 19,
     "metadata": {},
     "output_type": "execute_result"
    }
   ],
   "source": [
    "passenger_movement_df[\"Type of Passenger Movement\"].unique() #11 unique columns"
   ]
  },
  {
   "cell_type": "code",
   "execution_count": 20,
   "id": "498144b3",
   "metadata": {},
   "outputs": [
    {
     "data": {
      "text/html": [
       "<div>\n",
       "<style scoped>\n",
       "    .dataframe tbody tr th:only-of-type {\n",
       "        vertical-align: middle;\n",
       "    }\n",
       "\n",
       "    .dataframe tbody tr th {\n",
       "        vertical-align: top;\n",
       "    }\n",
       "\n",
       "    .dataframe thead th {\n",
       "        text-align: right;\n",
       "    }\n",
       "</style>\n",
       "<table border=\"1\" class=\"dataframe\">\n",
       "  <thead>\n",
       "    <tr style=\"text-align: right;\">\n",
       "      <th></th>\n",
       "      <th>VALUE</th>\n",
       "      <th>decimal_year</th>\n",
       "    </tr>\n",
       "  </thead>\n",
       "  <tbody>\n",
       "    <tr>\n",
       "      <th>count</th>\n",
       "      <td>1.293400e+04</td>\n",
       "      <td>12934.000000</td>\n",
       "    </tr>\n",
       "    <tr>\n",
       "      <th>mean</th>\n",
       "      <td>9.242068e+04</td>\n",
       "      <td>1985.538349</td>\n",
       "    </tr>\n",
       "    <tr>\n",
       "      <th>std</th>\n",
       "      <td>1.769196e+05</td>\n",
       "      <td>14.144184</td>\n",
       "    </tr>\n",
       "    <tr>\n",
       "      <th>min</th>\n",
       "      <td>0.000000e+00</td>\n",
       "      <td>1961.083333</td>\n",
       "    </tr>\n",
       "    <tr>\n",
       "      <th>25%</th>\n",
       "      <td>1.340125e+04</td>\n",
       "      <td>1973.270833</td>\n",
       "    </tr>\n",
       "    <tr>\n",
       "      <th>50%</th>\n",
       "      <td>3.542900e+04</td>\n",
       "      <td>1985.500000</td>\n",
       "    </tr>\n",
       "    <tr>\n",
       "      <th>75%</th>\n",
       "      <td>8.617450e+04</td>\n",
       "      <td>1997.750000</td>\n",
       "    </tr>\n",
       "    <tr>\n",
       "      <th>max</th>\n",
       "      <td>1.603381e+06</td>\n",
       "      <td>2010.000000</td>\n",
       "    </tr>\n",
       "  </tbody>\n",
       "</table>\n",
       "</div>"
      ],
      "text/plain": [
       "              VALUE  decimal_year\n",
       "count  1.293400e+04  12934.000000\n",
       "mean   9.242068e+04   1985.538349\n",
       "std    1.769196e+05     14.144184\n",
       "min    0.000000e+00   1961.083333\n",
       "25%    1.340125e+04   1973.270833\n",
       "50%    3.542900e+04   1985.500000\n",
       "75%    8.617450e+04   1997.750000\n",
       "max    1.603381e+06   2010.000000"
      ]
     },
     "execution_count": 20,
     "metadata": {},
     "output_type": "execute_result"
    }
   ],
   "source": [
    "passenger_movement_df.describe() #mean and std indicate the data is heavily skewed"
   ]
  },
  {
   "cell_type": "code",
   "execution_count": 21,
   "id": "5a021447",
   "metadata": {},
   "outputs": [
    {
     "data": {
      "text/html": [
       "<div>\n",
       "<style scoped>\n",
       "    .dataframe tbody tr th:only-of-type {\n",
       "        vertical-align: middle;\n",
       "    }\n",
       "\n",
       "    .dataframe tbody tr th {\n",
       "        vertical-align: top;\n",
       "    }\n",
       "\n",
       "    .dataframe thead th {\n",
       "        text-align: right;\n",
       "    }\n",
       "</style>\n",
       "<table border=\"1\" class=\"dataframe\">\n",
       "  <thead>\n",
       "    <tr style=\"text-align: right;\">\n",
       "      <th></th>\n",
       "      <th>Year</th>\n",
       "      <th>Direction</th>\n",
       "      <th>Type of Passenger Movement</th>\n",
       "    </tr>\n",
       "  </thead>\n",
       "  <tbody>\n",
       "    <tr>\n",
       "      <th>count</th>\n",
       "      <td>12934</td>\n",
       "      <td>12934</td>\n",
       "      <td>12934</td>\n",
       "    </tr>\n",
       "    <tr>\n",
       "      <th>unique</th>\n",
       "      <td>588</td>\n",
       "      <td>2</td>\n",
       "      <td>11</td>\n",
       "    </tr>\n",
       "    <tr>\n",
       "      <th>top</th>\n",
       "      <td>196101</td>\n",
       "      <td>Arriving in Eire</td>\n",
       "      <td>Passenger Movement by Sea to All Countries</td>\n",
       "    </tr>\n",
       "    <tr>\n",
       "      <th>freq</th>\n",
       "      <td>22</td>\n",
       "      <td>6467</td>\n",
       "      <td>1176</td>\n",
       "    </tr>\n",
       "  </tbody>\n",
       "</table>\n",
       "</div>"
      ],
      "text/plain": [
       "          Year         Direction                  Type of Passenger Movement\n",
       "count    12934             12934                                       12934\n",
       "unique     588                 2                                          11\n",
       "top     196101  Arriving in Eire  Passenger Movement by Sea to All Countries\n",
       "freq        22              6467                                        1176"
      ]
     },
     "execution_count": 21,
     "metadata": {},
     "output_type": "execute_result"
    }
   ],
   "source": [
    "passenger_movement_df.describe(include=\"object\") "
   ]
  },
  {
   "cell_type": "code",
   "execution_count": 22,
   "id": "5fd0179f",
   "metadata": {},
   "outputs": [],
   "source": [
    "def season(x):\n",
    "    month = int(str(x)[-2:])\n",
    "    if month in [12, 1, 2]:\n",
    "        return 'Winter'\n",
    "    elif month in [3, 4, 5]:\n",
    "        return 'Spring'\n",
    "    elif month in [6, 7, 8]:\n",
    "        return 'Summer'\n",
    "    else:\n",
    "        return 'Autumn'\n",
    "    \n",
    "passenger_movement_df['Season'] =  passenger_movement_df['Year'].apply(season)"
   ]
  },
  {
   "cell_type": "code",
   "execution_count": 23,
   "id": "6a48f11a",
   "metadata": {},
   "outputs": [],
   "source": [
    "#Splitting data into two data frames: arriving into Ireland and departing from Ireland, making sure to not double count\n",
    "\n",
    "options =['Passenger Movement by Sea to All Countries', 'Passenger Movement Cross-Border Rail', 'Passenger Movement Cross-Border Bus', 'Passenger Movement by Air from All Airports']\n",
    "#ensure values aren't being double counted\n",
    "\n",
    "passenger_movement_net_df = passenger_movement_df[passenger_movement_df['Type of Passenger Movement'].isin(options)]\n",
    "\n",
    "arriving_df = passenger_movement_df[passenger_movement_df['Direction'].isin(['Arriving in Eire'])]\n",
    "arriving_net_df = arriving_df[arriving_df['Type of Passenger Movement'].isin(options)]\n",
    "\n",
    "departing_df = passenger_movement_df[passenger_movement_df['Direction'].isin(['Departing Eire'])]\n",
    "departing_net_df = departing_df[departing_df['Type of Passenger Movement'].isin(options)]"
   ]
  },
  {
   "cell_type": "code",
   "execution_count": 24,
   "id": "7e97109e",
   "metadata": {},
   "outputs": [
    {
     "data": {
      "text/plain": [
       "Text(0.5, 1.0, 'Boxplot')"
      ]
     },
     "execution_count": 24,
     "metadata": {},
     "output_type": "execute_result"
    },
    {
     "data": {
      "image/png": "[encoded data removed]",
      "text/plain": [
       "<Figure size 640x480 with 1 Axes>"
      ]
     },
     "metadata": {},
     "output_type": "display_data"
    }
   ],
   "source": [
    "sns.boxplot(y = 'VALUE', data = passenger_movement_net_df) #numbers arriving by sea have remained very stable over the years - presents better on the boxplot, too much variance otherwise\n",
    "plt.title('Boxplot')"
   ]
  },
  {
   "cell_type": "code",
   "execution_count": 25,
   "id": "25bacd80",
   "metadata": {},
   "outputs": [
    {
     "data": {
      "text/plain": [
       "<matplotlib.legend.Legend at 0x172602010>"
      ]
     },
     "execution_count": 25,
     "metadata": {},
     "output_type": "execute_result"
    },
    {
     "data": {
      "image/png": "[encoded data removed]",
      "text/plain": [
       "<Figure size 640x480 with 1 Axes>"
      ]
     },
     "metadata": {},
     "output_type": "display_data"
    }
   ],
   "source": [
    "sns.histplot(data=departing_net_df, x=\"VALUE\", kde = True, label='Passeneger departing')\n",
    "sns.histplot(data=arriving_net_df, x=\"VALUE\", kde = True, label='Passeneger arriving')\n",
    "plt.legend(loc='upper right')"
   ]
  },
  {
   "cell_type": "code",
   "execution_count": 26,
   "id": "1b0dc443",
   "metadata": {},
   "outputs": [],
   "source": [
    "arriving_by_air_df = arriving_net_df[arriving_df['Type of Passenger Movement'].isin(['Passenger Movement by Air from All Airports'])]  \n",
    "arriving_by_sea_df = arriving_net_df[arriving_df['Type of Passenger Movement'].isin(['Passenger Movement by Sea to All Countries'])]\n",
    "departing_by_air_df = departing_net_df[departing_df['Type of Passenger Movement'].isin(['Passenger Movement by Air from All Airports'])]\n",
    "departing_by_sea_df = departing_net_df[departing_df['Type of Passenger Movement'].isin(['Passenger Movement by Sea to All Countries'])]"
   ]
  },
  {
   "cell_type": "code",
   "execution_count": 27,
   "id": "d8359bdc",
   "metadata": {},
   "outputs": [
    {
     "data": {
      "image/png": "[encoded data removed]",
      "text/plain": [
       "<Figure size 2000x1000 with 1 Axes>"
      ]
     },
     "metadata": {},
     "output_type": "display_data"
    }
   ],
   "source": [
    "fig, ax = plt.subplots(figsize=(20,10))\n",
    "ax.scatter(departing_by_air_df[\"decimal_year\"], departing_by_air_df[\"VALUE\"], s=10, c='green', marker=\"s\", label='departing air')\n",
    "ax.scatter(departing_by_sea_df[\"decimal_year\"],departing_by_sea_df[\"VALUE\"],s=10, c='red', marker=\"s\", label='departing sea')\n",
    "ax.scatter(arriving_by_air_df[\"decimal_year\"], arriving_by_air_df[\"VALUE\"], s=10, c='blue', marker=\"o\", label='arriving air')\n",
    "ax.scatter(arriving_by_sea_df[\"decimal_year\"], arriving_by_sea_df[\"VALUE\"], s=10, c='black', marker=\"o\", label='arriving sea')\n",
    "plt.legend(loc='upper left')\n",
    "ax.set_xlabel(\"Year\")\n",
    "ax.set_ylabel(\"Numbers arriving\")\n",
    "plt.savefig('scatter')\n",
    "plt.show()"
   ]
  },
  {
   "cell_type": "code",
   "execution_count": 28,
   "id": "186e6e7c",
   "metadata": {},
   "outputs": [
    {
     "data": {
      "image/png": "[encoded data removed]",
      "text/plain": [
       "<Figure size 2000x600 with 1 Axes>"
      ]
     },
     "metadata": {},
     "output_type": "display_data"
    }
   ],
   "source": [
    "#look at a plot of one year - normally distributed?\n",
    "departing_by_air_1961_df = departing_by_air_df[departing_by_air_df['Year'].str.contains('1961')]\n",
    "departing_by_air_1962_df = departing_by_air_df[departing_by_air_df['Year'].str.contains('1962')]\n",
    "fig, ax = plt.subplots(figsize=(20,6))\n",
    "ax.scatter(departing_by_air_1961_df[\"decimal_year\"], departing_by_air_1961_df[\"VALUE\"], s=10, c='b', marker=\"s\", label='1961')\n",
    "ax.scatter(departing_by_air_1962_df[\"decimal_year\"], departing_by_air_1962_df[\"VALUE\"], s=10, c='r', marker=\"s\", label='1962')\n",
    "plt.legend(loc='upper left')\n",
    "ax.set_xlabel(\"Month\")\n",
    "ax.set_ylabel(\"Numbers arriving\")\n",
    "plt.show() "
   ]
  },
  {
   "cell_type": "code",
   "execution_count": 29,
   "id": "0b6253b9",
   "metadata": {},
   "outputs": [
    {
     "data": {
      "image/png": "[encoded data removed]",
      "text/plain": [
       "<Figure size 800x500 with 1 Axes>"
      ]
     },
     "metadata": {},
     "output_type": "display_data"
    }
   ],
   "source": [
    "arriving_by_air_df['Dataset'] = 'arriving_by_air_df'\n",
    "arriving_by_sea_df['Dataset'] = 'arriving_by_sea_df'\n",
    "departing_by_sea_df['Dataset'] = 'departing_by_sea_df'\n",
    "departing_by_air_df['Dataset'] = 'departing_by_air_df'\n",
    "all_data = pd.concat([arriving_by_air_df, arriving_by_sea_df, departing_by_air_df, departing_by_sea_df])\n",
    "plt.figure(figsize=(8, 5)) \n",
    "sns.boxplot(x='Dataset', y='VALUE', data=all_data, width=0.5)\n",
    "plt.title('') \n",
    "plt.xlabel('')  \n",
    "plt.ylabel('Number of passengers arriving')  \n",
    "plt.savefig('boxplot')\n",
    "plt.show()"
   ]
  },
  {
   "cell_type": "code",
   "execution_count": 30,
   "id": "b1d1bc50",
   "metadata": {},
   "outputs": [
    {
     "name": "stdout",
     "output_type": "stream",
     "text": [
      "              VALUE  decimal_year\n",
      "count  5.880000e+02    588.000000\n",
      "mean   3.413003e+05   1985.541667\n",
      "std    3.579344e+05     14.157105\n",
      "min    1.725000e+04   1961.083333\n",
      "25%    8.918600e+04   1973.312500\n",
      "50%    1.771845e+05   1985.541667\n",
      "75%    4.945732e+05   1997.770833\n",
      "max    1.603381e+06   2010.000000\n",
      "               VALUE  decimal_year\n",
      "count     588.000000    588.000000\n",
      "mean   118646.709184   1985.541667\n",
      "std     86918.855434     14.157105\n",
      "min     10712.000000   1961.083333\n",
      "25%     49729.000000   1973.312500\n",
      "50%     93685.000000   1985.541667\n",
      "75%    166887.750000   1997.770833\n",
      "max    395819.000000   2010.000000\n"
     ]
    }
   ],
   "source": [
    "print(arriving_by_air_df.describe())\n",
    "print(arriving_by_sea_df.describe())"
   ]
  },
  {
   "cell_type": "markdown",
   "id": "f66411c0",
   "metadata": {},
   "source": [
    "# Statistics"
   ]
  },
  {
   "cell_type": "markdown",
   "id": "e1fcd369",
   "metadata": {},
   "source": [
    "## Binomial Distribution"
   ]
  },
  {
   "cell_type": "code",
   "execution_count": 31,
   "id": "4469016e",
   "metadata": {},
   "outputs": [
    {
     "name": "stdout",
     "output_type": "stream",
     "text": [
      "69555589.0 69764265.0 139319854.0\n"
     ]
    }
   ],
   "source": [
    "from scipy.stats import binom\n",
    "#numbers arriving by departing by sea relatively stable over time - probability will be more constant than air travel\n",
    "total_departing_by_sea = departing_by_sea_df['VALUE'].sum()\n",
    "total_arriving_by_sea = arriving_by_sea_df['VALUE'].sum()\n",
    "total_sea_df = passenger_movement_df[passenger_movement_df['Type of Passenger Movement'] == 'Passenger Movement by Sea to All Countries'] \n",
    "\n",
    "# Sum the values in 'column_to_sum' from the filtered DataFrame\n",
    "total_movement_sea = total_sea_df['VALUE'].sum()\n",
    "print(total_departing_by_sea, total_arriving_by_sea, total_movement_sea)"
   ]
  },
  {
   "cell_type": "code",
   "execution_count": 32,
   "id": "bf92a7f5",
   "metadata": {},
   "outputs": [
    {
     "name": "stdout",
     "output_type": "stream",
     "text": [
      "0.49925109022867625 0.5007489097713238\n"
     ]
    }
   ],
   "source": [
    "p = total_departing_by_sea/total_movement_sea \n",
    "q = total_arriving_by_sea/total_movement_sea\n",
    "print(p,q)"
   ]
  },
  {
   "cell_type": "code",
   "execution_count": 33,
   "id": "65f14e31",
   "metadata": {},
   "outputs": [
    {
     "data": {
      "text/plain": [
       "True"
      ]
     },
     "execution_count": 33,
     "metadata": {},
     "output_type": "execute_result"
    }
   ],
   "source": [
    "p + q == 1 #checking the two probabilities sum to 1"
   ]
  },
  {
   "cell_type": "code",
   "execution_count": 34,
   "id": "c01479c3",
   "metadata": {},
   "outputs": [
    {
     "data": {
      "text/plain": [
       "0.24609098950080252"
      ]
     },
     "execution_count": 34,
     "metadata": {},
     "output_type": "execute_result"
    }
   ],
   "source": [
    "#if xx number of people are chosen at random who arrived by sea what is the probability they were entering or leaving the country?\n",
    "#binom.pmf(k = number that you want, n = sample size or limit, p = probability)\n",
    "binom.pmf(5, 10, p)\n",
    "#there is a probability of 0.246 that exactly 5 out of 10 people were departing the country by sea from 1961 to 2009"
   ]
  },
  {
   "cell_type": "code",
   "execution_count": 35,
   "id": "3c37cf07",
   "metadata": {},
   "outputs": [
    {
     "data": {
      "text/plain": [
       "0.6248885093777816"
      ]
     },
     "execution_count": 35,
     "metadata": {},
     "output_type": "execute_result"
    }
   ],
   "source": [
    "binom.cdf(5, 10, p) #less than 5 (4 or less) departing"
   ]
  },
  {
   "cell_type": "code",
   "execution_count": 36,
   "id": "388037e2",
   "metadata": {},
   "outputs": [
    {
     "data": {
      "text/plain": [
       "0.3751114906222183"
      ]
     },
     "execution_count": 36,
     "metadata": {},
     "output_type": "execute_result"
    }
   ],
   "source": [
    "binom.sf(5, 10, p) #more than 5 (4 or more) departing"
   ]
  },
  {
   "cell_type": "code",
   "execution_count": 37,
   "id": "a8d94674",
   "metadata": {},
   "outputs": [
    {
     "data": {
      "image/png": "[encoded data removed]",
      "text/plain": [
       "<Figure size 640x480 with 1 Axes>"
      ]
     },
     "metadata": {},
     "output_type": "display_data"
    }
   ],
   "source": [
    "n = 10  # Number of trials\n",
    "\n",
    "# Generate x values (number of successes)\n",
    "x_values = np.arange(0, n+1)\n",
    "\n",
    "# Calculate probabilities using binomial distribution\n",
    "probabilities = binom.pmf(x_values, n, p)\n",
    "\n",
    "# Plot the binomial distribution\n",
    "plt.bar(x_values, probabilities, color='blue')\n",
    "plt.xlabel('Number of Trials')\n",
    "plt.ylabel('Probability chosen person is departing')\n",
    "plt.xticks(x_values)\n",
    "plt.grid(True)\n",
    "plt.show()"
   ]
  },
  {
   "cell_type": "code",
   "execution_count": 38,
   "id": "49db43ca",
   "metadata": {},
   "outputs": [
    {
     "data": {
      "image/png": "[encoded data removed]",
      "text/plain": [
       "<Figure size 1000x600 with 1 Axes>"
      ]
     },
     "metadata": {},
     "output_type": "display_data"
    }
   ],
   "source": [
    "n = 10\n",
    "x_values = np.arange(0, n+1)\n",
    "\n",
    "# Calculate probabilities using binomial distribution\n",
    "probabilities_pmf = binom.pmf(x_values, n, p)\n",
    "probabilities_sf = binom.sf(x_values, n, p)\n",
    "probabilities_cdf = binom.cdf(x_values, n, p)\n",
    "\n",
    "# Plot the binomial distributions\n",
    "plt.figure(figsize=(10, 6))\n",
    "\n",
    "# Plot PMF\n",
    "plt.bar(x_values - 0.2, probabilities_pmf, width=0.2, color='black', label='PMF')\n",
    "\n",
    "# Plot SF\n",
    "plt.bar(x_values, probabilities_sf, width=0.2, color='blue', label='SF')\n",
    "\n",
    "# Plot CDF\n",
    "plt.bar(x_values + 0.2, probabilities_cdf, width=0.2, color='magenta', label='CDF')\n",
    "\n",
    "plt.xlabel('Number of sucesses for 10 trials')\n",
    "plt.ylabel('Probability chosen person is departing')\n",
    "plt.xticks(x_values)\n",
    "plt.legend()\n",
    "plt.grid(True)\n",
    "plt.savefig('binomial')\n",
    "plt.show()"
   ]
  },
  {
   "cell_type": "code",
   "execution_count": 39,
   "id": "3bff67c2",
   "metadata": {},
   "outputs": [
    {
     "data": {
      "text/plain": [
       "4.992510902286763"
      ]
     },
     "execution_count": 39,
     "metadata": {},
     "output_type": "execute_result"
    }
   ],
   "source": [
    "#Two probabilities are approx equal\n",
    "#Expected value over the long run that 10 people would be departing\n",
    "n = 10\n",
    "expected_value = 10*p\n",
    "expected_value"
   ]
  },
  {
   "cell_type": "code",
   "execution_count": 40,
   "id": "f12120d3",
   "metadata": {
    "scrolled": true
   },
   "outputs": [
    {
     "data": {
      "image/png": "[encoded data removed]",
      "text/plain": [
       "<Figure size 1000x600 with 1 Axes>"
      ]
     },
     "metadata": {},
     "output_type": "display_data"
    }
   ],
   "source": [
    "#initialise \n",
    "n_values = []\n",
    "k_values = []\n",
    "pmf_values = []\n",
    "\n",
    "for i in range(1, 10000, 100):  \n",
    "    n = i\n",
    "    k = i // 2  # Set k to half of n\n",
    "    pmf = binom.pmf(k, n, p)\n",
    "    \n",
    "    n_values.append(n) #add values to list\n",
    "    k_values.append(k)\n",
    "    pmf_values.append(pmf)\n",
    "\n",
    "# Plot the results\n",
    "plt.figure(figsize=(10, 6))\n",
    "plt.plot(n_values, pmf_values, marker='*', linestyle='-', color = 'purple')\n",
    "plt.xlabel('Number of Trials (n)')\n",
    "plt.ylabel('Probability Mass Function')\n",
    "plt.grid(True)\n",
    "plt.savefig('binomial large number of trails')\n",
    "plt.show()"
   ]
  },
  {
   "cell_type": "markdown",
   "id": "67f3ffe8",
   "metadata": {},
   "source": [
    "## Poisson Distribution"
   ]
  },
  {
   "cell_type": "code",
   "execution_count": 41,
   "id": "f8be6179",
   "metadata": {},
   "outputs": [
    {
     "data": {
      "text/plain": [
       "649.1466498928338"
      ]
     },
     "execution_count": 41,
     "metadata": {},
     "output_type": "execute_result"
    }
   ],
   "source": [
    "#finding the average number of people moving by by sea\n",
    "from scipy.stats import poisson\n",
    "total_number_of_months = len(departing_by_sea_df)\n",
    "lambda_poisson_daily= (total_departing_by_sea + total_arriving_by_sea)/(total_number_of_months*365)#per day\n",
    "lambda_poisson_daily #avergae number of people coming a day"
   ]
  },
  {
   "cell_type": "code",
   "execution_count": 42,
   "id": "0021e893",
   "metadata": {},
   "outputs": [
    {
     "data": {
      "text/plain": [
       "0.01565758428655263"
      ]
     },
     "execution_count": 42,
     "metadata": {},
     "output_type": "execute_result"
    }
   ],
   "source": [
    "k = round(lambda_poisson_daily)\n",
    "poisson.pmf(k, lambda_poisson_daily)"
   ]
  },
  {
   "cell_type": "code",
   "execution_count": 43,
   "id": "91bf4bf1",
   "metadata": {},
   "outputs": [
    {
     "data": {
      "text/plain": [
       "0.49185836070889655"
      ]
     },
     "execution_count": 43,
     "metadata": {},
     "output_type": "execute_result"
    }
   ],
   "source": [
    "poisson.sf(k, lambda_poisson_daily)"
   ]
  },
  {
   "cell_type": "code",
   "execution_count": 44,
   "id": "debd111e",
   "metadata": {},
   "outputs": [
    {
     "data": {
      "text/plain": [
       "0.5081416392911033"
      ]
     },
     "execution_count": 44,
     "metadata": {},
     "output_type": "execute_result"
    }
   ],
   "source": [
    "poisson.cdf(k, lambda_poisson_daily)"
   ]
  },
  {
   "cell_type": "code",
   "execution_count": 45,
   "id": "f12abd82",
   "metadata": {},
   "outputs": [
    {
     "data": {
      "image/png": "[encoded data removed]",
      "text/plain": [
       "<Figure size 640x480 with 1 Axes>"
      ]
     },
     "metadata": {},
     "output_type": "display_data"
    }
   ],
   "source": [
    "lambda_poisson_values = []\n",
    "pmf_values = []\n",
    "lambda_poisson = (total_departing_by_sea + total_arriving_by_sea) / total_number_of_months #base units = per month\n",
    "time_scale = [1/365, 0.5, 1, 6, 12, 24, 36, 48, 120]\n",
    "\n",
    "for time in time_scale:\n",
    "    lambda_poisson_i = lambda_poisson * time\n",
    "    k = round(lambda_poisson_i)\n",
    "    pmf = poisson.pmf(k, lambda_poisson_i)  # Calculate PMF for lambda_poisson_i\n",
    "    # Add values to list for each iteration\n",
    "    lambda_poisson_values.append(lambda_poisson_i)\n",
    "    pmf_values.append(pmf)\n",
    "\n",
    "# Plot the results\n",
    "plt.plot(time_scale, pmf_values, marker='*', linestyle='-', color = 'purple')\n",
    "\n",
    "plt.xlabel('Time frame (in months)')\n",
    "plt.ylabel('Probability Mass Function')\n",
    "#plt.legend()\n",
    "plt.grid(True)\n",
    "plt.savefig('large_poisson.png')\n",
    "plt.show()"
   ]
  },
  {
   "cell_type": "markdown",
   "id": "f57b9dc1",
   "metadata": {},
   "source": [
    "# Normal Distribuiton"
   ]
  },
  {
   "cell_type": "code",
   "execution_count": 46,
   "id": "2b9f9746",
   "metadata": {},
   "outputs": [
    {
     "data": {
      "text/plain": [
       "<matplotlib.legend.Legend at 0x1729bcad0>"
      ]
     },
     "execution_count": 46,
     "metadata": {},
     "output_type": "execute_result"
    },
    {
     "data": {
      "image/png": "[encoded data removed]",
      "text/plain": [
       "<Figure size 640x480 with 1 Axes>"
      ]
     },
     "metadata": {},
     "output_type": "display_data"
    }
   ],
   "source": [
    "departing_by_sea_summer_df = departing_by_sea_df[departing_by_sea_df['Season'].str.contains('Summer')]\n",
    "departing_by_air_summer_df = departing_by_air_df[departing_by_air_df['Season'].str.contains('Summer')]\n",
    "sns.histplot(data=departing_by_sea_summer_df, x=\"VALUE\", kde = True, label='departing_by_sea_df')\n",
    "sns.histplot(data=departing_by_air_summer_df, x=\"VALUE\", kde = True, label = 'departing_by_air_df' )\n",
    "plt.legend(loc='upper right')"
   ]
  },
  {
   "cell_type": "code",
   "execution_count": 47,
   "id": "e63875a6",
   "metadata": {},
   "outputs": [
    {
     "data": {
      "image/png": "[encoded data removed]",
      "text/plain": [
       "<Figure size 640x480 with 1 Axes>"
      ]
     },
     "metadata": {},
     "output_type": "display_data"
    }
   ],
   "source": [
    "sns.histplot(data=departing_by_sea_summer_df, color='red', x=\"VALUE\", kde = True, label='departing_by_sea_summer_df') \n",
    "data = np.random.normal(loc=217441.510204, scale=87330.674017, size=350)\n",
    "sns.histplot(data, kde=True, color='skyblue', bins=30, label='Model Normal Distribution')\n",
    "plt.legend(loc='upper left')\n",
    "# Plot the normal distribution curve\n",
    "plt.savefig('approx norm')\n",
    "plt.show()"
   ]
  },
  {
   "cell_type": "code",
   "execution_count": 48,
   "id": "d7df56f9",
   "metadata": {},
   "outputs": [
    {
     "data": {
      "text/html": [
       "<div>\n",
       "<style scoped>\n",
       "    .dataframe tbody tr th:only-of-type {\n",
       "        vertical-align: middle;\n",
       "    }\n",
       "\n",
       "    .dataframe tbody tr th {\n",
       "        vertical-align: top;\n",
       "    }\n",
       "\n",
       "    .dataframe thead th {\n",
       "        text-align: right;\n",
       "    }\n",
       "</style>\n",
       "<table border=\"1\" class=\"dataframe\">\n",
       "  <thead>\n",
       "    <tr style=\"text-align: right;\">\n",
       "      <th></th>\n",
       "      <th>VALUE</th>\n",
       "      <th>decimal_year</th>\n",
       "    </tr>\n",
       "  </thead>\n",
       "  <tbody>\n",
       "    <tr>\n",
       "      <th>count</th>\n",
       "      <td>147.000000</td>\n",
       "      <td>147.000000</td>\n",
       "    </tr>\n",
       "    <tr>\n",
       "      <th>mean</th>\n",
       "      <td>217441.510204</td>\n",
       "      <td>1985.583333</td>\n",
       "    </tr>\n",
       "    <tr>\n",
       "      <th>std</th>\n",
       "      <td>87330.674017</td>\n",
       "      <td>14.190649</td>\n",
       "    </tr>\n",
       "    <tr>\n",
       "      <th>min</th>\n",
       "      <td>32517.000000</td>\n",
       "      <td>1961.500000</td>\n",
       "    </tr>\n",
       "    <tr>\n",
       "      <th>25%</th>\n",
       "      <td>144680.500000</td>\n",
       "      <td>1973.541667</td>\n",
       "    </tr>\n",
       "    <tr>\n",
       "      <th>50%</th>\n",
       "      <td>218386.000000</td>\n",
       "      <td>1985.583333</td>\n",
       "    </tr>\n",
       "    <tr>\n",
       "      <th>75%</th>\n",
       "      <td>275698.000000</td>\n",
       "      <td>1997.625000</td>\n",
       "    </tr>\n",
       "    <tr>\n",
       "      <th>max</th>\n",
       "      <td>416886.000000</td>\n",
       "      <td>2009.666667</td>\n",
       "    </tr>\n",
       "  </tbody>\n",
       "</table>\n",
       "</div>"
      ],
      "text/plain": [
       "               VALUE  decimal_year\n",
       "count     147.000000    147.000000\n",
       "mean   217441.510204   1985.583333\n",
       "std     87330.674017     14.190649\n",
       "min     32517.000000   1961.500000\n",
       "25%    144680.500000   1973.541667\n",
       "50%    218386.000000   1985.583333\n",
       "75%    275698.000000   1997.625000\n",
       "max    416886.000000   2009.666667"
      ]
     },
     "execution_count": 48,
     "metadata": {},
     "output_type": "execute_result"
    }
   ],
   "source": [
    "departing_by_sea_summer_df.describe()"
   ]
  },
  {
   "cell_type": "code",
   "execution_count": 49,
   "id": "6a9d4c9b",
   "metadata": {},
   "outputs": [
    {
     "name": "stdout",
     "output_type": "stream",
     "text": [
      "217441.51020408163 87330.67401677495\n"
     ]
    }
   ],
   "source": [
    "norm_dist = departing_by_sea_summer_df.describe()\n",
    "mu = norm_dist.iloc[1, 0]\n",
    "sigma = norm_dist.iloc[2, 0]\n",
    "print(mu, sigma)"
   ]
  },
  {
   "cell_type": "code",
   "execution_count": 50,
   "id": "030bd905",
   "metadata": {},
   "outputs": [
    {
     "data": {
      "text/plain": [
       "0.5791494441612952"
      ]
     },
     "execution_count": 50,
     "metadata": {},
     "output_type": "execute_result"
    }
   ],
   "source": [
    "norm.sf(200000, mu, sigma)"
   ]
  },
  {
   "cell_type": "code",
   "execution_count": 51,
   "id": "c86961dc",
   "metadata": {},
   "outputs": [
    {
     "data": {
      "text/plain": [
       "0.42085055583870473"
      ]
     },
     "execution_count": 51,
     "metadata": {},
     "output_type": "execute_result"
    }
   ],
   "source": [
    "norm.cdf(200000, mu, sigma)"
   ]
  },
  {
   "cell_type": "code",
   "execution_count": 52,
   "id": "ce248996",
   "metadata": {},
   "outputs": [
    {
     "data": {
      "text/plain": [
       "1.0"
      ]
     },
     "execution_count": 52,
     "metadata": {},
     "output_type": "execute_result"
    }
   ],
   "source": [
    "norm.cdf(200000, mu, sigma) + norm.sf(200000, mu, sigma) "
   ]
  },
  {
   "cell_type": "code",
   "execution_count": 53,
   "id": "32d756c5",
   "metadata": {},
   "outputs": [
    {
     "name": "stdout",
     "output_type": "stream",
     "text": [
      "392102.8582376315 42780.16217053172\n"
     ]
    }
   ],
   "source": [
    "upper = mu+2*sigma\n",
    "lower = mu-2*sigma\n",
    "print(upper, lower) #95% probability that between the upper and lower limit will leave via sea during the summer months"
   ]
  },
  {
   "cell_type": "markdown",
   "id": "3f465a46",
   "metadata": {},
   "source": [
    "# Encoding"
   ]
  },
  {
   "cell_type": "code",
   "execution_count": 54,
   "id": "99934308",
   "metadata": {},
   "outputs": [],
   "source": [
    "#Label Encoder\n",
    "from sklearn.preprocessing import LabelEncoder\n",
    "lencoder = LabelEncoder()\n",
    "#Season, direction, Type of Passenger Movement need to be encoded\n",
    "passenger_movement_net_df['Year'] = passenger_movement_df['Year'].astype(float) #changing Year to float so it won't be encoded\n",
    "\n",
    "def encode_label(dataFrame): #function to encode any dataframe\n",
    "    encoded_df = dataFrame.copy()\n",
    "    for column in encoded_df.columns:\n",
    "        if encoded_df[column].dtype == 'object': #only encodes objects\n",
    "            encoded_df[column] = lencoder.fit_transform(encoded_df[column]) #need to try a few types of encoding\n",
    "    return encoded_df"
   ]
  },
  {
   "cell_type": "code",
   "execution_count": 55,
   "id": "3d940758",
   "metadata": {},
   "outputs": [],
   "source": [
    "#One Hot Encoder - loop not working, extra rows being adde\n",
    "from sklearn.preprocessing import OneHotEncoder\n",
    "#onehotencoder = OneHotEncoder(sparse_output = False)\n",
    "#Season, direction, Type of Passenger Movement need to be encoded\n",
    "#passenger_movement_net_df['Year'] = passenger_movement_df['Year'].astype(float) #changing Year to float so it won't be encoded\n",
    "\n",
    "# def encode_one_hot(data_frame):\n",
    "#     encoded_df = data_frame.copy() #creating copy so original dataframe remains the same\n",
    "#     new_columns = [] # List to store names of new columns\n",
    "    \n",
    "#     for column in encoded_df.columns: #looping through the columns\n",
    "#         if encoded_df[column].dtype == 'object': #only encodes objects not floats\n",
    "#             encoder = OneHotEncoder(sparse=False) #creating one hot encoder for each column\n",
    "#             column_encoded = encoder.fit_transform(encoded_df[[column]]) #transforming categorical to numerical data\n",
    "#             column_encoded_df = pd.DataFrame(column_encoded, columns=encoder.get_feature_names_out([column])) #naming the encoded column            \n",
    "#             new_columns.extend(column_encoded_df.columns) # Add the new column names to the data frame\n",
    "#             encoded_df = pd.concat([encoded_df, column_encoded_df], axis=1) #adding the new column to the dataframe\n",
    "#             encoded_df.drop(column, axis=1, inplace=True) #dropping original column\n",
    "            \n",
    "#     return encoded_df[new_columns] # Return only the new columns= False)\n",
    "    "
   ]
  },
  {
   "cell_type": "code",
   "execution_count": 56,
   "id": "bb5cad74",
   "metadata": {},
   "outputs": [],
   "source": [
    "passenger_movement_net_df_encoded_label = encode_label(passenger_movement_net_df)\n",
    "#passenger_movement_net_df_one_hot_encoded = encode_one_hot(passenger_movement_net_df)\n",
    "\n",
    "#Loop not working, doing manually for the moment\n",
    "onehotencoder = OneHotEncoder(sparse_output = False, drop = 'first')\n",
    "passenger_movement_net_df_one_hot_encoded_1 = onehotencoder.fit_transform([passenger_movement_net_df[\"Direction\"]])\n",
    "passenger_movement_net_df_one_hot_encoded_1 = pd.get_dummies(passenger_movement_net_df, columns=[\"Direction\"], sparse = True)\n",
    "\n",
    "passenger_movement_net_df_one_hot_encoded_2 = onehotencoder.fit_transform([passenger_movement_net_df_one_hot_encoded_1[\"Type of Passenger Movement\"]])\n",
    "passenger_movement_net_df_one_hot_encoded_2 = pd.get_dummies(passenger_movement_net_df_one_hot_encoded_1, columns=[\"Type of Passenger Movement\"],sparse = True)\n",
    "\n",
    "passenger_movement_net_df_one_hot_encoded_3 = onehotencoder.fit_transform([passenger_movement_net_df_one_hot_encoded_2[\"Season\"]])\n",
    "passenger_movement_net_df_one_hot_encoded_3 = pd.get_dummies(passenger_movement_net_df_one_hot_encoded_2, columns=[\"Season\"],sparse = True)\n"
   ]
  },
  {
   "cell_type": "code",
   "execution_count": 57,
   "id": "29f1fb3f",
   "metadata": {},
   "outputs": [],
   "source": [
    "#For Linear Regression ML\n",
    "departing_by_sea_summer_df\n",
    "\n",
    "onehotencoder = OneHotEncoder(sparse_output = False, drop = 'first')\n",
    "departing_by_sea_summer_df_one_hot_encoded_1 = onehotencoder.fit_transform([departing_by_sea_summer_df[\"Direction\"]])\n",
    "departing_by_sea_summer_df_one_hot_encoded_1 = pd.get_dummies(departing_by_sea_summer_df, columns=[\"Direction\"], sparse = True)\n",
    "\n",
    "departing_by_sea_summer_df_one_hot_encoded_2 = onehotencoder.fit_transform([departing_by_sea_summer_df_one_hot_encoded_1[\"Type of Passenger Movement\"]])\n",
    "departing_by_sea_summer_df_one_hot_encoded_2 = pd.get_dummies(departing_by_sea_summer_df_one_hot_encoded_1, columns=[\"Type of Passenger Movement\"],sparse = True)\n",
    "\n",
    "departing_by_sea_summer_df_one_hot_encoded_3 = onehotencoder.fit_transform([departing_by_sea_summer_df_one_hot_encoded_2[\"Season\"]])\n",
    "departing_by_sea_summer_df_one_hot_encoded_3 = pd.get_dummies(departing_by_sea_summer_df_one_hot_encoded_2, columns=[\"Season\"],sparse = True)\n"
   ]
  },
  {
   "cell_type": "markdown",
   "id": "02b3a7ad",
   "metadata": {},
   "source": [
    "# Scaling "
   ]
  },
  {
   "cell_type": "code",
   "execution_count": 58,
   "id": "7264ffb3",
   "metadata": {},
   "outputs": [
    {
     "name": "stdout",
     "output_type": "stream",
     "text": [
      "4815.0 1603381.0\n"
     ]
    }
   ],
   "source": [
    "max_value = passenger_movement_net_df['VALUE'].max()\n",
    "min_value = passenger_movement_net_df['VALUE'].min()\n",
    "print(min_value, max_value)"
   ]
  },
  {
   "cell_type": "code",
   "execution_count": 59,
   "id": "401014e5",
   "metadata": {},
   "outputs": [],
   "source": [
    "import sklearn.preprocessing as preproc # data is skewed, minmax used\n",
    "passenger_movement_net_df_encoded_onehot_scaled_minmax = passenger_movement_net_df_one_hot_encoded_3.copy() #create copy of encoded dataframe\n",
    "passenger_movement_net_df_encoded_onehot_scaled_minmax['VALUE'] = preproc.minmax_scale(passenger_movement_net_df_encoded_onehot_scaled_minmax['VALUE']) #only VALUE needs to be scaled\n",
    "\n",
    "passenger_movement_net_df_encoded_label_scaled_minmax = passenger_movement_net_df_encoded_label.copy() #create copy of encoded dataframe\n",
    "passenger_movement_net_df_encoded_label_scaled_minmax['VALUE'] = preproc.minmax_scale(passenger_movement_net_df_encoded_label_scaled_minmax['VALUE']) #only VALUE needs to be scaled\n",
    "\n",
    "\n",
    "passenger_movement_net_df_encoded_onehot_scaled_standard = passenger_movement_net_df_one_hot_encoded_3.copy()\n",
    "passenger_movement_net_df_encoded_onehot_scaled_standard['VALUE'] = preproc.StandardScaler().fit_transform(passenger_movement_net_df_encoded_onehot_scaled_standard[['VALUE']])\n",
    "\n",
    "\n",
    "passenger_movement_net_df_encoded_onehot_scaled_l2 = passenger_movement_net_df_one_hot_encoded_3.copy()\n",
    "passenger_movement_net_df_encoded_onehot_scaled_l2['VALUE'] = preproc.normalize(passenger_movement_net_df_encoded_onehot_scaled_l2[['VALUE']])"
   ]
  },
  {
   "cell_type": "code",
   "execution_count": 60,
   "id": "d4b0c442",
   "metadata": {},
   "outputs": [
    {
     "data": {
      "image/png": "[encoded data removed]",
      "text/plain": [
       "<Figure size 1000x500 with 4 Axes>"
      ]
     },
     "metadata": {},
     "output_type": "display_data"
    }
   ],
   "source": [
    "fig, axs = plt.subplots(2,2,  figsize=(10, 5))\n",
    "\n",
    "# Plot the first histogram on the first subplot using Seaborn\n",
    "sns.histplot(data=passenger_movement_net_df, x=\"VALUE\", kde = True, ax=axs[0,0])\n",
    "axs[0,0].set_title('Original')\n",
    "\n",
    "# Plot the second histogram on the second subplot using Seaborn\n",
    "sns.histplot(data=passenger_movement_net_df_encoded_onehot_scaled_minmax, x=\"VALUE\", kde = True, ax=axs[0,1])\n",
    "axs[0,1].set_title('Min-max Scaling')\n",
    "\n",
    "# Plot the second histogram on the second subplot using Seaborn\n",
    "sns.histplot(data=passenger_movement_net_df_encoded_onehot_scaled_standard, x=\"VALUE\", kde = True, ax=axs[1,0])\n",
    "axs[1,0].set_title('Standard Scaling')\n",
    "\n",
    "# Plot the second histogram on the second subplot using Seaborn\n",
    "sns.histplot(data=passenger_movement_net_df_encoded_onehot_scaled_l2, x=\"VALUE\", kde = True, ax=axs[1,1])\n",
    "axs[1,1].set_title('L2 Scaling')\n",
    "\n",
    "# Adjust layout to prevent overlap\n",
    "plt.tight_layout()\n",
    "plt.savefig('scaling comp')\n",
    "# Show the plot\n",
    "plt.show()\n"
   ]
  },
  {
   "cell_type": "markdown",
   "id": "2f21d6af",
   "metadata": {},
   "source": [
    "# Machine Learning"
   ]
  },
  {
   "cell_type": "markdown",
   "id": "513f3ee8",
   "metadata": {},
   "source": [
    "## KNN"
   ]
  },
  {
   "cell_type": "code",
   "execution_count": 61,
   "id": "1499cdb6",
   "metadata": {},
   "outputs": [
    {
     "data": {
      "text/html": [
       "<div>\n",
       "<style scoped>\n",
       "    .dataframe tbody tr th:only-of-type {\n",
       "        vertical-align: middle;\n",
       "    }\n",
       "\n",
       "    .dataframe tbody tr th {\n",
       "        vertical-align: top;\n",
       "    }\n",
       "\n",
       "    .dataframe thead th {\n",
       "        text-align: right;\n",
       "    }\n",
       "</style>\n",
       "<table border=\"1\" class=\"dataframe\">\n",
       "  <thead>\n",
       "    <tr style=\"text-align: right;\">\n",
       "      <th></th>\n",
       "      <th>Year</th>\n",
       "      <th>Direction</th>\n",
       "      <th>Type of Passenger Movement</th>\n",
       "      <th>VALUE</th>\n",
       "      <th>decimal_year</th>\n",
       "      <th>Season</th>\n",
       "    </tr>\n",
       "  </thead>\n",
       "  <tbody>\n",
       "    <tr>\n",
       "      <th>0</th>\n",
       "      <td>196101.0</td>\n",
       "      <td>0</td>\n",
       "      <td>3</td>\n",
       "      <td>0.009563</td>\n",
       "      <td>1961.083333</td>\n",
       "      <td>3</td>\n",
       "    </tr>\n",
       "    <tr>\n",
       "      <th>3</th>\n",
       "      <td>196101.0</td>\n",
       "      <td>0</td>\n",
       "      <td>1</td>\n",
       "      <td>0.003459</td>\n",
       "      <td>1961.083333</td>\n",
       "      <td>3</td>\n",
       "    </tr>\n",
       "    <tr>\n",
       "      <th>4</th>\n",
       "      <td>196101.0</td>\n",
       "      <td>0</td>\n",
       "      <td>0</td>\n",
       "      <td>0.022050</td>\n",
       "      <td>1961.083333</td>\n",
       "      <td>3</td>\n",
       "    </tr>\n",
       "    <tr>\n",
       "      <th>5</th>\n",
       "      <td>196101.0</td>\n",
       "      <td>0</td>\n",
       "      <td>2</td>\n",
       "      <td>0.008309</td>\n",
       "      <td>1961.083333</td>\n",
       "      <td>3</td>\n",
       "    </tr>\n",
       "    <tr>\n",
       "      <th>11</th>\n",
       "      <td>196101.0</td>\n",
       "      <td>1</td>\n",
       "      <td>3</td>\n",
       "      <td>0.024560</td>\n",
       "      <td>1961.083333</td>\n",
       "      <td>3</td>\n",
       "    </tr>\n",
       "    <tr>\n",
       "      <th>...</th>\n",
       "      <td>...</td>\n",
       "      <td>...</td>\n",
       "      <td>...</td>\n",
       "      <td>...</td>\n",
       "      <td>...</td>\n",
       "      <td>...</td>\n",
       "    </tr>\n",
       "    <tr>\n",
       "      <th>12919</th>\n",
       "      <td>200912.0</td>\n",
       "      <td>0</td>\n",
       "      <td>2</td>\n",
       "      <td>0.509025</td>\n",
       "      <td>2010.000000</td>\n",
       "      <td>3</td>\n",
       "    </tr>\n",
       "    <tr>\n",
       "      <th>12925</th>\n",
       "      <td>200912.0</td>\n",
       "      <td>1</td>\n",
       "      <td>3</td>\n",
       "      <td>0.046824</td>\n",
       "      <td>2010.000000</td>\n",
       "      <td>3</td>\n",
       "    </tr>\n",
       "    <tr>\n",
       "      <th>12928</th>\n",
       "      <td>200912.0</td>\n",
       "      <td>1</td>\n",
       "      <td>1</td>\n",
       "      <td>0.020829</td>\n",
       "      <td>2010.000000</td>\n",
       "      <td>3</td>\n",
       "    </tr>\n",
       "    <tr>\n",
       "      <th>12929</th>\n",
       "      <td>200912.0</td>\n",
       "      <td>1</td>\n",
       "      <td>0</td>\n",
       "      <td>0.018209</td>\n",
       "      <td>2010.000000</td>\n",
       "      <td>3</td>\n",
       "    </tr>\n",
       "    <tr>\n",
       "      <th>12930</th>\n",
       "      <td>200912.0</td>\n",
       "      <td>1</td>\n",
       "      <td>2</td>\n",
       "      <td>0.520126</td>\n",
       "      <td>2010.000000</td>\n",
       "      <td>3</td>\n",
       "    </tr>\n",
       "  </tbody>\n",
       "</table>\n",
       "<p>4702 rows × 6 columns</p>\n",
       "</div>"
      ],
      "text/plain": [
       "           Year  Direction  Type of Passenger Movement     VALUE   \n",
       "0      196101.0          0                           3  0.009563  \\\n",
       "3      196101.0          0                           1  0.003459   \n",
       "4      196101.0          0                           0  0.022050   \n",
       "5      196101.0          0                           2  0.008309   \n",
       "11     196101.0          1                           3  0.024560   \n",
       "...         ...        ...                         ...       ...   \n",
       "12919  200912.0          0                           2  0.509025   \n",
       "12925  200912.0          1                           3  0.046824   \n",
       "12928  200912.0          1                           1  0.020829   \n",
       "12929  200912.0          1                           0  0.018209   \n",
       "12930  200912.0          1                           2  0.520126   \n",
       "\n",
       "       decimal_year  Season  \n",
       "0       1961.083333       3  \n",
       "3       1961.083333       3  \n",
       "4       1961.083333       3  \n",
       "5       1961.083333       3  \n",
       "11      1961.083333       3  \n",
       "...             ...     ...  \n",
       "12919   2010.000000       3  \n",
       "12925   2010.000000       3  \n",
       "12928   2010.000000       3  \n",
       "12929   2010.000000       3  \n",
       "12930   2010.000000       3  \n",
       "\n",
       "[4702 rows x 6 columns]"
      ]
     },
     "execution_count": 61,
     "metadata": {},
     "output_type": "execute_result"
    }
   ],
   "source": [
    "passenger_movement_net_df_encoded_label_scaled_minmax.iloc[:,:]"
   ]
  },
  {
   "cell_type": "code",
   "execution_count": 110,
   "id": "1c998694",
   "metadata": {},
   "outputs": [
    {
     "data": {
      "text/plain": [
       "((3291, 4), (3291,), (1411, 4), (1411,))"
      ]
     },
     "execution_count": 110,
     "metadata": {},
     "output_type": "execute_result"
    }
   ],
   "source": [
    "from sklearn.neighbors import KNeighborsClassifier\n",
    "neighbors = np.arange(1, 100)                  # number of neighbors\n",
    "train_accuracy = np.zeros(len(neighbors))    # Declare and initialise the matrix\n",
    "test_accuracy = np.zeros(len(neighbors)) \n",
    "\n",
    "from sklearn.model_selection import train_test_split\n",
    "train_data,test_data,train_label,test_label = train_test_split(passenger_movement_net_df_encoded_label_scaled_minmax.iloc[:, 2:6], #the test \n",
    "                                                                 passenger_movement_net_df_encoded_label_scaled_minmax.iloc[:,1], test_size=0.3, random_state=42)\n",
    "train_data.shape,train_label.shape,test_data.shape,test_label.shape"
   ]
  },
  {
   "cell_type": "code",
   "execution_count": 63,
   "id": "fb2a5c11",
   "metadata": {},
   "outputs": [],
   "source": [
    "for i,k in enumerate(neighbors):                          # for loop that checks the model for neighbor values 1, 2, 3, ..., 9\n",
    "    knn = KNeighborsClassifier(n_neighbors = k)           # Initialise an object knn using KNeighborsClassifier method\n",
    "\n",
    "    #Fit the model\n",
    "    knn.fit(train_data, train_label)                      # Call fit method to implement the ML KNeighborsClassifier model\n",
    "\n",
    "    #Compute accuracy on the training set\n",
    "    train_accuracy[i] = knn.score(train_data, train_label)   # Save the score value in the train_accuracy array\n",
    "\n",
    "    #Compute accuracy on the test set\n",
    "    test_accuracy[i] = knn.score(test_data, test_label)      # Save the score value in the train_accuracy array"
   ]
  },
  {
   "cell_type": "code",
   "execution_count": 64,
   "id": "26878415",
   "metadata": {},
   "outputs": [
    {
     "data": {
      "image/png": "[encoded data removed]",
      "text/plain": [
       "<Figure size 1000x600 with 1 Axes>"
      ]
     },
     "metadata": {},
     "output_type": "display_data"
    }
   ],
   "source": [
    "# Delcare the size of the array\n",
    "plt.figure(figsize = (10, 6))\n",
    "plt.title('KNN accuracy with varying number of neighbors', fontsize = 20)\n",
    "plt.plot(neighbors, test_accuracy, label = 'Testing Accuracy')\n",
    "plt.plot(neighbors, train_accuracy, label = 'Training accuracy')\n",
    "plt.legend(prop = {'size': 20})\n",
    "plt.xlabel('Number of neighbors', fontsize = 20)\n",
    "plt.ylabel('Accuracy', fontsize = 20)\n",
    "plt.xticks(fontsize = 20)\n",
    "plt.yticks(fontsize = 20)\n",
    "plt.savefig('KNN')\n",
    "plt.show()"
   ]
  },
  {
   "cell_type": "code",
   "execution_count": 65,
   "id": "3f178392",
   "metadata": {},
   "outputs": [
    {
     "name": "stdout",
     "output_type": "stream",
     "text": [
      "0.4893681652490887\n"
     ]
    }
   ],
   "source": [
    "# Declare and initialise an object 'KNeighborsClassifier' with 3 neighbors\n",
    "knn = KNeighborsClassifier(n_neighbors = 100)\n",
    "\n",
    "# Fit the model\n",
    "knn.fit(train_data, train_label)\n",
    "\n",
    "# Compute accuracy on the training set\n",
    "train_accuracy = knn.score(train_data, train_label)\n",
    "\n",
    "# Compute accuracy on the test set\n",
    "test_accuracy = knn.score(test_data, test_label)\n",
    "# Display the test accuracy\n",
    "print(test_accuracy)"
   ]
  },
  {
   "cell_type": "code",
   "execution_count": 66,
   "id": "ab9c4521",
   "metadata": {},
   "outputs": [
    {
     "data": {
      "text/plain": [
       "array([[729, 933],\n",
       "       [748, 882]])"
      ]
     },
     "execution_count": 66,
     "metadata": {},
     "output_type": "execute_result"
    }
   ],
   "source": [
    "from sklearn.metrics import confusion_matrix\n",
    "\n",
    "# Predict the results by calling a method 'predict()'\n",
    "prediction = knn.predict(test_data)\n",
    "\n",
    "# Display the confusion matrix - \n",
    "confusion_matrix(test_label, prediction)"
   ]
  },
  {
   "cell_type": "code",
   "execution_count": 67,
   "id": "2269c7ae",
   "metadata": {},
   "outputs": [
    {
     "name": "stdout",
     "output_type": "stream",
     "text": [
      "              precision    recall  f1-score   support\n",
      "\n",
      "           0       0.49      0.44      0.46      1662\n",
      "           1       0.49      0.54      0.51      1630\n",
      "\n",
      "    accuracy                           0.49      3292\n",
      "   macro avg       0.49      0.49      0.49      3292\n",
      "weighted avg       0.49      0.49      0.49      3292\n",
      "\n"
     ]
    }
   ],
   "source": [
    "# import the library classification_report\n",
    "from sklearn.metrics import classification_report\n",
    "\n",
    "# Display the report\n",
    "print(classification_report(test_label, prediction))"
   ]
  },
  {
   "cell_type": "markdown",
   "id": "bddf0899",
   "metadata": {},
   "source": [
    "## Linear Models"
   ]
  },
  {
   "cell_type": "markdown",
   "id": "578fc5fb",
   "metadata": {},
   "source": [
    "### Linear regression"
   ]
  },
  {
   "cell_type": "code",
   "execution_count": 68,
   "id": "b771ee68",
   "metadata": {},
   "outputs": [],
   "source": [
    "class LinearRegressionGD(object):\n",
    "    \n",
    "    def __init__(self, eta = 0.001, n_iter = 20):\n",
    "        self.eta = eta\n",
    "        self.n_iter = n_iter\n",
    "\n",
    "    def fit(self, X, y):\n",
    "        self.w_ = np.zeros(1 + X.shape[1])\n",
    "        self.cost_ = []\n",
    "\n",
    "        for i in range(self.n_iter):\n",
    "            output = self.net_input(X)\n",
    "            errors = (y - output)\n",
    "            self.w_[1:] += self.eta * X.T.dot(errors)\n",
    "            self.w_[0] += self.eta * errors.sum()\n",
    "            cost = (errors**2).sum() / 2.0\n",
    "            self.cost_.append(cost)\n",
    "        return self\n",
    "\n",
    "    def net_input(self, X):\n",
    "        return np.dot(X, self.w_[1:]) + self.w_[0]\n",
    "\n",
    "    def predict(self, X):\n",
    "        return self.net_input(X)"
   ]
  },
  {
   "cell_type": "code",
   "execution_count": 69,
   "id": "100bee7f",
   "metadata": {},
   "outputs": [],
   "source": [
    "departing_by_sea_df\n",
    "departing_by_sea_summer_df = departing_by_sea_df[departing_by_sea_df['Season'].str.contains('Summer')]"
   ]
  },
  {
   "cell_type": "code",
   "execution_count": 70,
   "id": "7b9f1e28",
   "metadata": {},
   "outputs": [
    {
     "data": {
      "text/plain": [
       "((147, 1), (147, 1))"
      ]
     },
     "execution_count": 70,
     "metadata": {},
     "output_type": "execute_result"
    }
   ],
   "source": [
    "X = departing_by_sea_summer_df[['decimal_year']].values\n",
    "y = departing_by_sea_summer_df[['VALUE']].values\n",
    "X.shape, y.shape"
   ]
  },
  {
   "cell_type": "code",
   "execution_count": 71,
   "id": "c285b6d6",
   "metadata": {},
   "outputs": [],
   "source": [
    "from sklearn.preprocessing import MinMaxScaler\n",
    "import sklearn.preprocessing as preproc\n",
    "scaler_x = MinMaxScaler()\n",
    "scaler_y = MinMaxScaler()\n",
    "X_std = scaler_x.fit_transform(X)\n",
    "y_std =  scaler_y.fit_transform(y)"
   ]
  },
  {
   "cell_type": "code",
   "execution_count": 72,
   "id": "4421b3dd",
   "metadata": {},
   "outputs": [
    {
     "data": {
      "text/plain": [
       "((147, 1), (147, 1))"
      ]
     },
     "execution_count": 72,
     "metadata": {},
     "output_type": "execute_result"
    }
   ],
   "source": [
    "# Reshape the (588, 1) to (588,) array for Machine Learning model\n",
    "y_std = np.reshape(y_std, len(y_std))\n",
    "\n",
    "# Display the number of rows and columns\n",
    "X.shape, y.shape"
   ]
  },
  {
   "cell_type": "code",
   "execution_count": 73,
   "id": "d9f855dc",
   "metadata": {},
   "outputs": [
    {
     "data": {
      "text/plain": [
       "<__main__.LinearRegressionGD at 0x175104110>"
      ]
     },
     "execution_count": 73,
     "metadata": {},
     "output_type": "execute_result"
    }
   ],
   "source": [
    "lr = LinearRegressionGD()\n",
    "lr.fit(X_std, y_std)"
   ]
  },
  {
   "cell_type": "code",
   "execution_count": 74,
   "id": "369995d0",
   "metadata": {},
   "outputs": [
    {
     "data": {
      "image/png": "[encoded data removed]",
      "text/plain": [
       "<Figure size 640x480 with 1 Axes>"
      ]
     },
     "metadata": {},
     "output_type": "display_data"
    }
   ],
   "source": [
    "# Draw a plot using linear regression iterations and cost\n",
    "plt.plot(range(1, lr.n_iter + 1), lr.cost_)\n",
    "plt.ylabel('SSE')           # SSE means 'sum of squares error'\n",
    "plt.xlabel('Epoch')         # The number of epochs is a hyperparameter that defines the number times \n",
    "                            # that the learning algorithm will work through the entire training \n",
    "                            # dataset. One epoch means that each sample in the training dataset has \n",
    "                            # had an opportunity to update the internal model parameters. \n",
    "                            # An epoch is comprised of one or more batches.\n",
    "plt.tight_layout()\n",
    "plt.show()"
   ]
  },
  {
   "cell_type": "code",
   "execution_count": 75,
   "id": "37646f83",
   "metadata": {},
   "outputs": [
    {
     "data": {
      "image/png": "[encoded data removed]",
      "text/plain": [
       "<Figure size 640x480 with 1 Axes>"
      ]
     },
     "metadata": {},
     "output_type": "display_data"
    }
   ],
   "source": [
    "# Method or Function for Linear Regression plot\n",
    "def lin_regplot(X, y, model):\n",
    "    plt.scatter(X, y, c = 'blue')\n",
    "    plt.plot(X, model.predict(X), color = 'red', linewidth = 2)    \n",
    "    return\n",
    "# Call the method lin_regplot()\n",
    "\n",
    "lin_regplot(X_std, y_std, lr)\n",
    "plt.xlabel('Year (scaled)')\n",
    "plt.ylabel('No. of visitors(scaled)')\n",
    "plt.tight_layout()\n",
    "#plt.savefig('./figures/gradient_fit.png', dpi=300)\n",
    "plt.show()"
   ]
  },
  {
   "cell_type": "code",
   "execution_count": 76,
   "id": "9220d062",
   "metadata": {},
   "outputs": [
    {
     "name": "stdout",
     "output_type": "stream",
     "text": [
      "Slope: 0.241\n",
      "Intercept: 0.359\n"
     ]
    }
   ],
   "source": [
    "# Display the slope and intercept of the line\n",
    "print('Slope: %.3f' % lr.w_[1])\n",
    "print('Intercept: %.3f' % lr.w_[0])"
   ]
  },
  {
   "cell_type": "code",
   "execution_count": 77,
   "id": "16448ce1",
   "metadata": {},
   "outputs": [
    {
     "name": "stdout",
     "output_type": "stream",
     "text": [
      "Number of passengers: 244556.735\n"
     ]
    }
   ],
   "source": [
    "# Transform the price of a number of the rooms\n",
    "num_rooms_std = scaler_x.transform([[2000]]) \n",
    "\n",
    "# Predicted price based on the number of the rooms\n",
    "price_std = lr.predict(num_rooms_std)\n",
    "\n",
    "# Reshape the price_std array to be 2D\n",
    "price_std_2d = price_std.reshape(-1, 1)\n",
    "\n",
    "# Display the predicted price based on 5.0\n",
    "print(\"Number of passengers: %.3f\" % scaler_y.inverse_transform(price_std_2d))"
   ]
  },
  {
   "cell_type": "code",
   "execution_count": 78,
   "id": "adb4c4ef",
   "metadata": {},
   "outputs": [
    {
     "name": "stdout",
     "output_type": "stream",
     "text": [
      "Slope: 3311.717\n",
      "Intercept: -6358248.315\n"
     ]
    }
   ],
   "source": [
    "# import LinearRegression from sklearn library\n",
    "from sklearn.linear_model import LinearRegression\n",
    "\n",
    "# Initialise an object named as 'slr' by calling a method LinearRegression()\n",
    "slr = LinearRegression()\n",
    "\n",
    "# Train the model\n",
    "slr.fit(X, y)\n",
    "\n",
    "# Predict the results\n",
    "y_pred = slr.predict(X)\n",
    "\n",
    "# Display the Slope and Intercept values\n",
    "print('Slope: %.3f' % slr.coef_[0])\n",
    "print('Intercept: %.3f' % slr.intercept_)"
   ]
  },
  {
   "cell_type": "code",
   "execution_count": 79,
   "id": "18368a58",
   "metadata": {},
   "outputs": [
    {
     "data": {
      "image/png": "[encoded data removed]",
      "text/plain": [
       "<Figure size 640x480 with 1 Axes>"
      ]
     },
     "metadata": {},
     "output_type": "display_data"
    }
   ],
   "source": [
    "# Display the regression plot using lin_regplot() method\n",
    "lin_regplot(X, y, slr)\n",
    "plt.xlabel('Year')\n",
    "plt.ylabel('No. of visitors')\n",
    "plt.tight_layout()\n",
    "plt.show()"
   ]
  },
  {
   "cell_type": "markdown",
   "id": "f2262c22",
   "metadata": {},
   "source": [
    "### Evaluating the performance of linear regression models"
   ]
  },
  {
   "cell_type": "code",
   "execution_count": 80,
   "id": "568896ba",
   "metadata": {},
   "outputs": [
    {
     "data": {
      "text/html": [
       "<div>\n",
       "<style scoped>\n",
       "    .dataframe tbody tr th:only-of-type {\n",
       "        vertical-align: middle;\n",
       "    }\n",
       "\n",
       "    .dataframe tbody tr th {\n",
       "        vertical-align: top;\n",
       "    }\n",
       "\n",
       "    .dataframe thead th {\n",
       "        text-align: right;\n",
       "    }\n",
       "</style>\n",
       "<table border=\"1\" class=\"dataframe\">\n",
       "  <thead>\n",
       "    <tr style=\"text-align: right;\">\n",
       "      <th></th>\n",
       "      <th>Year</th>\n",
       "      <th>Direction</th>\n",
       "      <th>Type of Passenger Movement</th>\n",
       "      <th>VALUE</th>\n",
       "      <th>decimal_year</th>\n",
       "      <th>Season</th>\n",
       "      <th>Dataset</th>\n",
       "    </tr>\n",
       "  </thead>\n",
       "  <tbody>\n",
       "    <tr>\n",
       "      <th>121</th>\n",
       "      <td>196106</td>\n",
       "      <td>Departing Eire</td>\n",
       "      <td>Passenger Movement by Sea to All Countries</td>\n",
       "      <td>70414.0</td>\n",
       "      <td>1961.500000</td>\n",
       "      <td>Summer</td>\n",
       "      <td>departing_by_sea_df</td>\n",
       "    </tr>\n",
       "    <tr>\n",
       "      <th>143</th>\n",
       "      <td>196107</td>\n",
       "      <td>Departing Eire</td>\n",
       "      <td>Passenger Movement by Sea to All Countries</td>\n",
       "      <td>109457.0</td>\n",
       "      <td>1961.583333</td>\n",
       "      <td>Summer</td>\n",
       "      <td>departing_by_sea_df</td>\n",
       "    </tr>\n",
       "    <tr>\n",
       "      <th>165</th>\n",
       "      <td>196108</td>\n",
       "      <td>Departing Eire</td>\n",
       "      <td>Passenger Movement by Sea to All Countries</td>\n",
       "      <td>216724.0</td>\n",
       "      <td>1961.666667</td>\n",
       "      <td>Summer</td>\n",
       "      <td>departing_by_sea_df</td>\n",
       "    </tr>\n",
       "    <tr>\n",
       "      <th>385</th>\n",
       "      <td>196206</td>\n",
       "      <td>Departing Eire</td>\n",
       "      <td>Passenger Movement by Sea to All Countries</td>\n",
       "      <td>76891.0</td>\n",
       "      <td>1962.500000</td>\n",
       "      <td>Summer</td>\n",
       "      <td>departing_by_sea_df</td>\n",
       "    </tr>\n",
       "    <tr>\n",
       "      <th>407</th>\n",
       "      <td>196207</td>\n",
       "      <td>Departing Eire</td>\n",
       "      <td>Passenger Movement by Sea to All Countries</td>\n",
       "      <td>109212.0</td>\n",
       "      <td>1962.583333</td>\n",
       "      <td>Summer</td>\n",
       "      <td>departing_by_sea_df</td>\n",
       "    </tr>\n",
       "    <tr>\n",
       "      <th>...</th>\n",
       "      <td>...</td>\n",
       "      <td>...</td>\n",
       "      <td>...</td>\n",
       "      <td>...</td>\n",
       "      <td>...</td>\n",
       "      <td>...</td>\n",
       "      <td>...</td>\n",
       "    </tr>\n",
       "    <tr>\n",
       "      <th>12551</th>\n",
       "      <td>200807</td>\n",
       "      <td>Departing Eire</td>\n",
       "      <td>Passenger Movement by Sea to All Countries</td>\n",
       "      <td>186710.0</td>\n",
       "      <td>2008.583333</td>\n",
       "      <td>Summer</td>\n",
       "      <td>departing_by_sea_df</td>\n",
       "    </tr>\n",
       "    <tr>\n",
       "      <th>12573</th>\n",
       "      <td>200808</td>\n",
       "      <td>Departing Eire</td>\n",
       "      <td>Passenger Movement by Sea to All Countries</td>\n",
       "      <td>244598.0</td>\n",
       "      <td>2008.666667</td>\n",
       "      <td>Summer</td>\n",
       "      <td>departing_by_sea_df</td>\n",
       "    </tr>\n",
       "    <tr>\n",
       "      <th>12793</th>\n",
       "      <td>200906</td>\n",
       "      <td>Departing Eire</td>\n",
       "      <td>Passenger Movement by Sea to All Countries</td>\n",
       "      <td>143928.0</td>\n",
       "      <td>2009.500000</td>\n",
       "      <td>Summer</td>\n",
       "      <td>departing_by_sea_df</td>\n",
       "    </tr>\n",
       "    <tr>\n",
       "      <th>12815</th>\n",
       "      <td>200907</td>\n",
       "      <td>Departing Eire</td>\n",
       "      <td>Passenger Movement by Sea to All Countries</td>\n",
       "      <td>193828.0</td>\n",
       "      <td>2009.583333</td>\n",
       "      <td>Summer</td>\n",
       "      <td>departing_by_sea_df</td>\n",
       "    </tr>\n",
       "    <tr>\n",
       "      <th>12837</th>\n",
       "      <td>200908</td>\n",
       "      <td>Departing Eire</td>\n",
       "      <td>Passenger Movement by Sea to All Countries</td>\n",
       "      <td>240445.0</td>\n",
       "      <td>2009.666667</td>\n",
       "      <td>Summer</td>\n",
       "      <td>departing_by_sea_df</td>\n",
       "    </tr>\n",
       "  </tbody>\n",
       "</table>\n",
       "<p>147 rows × 7 columns</p>\n",
       "</div>"
      ],
      "text/plain": [
       "         Year       Direction                  Type of Passenger Movement   \n",
       "121    196106  Departing Eire  Passenger Movement by Sea to All Countries  \\\n",
       "143    196107  Departing Eire  Passenger Movement by Sea to All Countries   \n",
       "165    196108  Departing Eire  Passenger Movement by Sea to All Countries   \n",
       "385    196206  Departing Eire  Passenger Movement by Sea to All Countries   \n",
       "407    196207  Departing Eire  Passenger Movement by Sea to All Countries   \n",
       "...       ...             ...                                         ...   \n",
       "12551  200807  Departing Eire  Passenger Movement by Sea to All Countries   \n",
       "12573  200808  Departing Eire  Passenger Movement by Sea to All Countries   \n",
       "12793  200906  Departing Eire  Passenger Movement by Sea to All Countries   \n",
       "12815  200907  Departing Eire  Passenger Movement by Sea to All Countries   \n",
       "12837  200908  Departing Eire  Passenger Movement by Sea to All Countries   \n",
       "\n",
       "          VALUE  decimal_year  Season              Dataset  \n",
       "121     70414.0   1961.500000  Summer  departing_by_sea_df  \n",
       "143    109457.0   1961.583333  Summer  departing_by_sea_df  \n",
       "165    216724.0   1961.666667  Summer  departing_by_sea_df  \n",
       "385     76891.0   1962.500000  Summer  departing_by_sea_df  \n",
       "407    109212.0   1962.583333  Summer  departing_by_sea_df  \n",
       "...         ...           ...     ...                  ...  \n",
       "12551  186710.0   2008.583333  Summer  departing_by_sea_df  \n",
       "12573  244598.0   2008.666667  Summer  departing_by_sea_df  \n",
       "12793  143928.0   2009.500000  Summer  departing_by_sea_df  \n",
       "12815  193828.0   2009.583333  Summer  departing_by_sea_df  \n",
       "12837  240445.0   2009.666667  Summer  departing_by_sea_df  \n",
       "\n",
       "[147 rows x 7 columns]"
      ]
     },
     "execution_count": 80,
     "metadata": {},
     "output_type": "execute_result"
    }
   ],
   "source": [
    "departing_by_sea_summer_df.iloc[:,:]"
   ]
  },
  {
   "cell_type": "code",
   "execution_count": 81,
   "id": "fc1ba577",
   "metadata": {},
   "outputs": [
    {
     "data": {
      "text/plain": [
       "((147, 1), (147, 1), (102, 1), (45, 1), (102, 1), (45, 1))"
      ]
     },
     "execution_count": 81,
     "metadata": {},
     "output_type": "execute_result"
    }
   ],
   "source": [
    "# import train_test_split from the library sklearn\n",
    "from sklearn.model_selection import train_test_split\n",
    "\n",
    "# Declare a variable named as 'X' and 'y'\n",
    "X = departing_by_sea_summer_df.iloc[:, :4:5].values               \n",
    "y = departing_by_sea_summer_df[['VALUE']].values # Target variable\n",
    "X_std = scaler_x.fit_transform(X)\n",
    "y_std =  scaler_y.fit_transform(y)\n",
    "y_std = np.reshape(y_std, len(y_std))\n",
    "\n",
    "# Split the data into 70% and 30% by using a parameter test_size = 30\n",
    "X_train, X_test, y_train, y_test = train_test_split(X, y, test_size = 0.3, random_state = 0)\n",
    "\n",
    "# Display the size of the rows and columns\n",
    "X.shape, y.shape, X_train.shape, X_test.shape, y_train.shape, y_test.shape"
   ]
  },
  {
   "cell_type": "code",
   "execution_count": 82,
   "id": "cc7f4a9c",
   "metadata": {},
   "outputs": [],
   "source": [
    "# Initialise an object slr by calling a method named as 'LinearRegression()'\n",
    "slr = LinearRegression()\n",
    "\n",
    "# Trian the model\n",
    "slr.fit(X_train, y_train)\n",
    "\n",
    "# Predict the results for the training and testing\n",
    "y_train_pred = slr.predict(X_train)\n",
    "y_test_pred = slr.predict(X_test)\n",
    "\n",
    "# Display the values of y_train_pred and y_test_pred\n",
    "# print(y_train_pred, '\\t', y_test_pred)"
   ]
  },
  {
   "cell_type": "code",
   "execution_count": 83,
   "id": "2f02dd78",
   "metadata": {
    "scrolled": true
   },
   "outputs": [
    {
     "name": "stdout",
     "output_type": "stream",
     "text": [
      "[[290239.05524069]\n",
      " [263910.6739951 ]\n",
      " [244197.29853747]\n",
      " [240906.25088177]\n",
      " [204671.81619252]\n",
      " [171761.33963554]\n",
      " [198155.54183424]\n",
      " [231033.10791467]\n",
      " [280398.82275015]\n",
      " [273849.63791531]\n",
      " [267267.54260392]\n",
      " [237648.11370263]\n",
      " [263976.49494822]\n",
      " [191507.62556973]\n",
      " [293530.10289639]\n",
      " [247488.34619317]\n",
      " [152047.9641779 ]\n",
      " [211253.91150392]\n",
      " [250746.48337231]\n",
      " [231066.01839123]\n",
      " [277107.77509445]\n",
      " [155306.10135704]\n",
      " [194831.58370199]\n",
      " [142141.91073425]\n",
      " [270525.67978306]\n",
      " [280365.9122736 ]\n",
      " [145432.95838995]\n",
      " [211319.73245704]\n",
      " [283722.78088241]\n",
      " [152015.05370134]\n",
      " [240873.34040521]\n",
      " [260619.6263394 ]\n",
      " [240939.16135832]\n",
      " [188249.48839059]\n",
      " [148789.82699876]\n",
      " [247521.25666972]\n",
      " [254070.44150456]\n",
      " [181700.30355575]\n",
      " [257328.57868371]\n",
      " [138883.77355511]\n",
      " [250812.30432542]\n",
      " [286980.91806155]\n",
      " [184925.53025833]\n",
      " [142174.82121081]\n",
      " [270558.59025961]\n",
      " [155371.92231016]\n",
      " [178409.25590005]\n",
      " [142207.73168736]\n",
      " [194864.49417854]\n",
      " [290304.87619381]\n",
      " [244164.38806091]\n",
      " [138850.86307855]\n",
      " [175085.29776779]\n",
      " [168503.2024564 ]\n",
      " [198122.63135768]\n",
      " [221127.05447102]\n",
      " [175118.20824435]\n",
      " [161954.01762155]\n",
      " [217901.82776843]\n",
      " [171794.25011209]\n",
      " [257361.48916026]\n",
      " [201380.76853683]\n",
      " [277140.68557101]\n",
      " [208028.68480134]\n",
      " [171827.16058865]\n",
      " [286948.00758499]\n",
      " [152080.87465446]\n",
      " [260685.44729252]\n",
      " [158630.0594893 ]\n",
      " [168536.11293295]\n",
      " [273816.72743876]\n",
      " [191540.53604629]\n",
      " [283689.87040585]\n",
      " [247455.43571661]\n",
      " [227742.06025897]\n",
      " [207995.77432478]\n",
      " [296886.9715052 ]\n",
      " [224451.01260327]\n",
      " [214544.95915962]\n",
      " [277074.8646179 ]\n",
      " [224483.92307983]\n",
      " [263943.58447166]\n",
      " [158662.96996586]\n",
      " [293563.01337295]\n",
      " [217836.00681532]\n",
      " [221192.87542413]\n",
      " [165212.1548007 ]\n",
      " [227709.14978242]\n",
      " [287013.82853811]\n",
      " [290271.96571725]\n",
      " [181634.48260263]\n",
      " [201413.67901338]\n",
      " [234324.15557037]\n",
      " [214577.86963618]\n",
      " [234291.24509381]\n",
      " [178343.43494693]\n",
      " [161888.19666844]\n",
      " [148724.00604565]\n",
      " [250779.39384886]\n",
      " [211286.82198048]\n",
      " [267201.7216508 ]\n",
      " [188282.39886715]] \t [[145465.8688665 ]\n",
      " [165179.24432414]\n",
      " [168470.29197984]\n",
      " [270492.7693065 ]\n",
      " [293595.92384951]\n",
      " [194798.67322543]\n",
      " [184958.44073489]\n",
      " [161921.107145  ]\n",
      " [260652.53681596]\n",
      " [165245.06527725]\n",
      " [181667.39307919]\n",
      " [224418.10212672]\n",
      " [280431.73322671]\n",
      " [204737.63714564]\n",
      " [214610.78011273]\n",
      " [237615.20322607]\n",
      " [155339.0118336 ]\n",
      " [198089.72088113]\n",
      " [244230.20901402]\n",
      " [145498.77934306]\n",
      " [234357.06604693]\n",
      " [178376.34542349]\n",
      " [296854.06102865]\n",
      " [231000.19743812]\n",
      " [267234.63212736]\n",
      " [175052.38729124]\n",
      " [296821.15055209]\n",
      " [237582.29274951]\n",
      " [227774.97073553]\n",
      " [254037.53102801]\n",
      " [221159.96494758]\n",
      " [158597.14901274]\n",
      " [188216.57791403]\n",
      " [191573.44652284]\n",
      " [184991.35121145]\n",
      " [138916.68403166]\n",
      " [207962.86384822]\n",
      " [148756.9165222 ]\n",
      " [283656.95992929]\n",
      " [254103.35198112]\n",
      " [201446.58948994]\n",
      " [257394.39963682]\n",
      " [204704.72666908]\n",
      " [217868.91729188]\n",
      " [273783.8169622 ]]\n"
     ]
    }
   ],
   "source": [
    "# Initialise an object slr by calling a method named as 'LinearRegression()'\n",
    "slr = LinearRegression()\n",
    "\n",
    "# Trian the model\n",
    "slr.fit(X_train, y_train)\n",
    "\n",
    "# Predict the results for the training and testing\n",
    "y_train_pred = slr.predict(X_train)\n",
    "y_test_pred = slr.predict(X_test)\n",
    "\n",
    "# Display the values of y_train_pred and y_test_pred\n",
    "print(y_train_pred, '\\t', y_test_pred)"
   ]
  },
  {
   "cell_type": "code",
   "execution_count": 84,
   "id": "0c645921",
   "metadata": {},
   "outputs": [
    {
     "data": {
      "image/png": "[encoded data removed]",
      "text/plain": [
       "<Figure size 640x480 with 1 Axes>"
      ]
     },
     "metadata": {},
     "output_type": "display_data"
    }
   ],
   "source": [
    "# Display the graph for the training and testing of the data\n",
    "plt.scatter(y_train_pred,  y_train_pred - y_train, c = 'blue', marker = 'o', label = 'Training data')\n",
    "plt.scatter(y_test_pred,  y_test_pred - y_test, c = 'lightgreen', marker = 's', label = 'Test data')\n",
    "plt.xlabel('Predicted values')\n",
    "plt.ylabel('Residuals')\n",
    "plt.legend(loc = 'upper left')\n",
    "plt.hlines(y = 0, xmin = -0, xmax = 500000, lw = 2, color = 'red')\n",
    "plt.xlim([100000, 300000])\n",
    "plt.ylim([-100000, 200000])\n",
    "plt.tight_layout()\n",
    "#why not plotting?\n",
    "# plt.savefig('./figures/slr_residuals.png', dpi=300)\n",
    "plt.show()"
   ]
  },
  {
   "cell_type": "code",
   "execution_count": 85,
   "id": "f43b60a7",
   "metadata": {},
   "outputs": [
    {
     "name": "stdout",
     "output_type": "stream",
     "text": [
      "MSE train: 4996278672.460, test: 6329240970.350\n",
      "R^2 train: 0.306, test: 0.245\n"
     ]
    }
   ],
   "source": [
    "# Calculate the r2_score and mean squared error\n",
    "from sklearn.metrics import r2_score\n",
    "from sklearn.metrics import mean_squared_error\n",
    "\n",
    "# Display the means squared error and r2 score values\n",
    "print('MSE train: %.3f, test: %.3f' % (mean_squared_error(y_train, y_train_pred), mean_squared_error(y_test, y_test_pred)))\n",
    "print('R^2 train: %.3f, test: %.3f' % (r2_score(y_train, y_train_pred), r2_score(y_test, y_test_pred)))"
   ]
  },
  {
   "cell_type": "markdown",
   "id": "7c7b7f05",
   "metadata": {},
   "source": [
    "### Ridge Regression"
   ]
  },
  {
   "cell_type": "code",
   "execution_count": 88,
   "id": "78b4d8dc",
   "metadata": {},
   "outputs": [
    {
     "name": "stdout",
     "output_type": "stream",
     "text": [
      "Training set score: 0.31\n",
      "Test set score: 0.24\n"
     ]
    }
   ],
   "source": [
    "# alpha = 10 is a parameter using a fit() method\n",
    "from sklearn.linear_model import Ridge\n",
    "ridge10 = Ridge(alpha = 100).fit(X_train, y_train)\n",
    "\n",
    "# Display the score values for Ridge function\n",
    "print(\"Training set score: {:.2f}\".format(ridge10.score(X_train, y_train)))\n",
    "print(\"Test set score: {:.2f}\".format(ridge10.score(X_test, y_test)))"
   ]
  },
  {
   "cell_type": "code",
   "execution_count": 90,
   "id": "3c370cf9",
   "metadata": {},
   "outputs": [
    {
     "name": "stdout",
     "output_type": "stream",
     "text": [
      "Training set score: 0.31\n",
      "Test set score: 0.24\n"
     ]
    }
   ],
   "source": [
    "# alpha = 0.1 is a parameter using a fit() method\n",
    "ridge01 = Ridge(alpha = 0.1).fit(X_train, y_train)\n",
    "\n",
    "# Display the score values for Ridge function\n",
    "print(\"Training set score: {:.2f}\".format(ridge01.score(X_train, y_train)))\n",
    "print(\"Test set score: {:.2f}\".format(ridge01.score(X_test, y_test)))"
   ]
  },
  {
   "cell_type": "markdown",
   "id": "09eefa9a",
   "metadata": {},
   "source": [
    "### Lasso Regression"
   ]
  },
  {
   "cell_type": "code",
   "execution_count": 91,
   "id": "d16a4787",
   "metadata": {},
   "outputs": [
    {
     "name": "stdout",
     "output_type": "stream",
     "text": [
      "Training set score: 0.31\n",
      "Test set score: 0.24\n",
      "Number of features used: 1\n"
     ]
    }
   ],
   "source": [
    "from sklearn.linear_model import Lasso\n",
    "lasso = Lasso().fit(X_train, y_train)\n",
    "print(\"Training set score: {:.2f}\".format(lasso.score(X_train, y_train)))\n",
    "print(\"Test set score: {:.2f}\".format(lasso.score(X_test, y_test)))\n",
    "print(\"Number of features used: {}\".format(np.sum(lasso.coef_ != 0)))"
   ]
  },
  {
   "cell_type": "code",
   "execution_count": 92,
   "id": "b09e2997",
   "metadata": {},
   "outputs": [
    {
     "name": "stdout",
     "output_type": "stream",
     "text": [
      "Training set score: 0.31\n",
      "Test set score: 0.24\n",
      "Number of features used: 1\n"
     ]
    }
   ],
   "source": [
    "# we increase the default setting of \"max_iter\",\n",
    "# otherwise the model would warn us that we should increase max_iter.\n",
    "lasso001 = Lasso(alpha=0.01).fit(X_train, y_train)\n",
    "print(\"Training set score: {:.2f}\".format(lasso001.score(X_train, y_train)))\n",
    "print(\"Test set score: {:.2f}\".format(lasso001.score(X_test, y_test)))\n",
    "print(\"Number of features used: {}\".format(np.sum(lasso001.coef_ != 0)))"
   ]
  },
  {
   "cell_type": "code",
   "execution_count": 93,
   "id": "f313d15a",
   "metadata": {},
   "outputs": [
    {
     "name": "stdout",
     "output_type": "stream",
     "text": [
      "Training set score: 0.31\n",
      "Test set score: 0.24\n",
      "Number of features used: 1\n"
     ]
    }
   ],
   "source": [
    "lasso00001 = Lasso(alpha=0.0001).fit(X_train, y_train)\n",
    "print(\"Training set score: {:.2f}\".format(lasso00001.score(X_train, y_train)))\n",
    "print(\"Test set score: {:.2f}\".format(lasso00001.score(X_test, y_test)))\n",
    "print(\"Number of features used: {}\".format(np.sum(lasso00001.coef_ != 0)))"
   ]
  },
  {
   "cell_type": "markdown",
   "id": "5737d81d",
   "metadata": {},
   "source": [
    "### ElasticNet"
   ]
  },
  {
   "cell_type": "code",
   "execution_count": 94,
   "id": "dd689fe2",
   "metadata": {},
   "outputs": [
    {
     "name": "stdout",
     "output_type": "stream",
     "text": [
      "Mean Squared Error on test set 10435206624.673388\n"
     ]
    }
   ],
   "source": [
    "# Load library for the ElasticNet\n",
    "from sklearn.linear_model import ElasticNet\n",
    "\n",
    "# Train the model\n",
    "e_net = ElasticNet(alpha = 1)\n",
    "\n",
    "e_net.fit(X_train, y_train)\n",
    "\n",
    "# Calculate the prediction and mean square error\n",
    "y_pred_elastic = e_net.predict(X_test)\n",
    "\n",
    "# Calculate the mean_square_error\n",
    "mean_squared_error = np.mean((y_pred_elastic - y_test)**2)\n",
    "\n",
    "# Display the mean square error\n",
    "print(\"Mean Squared Error on test set\", mean_squared_error)"
   ]
  },
  {
   "cell_type": "code",
   "execution_count": 95,
   "id": "2b21b904",
   "metadata": {},
   "outputs": [
    {
     "name": "stdout",
     "output_type": "stream",
     "text": [
      "[32.91046824] [-6315089.40070925]\n"
     ]
    }
   ],
   "source": [
    "print(e_net.coef_, e_net.intercept_)"
   ]
  },
  {
   "cell_type": "markdown",
   "id": "758bd16c",
   "metadata": {},
   "source": [
    "### Naive Bayes"
   ]
  },
  {
   "cell_type": "code",
   "execution_count": 96,
   "id": "e4f9bf9f",
   "metadata": {},
   "outputs": [
    {
     "data": {
      "text/html": [
       "<div>\n",
       "<style scoped>\n",
       "    .dataframe tbody tr th:only-of-type {\n",
       "        vertical-align: middle;\n",
       "    }\n",
       "\n",
       "    .dataframe tbody tr th {\n",
       "        vertical-align: top;\n",
       "    }\n",
       "\n",
       "    .dataframe thead th {\n",
       "        text-align: right;\n",
       "    }\n",
       "</style>\n",
       "<table border=\"1\" class=\"dataframe\">\n",
       "  <thead>\n",
       "    <tr style=\"text-align: right;\">\n",
       "      <th></th>\n",
       "      <th>Year</th>\n",
       "      <th>Direction</th>\n",
       "      <th>Type of Passenger Movement</th>\n",
       "      <th>VALUE</th>\n",
       "      <th>decimal_year</th>\n",
       "      <th>Season</th>\n",
       "    </tr>\n",
       "  </thead>\n",
       "  <tbody>\n",
       "    <tr>\n",
       "      <th>0</th>\n",
       "      <td>196101.0</td>\n",
       "      <td>0</td>\n",
       "      <td>3</td>\n",
       "      <td>0.009563</td>\n",
       "      <td>1961.083333</td>\n",
       "      <td>3</td>\n",
       "    </tr>\n",
       "    <tr>\n",
       "      <th>3</th>\n",
       "      <td>196101.0</td>\n",
       "      <td>0</td>\n",
       "      <td>1</td>\n",
       "      <td>0.003459</td>\n",
       "      <td>1961.083333</td>\n",
       "      <td>3</td>\n",
       "    </tr>\n",
       "    <tr>\n",
       "      <th>4</th>\n",
       "      <td>196101.0</td>\n",
       "      <td>0</td>\n",
       "      <td>0</td>\n",
       "      <td>0.022050</td>\n",
       "      <td>1961.083333</td>\n",
       "      <td>3</td>\n",
       "    </tr>\n",
       "    <tr>\n",
       "      <th>5</th>\n",
       "      <td>196101.0</td>\n",
       "      <td>0</td>\n",
       "      <td>2</td>\n",
       "      <td>0.008309</td>\n",
       "      <td>1961.083333</td>\n",
       "      <td>3</td>\n",
       "    </tr>\n",
       "    <tr>\n",
       "      <th>11</th>\n",
       "      <td>196101.0</td>\n",
       "      <td>1</td>\n",
       "      <td>3</td>\n",
       "      <td>0.024560</td>\n",
       "      <td>1961.083333</td>\n",
       "      <td>3</td>\n",
       "    </tr>\n",
       "    <tr>\n",
       "      <th>...</th>\n",
       "      <td>...</td>\n",
       "      <td>...</td>\n",
       "      <td>...</td>\n",
       "      <td>...</td>\n",
       "      <td>...</td>\n",
       "      <td>...</td>\n",
       "    </tr>\n",
       "    <tr>\n",
       "      <th>12919</th>\n",
       "      <td>200912.0</td>\n",
       "      <td>0</td>\n",
       "      <td>2</td>\n",
       "      <td>0.509025</td>\n",
       "      <td>2010.000000</td>\n",
       "      <td>3</td>\n",
       "    </tr>\n",
       "    <tr>\n",
       "      <th>12925</th>\n",
       "      <td>200912.0</td>\n",
       "      <td>1</td>\n",
       "      <td>3</td>\n",
       "      <td>0.046824</td>\n",
       "      <td>2010.000000</td>\n",
       "      <td>3</td>\n",
       "    </tr>\n",
       "    <tr>\n",
       "      <th>12928</th>\n",
       "      <td>200912.0</td>\n",
       "      <td>1</td>\n",
       "      <td>1</td>\n",
       "      <td>0.020829</td>\n",
       "      <td>2010.000000</td>\n",
       "      <td>3</td>\n",
       "    </tr>\n",
       "    <tr>\n",
       "      <th>12929</th>\n",
       "      <td>200912.0</td>\n",
       "      <td>1</td>\n",
       "      <td>0</td>\n",
       "      <td>0.018209</td>\n",
       "      <td>2010.000000</td>\n",
       "      <td>3</td>\n",
       "    </tr>\n",
       "    <tr>\n",
       "      <th>12930</th>\n",
       "      <td>200912.0</td>\n",
       "      <td>1</td>\n",
       "      <td>2</td>\n",
       "      <td>0.520126</td>\n",
       "      <td>2010.000000</td>\n",
       "      <td>3</td>\n",
       "    </tr>\n",
       "  </tbody>\n",
       "</table>\n",
       "<p>4702 rows × 6 columns</p>\n",
       "</div>"
      ],
      "text/plain": [
       "           Year  Direction  Type of Passenger Movement     VALUE   \n",
       "0      196101.0          0                           3  0.009563  \\\n",
       "3      196101.0          0                           1  0.003459   \n",
       "4      196101.0          0                           0  0.022050   \n",
       "5      196101.0          0                           2  0.008309   \n",
       "11     196101.0          1                           3  0.024560   \n",
       "...         ...        ...                         ...       ...   \n",
       "12919  200912.0          0                           2  0.509025   \n",
       "12925  200912.0          1                           3  0.046824   \n",
       "12928  200912.0          1                           1  0.020829   \n",
       "12929  200912.0          1                           0  0.018209   \n",
       "12930  200912.0          1                           2  0.520126   \n",
       "\n",
       "       decimal_year  Season  \n",
       "0       1961.083333       3  \n",
       "3       1961.083333       3  \n",
       "4       1961.083333       3  \n",
       "5       1961.083333       3  \n",
       "11      1961.083333       3  \n",
       "...             ...     ...  \n",
       "12919   2010.000000       3  \n",
       "12925   2010.000000       3  \n",
       "12928   2010.000000       3  \n",
       "12929   2010.000000       3  \n",
       "12930   2010.000000       3  \n",
       "\n",
       "[4702 rows x 6 columns]"
      ]
     },
     "execution_count": 96,
     "metadata": {},
     "output_type": "execute_result"
    }
   ],
   "source": [
    "passenger_movement_net_df_encoded_label_scaled_minmax.iloc[:,]"
   ]
  },
  {
   "cell_type": "code",
   "execution_count": 97,
   "id": "7e0d157e",
   "metadata": {},
   "outputs": [],
   "source": [
    "X = passenger_movement_net_df_encoded_label_scaled_minmax.iloc[:,[5,2,3,4]].values\n",
    "y = passenger_movement_net_df_encoded_label_scaled_minmax.iloc[:,1].values"
   ]
  },
  {
   "cell_type": "code",
   "execution_count": 98,
   "id": "63ff2337",
   "metadata": {},
   "outputs": [
    {
     "data": {
      "text/plain": [
       "((4702, 4), (4702,), (3291, 4), (3291,), (1411, 4), (1411,))"
      ]
     },
     "execution_count": 98,
     "metadata": {},
     "output_type": "execute_result"
    }
   ],
   "source": [
    "# Splitting the dataset into the Training set and Test set\n",
    "X_train, X_test, y_train, y_test = train_test_split(X, y, test_size = 0.30, random_state = 82)\n",
    "\n",
    "# Display the rows and coulmns of X, y, X_train, y_train, X_test, y_test\n",
    "X.shape, y.shape, X_train.shape, y_train.shape, X_test.shape, y_test.shape"
   ]
  },
  {
   "cell_type": "code",
   "execution_count": 99,
   "id": "84fb67a8",
   "metadata": {},
   "outputs": [
    {
     "data": {
      "text/html": [
       "<style>#sk-container-id-1 {color: black;}#sk-container-id-1 pre{padding: 0;}#sk-container-id-1 div.sk-toggleable {background-color: white;}#sk-container-id-1 label.sk-toggleable__label {cursor: pointer;display: block;width: 100%;margin-bottom: 0;padding: 0.3em;box-sizing: border-box;text-align: center;}#sk-container-id-1 label.sk-toggleable__label-arrow:before {content: \"▸\";float: left;margin-right: 0.25em;color: #696969;}#sk-container-id-1 label.sk-toggleable__label-arrow:hover:before {color: black;}#sk-container-id-1 div.sk-estimator:hover label.sk-toggleable__label-arrow:before {color: black;}#sk-container-id-1 div.sk-toggleable__content {max-height: 0;max-width: 0;overflow: hidden;text-align: left;background-color: #f0f8ff;}#sk-container-id-1 div.sk-toggleable__content pre {margin: 0.2em;color: black;border-radius: 0.25em;background-color: #f0f8ff;}#sk-container-id-1 input.sk-toggleable__control:checked~div.sk-toggleable__content {max-height: 200px;max-width: 100%;overflow: auto;}#sk-container-id-1 input.sk-toggleable__control:checked~label.sk-toggleable__label-arrow:before {content: \"▾\";}#sk-container-id-1 div.sk-estimator input.sk-toggleable__control:checked~label.sk-toggleable__label {background-color: #d4ebff;}#sk-container-id-1 div.sk-label input.sk-toggleable__control:checked~label.sk-toggleable__label {background-color: #d4ebff;}#sk-container-id-1 input.sk-hidden--visually {border: 0;clip: rect(1px 1px 1px 1px);clip: rect(1px, 1px, 1px, 1px);height: 1px;margin: -1px;overflow: hidden;padding: 0;position: absolute;width: 1px;}#sk-container-id-1 div.sk-estimator {font-family: monospace;background-color: #f0f8ff;border: 1px dotted black;border-radius: 0.25em;box-sizing: border-box;margin-bottom: 0.5em;}#sk-container-id-1 div.sk-estimator:hover {background-color: #d4ebff;}#sk-container-id-1 div.sk-parallel-item::after {content: \"\";width: 100%;border-bottom: 1px solid gray;flex-grow: 1;}#sk-container-id-1 div.sk-label:hover label.sk-toggleable__label {background-color: #d4ebff;}#sk-container-id-1 div.sk-serial::before {content: \"\";position: absolute;border-left: 1px solid gray;box-sizing: border-box;top: 0;bottom: 0;left: 50%;z-index: 0;}#sk-container-id-1 div.sk-serial {display: flex;flex-direction: column;align-items: center;background-color: white;padding-right: 0.2em;padding-left: 0.2em;position: relative;}#sk-container-id-1 div.sk-item {position: relative;z-index: 1;}#sk-container-id-1 div.sk-parallel {display: flex;align-items: stretch;justify-content: center;background-color: white;position: relative;}#sk-container-id-1 div.sk-item::before, #sk-container-id-1 div.sk-parallel-item::before {content: \"\";position: absolute;border-left: 1px solid gray;box-sizing: border-box;top: 0;bottom: 0;left: 50%;z-index: -1;}#sk-container-id-1 div.sk-parallel-item {display: flex;flex-direction: column;z-index: 1;position: relative;background-color: white;}#sk-container-id-1 div.sk-parallel-item:first-child::after {align-self: flex-end;width: 50%;}#sk-container-id-1 div.sk-parallel-item:last-child::after {align-self: flex-start;width: 50%;}#sk-container-id-1 div.sk-parallel-item:only-child::after {width: 0;}#sk-container-id-1 div.sk-dashed-wrapped {border: 1px dashed gray;margin: 0 0.4em 0.5em 0.4em;box-sizing: border-box;padding-bottom: 0.4em;background-color: white;}#sk-container-id-1 div.sk-label label {font-family: monospace;font-weight: bold;display: inline-block;line-height: 1.2em;}#sk-container-id-1 div.sk-label-container {text-align: center;}#sk-container-id-1 div.sk-container {/* jupyter's `normalize.less` sets `[hidden] { display: none; }` but bootstrap.min.css set `[hidden] { display: none !important; }` so we also need the `!important` here to be able to override the default hidden behavior on the sphinx rendered scikit-learn.org. See: https://github.com/scikit-learn/scikit-learn/issues/21755 */display: inline-block !important;position: relative;}#sk-container-id-1 div.sk-text-repr-fallback {display: none;}</style><div id=\"sk-container-id-1\" class=\"sk-top-container\"><div class=\"sk-text-repr-fallback\"><pre>GaussianNB()</pre><b>In a Jupyter environment, please rerun this cell to show the HTML representation or trust the notebook. <br />On GitHub, the HTML representation is unable to render, please try loading this page with nbviewer.org.</b></div><div class=\"sk-container\" hidden><div class=\"sk-item\"><div class=\"sk-estimator sk-toggleable\"><input class=\"sk-toggleable__control sk-hidden--visually\" id=\"sk-estimator-id-1\" type=\"checkbox\" checked><label for=\"sk-estimator-id-1\" class=\"sk-toggleable__label sk-toggleable__label-arrow\">GaussianNB</label><div class=\"sk-toggleable__content\"><pre>GaussianNB()</pre></div></div></div></div></div>"
      ],
      "text/plain": [
       "GaussianNB()"
      ]
     },
     "execution_count": 99,
     "metadata": {},
     "output_type": "execute_result"
    }
   ],
   "source": [
    "# Fitting Naive Bayes Classification to the Training set with linear kernel\n",
    "from sklearn.naive_bayes import GaussianNB\n",
    "\n",
    "# Create and initialise an object sc by calling a method GaussianNB()\n",
    "nvclassifier = GaussianNB()\n",
    "\n",
    "# Train the model by calling a method fit()\n",
    "nvclassifier.fit(X_train, y_train)"
   ]
  },
  {
   "cell_type": "code",
   "execution_count": 100,
   "id": "a66d6db3",
   "metadata": {},
   "outputs": [
    {
     "name": "stdout",
     "output_type": "stream",
     "text": [
      "[1 1 1 ... 1 0 1]\n"
     ]
    }
   ],
   "source": [
    "# Predicting the Test set results\n",
    "y_pred = nvclassifier.predict(X_test)\n",
    "\n",
    "# Display the predicted values\n",
    "print(y_pred)"
   ]
  },
  {
   "cell_type": "code",
   "execution_count": 101,
   "id": "a1aead20",
   "metadata": {},
   "outputs": [
    {
     "data": {
      "text/plain": [
       "array([[1, 1],\n",
       "       [0, 1],\n",
       "       [0, 1],\n",
       "       [0, 1],\n",
       "       [0, 1],\n",
       "       [1, 0],\n",
       "       [1, 1],\n",
       "       [0, 1],\n",
       "       [1, 1],\n",
       "       [0, 1]])"
      ]
     },
     "execution_count": 101,
     "metadata": {},
     "output_type": "execute_result"
    }
   ],
   "source": [
    "# Check the actual and predicted value side by side\n",
    "y_compare = np.vstack((y_test, y_pred)).T\n",
    "# actual value on the left side and predicted value on the right hand side\n",
    "# printing the top 10 values\n",
    "y_compare[:10, :]"
   ]
  },
  {
   "cell_type": "code",
   "execution_count": 102,
   "id": "07278a8b",
   "metadata": {},
   "outputs": [
    {
     "name": "stdout",
     "output_type": "stream",
     "text": [
      "[[115 598]\n",
      " [131 567]]\n"
     ]
    }
   ],
   "source": [
    "# Construct the Confusion Matrix\n",
    "from sklearn.metrics import confusion_matrix\n",
    "cm = confusion_matrix(y_test, y_pred)\n",
    "print(cm)"
   ]
  },
  {
   "cell_type": "code",
   "execution_count": 103,
   "id": "65f9e1b2",
   "metadata": {},
   "outputs": [
    {
     "name": "stdout",
     "output_type": "stream",
     "text": [
      "Accuracy: 0.4833451452870305\n",
      "Accuracy: 0.48\n"
     ]
    }
   ],
   "source": [
    "# Import scikit-learn metrics module for accuracy calculation\n",
    "from sklearn import metrics\n",
    "\n",
    "# Model Accuracy, how often is the classifier correct?\n",
    "print(\"Accuracy:\",metrics.accuracy_score(y_test, y_pred))\n",
    "\n",
    "# Rounded upto 2 decimal places\n",
    "print( \"Accuracy: {:.2f}\".format(metrics.accuracy_score(y_test, y_pred)) )"
   ]
  },
  {
   "cell_type": "code",
   "execution_count": 104,
   "id": "6194452c",
   "metadata": {},
   "outputs": [
    {
     "data": {
      "text/plain": [
       "0.4957446808510638"
      ]
     },
     "execution_count": 104,
     "metadata": {},
     "output_type": "execute_result"
    }
   ],
   "source": [
    "from sklearn.model_selection import cross_val_score\n",
    "nvclassifier = GaussianNB()\n",
    "cross_val_score(nvclassifier, X, y, scoring='accuracy', cv = 20).mean()"
   ]
  },
  {
   "cell_type": "markdown",
   "id": "c7192151",
   "metadata": {},
   "source": [
    "### Support Vector Machine"
   ]
  },
  {
   "cell_type": "code",
   "execution_count": 105,
   "id": "0a969bf2",
   "metadata": {},
   "outputs": [],
   "source": [
    "import pandas as pd\n",
    "import numpy as np\n",
    "from sklearn.svm import SVC\n",
    "from sklearn.metrics import accuracy_score\n",
    "from sklearn.preprocessing import StandardScaler"
   ]
  },
  {
   "cell_type": "code",
   "execution_count": 106,
   "id": "d2f4a633",
   "metadata": {},
   "outputs": [],
   "source": [
    "from sklearn.model_selection import train_test_split\n",
    "\n",
    "# Split the dataset into training and testing parts\n",
    "X_train, X_test, y_train, y_test = train_test_split(X, y, test_size = 0.3, random_state = 0)"
   ]
  },
  {
   "cell_type": "code",
   "execution_count": 107,
   "id": "c42243f2",
   "metadata": {},
   "outputs": [
    {
     "name": "stdout",
     "output_type": "stream",
     "text": [
      "Accuracy in SVC =  48.41\n"
     ]
    }
   ],
   "source": [
    "# Create an object svmModel by calling a method SVC()\n",
    "svmModel = SVC(kernel = 'rbf',C = 0.1, gamma = 1) #experiment with C\n",
    "\n",
    "# C: The C parameter controls the trade-off between maximizing the margin and minimizing the classification error. A smaller value of C leads to a wider margin but may result in more misclassifications on the training data. A larger value of C allows the model to have a smaller margin but may reduce the number of misclassifications on the training data.\n",
    "# gamma: The gamma parameter controls the influence of a single training example, with high values meaning 'far' and low values meaning 'close'. A smaller value of gamma leads to a smoother decision boundary and can prevent overfitting by making the model less sensitive to the individual data points.\n",
    "\n",
    "# Train the model by calling a method fit()\n",
    "svmModel.fit(X_train,y_train)\n",
    "\n",
    "# Store the predicted values into y_pred\n",
    "Y_pred = svmModel.predict(X_test)\n",
    "\n",
    "# Display the accuracy upto 2 decimal places\n",
    "print('Accuracy in SVC = ', round(accuracy_score(y_test, Y_pred)*100,2))\n"
   ]
  },
  {
   "cell_type": "code",
   "execution_count": 108,
   "id": "5ceec61a",
   "metadata": {},
   "outputs": [
    {
     "name": "stdout",
     "output_type": "stream",
     "text": [
      "Fitting 5 folds for each of 25 candidates, totalling 125 fits\n",
      "[CV 1/5] END ........C=0.1, gamma=1, kernel=rbf;, score=0.507 total time=   0.3s\n",
      "[CV 2/5] END ........C=0.1, gamma=1, kernel=rbf;, score=0.508 total time=   0.3s\n",
      "[CV 3/5] END ........C=0.1, gamma=1, kernel=rbf;, score=0.508 total time=   0.3s\n",
      "[CV 4/5] END ........C=0.1, gamma=1, kernel=rbf;, score=0.506 total time=   0.3s\n",
      "[CV 5/5] END ........C=0.1, gamma=1, kernel=rbf;, score=0.506 total time=   0.3s\n",
      "[CV 1/5] END ......C=0.1, gamma=0.1, kernel=rbf;, score=0.489 total time=   0.4s\n",
      "[CV 2/5] END ......C=0.1, gamma=0.1, kernel=rbf;, score=0.506 total time=   0.3s\n",
      "[CV 3/5] END ......C=0.1, gamma=0.1, kernel=rbf;, score=0.505 total time=   0.3s\n",
      "[CV 4/5] END ......C=0.1, gamma=0.1, kernel=rbf;, score=0.483 total time=   0.3s\n",
      "[CV 5/5] END ......C=0.1, gamma=0.1, kernel=rbf;, score=0.494 total time=   0.3s\n",
      "[CV 1/5] END .....C=0.1, gamma=0.01, kernel=rbf;, score=0.484 total time=   0.3s\n",
      "[CV 2/5] END .....C=0.1, gamma=0.01, kernel=rbf;, score=0.508 total time=   0.3s\n",
      "[CV 3/5] END .....C=0.1, gamma=0.01, kernel=rbf;, score=0.508 total time=   0.3s\n",
      "[CV 4/5] END .....C=0.1, gamma=0.01, kernel=rbf;, score=0.482 total time=   0.3s\n",
      "[CV 5/5] END .....C=0.1, gamma=0.01, kernel=rbf;, score=0.506 total time=   0.3s\n",
      "[CV 1/5] END ....C=0.1, gamma=0.001, kernel=rbf;, score=0.507 total time=   0.3s\n",
      "[CV 2/5] END ....C=0.1, gamma=0.001, kernel=rbf;, score=0.508 total time=   0.3s\n",
      "[CV 3/5] END ....C=0.1, gamma=0.001, kernel=rbf;, score=0.508 total time=   0.3s\n",
      "[CV 4/5] END ....C=0.1, gamma=0.001, kernel=rbf;, score=0.506 total time=   0.3s\n",
      "[CV 5/5] END ....C=0.1, gamma=0.001, kernel=rbf;, score=0.506 total time=   0.3s\n",
      "[CV 1/5] END ....C=0.1, gamma=0.001, kernel=rbf;, score=0.507 total time=   0.3s\n",
      "[CV 2/5] END ....C=0.1, gamma=0.001, kernel=rbf;, score=0.508 total time=   0.3s\n",
      "[CV 3/5] END ....C=0.1, gamma=0.001, kernel=rbf;, score=0.508 total time=   0.3s\n",
      "[CV 4/5] END ....C=0.1, gamma=0.001, kernel=rbf;, score=0.506 total time=   0.3s\n",
      "[CV 5/5] END ....C=0.1, gamma=0.001, kernel=rbf;, score=0.506 total time=   0.3s\n",
      "[CV 1/5] END ..........C=1, gamma=1, kernel=rbf;, score=0.319 total time=   0.4s\n",
      "[CV 2/5] END ..........C=1, gamma=1, kernel=rbf;, score=0.330 total time=   0.4s\n",
      "[CV 3/5] END ..........C=1, gamma=1, kernel=rbf;, score=0.330 total time=   0.4s\n",
      "[CV 4/5] END ..........C=1, gamma=1, kernel=rbf;, score=0.318 total time=   0.4s\n",
      "[CV 5/5] END ..........C=1, gamma=1, kernel=rbf;, score=0.348 total time=   0.3s\n",
      "[CV 1/5] END ........C=1, gamma=0.1, kernel=rbf;, score=0.460 total time=   0.3s\n",
      "[CV 2/5] END ........C=1, gamma=0.1, kernel=rbf;, score=0.471 total time=   0.3s\n",
      "[CV 3/5] END ........C=1, gamma=0.1, kernel=rbf;, score=0.467 total time=   0.3s\n",
      "[CV 4/5] END ........C=1, gamma=0.1, kernel=rbf;, score=0.470 total time=   0.3s\n",
      "[CV 5/5] END ........C=1, gamma=0.1, kernel=rbf;, score=0.464 total time=   0.3s\n",
      "[CV 1/5] END .......C=1, gamma=0.01, kernel=rbf;, score=0.487 total time=   0.3s\n",
      "[CV 2/5] END .......C=1, gamma=0.01, kernel=rbf;, score=0.489 total time=   0.3s\n",
      "[CV 3/5] END .......C=1, gamma=0.01, kernel=rbf;, score=0.509 total time=   0.3s\n",
      "[CV 4/5] END .......C=1, gamma=0.01, kernel=rbf;, score=0.477 total time=   0.3s\n",
      "[CV 5/5] END .......C=1, gamma=0.01, kernel=rbf;, score=0.485 total time=   0.3s\n",
      "[CV 1/5] END ......C=1, gamma=0.001, kernel=rbf;, score=0.507 total time=   0.3s\n",
      "[CV 2/5] END ......C=1, gamma=0.001, kernel=rbf;, score=0.508 total time=   0.3s\n",
      "[CV 3/5] END ......C=1, gamma=0.001, kernel=rbf;, score=0.508 total time=   0.3s\n",
      "[CV 4/5] END ......C=1, gamma=0.001, kernel=rbf;, score=0.506 total time=   0.3s\n",
      "[CV 5/5] END ......C=1, gamma=0.001, kernel=rbf;, score=0.506 total time=   0.3s\n",
      "[CV 1/5] END ......C=1, gamma=0.001, kernel=rbf;, score=0.507 total time=   0.3s\n",
      "[CV 2/5] END ......C=1, gamma=0.001, kernel=rbf;, score=0.508 total time=   0.3s\n",
      "[CV 3/5] END ......C=1, gamma=0.001, kernel=rbf;, score=0.508 total time=   0.3s\n",
      "[CV 4/5] END ......C=1, gamma=0.001, kernel=rbf;, score=0.506 total time=   0.3s\n",
      "[CV 5/5] END ......C=1, gamma=0.001, kernel=rbf;, score=0.506 total time=   0.3s\n",
      "[CV 1/5] END .........C=10, gamma=1, kernel=rbf;, score=0.299 total time=   0.4s\n",
      "[CV 2/5] END .........C=10, gamma=1, kernel=rbf;, score=0.304 total time=   0.4s\n",
      "[CV 3/5] END .........C=10, gamma=1, kernel=rbf;, score=0.325 total time=   0.4s\n",
      "[CV 4/5] END .........C=10, gamma=1, kernel=rbf;, score=0.305 total time=   0.4s\n",
      "[CV 5/5] END .........C=10, gamma=1, kernel=rbf;, score=0.336 total time=   0.4s\n",
      "[CV 1/5] END .......C=10, gamma=0.1, kernel=rbf;, score=0.419 total time=   0.3s\n",
      "[CV 2/5] END .......C=10, gamma=0.1, kernel=rbf;, score=0.451 total time=   0.3s\n",
      "[CV 3/5] END .......C=10, gamma=0.1, kernel=rbf;, score=0.448 total time=   0.3s\n",
      "[CV 4/5] END .......C=10, gamma=0.1, kernel=rbf;, score=0.407 total time=   0.3s\n",
      "[CV 5/5] END .......C=10, gamma=0.1, kernel=rbf;, score=0.439 total time=   0.3s\n",
      "[CV 1/5] END ......C=10, gamma=0.01, kernel=rbf;, score=0.481 total time=   0.3s\n",
      "[CV 2/5] END ......C=10, gamma=0.01, kernel=rbf;, score=0.489 total time=   0.3s\n",
      "[CV 3/5] END ......C=10, gamma=0.01, kernel=rbf;, score=0.494 total time=   0.3s\n",
      "[CV 4/5] END ......C=10, gamma=0.01, kernel=rbf;, score=0.494 total time=   0.3s\n",
      "[CV 5/5] END ......C=10, gamma=0.01, kernel=rbf;, score=0.489 total time=   0.3s\n",
      "[CV 1/5] END .....C=10, gamma=0.001, kernel=rbf;, score=0.480 total time=   0.3s\n",
      "[CV 2/5] END .....C=10, gamma=0.001, kernel=rbf;, score=0.474 total time=   0.3s\n",
      "[CV 3/5] END .....C=10, gamma=0.001, kernel=rbf;, score=0.509 total time=   0.3s\n",
      "[CV 4/5] END .....C=10, gamma=0.001, kernel=rbf;, score=0.488 total time=   0.3s\n",
      "[CV 5/5] END .....C=10, gamma=0.001, kernel=rbf;, score=0.514 total time=   0.3s\n",
      "[CV 1/5] END .....C=10, gamma=0.001, kernel=rbf;, score=0.480 total time=   0.3s\n",
      "[CV 2/5] END .....C=10, gamma=0.001, kernel=rbf;, score=0.474 total time=   0.4s\n",
      "[CV 3/5] END .....C=10, gamma=0.001, kernel=rbf;, score=0.509 total time=   0.4s\n",
      "[CV 4/5] END .....C=10, gamma=0.001, kernel=rbf;, score=0.488 total time=   0.3s\n",
      "[CV 5/5] END .....C=10, gamma=0.001, kernel=rbf;, score=0.514 total time=   0.3s\n",
      "[CV 1/5] END ........C=100, gamma=1, kernel=rbf;, score=0.279 total time=   0.5s\n",
      "[CV 2/5] END ........C=100, gamma=1, kernel=rbf;, score=0.281 total time=   0.5s\n",
      "[CV 3/5] END ........C=100, gamma=1, kernel=rbf;, score=0.310 total time=   0.5s\n",
      "[CV 4/5] END ........C=100, gamma=1, kernel=rbf;, score=0.281 total time=   0.5s\n",
      "[CV 5/5] END ........C=100, gamma=1, kernel=rbf;, score=0.302 total time=   0.5s\n",
      "[CV 1/5] END ......C=100, gamma=0.1, kernel=rbf;, score=0.408 total time=   0.5s\n",
      "[CV 2/5] END ......C=100, gamma=0.1, kernel=rbf;, score=0.426 total time=   0.5s\n",
      "[CV 3/5] END ......C=100, gamma=0.1, kernel=rbf;, score=0.409 total time=   0.5s\n",
      "[CV 4/5] END ......C=100, gamma=0.1, kernel=rbf;, score=0.386 total time=   0.5s\n",
      "[CV 5/5] END ......C=100, gamma=0.1, kernel=rbf;, score=0.410 total time=   0.5s\n",
      "[CV 1/5] END .....C=100, gamma=0.01, kernel=rbf;, score=0.469 total time=   0.4s\n",
      "[CV 2/5] END .....C=100, gamma=0.01, kernel=rbf;, score=0.479 total time=   0.4s\n",
      "[CV 3/5] END .....C=100, gamma=0.01, kernel=rbf;, score=0.483 total time=   0.4s\n",
      "[CV 4/5] END .....C=100, gamma=0.01, kernel=rbf;, score=0.467 total time=   0.4s\n",
      "[CV 5/5] END .....C=100, gamma=0.01, kernel=rbf;, score=0.474 total time=   0.4s\n",
      "[CV 1/5] END ....C=100, gamma=0.001, kernel=rbf;, score=0.486 total time=   0.3s\n",
      "[CV 2/5] END ....C=100, gamma=0.001, kernel=rbf;, score=0.471 total time=   0.4s\n",
      "[CV 3/5] END ....C=100, gamma=0.001, kernel=rbf;, score=0.502 total time=   0.3s\n",
      "[CV 4/5] END ....C=100, gamma=0.001, kernel=rbf;, score=0.495 total time=   0.3s\n",
      "[CV 5/5] END ....C=100, gamma=0.001, kernel=rbf;, score=0.502 total time=   0.3s\n",
      "[CV 1/5] END ....C=100, gamma=0.001, kernel=rbf;, score=0.486 total time=   0.4s\n",
      "[CV 2/5] END ....C=100, gamma=0.001, kernel=rbf;, score=0.471 total time=   0.4s\n",
      "[CV 3/5] END ....C=100, gamma=0.001, kernel=rbf;, score=0.502 total time=   0.4s\n",
      "[CV 4/5] END ....C=100, gamma=0.001, kernel=rbf;, score=0.495 total time=   0.4s\n",
      "[CV 5/5] END ....C=100, gamma=0.001, kernel=rbf;, score=0.502 total time=   0.4s\n",
      "[CV 1/5] END .......C=1000, gamma=1, kernel=rbf;, score=0.228 total time=   1.1s\n"
     ]
    },
    {
     "name": "stdout",
     "output_type": "stream",
     "text": [
      "[CV 2/5] END .......C=1000, gamma=1, kernel=rbf;, score=0.231 total time=   0.9s\n",
      "[CV 3/5] END .......C=1000, gamma=1, kernel=rbf;, score=0.254 total time=   1.0s\n",
      "[CV 4/5] END .......C=1000, gamma=1, kernel=rbf;, score=0.236 total time=   0.9s\n",
      "[CV 5/5] END .......C=1000, gamma=1, kernel=rbf;, score=0.234 total time=   0.9s\n",
      "[CV 1/5] END .....C=1000, gamma=0.1, kernel=rbf;, score=0.379 total time=   2.4s\n",
      "[CV 2/5] END .....C=1000, gamma=0.1, kernel=rbf;, score=0.380 total time=   2.3s\n",
      "[CV 3/5] END .....C=1000, gamma=0.1, kernel=rbf;, score=0.369 total time=   2.8s\n",
      "[CV 4/5] END .....C=1000, gamma=0.1, kernel=rbf;, score=0.360 total time=   2.8s\n",
      "[CV 5/5] END .....C=1000, gamma=0.1, kernel=rbf;, score=0.398 total time=   2.1s\n",
      "[CV 1/5] END ....C=1000, gamma=0.01, kernel=rbf;, score=0.460 total time=   0.6s\n",
      "[CV 2/5] END ....C=1000, gamma=0.01, kernel=rbf;, score=0.494 total time=   0.6s\n",
      "[CV 3/5] END ....C=1000, gamma=0.01, kernel=rbf;, score=0.479 total time=   0.6s\n",
      "[CV 4/5] END ....C=1000, gamma=0.01, kernel=rbf;, score=0.432 total time=   0.6s\n",
      "[CV 5/5] END ....C=1000, gamma=0.01, kernel=rbf;, score=0.454 total time=   0.6s\n",
      "[CV 1/5] END ...C=1000, gamma=0.001, kernel=rbf;, score=0.473 total time=   0.4s\n",
      "[CV 2/5] END ...C=1000, gamma=0.001, kernel=rbf;, score=0.459 total time=   0.5s\n",
      "[CV 3/5] END ...C=1000, gamma=0.001, kernel=rbf;, score=0.492 total time=   0.4s\n",
      "[CV 4/5] END ...C=1000, gamma=0.001, kernel=rbf;, score=0.491 total time=   0.4s\n",
      "[CV 5/5] END ...C=1000, gamma=0.001, kernel=rbf;, score=0.506 total time=   0.4s\n",
      "[CV 1/5] END ...C=1000, gamma=0.001, kernel=rbf;, score=0.473 total time=   0.4s\n",
      "[CV 2/5] END ...C=1000, gamma=0.001, kernel=rbf;, score=0.459 total time=   0.4s\n",
      "[CV 3/5] END ...C=1000, gamma=0.001, kernel=rbf;, score=0.492 total time=   0.4s\n",
      "[CV 4/5] END ...C=1000, gamma=0.001, kernel=rbf;, score=0.491 total time=   0.4s\n",
      "[CV 5/5] END ...C=1000, gamma=0.001, kernel=rbf;, score=0.506 total time=   0.4s\n",
      "              precision    recall  f1-score   support\n",
      "\n",
      "           0       0.48      1.00      0.65       683\n",
      "           1       0.00      0.00      0.00       728\n",
      "\n",
      "    accuracy                           0.48      1411\n",
      "   macro avg       0.24      0.50      0.33      1411\n",
      "weighted avg       0.23      0.48      0.32      1411\n",
      "\n"
     ]
    },
    {
     "data": {
      "image/png": "[encoded data removed]",
      "text/plain": [
       "<Figure size 640x480 with 2 Axes>"
      ]
     },
     "metadata": {},
     "output_type": "display_data"
    }
   ],
   "source": [
    "#find best hyperparameter\n",
    "#C is the slack variable\n",
    "from sklearn.model_selection import GridSearchCV\n",
    "from sklearn.metrics import classification_report, confusion_matrix\n",
    "import seaborn as sns\n",
    "param_grid = {'C':[0.1,1,10,100,1000],'gamma':[1,0.1,0.01,0.001,0.001], 'kernel':['rbf']}\n",
    "grid = GridSearchCV(SVC(),param_grid,verbose = 5)\n",
    "grid.fit(X_train,y_train)\n",
    "grid.best_params_\n",
    "grid.best_estimator_\n",
    "grid_predictions = grid.predict(X_test)\n",
    "cmG = confusion_matrix(y_test,grid_predictions)\n",
    "sns.heatmap(cmG, annot=True)\n",
    "print(classification_report(y_test,grid_predictions))"
   ]
  },
  {
   "cell_type": "code",
   "execution_count": 109,
   "id": "da087baf",
   "metadata": {},
   "outputs": [
    {
     "data": {
      "text/html": [
       "<style>#sk-container-id-2 {color: black;}#sk-container-id-2 pre{padding: 0;}#sk-container-id-2 div.sk-toggleable {background-color: white;}#sk-container-id-2 label.sk-toggleable__label {cursor: pointer;display: block;width: 100%;margin-bottom: 0;padding: 0.3em;box-sizing: border-box;text-align: center;}#sk-container-id-2 label.sk-toggleable__label-arrow:before {content: \"▸\";float: left;margin-right: 0.25em;color: #696969;}#sk-container-id-2 label.sk-toggleable__label-arrow:hover:before {color: black;}#sk-container-id-2 div.sk-estimator:hover label.sk-toggleable__label-arrow:before {color: black;}#sk-container-id-2 div.sk-toggleable__content {max-height: 0;max-width: 0;overflow: hidden;text-align: left;background-color: #f0f8ff;}#sk-container-id-2 div.sk-toggleable__content pre {margin: 0.2em;color: black;border-radius: 0.25em;background-color: #f0f8ff;}#sk-container-id-2 input.sk-toggleable__control:checked~div.sk-toggleable__content {max-height: 200px;max-width: 100%;overflow: auto;}#sk-container-id-2 input.sk-toggleable__control:checked~label.sk-toggleable__label-arrow:before {content: \"▾\";}#sk-container-id-2 div.sk-estimator input.sk-toggleable__control:checked~label.sk-toggleable__label {background-color: #d4ebff;}#sk-container-id-2 div.sk-label input.sk-toggleable__control:checked~label.sk-toggleable__label {background-color: #d4ebff;}#sk-container-id-2 input.sk-hidden--visually {border: 0;clip: rect(1px 1px 1px 1px);clip: rect(1px, 1px, 1px, 1px);height: 1px;margin: -1px;overflow: hidden;padding: 0;position: absolute;width: 1px;}#sk-container-id-2 div.sk-estimator {font-family: monospace;background-color: #f0f8ff;border: 1px dotted black;border-radius: 0.25em;box-sizing: border-box;margin-bottom: 0.5em;}#sk-container-id-2 div.sk-estimator:hover {background-color: #d4ebff;}#sk-container-id-2 div.sk-parallel-item::after {content: \"\";width: 100%;border-bottom: 1px solid gray;flex-grow: 1;}#sk-container-id-2 div.sk-label:hover label.sk-toggleable__label {background-color: #d4ebff;}#sk-container-id-2 div.sk-serial::before {content: \"\";position: absolute;border-left: 1px solid gray;box-sizing: border-box;top: 0;bottom: 0;left: 50%;z-index: 0;}#sk-container-id-2 div.sk-serial {display: flex;flex-direction: column;align-items: center;background-color: white;padding-right: 0.2em;padding-left: 0.2em;position: relative;}#sk-container-id-2 div.sk-item {position: relative;z-index: 1;}#sk-container-id-2 div.sk-parallel {display: flex;align-items: stretch;justify-content: center;background-color: white;position: relative;}#sk-container-id-2 div.sk-item::before, #sk-container-id-2 div.sk-parallel-item::before {content: \"\";position: absolute;border-left: 1px solid gray;box-sizing: border-box;top: 0;bottom: 0;left: 50%;z-index: -1;}#sk-container-id-2 div.sk-parallel-item {display: flex;flex-direction: column;z-index: 1;position: relative;background-color: white;}#sk-container-id-2 div.sk-parallel-item:first-child::after {align-self: flex-end;width: 50%;}#sk-container-id-2 div.sk-parallel-item:last-child::after {align-self: flex-start;width: 50%;}#sk-container-id-2 div.sk-parallel-item:only-child::after {width: 0;}#sk-container-id-2 div.sk-dashed-wrapped {border: 1px dashed gray;margin: 0 0.4em 0.5em 0.4em;box-sizing: border-box;padding-bottom: 0.4em;background-color: white;}#sk-container-id-2 div.sk-label label {font-family: monospace;font-weight: bold;display: inline-block;line-height: 1.2em;}#sk-container-id-2 div.sk-label-container {text-align: center;}#sk-container-id-2 div.sk-container {/* jupyter's `normalize.less` sets `[hidden] { display: none; }` but bootstrap.min.css set `[hidden] { display: none !important; }` so we also need the `!important` here to be able to override the default hidden behavior on the sphinx rendered scikit-learn.org. See: https://github.com/scikit-learn/scikit-learn/issues/21755 */display: inline-block !important;position: relative;}#sk-container-id-2 div.sk-text-repr-fallback {display: none;}</style><div id=\"sk-container-id-2\" class=\"sk-top-container\"><div class=\"sk-text-repr-fallback\"><pre>SVC(C=0.1, gamma=1)</pre><b>In a Jupyter environment, please rerun this cell to show the HTML representation or trust the notebook. <br />On GitHub, the HTML representation is unable to render, please try loading this page with nbviewer.org.</b></div><div class=\"sk-container\" hidden><div class=\"sk-item\"><div class=\"sk-estimator sk-toggleable\"><input class=\"sk-toggleable__control sk-hidden--visually\" id=\"sk-estimator-id-2\" type=\"checkbox\" checked><label for=\"sk-estimator-id-2\" class=\"sk-toggleable__label sk-toggleable__label-arrow\">SVC</label><div class=\"sk-toggleable__content\"><pre>SVC(C=0.1, gamma=1)</pre></div></div></div></div></div>"
      ],
      "text/plain": [
       "SVC(C=0.1, gamma=1)"
      ]
     },
     "execution_count": 109,
     "metadata": {},
     "output_type": "execute_result"
    }
   ],
   "source": [
    "grid.best_params_\n",
    "grid.best_estimator_"
   ]
  },
  {
   "cell_type": "code",
   "execution_count": null,
   "id": "b2876db4",
   "metadata": {},
   "outputs": [],
   "source": []
  }
 ],
 "metadata": {
  "kernelspec": {
   "display_name": "Python 3 (ipykernel)",
   "language": "python",
   "name": "python3"
  },
  "language_info": {
   "codemirror_mode": {
    "name": "ipython",
    "version": 3
   },
   "file_extension": ".py",
   "mimetype": "text/x-python",
   "name": "python",
   "nbconvert_exporter": "python",
   "pygments_lexer": "ipython3",
   "version": "3.11.5"
  }
 },
 "nbformat": 4,
 "nbformat_minor": 5
}
