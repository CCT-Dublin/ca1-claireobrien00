{
 "cells": [
  {
   "cell_type": "code",
   "execution_count": 1,
   "id": "9c6aaa5b",
   "metadata": {},
   "outputs": [],
   "source": [
    "import pandas as pd #data manipulation\n",
    "import numpy as np #calculus and algebra\n",
    "import seaborn as sns\n",
    "import matplotlib.pyplot as plt\n",
    "from scipy.stats import norm\n",
    "from scipy.stats import stats\n",
    "#copied"
   ]
  },
  {
   "cell_type": "code",
   "execution_count": 2,
   "id": "c43b6b32",
   "metadata": {},
   "outputs": [],
   "source": [
    "passenger_movement_df = pd.read_csv('TRBM1.20240317134742.csv')\n",
    "#copied"
   ]
  },
  {
   "cell_type": "markdown",
   "id": "5b143528",
   "metadata": {},
   "source": [
    "Exploring the data set"
   ]
  },
  {
   "cell_type": "code",
   "execution_count": 3,
   "id": "a77d9b44",
   "metadata": {
    "scrolled": true
   },
   "outputs": [
    {
     "data": {
      "text/html": [
       "<div>\n",
       "<style scoped>\n",
       "    .dataframe tbody tr th:only-of-type {\n",
       "        vertical-align: middle;\n",
       "    }\n",
       "\n",
       "    .dataframe tbody tr th {\n",
       "        vertical-align: top;\n",
       "    }\n",
       "\n",
       "    .dataframe thead th {\n",
       "        text-align: right;\n",
       "    }\n",
       "</style>\n",
       "<table border=\"1\" class=\"dataframe\">\n",
       "  <thead>\n",
       "    <tr style=\"text-align: right;\">\n",
       "      <th></th>\n",
       "      <th>STATISTIC</th>\n",
       "      <th>STATISTIC Label</th>\n",
       "      <th>TLIST(M1)</th>\n",
       "      <th>Month</th>\n",
       "      <th>DIRECT</th>\n",
       "      <th>Direction</th>\n",
       "      <th>TYPASS</th>\n",
       "      <th>Type of Passenger Movement</th>\n",
       "      <th>UNIT</th>\n",
       "      <th>VALUE</th>\n",
       "    </tr>\n",
       "  </thead>\n",
       "  <tbody>\n",
       "    <tr>\n",
       "      <th>0</th>\n",
       "      <td>TRBM1</td>\n",
       "      <td>Passenger Movement</td>\n",
       "      <td>196101</td>\n",
       "      <td>1961M01</td>\n",
       "      <td>1</td>\n",
       "      <td>Arriving in Eire</td>\n",
       "      <td>1</td>\n",
       "      <td>Passenger Movement by Sea to All Countries</td>\n",
       "      <td>Number</td>\n",
       "      <td>20102.0</td>\n",
       "    </tr>\n",
       "    <tr>\n",
       "      <th>1</th>\n",
       "      <td>TRBM1</td>\n",
       "      <td>Passenger Movement</td>\n",
       "      <td>196101</td>\n",
       "      <td>1961M01</td>\n",
       "      <td>1</td>\n",
       "      <td>Arriving in Eire</td>\n",
       "      <td>11</td>\n",
       "      <td>Passenger Movement by Sea to Great Britain</td>\n",
       "      <td>Number</td>\n",
       "      <td>19963.0</td>\n",
       "    </tr>\n",
       "    <tr>\n",
       "      <th>2</th>\n",
       "      <td>TRBM1</td>\n",
       "      <td>Passenger Movement</td>\n",
       "      <td>196101</td>\n",
       "      <td>1961M01</td>\n",
       "      <td>1</td>\n",
       "      <td>Arriving in Eire</td>\n",
       "      <td>12</td>\n",
       "      <td>Passenger Movement by Sea to Countries Other T...</td>\n",
       "      <td>Number</td>\n",
       "      <td>139.0</td>\n",
       "    </tr>\n",
       "    <tr>\n",
       "      <th>3</th>\n",
       "      <td>TRBM1</td>\n",
       "      <td>Passenger Movement</td>\n",
       "      <td>196101</td>\n",
       "      <td>1961M01</td>\n",
       "      <td>1</td>\n",
       "      <td>Arriving in Eire</td>\n",
       "      <td>2</td>\n",
       "      <td>Passenger Movement Cross-Border Rail</td>\n",
       "      <td>Number</td>\n",
       "      <td>10344.0</td>\n",
       "    </tr>\n",
       "    <tr>\n",
       "      <th>4</th>\n",
       "      <td>TRBM1</td>\n",
       "      <td>Passenger Movement</td>\n",
       "      <td>196101</td>\n",
       "      <td>1961M01</td>\n",
       "      <td>1</td>\n",
       "      <td>Arriving in Eire</td>\n",
       "      <td>3</td>\n",
       "      <td>Passenger Movement Cross-Border Bus</td>\n",
       "      <td>Number</td>\n",
       "      <td>40063.0</td>\n",
       "    </tr>\n",
       "    <tr>\n",
       "      <th>5</th>\n",
       "      <td>TRBM1</td>\n",
       "      <td>Passenger Movement</td>\n",
       "      <td>196101</td>\n",
       "      <td>1961M01</td>\n",
       "      <td>1</td>\n",
       "      <td>Arriving in Eire</td>\n",
       "      <td>4</td>\n",
       "      <td>Passenger Movement by Air from All Airports</td>\n",
       "      <td>Number</td>\n",
       "      <td>18098.0</td>\n",
       "    </tr>\n",
       "    <tr>\n",
       "      <th>6</th>\n",
       "      <td>TRBM1</td>\n",
       "      <td>Passenger Movement</td>\n",
       "      <td>196101</td>\n",
       "      <td>1961M01</td>\n",
       "      <td>1</td>\n",
       "      <td>Arriving in Eire</td>\n",
       "      <td>41</td>\n",
       "      <td>Passenger Movement by Air from Dublin Airport</td>\n",
       "      <td>Number</td>\n",
       "      <td>16762.0</td>\n",
       "    </tr>\n",
       "    <tr>\n",
       "      <th>7</th>\n",
       "      <td>TRBM1</td>\n",
       "      <td>Passenger Movement</td>\n",
       "      <td>196101</td>\n",
       "      <td>1961M01</td>\n",
       "      <td>1</td>\n",
       "      <td>Arriving in Eire</td>\n",
       "      <td>42</td>\n",
       "      <td>Passenger Movement by Air from Cork Airport</td>\n",
       "      <td>Number</td>\n",
       "      <td>0.0</td>\n",
       "    </tr>\n",
       "    <tr>\n",
       "      <th>8</th>\n",
       "      <td>TRBM1</td>\n",
       "      <td>Passenger Movement</td>\n",
       "      <td>196101</td>\n",
       "      <td>1961M01</td>\n",
       "      <td>1</td>\n",
       "      <td>Arriving in Eire</td>\n",
       "      <td>43</td>\n",
       "      <td>Passenger Movement by Air from Shannon Airport</td>\n",
       "      <td>Number</td>\n",
       "      <td>1336.0</td>\n",
       "    </tr>\n",
       "    <tr>\n",
       "      <th>9</th>\n",
       "      <td>TRBM1</td>\n",
       "      <td>Passenger Movement</td>\n",
       "      <td>196101</td>\n",
       "      <td>1961M01</td>\n",
       "      <td>1</td>\n",
       "      <td>Arriving in Eire</td>\n",
       "      <td>431</td>\n",
       "      <td>Passenger Movement by Air from Shannon Airport...</td>\n",
       "      <td>Number</td>\n",
       "      <td>747.0</td>\n",
       "    </tr>\n",
       "    <tr>\n",
       "      <th>10</th>\n",
       "      <td>TRBM1</td>\n",
       "      <td>Passenger Movement</td>\n",
       "      <td>196101</td>\n",
       "      <td>1961M01</td>\n",
       "      <td>1</td>\n",
       "      <td>Arriving in Eire</td>\n",
       "      <td>432</td>\n",
       "      <td>Passenger Movement by Air from Shannon Airport...</td>\n",
       "      <td>Number</td>\n",
       "      <td>589.0</td>\n",
       "    </tr>\n",
       "    <tr>\n",
       "      <th>11</th>\n",
       "      <td>TRBM1</td>\n",
       "      <td>Passenger Movement</td>\n",
       "      <td>196101</td>\n",
       "      <td>1961M01</td>\n",
       "      <td>2</td>\n",
       "      <td>Departing Eire</td>\n",
       "      <td>1</td>\n",
       "      <td>Passenger Movement by Sea to All Countries</td>\n",
       "      <td>Number</td>\n",
       "      <td>44076.0</td>\n",
       "    </tr>\n",
       "    <tr>\n",
       "      <th>12</th>\n",
       "      <td>TRBM1</td>\n",
       "      <td>Passenger Movement</td>\n",
       "      <td>196101</td>\n",
       "      <td>1961M01</td>\n",
       "      <td>2</td>\n",
       "      <td>Departing Eire</td>\n",
       "      <td>11</td>\n",
       "      <td>Passenger Movement by Sea to Great Britain</td>\n",
       "      <td>Number</td>\n",
       "      <td>43860.0</td>\n",
       "    </tr>\n",
       "    <tr>\n",
       "      <th>13</th>\n",
       "      <td>TRBM1</td>\n",
       "      <td>Passenger Movement</td>\n",
       "      <td>196101</td>\n",
       "      <td>1961M01</td>\n",
       "      <td>2</td>\n",
       "      <td>Departing Eire</td>\n",
       "      <td>12</td>\n",
       "      <td>Passenger Movement by Sea to Countries Other T...</td>\n",
       "      <td>Number</td>\n",
       "      <td>216.0</td>\n",
       "    </tr>\n",
       "    <tr>\n",
       "      <th>14</th>\n",
       "      <td>TRBM1</td>\n",
       "      <td>Passenger Movement</td>\n",
       "      <td>196101</td>\n",
       "      <td>1961M01</td>\n",
       "      <td>2</td>\n",
       "      <td>Departing Eire</td>\n",
       "      <td>2</td>\n",
       "      <td>Passenger Movement Cross-Border Rail</td>\n",
       "      <td>Number</td>\n",
       "      <td>9967.0</td>\n",
       "    </tr>\n",
       "    <tr>\n",
       "      <th>15</th>\n",
       "      <td>TRBM1</td>\n",
       "      <td>Passenger Movement</td>\n",
       "      <td>196101</td>\n",
       "      <td>1961M01</td>\n",
       "      <td>2</td>\n",
       "      <td>Departing Eire</td>\n",
       "      <td>3</td>\n",
       "      <td>Passenger Movement Cross-Border Bus</td>\n",
       "      <td>Number</td>\n",
       "      <td>40137.0</td>\n",
       "    </tr>\n",
       "    <tr>\n",
       "      <th>16</th>\n",
       "      <td>TRBM1</td>\n",
       "      <td>Passenger Movement</td>\n",
       "      <td>196101</td>\n",
       "      <td>1961M01</td>\n",
       "      <td>2</td>\n",
       "      <td>Departing Eire</td>\n",
       "      <td>4</td>\n",
       "      <td>Passenger Movement by Air from All Airports</td>\n",
       "      <td>Number</td>\n",
       "      <td>27496.0</td>\n",
       "    </tr>\n",
       "    <tr>\n",
       "      <th>17</th>\n",
       "      <td>TRBM1</td>\n",
       "      <td>Passenger Movement</td>\n",
       "      <td>196101</td>\n",
       "      <td>1961M01</td>\n",
       "      <td>2</td>\n",
       "      <td>Departing Eire</td>\n",
       "      <td>41</td>\n",
       "      <td>Passenger Movement by Air from Dublin Airport</td>\n",
       "      <td>Number</td>\n",
       "      <td>24166.0</td>\n",
       "    </tr>\n",
       "    <tr>\n",
       "      <th>18</th>\n",
       "      <td>TRBM1</td>\n",
       "      <td>Passenger Movement</td>\n",
       "      <td>196101</td>\n",
       "      <td>1961M01</td>\n",
       "      <td>2</td>\n",
       "      <td>Departing Eire</td>\n",
       "      <td>42</td>\n",
       "      <td>Passenger Movement by Air from Cork Airport</td>\n",
       "      <td>Number</td>\n",
       "      <td>0.0</td>\n",
       "    </tr>\n",
       "    <tr>\n",
       "      <th>19</th>\n",
       "      <td>TRBM1</td>\n",
       "      <td>Passenger Movement</td>\n",
       "      <td>196101</td>\n",
       "      <td>1961M01</td>\n",
       "      <td>2</td>\n",
       "      <td>Departing Eire</td>\n",
       "      <td>43</td>\n",
       "      <td>Passenger Movement by Air from Shannon Airport</td>\n",
       "      <td>Number</td>\n",
       "      <td>3330.0</td>\n",
       "    </tr>\n",
       "    <tr>\n",
       "      <th>20</th>\n",
       "      <td>TRBM1</td>\n",
       "      <td>Passenger Movement</td>\n",
       "      <td>196101</td>\n",
       "      <td>1961M01</td>\n",
       "      <td>2</td>\n",
       "      <td>Departing Eire</td>\n",
       "      <td>431</td>\n",
       "      <td>Passenger Movement by Air from Shannon Airport...</td>\n",
       "      <td>Number</td>\n",
       "      <td>779.0</td>\n",
       "    </tr>\n",
       "    <tr>\n",
       "      <th>21</th>\n",
       "      <td>TRBM1</td>\n",
       "      <td>Passenger Movement</td>\n",
       "      <td>196101</td>\n",
       "      <td>1961M01</td>\n",
       "      <td>2</td>\n",
       "      <td>Departing Eire</td>\n",
       "      <td>432</td>\n",
       "      <td>Passenger Movement by Air from Shannon Airport...</td>\n",
       "      <td>Number</td>\n",
       "      <td>2551.0</td>\n",
       "    </tr>\n",
       "    <tr>\n",
       "      <th>22</th>\n",
       "      <td>TRBM1</td>\n",
       "      <td>Passenger Movement</td>\n",
       "      <td>196102</td>\n",
       "      <td>1961M02</td>\n",
       "      <td>1</td>\n",
       "      <td>Arriving in Eire</td>\n",
       "      <td>1</td>\n",
       "      <td>Passenger Movement by Sea to All Countries</td>\n",
       "      <td>Number</td>\n",
       "      <td>19157.0</td>\n",
       "    </tr>\n",
       "    <tr>\n",
       "      <th>23</th>\n",
       "      <td>TRBM1</td>\n",
       "      <td>Passenger Movement</td>\n",
       "      <td>196102</td>\n",
       "      <td>1961M02</td>\n",
       "      <td>1</td>\n",
       "      <td>Arriving in Eire</td>\n",
       "      <td>11</td>\n",
       "      <td>Passenger Movement by Sea to Great Britain</td>\n",
       "      <td>Number</td>\n",
       "      <td>19079.0</td>\n",
       "    </tr>\n",
       "    <tr>\n",
       "      <th>24</th>\n",
       "      <td>TRBM1</td>\n",
       "      <td>Passenger Movement</td>\n",
       "      <td>196102</td>\n",
       "      <td>1961M02</td>\n",
       "      <td>1</td>\n",
       "      <td>Arriving in Eire</td>\n",
       "      <td>12</td>\n",
       "      <td>Passenger Movement by Sea to Countries Other T...</td>\n",
       "      <td>Number</td>\n",
       "      <td>78.0</td>\n",
       "    </tr>\n",
       "    <tr>\n",
       "      <th>25</th>\n",
       "      <td>TRBM1</td>\n",
       "      <td>Passenger Movement</td>\n",
       "      <td>196102</td>\n",
       "      <td>1961M02</td>\n",
       "      <td>1</td>\n",
       "      <td>Arriving in Eire</td>\n",
       "      <td>2</td>\n",
       "      <td>Passenger Movement Cross-Border Rail</td>\n",
       "      <td>Number</td>\n",
       "      <td>10013.0</td>\n",
       "    </tr>\n",
       "    <tr>\n",
       "      <th>26</th>\n",
       "      <td>TRBM1</td>\n",
       "      <td>Passenger Movement</td>\n",
       "      <td>196102</td>\n",
       "      <td>1961M02</td>\n",
       "      <td>1</td>\n",
       "      <td>Arriving in Eire</td>\n",
       "      <td>3</td>\n",
       "      <td>Passenger Movement Cross-Border Bus</td>\n",
       "      <td>Number</td>\n",
       "      <td>37184.0</td>\n",
       "    </tr>\n",
       "    <tr>\n",
       "      <th>27</th>\n",
       "      <td>TRBM1</td>\n",
       "      <td>Passenger Movement</td>\n",
       "      <td>196102</td>\n",
       "      <td>1961M02</td>\n",
       "      <td>1</td>\n",
       "      <td>Arriving in Eire</td>\n",
       "      <td>4</td>\n",
       "      <td>Passenger Movement by Air from All Airports</td>\n",
       "      <td>Number</td>\n",
       "      <td>17250.0</td>\n",
       "    </tr>\n",
       "    <tr>\n",
       "      <th>28</th>\n",
       "      <td>TRBM1</td>\n",
       "      <td>Passenger Movement</td>\n",
       "      <td>196102</td>\n",
       "      <td>1961M02</td>\n",
       "      <td>1</td>\n",
       "      <td>Arriving in Eire</td>\n",
       "      <td>41</td>\n",
       "      <td>Passenger Movement by Air from Dublin Airport</td>\n",
       "      <td>Number</td>\n",
       "      <td>15964.0</td>\n",
       "    </tr>\n",
       "    <tr>\n",
       "      <th>29</th>\n",
       "      <td>TRBM1</td>\n",
       "      <td>Passenger Movement</td>\n",
       "      <td>196102</td>\n",
       "      <td>1961M02</td>\n",
       "      <td>1</td>\n",
       "      <td>Arriving in Eire</td>\n",
       "      <td>42</td>\n",
       "      <td>Passenger Movement by Air from Cork Airport</td>\n",
       "      <td>Number</td>\n",
       "      <td>0.0</td>\n",
       "    </tr>\n",
       "  </tbody>\n",
       "</table>\n",
       "</div>"
      ],
      "text/plain": [
       "   STATISTIC     STATISTIC Label  TLIST(M1)    Month  DIRECT   \n",
       "0      TRBM1  Passenger Movement     196101  1961M01       1  \\\n",
       "1      TRBM1  Passenger Movement     196101  1961M01       1   \n",
       "2      TRBM1  Passenger Movement     196101  1961M01       1   \n",
       "3      TRBM1  Passenger Movement     196101  1961M01       1   \n",
       "4      TRBM1  Passenger Movement     196101  1961M01       1   \n",
       "5      TRBM1  Passenger Movement     196101  1961M01       1   \n",
       "6      TRBM1  Passenger Movement     196101  1961M01       1   \n",
       "7      TRBM1  Passenger Movement     196101  1961M01       1   \n",
       "8      TRBM1  Passenger Movement     196101  1961M01       1   \n",
       "9      TRBM1  Passenger Movement     196101  1961M01       1   \n",
       "10     TRBM1  Passenger Movement     196101  1961M01       1   \n",
       "11     TRBM1  Passenger Movement     196101  1961M01       2   \n",
       "12     TRBM1  Passenger Movement     196101  1961M01       2   \n",
       "13     TRBM1  Passenger Movement     196101  1961M01       2   \n",
       "14     TRBM1  Passenger Movement     196101  1961M01       2   \n",
       "15     TRBM1  Passenger Movement     196101  1961M01       2   \n",
       "16     TRBM1  Passenger Movement     196101  1961M01       2   \n",
       "17     TRBM1  Passenger Movement     196101  1961M01       2   \n",
       "18     TRBM1  Passenger Movement     196101  1961M01       2   \n",
       "19     TRBM1  Passenger Movement     196101  1961M01       2   \n",
       "20     TRBM1  Passenger Movement     196101  1961M01       2   \n",
       "21     TRBM1  Passenger Movement     196101  1961M01       2   \n",
       "22     TRBM1  Passenger Movement     196102  1961M02       1   \n",
       "23     TRBM1  Passenger Movement     196102  1961M02       1   \n",
       "24     TRBM1  Passenger Movement     196102  1961M02       1   \n",
       "25     TRBM1  Passenger Movement     196102  1961M02       1   \n",
       "26     TRBM1  Passenger Movement     196102  1961M02       1   \n",
       "27     TRBM1  Passenger Movement     196102  1961M02       1   \n",
       "28     TRBM1  Passenger Movement     196102  1961M02       1   \n",
       "29     TRBM1  Passenger Movement     196102  1961M02       1   \n",
       "\n",
       "           Direction  TYPASS   \n",
       "0   Arriving in Eire       1  \\\n",
       "1   Arriving in Eire      11   \n",
       "2   Arriving in Eire      12   \n",
       "3   Arriving in Eire       2   \n",
       "4   Arriving in Eire       3   \n",
       "5   Arriving in Eire       4   \n",
       "6   Arriving in Eire      41   \n",
       "7   Arriving in Eire      42   \n",
       "8   Arriving in Eire      43   \n",
       "9   Arriving in Eire     431   \n",
       "10  Arriving in Eire     432   \n",
       "11    Departing Eire       1   \n",
       "12    Departing Eire      11   \n",
       "13    Departing Eire      12   \n",
       "14    Departing Eire       2   \n",
       "15    Departing Eire       3   \n",
       "16    Departing Eire       4   \n",
       "17    Departing Eire      41   \n",
       "18    Departing Eire      42   \n",
       "19    Departing Eire      43   \n",
       "20    Departing Eire     431   \n",
       "21    Departing Eire     432   \n",
       "22  Arriving in Eire       1   \n",
       "23  Arriving in Eire      11   \n",
       "24  Arriving in Eire      12   \n",
       "25  Arriving in Eire       2   \n",
       "26  Arriving in Eire       3   \n",
       "27  Arriving in Eire       4   \n",
       "28  Arriving in Eire      41   \n",
       "29  Arriving in Eire      42   \n",
       "\n",
       "                           Type of Passenger Movement    UNIT    VALUE  \n",
       "0          Passenger Movement by Sea to All Countries  Number  20102.0  \n",
       "1          Passenger Movement by Sea to Great Britain  Number  19963.0  \n",
       "2   Passenger Movement by Sea to Countries Other T...  Number    139.0  \n",
       "3                Passenger Movement Cross-Border Rail  Number  10344.0  \n",
       "4                 Passenger Movement Cross-Border Bus  Number  40063.0  \n",
       "5         Passenger Movement by Air from All Airports  Number  18098.0  \n",
       "6       Passenger Movement by Air from Dublin Airport  Number  16762.0  \n",
       "7         Passenger Movement by Air from Cork Airport  Number      0.0  \n",
       "8      Passenger Movement by Air from Shannon Airport  Number   1336.0  \n",
       "9   Passenger Movement by Air from Shannon Airport...  Number    747.0  \n",
       "10  Passenger Movement by Air from Shannon Airport...  Number    589.0  \n",
       "11         Passenger Movement by Sea to All Countries  Number  44076.0  \n",
       "12         Passenger Movement by Sea to Great Britain  Number  43860.0  \n",
       "13  Passenger Movement by Sea to Countries Other T...  Number    216.0  \n",
       "14               Passenger Movement Cross-Border Rail  Number   9967.0  \n",
       "15                Passenger Movement Cross-Border Bus  Number  40137.0  \n",
       "16        Passenger Movement by Air from All Airports  Number  27496.0  \n",
       "17      Passenger Movement by Air from Dublin Airport  Number  24166.0  \n",
       "18        Passenger Movement by Air from Cork Airport  Number      0.0  \n",
       "19     Passenger Movement by Air from Shannon Airport  Number   3330.0  \n",
       "20  Passenger Movement by Air from Shannon Airport...  Number    779.0  \n",
       "21  Passenger Movement by Air from Shannon Airport...  Number   2551.0  \n",
       "22         Passenger Movement by Sea to All Countries  Number  19157.0  \n",
       "23         Passenger Movement by Sea to Great Britain  Number  19079.0  \n",
       "24  Passenger Movement by Sea to Countries Other T...  Number     78.0  \n",
       "25               Passenger Movement Cross-Border Rail  Number  10013.0  \n",
       "26                Passenger Movement Cross-Border Bus  Number  37184.0  \n",
       "27        Passenger Movement by Air from All Airports  Number  17250.0  \n",
       "28      Passenger Movement by Air from Dublin Airport  Number  15964.0  \n",
       "29        Passenger Movement by Air from Cork Airport  Number      0.0  "
      ]
     },
     "execution_count": 3,
     "metadata": {},
     "output_type": "execute_result"
    }
   ],
   "source": [
    "passenger_movement_df.head(30) #Displaying first 30 rows (Cork airport only opened in 1961)\n",
    "#Issue with the TLIST(M1) - the months need to\n",
    "#be turned into decimal form\n",
    "#copied"
   ]
  },
  {
   "cell_type": "code",
   "execution_count": 4,
   "id": "43173b63",
   "metadata": {},
   "outputs": [
    {
     "data": {
      "text/plain": [
       "(12936, 10)"
      ]
     },
     "execution_count": 4,
     "metadata": {},
     "output_type": "execute_result"
    }
   ],
   "source": [
    "passenger_movement_df.shape\n",
    "#copied"
   ]
  },
  {
   "cell_type": "code",
   "execution_count": 5,
   "id": "0e45c7ec",
   "metadata": {},
   "outputs": [],
   "source": [
    "#Renaming columns intuitively\n",
    "passenger_movement_df = passenger_movement_df.rename(columns={'TLIST(M1)': 'Year' })\n",
    "#copied"
   ]
  },
  {
   "cell_type": "code",
   "execution_count": 6,
   "id": "1594dfed",
   "metadata": {},
   "outputs": [
    {
     "name": "stdout",
     "output_type": "stream",
     "text": [
      "number of duplicate rows:  (0, 10)\n"
     ]
    }
   ],
   "source": [
    "#Checking for duplicates\n",
    "duplicate_rows_df = passenger_movement_df[passenger_movement_df.duplicated()]\n",
    "print('number of duplicate rows: ', duplicate_rows_df.shape)\n",
    "#no duplicated data\n",
    "#copied"
   ]
  },
  {
   "cell_type": "code",
   "execution_count": 7,
   "id": "b0243296",
   "metadata": {},
   "outputs": [
    {
     "data": {
      "text/plain": [
       "STATISTIC                     12936\n",
       "STATISTIC Label               12936\n",
       "Year                          12936\n",
       "Month                         12936\n",
       "DIRECT                        12936\n",
       "Direction                     12936\n",
       "TYPASS                        12936\n",
       "Type of Passenger Movement    12936\n",
       "UNIT                          12936\n",
       "VALUE                         12934\n",
       "dtype: int64"
      ]
     },
     "execution_count": 7,
     "metadata": {},
     "output_type": "execute_result"
    }
   ],
   "source": [
    "passenger_movement_df.count() \n",
    "#copied"
   ]
  },
  {
   "cell_type": "code",
   "execution_count": 8,
   "id": "16e8e7c4",
   "metadata": {},
   "outputs": [
    {
     "data": {
      "text/plain": [
       "STATISTIC                      object\n",
       "STATISTIC Label                object\n",
       "Year                            int64\n",
       "Month                          object\n",
       "DIRECT                          int64\n",
       "Direction                      object\n",
       "TYPASS                          int64\n",
       "Type of Passenger Movement     object\n",
       "UNIT                           object\n",
       "VALUE                         float64\n",
       "dtype: object"
      ]
     },
     "execution_count": 8,
     "metadata": {},
     "output_type": "execute_result"
    }
   ],
   "source": [
    "passenger_movement_df.dtypes\n",
    "#copied"
   ]
  },
  {
   "cell_type": "code",
   "execution_count": 9,
   "id": "fb577e41",
   "metadata": {},
   "outputs": [],
   "source": [
    "passenger_movement_df = passenger_movement_df.drop([\"STATISTIC Label\", \"TYPASS\", \"UNIT\", \"DIRECT\", \"STATISTIC\",\"Month\"], axis=1)\n",
    "#removing columns which aren't needed/are duplicated\n",
    "#going to keep the two year-month columns as the original form will be used later on in ML section\n",
    "#copied"
   ]
  },
  {
   "cell_type": "code",
   "execution_count": 10,
   "id": "1a5ef345",
   "metadata": {},
   "outputs": [
    {
     "data": {
      "text/html": [
       "<div>\n",
       "<style scoped>\n",
       "    .dataframe tbody tr th:only-of-type {\n",
       "        vertical-align: middle;\n",
       "    }\n",
       "\n",
       "    .dataframe tbody tr th {\n",
       "        vertical-align: top;\n",
       "    }\n",
       "\n",
       "    .dataframe thead th {\n",
       "        text-align: right;\n",
       "    }\n",
       "</style>\n",
       "<table border=\"1\" class=\"dataframe\">\n",
       "  <thead>\n",
       "    <tr style=\"text-align: right;\">\n",
       "      <th></th>\n",
       "      <th>Year</th>\n",
       "      <th>Direction</th>\n",
       "      <th>Type of Passenger Movement</th>\n",
       "      <th>VALUE</th>\n",
       "    </tr>\n",
       "  </thead>\n",
       "  <tbody>\n",
       "    <tr>\n",
       "      <th>12567</th>\n",
       "      <td>200808</td>\n",
       "      <td>Arriving in Eire</td>\n",
       "      <td>Passenger Movement by Air from All Airports</td>\n",
       "      <td>1603381.0</td>\n",
       "    </tr>\n",
       "    <tr>\n",
       "      <th>12303</th>\n",
       "      <td>200708</td>\n",
       "      <td>Arriving in Eire</td>\n",
       "      <td>Passenger Movement by Air from All Airports</td>\n",
       "      <td>1575955.0</td>\n",
       "    </tr>\n",
       "    <tr>\n",
       "      <th>12281</th>\n",
       "      <td>200707</td>\n",
       "      <td>Arriving in Eire</td>\n",
       "      <td>Passenger Movement by Air from All Airports</td>\n",
       "      <td>1565640.0</td>\n",
       "    </tr>\n",
       "    <tr>\n",
       "      <th>12545</th>\n",
       "      <td>200807</td>\n",
       "      <td>Arriving in Eire</td>\n",
       "      <td>Passenger Movement by Air from All Airports</td>\n",
       "      <td>1555437.0</td>\n",
       "    </tr>\n",
       "    <tr>\n",
       "      <th>12292</th>\n",
       "      <td>200707</td>\n",
       "      <td>Departing Eire</td>\n",
       "      <td>Passenger Movement by Air from All Airports</td>\n",
       "      <td>1555235.0</td>\n",
       "    </tr>\n",
       "    <tr>\n",
       "      <th>...</th>\n",
       "      <td>...</td>\n",
       "      <td>...</td>\n",
       "      <td>...</td>\n",
       "      <td>...</td>\n",
       "    </tr>\n",
       "    <tr>\n",
       "      <th>161</th>\n",
       "      <td>196108</td>\n",
       "      <td>Arriving in Eire</td>\n",
       "      <td>Passenger Movement by Air from Cork Airport</td>\n",
       "      <td>0.0</td>\n",
       "    </tr>\n",
       "    <tr>\n",
       "      <th>2675</th>\n",
       "      <td>197102</td>\n",
       "      <td>Departing Eire</td>\n",
       "      <td>Passenger Movement by Sea to Countries Other T...</td>\n",
       "      <td>0.0</td>\n",
       "    </tr>\n",
       "    <tr>\n",
       "      <th>2631</th>\n",
       "      <td>197012</td>\n",
       "      <td>Departing Eire</td>\n",
       "      <td>Passenger Movement by Sea to Countries Other T...</td>\n",
       "      <td>0.0</td>\n",
       "    </tr>\n",
       "    <tr>\n",
       "      <th>12126</th>\n",
       "      <td>200612</td>\n",
       "      <td>Arriving in Eire</td>\n",
       "      <td>Passenger Movement Cross-Border Bus</td>\n",
       "      <td>NaN</td>\n",
       "    </tr>\n",
       "    <tr>\n",
       "      <th>12137</th>\n",
       "      <td>200612</td>\n",
       "      <td>Departing Eire</td>\n",
       "      <td>Passenger Movement Cross-Border Bus</td>\n",
       "      <td>NaN</td>\n",
       "    </tr>\n",
       "  </tbody>\n",
       "</table>\n",
       "<p>12936 rows × 4 columns</p>\n",
       "</div>"
      ],
      "text/plain": [
       "         Year         Direction   \n",
       "12567  200808  Arriving in Eire  \\\n",
       "12303  200708  Arriving in Eire   \n",
       "12281  200707  Arriving in Eire   \n",
       "12545  200807  Arriving in Eire   \n",
       "12292  200707    Departing Eire   \n",
       "...       ...               ...   \n",
       "161    196108  Arriving in Eire   \n",
       "2675   197102    Departing Eire   \n",
       "2631   197012    Departing Eire   \n",
       "12126  200612  Arriving in Eire   \n",
       "12137  200612    Departing Eire   \n",
       "\n",
       "                              Type of Passenger Movement      VALUE  \n",
       "12567        Passenger Movement by Air from All Airports  1603381.0  \n",
       "12303        Passenger Movement by Air from All Airports  1575955.0  \n",
       "12281        Passenger Movement by Air from All Airports  1565640.0  \n",
       "12545        Passenger Movement by Air from All Airports  1555437.0  \n",
       "12292        Passenger Movement by Air from All Airports  1555235.0  \n",
       "...                                                  ...        ...  \n",
       "161          Passenger Movement by Air from Cork Airport        0.0  \n",
       "2675   Passenger Movement by Sea to Countries Other T...        0.0  \n",
       "2631   Passenger Movement by Sea to Countries Other T...        0.0  \n",
       "12126                Passenger Movement Cross-Border Bus        NaN  \n",
       "12137                Passenger Movement Cross-Border Bus        NaN  \n",
       "\n",
       "[12936 rows x 4 columns]"
      ]
     },
     "execution_count": 10,
     "metadata": {},
     "output_type": "execute_result"
    }
   ],
   "source": [
    "ascending_passenger_movement_df = passenger_movement_df.sort_values(by='VALUE', ascending=False)\n",
    "ascending_passenger_movement_df\n",
    "#copied"
   ]
  },
  {
   "cell_type": "code",
   "execution_count": 11,
   "id": "e5af6f19",
   "metadata": {},
   "outputs": [],
   "source": [
    "#function to convert imported year to a decimal\n",
    "def year_month_to_decimal(year_month):\n",
    "    \n",
    "    year = int(year_month[:4])\n",
    "    month = int(year_month[4:])\n",
    "    decimal_month = month / 12.0\n",
    "    return year + decimal_month\n",
    "#copied"
   ]
  },
  {
   "cell_type": "code",
   "execution_count": 12,
   "id": "6c0c21fc",
   "metadata": {},
   "outputs": [
    {
     "data": {
      "text/html": [
       "<div>\n",
       "<style scoped>\n",
       "    .dataframe tbody tr th:only-of-type {\n",
       "        vertical-align: middle;\n",
       "    }\n",
       "\n",
       "    .dataframe tbody tr th {\n",
       "        vertical-align: top;\n",
       "    }\n",
       "\n",
       "    .dataframe thead th {\n",
       "        text-align: right;\n",
       "    }\n",
       "</style>\n",
       "<table border=\"1\" class=\"dataframe\">\n",
       "  <thead>\n",
       "    <tr style=\"text-align: right;\">\n",
       "      <th></th>\n",
       "      <th>Year</th>\n",
       "      <th>Direction</th>\n",
       "      <th>Type of Passenger Movement</th>\n",
       "      <th>VALUE</th>\n",
       "      <th>decimal_year</th>\n",
       "    </tr>\n",
       "  </thead>\n",
       "  <tbody>\n",
       "    <tr>\n",
       "      <th>0</th>\n",
       "      <td>196101</td>\n",
       "      <td>Arriving in Eire</td>\n",
       "      <td>Passenger Movement by Sea to All Countries</td>\n",
       "      <td>20102.0</td>\n",
       "      <td>1961.083333</td>\n",
       "    </tr>\n",
       "    <tr>\n",
       "      <th>1</th>\n",
       "      <td>196101</td>\n",
       "      <td>Arriving in Eire</td>\n",
       "      <td>Passenger Movement by Sea to Great Britain</td>\n",
       "      <td>19963.0</td>\n",
       "      <td>1961.083333</td>\n",
       "    </tr>\n",
       "    <tr>\n",
       "      <th>2</th>\n",
       "      <td>196101</td>\n",
       "      <td>Arriving in Eire</td>\n",
       "      <td>Passenger Movement by Sea to Countries Other T...</td>\n",
       "      <td>139.0</td>\n",
       "      <td>1961.083333</td>\n",
       "    </tr>\n",
       "    <tr>\n",
       "      <th>3</th>\n",
       "      <td>196101</td>\n",
       "      <td>Arriving in Eire</td>\n",
       "      <td>Passenger Movement Cross-Border Rail</td>\n",
       "      <td>10344.0</td>\n",
       "      <td>1961.083333</td>\n",
       "    </tr>\n",
       "    <tr>\n",
       "      <th>4</th>\n",
       "      <td>196101</td>\n",
       "      <td>Arriving in Eire</td>\n",
       "      <td>Passenger Movement Cross-Border Bus</td>\n",
       "      <td>40063.0</td>\n",
       "      <td>1961.083333</td>\n",
       "    </tr>\n",
       "    <tr>\n",
       "      <th>...</th>\n",
       "      <td>...</td>\n",
       "      <td>...</td>\n",
       "      <td>...</td>\n",
       "      <td>...</td>\n",
       "      <td>...</td>\n",
       "    </tr>\n",
       "    <tr>\n",
       "      <th>12931</th>\n",
       "      <td>200912</td>\n",
       "      <td>Departing Eire</td>\n",
       "      <td>Passenger Movement by Air from Dublin Airport</td>\n",
       "      <td>664962.0</td>\n",
       "      <td>2010.000000</td>\n",
       "    </tr>\n",
       "    <tr>\n",
       "      <th>12932</th>\n",
       "      <td>200912</td>\n",
       "      <td>Departing Eire</td>\n",
       "      <td>Passenger Movement by Air from Cork Airport</td>\n",
       "      <td>76086.0</td>\n",
       "      <td>2010.000000</td>\n",
       "    </tr>\n",
       "    <tr>\n",
       "      <th>12933</th>\n",
       "      <td>200912</td>\n",
       "      <td>Departing Eire</td>\n",
       "      <td>Passenger Movement by Air from Shannon Airport</td>\n",
       "      <td>61229.0</td>\n",
       "      <td>2010.000000</td>\n",
       "    </tr>\n",
       "    <tr>\n",
       "      <th>12934</th>\n",
       "      <td>200912</td>\n",
       "      <td>Departing Eire</td>\n",
       "      <td>Passenger Movement by Air from Shannon Airport...</td>\n",
       "      <td>50767.0</td>\n",
       "      <td>2010.000000</td>\n",
       "    </tr>\n",
       "    <tr>\n",
       "      <th>12935</th>\n",
       "      <td>200912</td>\n",
       "      <td>Departing Eire</td>\n",
       "      <td>Passenger Movement by Air from Shannon Airport...</td>\n",
       "      <td>10462.0</td>\n",
       "      <td>2010.000000</td>\n",
       "    </tr>\n",
       "  </tbody>\n",
       "</table>\n",
       "<p>12936 rows × 5 columns</p>\n",
       "</div>"
      ],
      "text/plain": [
       "         Year         Direction   \n",
       "0      196101  Arriving in Eire  \\\n",
       "1      196101  Arriving in Eire   \n",
       "2      196101  Arriving in Eire   \n",
       "3      196101  Arriving in Eire   \n",
       "4      196101  Arriving in Eire   \n",
       "...       ...               ...   \n",
       "12931  200912    Departing Eire   \n",
       "12932  200912    Departing Eire   \n",
       "12933  200912    Departing Eire   \n",
       "12934  200912    Departing Eire   \n",
       "12935  200912    Departing Eire   \n",
       "\n",
       "                              Type of Passenger Movement     VALUE   \n",
       "0             Passenger Movement by Sea to All Countries   20102.0  \\\n",
       "1             Passenger Movement by Sea to Great Britain   19963.0   \n",
       "2      Passenger Movement by Sea to Countries Other T...     139.0   \n",
       "3                   Passenger Movement Cross-Border Rail   10344.0   \n",
       "4                    Passenger Movement Cross-Border Bus   40063.0   \n",
       "...                                                  ...       ...   \n",
       "12931      Passenger Movement by Air from Dublin Airport  664962.0   \n",
       "12932        Passenger Movement by Air from Cork Airport   76086.0   \n",
       "12933     Passenger Movement by Air from Shannon Airport   61229.0   \n",
       "12934  Passenger Movement by Air from Shannon Airport...   50767.0   \n",
       "12935  Passenger Movement by Air from Shannon Airport...   10462.0   \n",
       "\n",
       "       decimal_year  \n",
       "0       1961.083333  \n",
       "1       1961.083333  \n",
       "2       1961.083333  \n",
       "3       1961.083333  \n",
       "4       1961.083333  \n",
       "...             ...  \n",
       "12931   2010.000000  \n",
       "12932   2010.000000  \n",
       "12933   2010.000000  \n",
       "12934   2010.000000  \n",
       "12935   2010.000000  \n",
       "\n",
       "[12936 rows x 5 columns]"
      ]
     },
     "execution_count": 12,
     "metadata": {},
     "output_type": "execute_result"
    }
   ],
   "source": [
    "passenger_movement_df['Year'] = passenger_movement_df['Year'].astype(str)\n",
    "passenger_movement_df['decimal_year'] = passenger_movement_df['Year'].apply(year_month_to_decimal)\n",
    "passenger_movement_df['decimal_year'] = passenger_movement_df['decimal_year'].astype(float)\n",
    "passenger_movement_df\n",
    "#applying the function to the year \n",
    "#copied"
   ]
  },
  {
   "cell_type": "code",
   "execution_count": 13,
   "id": "3fe75130",
   "metadata": {},
   "outputs": [
    {
     "data": {
      "text/html": [
       "<div>\n",
       "<style scoped>\n",
       "    .dataframe tbody tr th:only-of-type {\n",
       "        vertical-align: middle;\n",
       "    }\n",
       "\n",
       "    .dataframe tbody tr th {\n",
       "        vertical-align: top;\n",
       "    }\n",
       "\n",
       "    .dataframe thead th {\n",
       "        text-align: right;\n",
       "    }\n",
       "</style>\n",
       "<table border=\"1\" class=\"dataframe\">\n",
       "  <thead>\n",
       "    <tr style=\"text-align: right;\">\n",
       "      <th></th>\n",
       "      <th>Year</th>\n",
       "      <th>Direction</th>\n",
       "      <th>Type of Passenger Movement</th>\n",
       "      <th>VALUE</th>\n",
       "      <th>decimal_year</th>\n",
       "    </tr>\n",
       "  </thead>\n",
       "  <tbody>\n",
       "    <tr>\n",
       "      <th>0</th>\n",
       "      <td>196101</td>\n",
       "      <td>Arriving in Eire</td>\n",
       "      <td>Passenger Movement by Sea to All Countries</td>\n",
       "      <td>20102.0</td>\n",
       "      <td>1961.083333</td>\n",
       "    </tr>\n",
       "    <tr>\n",
       "      <th>1</th>\n",
       "      <td>196101</td>\n",
       "      <td>Arriving in Eire</td>\n",
       "      <td>Passenger Movement by Sea to Great Britain</td>\n",
       "      <td>19963.0</td>\n",
       "      <td>1961.083333</td>\n",
       "    </tr>\n",
       "    <tr>\n",
       "      <th>2</th>\n",
       "      <td>196101</td>\n",
       "      <td>Arriving in Eire</td>\n",
       "      <td>Passenger Movement by Sea to Countries Other T...</td>\n",
       "      <td>139.0</td>\n",
       "      <td>1961.083333</td>\n",
       "    </tr>\n",
       "    <tr>\n",
       "      <th>3</th>\n",
       "      <td>196101</td>\n",
       "      <td>Arriving in Eire</td>\n",
       "      <td>Passenger Movement Cross-Border Rail</td>\n",
       "      <td>10344.0</td>\n",
       "      <td>1961.083333</td>\n",
       "    </tr>\n",
       "    <tr>\n",
       "      <th>4</th>\n",
       "      <td>196101</td>\n",
       "      <td>Arriving in Eire</td>\n",
       "      <td>Passenger Movement Cross-Border Bus</td>\n",
       "      <td>40063.0</td>\n",
       "      <td>1961.083333</td>\n",
       "    </tr>\n",
       "    <tr>\n",
       "      <th>5</th>\n",
       "      <td>196101</td>\n",
       "      <td>Arriving in Eire</td>\n",
       "      <td>Passenger Movement by Air from All Airports</td>\n",
       "      <td>18098.0</td>\n",
       "      <td>1961.083333</td>\n",
       "    </tr>\n",
       "    <tr>\n",
       "      <th>6</th>\n",
       "      <td>196101</td>\n",
       "      <td>Arriving in Eire</td>\n",
       "      <td>Passenger Movement by Air from Dublin Airport</td>\n",
       "      <td>16762.0</td>\n",
       "      <td>1961.083333</td>\n",
       "    </tr>\n",
       "    <tr>\n",
       "      <th>7</th>\n",
       "      <td>196101</td>\n",
       "      <td>Arriving in Eire</td>\n",
       "      <td>Passenger Movement by Air from Cork Airport</td>\n",
       "      <td>0.0</td>\n",
       "      <td>1961.083333</td>\n",
       "    </tr>\n",
       "    <tr>\n",
       "      <th>8</th>\n",
       "      <td>196101</td>\n",
       "      <td>Arriving in Eire</td>\n",
       "      <td>Passenger Movement by Air from Shannon Airport</td>\n",
       "      <td>1336.0</td>\n",
       "      <td>1961.083333</td>\n",
       "    </tr>\n",
       "    <tr>\n",
       "      <th>9</th>\n",
       "      <td>196101</td>\n",
       "      <td>Arriving in Eire</td>\n",
       "      <td>Passenger Movement by Air from Shannon Airport...</td>\n",
       "      <td>747.0</td>\n",
       "      <td>1961.083333</td>\n",
       "    </tr>\n",
       "    <tr>\n",
       "      <th>10</th>\n",
       "      <td>196101</td>\n",
       "      <td>Arriving in Eire</td>\n",
       "      <td>Passenger Movement by Air from Shannon Airport...</td>\n",
       "      <td>589.0</td>\n",
       "      <td>1961.083333</td>\n",
       "    </tr>\n",
       "    <tr>\n",
       "      <th>11</th>\n",
       "      <td>196101</td>\n",
       "      <td>Departing Eire</td>\n",
       "      <td>Passenger Movement by Sea to All Countries</td>\n",
       "      <td>44076.0</td>\n",
       "      <td>1961.083333</td>\n",
       "    </tr>\n",
       "    <tr>\n",
       "      <th>12</th>\n",
       "      <td>196101</td>\n",
       "      <td>Departing Eire</td>\n",
       "      <td>Passenger Movement by Sea to Great Britain</td>\n",
       "      <td>43860.0</td>\n",
       "      <td>1961.083333</td>\n",
       "    </tr>\n",
       "    <tr>\n",
       "      <th>13</th>\n",
       "      <td>196101</td>\n",
       "      <td>Departing Eire</td>\n",
       "      <td>Passenger Movement by Sea to Countries Other T...</td>\n",
       "      <td>216.0</td>\n",
       "      <td>1961.083333</td>\n",
       "    </tr>\n",
       "    <tr>\n",
       "      <th>14</th>\n",
       "      <td>196101</td>\n",
       "      <td>Departing Eire</td>\n",
       "      <td>Passenger Movement Cross-Border Rail</td>\n",
       "      <td>9967.0</td>\n",
       "      <td>1961.083333</td>\n",
       "    </tr>\n",
       "    <tr>\n",
       "      <th>15</th>\n",
       "      <td>196101</td>\n",
       "      <td>Departing Eire</td>\n",
       "      <td>Passenger Movement Cross-Border Bus</td>\n",
       "      <td>40137.0</td>\n",
       "      <td>1961.083333</td>\n",
       "    </tr>\n",
       "    <tr>\n",
       "      <th>16</th>\n",
       "      <td>196101</td>\n",
       "      <td>Departing Eire</td>\n",
       "      <td>Passenger Movement by Air from All Airports</td>\n",
       "      <td>27496.0</td>\n",
       "      <td>1961.083333</td>\n",
       "    </tr>\n",
       "    <tr>\n",
       "      <th>17</th>\n",
       "      <td>196101</td>\n",
       "      <td>Departing Eire</td>\n",
       "      <td>Passenger Movement by Air from Dublin Airport</td>\n",
       "      <td>24166.0</td>\n",
       "      <td>1961.083333</td>\n",
       "    </tr>\n",
       "    <tr>\n",
       "      <th>18</th>\n",
       "      <td>196101</td>\n",
       "      <td>Departing Eire</td>\n",
       "      <td>Passenger Movement by Air from Cork Airport</td>\n",
       "      <td>0.0</td>\n",
       "      <td>1961.083333</td>\n",
       "    </tr>\n",
       "    <tr>\n",
       "      <th>19</th>\n",
       "      <td>196101</td>\n",
       "      <td>Departing Eire</td>\n",
       "      <td>Passenger Movement by Air from Shannon Airport</td>\n",
       "      <td>3330.0</td>\n",
       "      <td>1961.083333</td>\n",
       "    </tr>\n",
       "  </tbody>\n",
       "</table>\n",
       "</div>"
      ],
      "text/plain": [
       "      Year         Direction   \n",
       "0   196101  Arriving in Eire  \\\n",
       "1   196101  Arriving in Eire   \n",
       "2   196101  Arriving in Eire   \n",
       "3   196101  Arriving in Eire   \n",
       "4   196101  Arriving in Eire   \n",
       "5   196101  Arriving in Eire   \n",
       "6   196101  Arriving in Eire   \n",
       "7   196101  Arriving in Eire   \n",
       "8   196101  Arriving in Eire   \n",
       "9   196101  Arriving in Eire   \n",
       "10  196101  Arriving in Eire   \n",
       "11  196101    Departing Eire   \n",
       "12  196101    Departing Eire   \n",
       "13  196101    Departing Eire   \n",
       "14  196101    Departing Eire   \n",
       "15  196101    Departing Eire   \n",
       "16  196101    Departing Eire   \n",
       "17  196101    Departing Eire   \n",
       "18  196101    Departing Eire   \n",
       "19  196101    Departing Eire   \n",
       "\n",
       "                           Type of Passenger Movement    VALUE  decimal_year  \n",
       "0          Passenger Movement by Sea to All Countries  20102.0   1961.083333  \n",
       "1          Passenger Movement by Sea to Great Britain  19963.0   1961.083333  \n",
       "2   Passenger Movement by Sea to Countries Other T...    139.0   1961.083333  \n",
       "3                Passenger Movement Cross-Border Rail  10344.0   1961.083333  \n",
       "4                 Passenger Movement Cross-Border Bus  40063.0   1961.083333  \n",
       "5         Passenger Movement by Air from All Airports  18098.0   1961.083333  \n",
       "6       Passenger Movement by Air from Dublin Airport  16762.0   1961.083333  \n",
       "7         Passenger Movement by Air from Cork Airport      0.0   1961.083333  \n",
       "8      Passenger Movement by Air from Shannon Airport   1336.0   1961.083333  \n",
       "9   Passenger Movement by Air from Shannon Airport...    747.0   1961.083333  \n",
       "10  Passenger Movement by Air from Shannon Airport...    589.0   1961.083333  \n",
       "11         Passenger Movement by Sea to All Countries  44076.0   1961.083333  \n",
       "12         Passenger Movement by Sea to Great Britain  43860.0   1961.083333  \n",
       "13  Passenger Movement by Sea to Countries Other T...    216.0   1961.083333  \n",
       "14               Passenger Movement Cross-Border Rail   9967.0   1961.083333  \n",
       "15                Passenger Movement Cross-Border Bus  40137.0   1961.083333  \n",
       "16        Passenger Movement by Air from All Airports  27496.0   1961.083333  \n",
       "17      Passenger Movement by Air from Dublin Airport  24166.0   1961.083333  \n",
       "18        Passenger Movement by Air from Cork Airport      0.0   1961.083333  \n",
       "19     Passenger Movement by Air from Shannon Airport   3330.0   1961.083333  "
      ]
     },
     "execution_count": 13,
     "metadata": {},
     "output_type": "execute_result"
    }
   ],
   "source": [
    "passenger_movement_df.head(20)"
   ]
  },
  {
   "cell_type": "code",
   "execution_count": 14,
   "id": "5825b55a",
   "metadata": {},
   "outputs": [
    {
     "data": {
      "text/plain": [
       "(12936, 5)"
      ]
     },
     "execution_count": 14,
     "metadata": {},
     "output_type": "execute_result"
    }
   ],
   "source": [
    "passenger_movement_df.shape #12936 rows of data, 10 columns"
   ]
  },
  {
   "cell_type": "code",
   "execution_count": 15,
   "id": "58e4a9e1",
   "metadata": {},
   "outputs": [
    {
     "name": "stdout",
     "output_type": "stream",
     "text": [
      "<class 'pandas.core.frame.DataFrame'>\n",
      "RangeIndex: 12936 entries, 0 to 12935\n",
      "Data columns (total 5 columns):\n",
      " #   Column                      Non-Null Count  Dtype  \n",
      "---  ------                      --------------  -----  \n",
      " 0   Year                        12936 non-null  object \n",
      " 1   Direction                   12936 non-null  object \n",
      " 2   Type of Passenger Movement  12936 non-null  object \n",
      " 3   VALUE                       12934 non-null  float64\n",
      " 4   decimal_year                12936 non-null  float64\n",
      "dtypes: float64(2), object(3)\n",
      "memory usage: 505.4+ KB\n"
     ]
    }
   ],
   "source": [
    "passenger_movement_df.info() #two values missing\n",
    "#copied"
   ]
  },
  {
   "cell_type": "code",
   "execution_count": 32,
   "id": "1db9380b",
   "metadata": {},
   "outputs": [
    {
     "name": "stdout",
     "output_type": "stream",
     "text": [
      "False\n"
     ]
    }
   ],
   "source": [
    "print(passenger_movement_df.isnull().values.any())\n",
    "#copied"
   ]
  },
  {
   "cell_type": "code",
   "execution_count": 17,
   "id": "5275ca81",
   "metadata": {},
   "outputs": [
    {
     "name": "stdout",
     "output_type": "stream",
     "text": [
      "Year                          0\n",
      "Direction                     0\n",
      "Type of Passenger Movement    0\n",
      "VALUE                         2\n",
      "decimal_year                  0\n",
      "dtype: int64\n"
     ]
    }
   ],
   "source": [
    "print(passenger_movement_df.isnull().sum())\n",
    "#copied"
   ]
  },
  {
   "cell_type": "code",
   "execution_count": 18,
   "id": "285ac4c7",
   "metadata": {},
   "outputs": [],
   "source": [
    "#Since the number of rows with null values is very small compared to the whole data set, the rows will be removed\n",
    "passenger_movement_df.dropna(axis=0,inplace=True) \n",
    "#copied"
   ]
  },
  {
   "cell_type": "code",
   "execution_count": 19,
   "id": "531c67b6",
   "metadata": {},
   "outputs": [
    {
     "data": {
      "text/plain": [
       "(12934, 5)"
      ]
     },
     "execution_count": 19,
     "metadata": {},
     "output_type": "execute_result"
    }
   ],
   "source": [
    "passenger_movement_df.shape #two rows have been deleted from the original dataset\n",
    "#copied"
   ]
  },
  {
   "cell_type": "code",
   "execution_count": 20,
   "id": "d73870ee",
   "metadata": {},
   "outputs": [],
   "source": [
    "#Splitting data into two data frames: arriving into Ireland and departing from Ireland, making sure to not double count\n",
    "arriving_df = passenger_movement_df[passenger_movement_df['Direction'].isin(['Arriving in Eire'])]\n",
    "options =['Passenger Movement by Sea to All Countries', 'Passenger Movement Cross-Border Rail', 'Passenger Movement Cross-Border Bus', 'Passenger Movement by Air from All Airports']\n",
    "arriving_net_df = arriving_df[arriving_df['Type of Passenger Movement'].isin(options)]\n",
    "departing_df = passenger_movement_df[passenger_movement_df['Direction'].isin(['Departing Eire'])]\n",
    "departing_net_df = departing_df[departing_df['Type of Passenger Movement'].isin(options)]\n",
    "passenger_movement_net_df = passenger_movement_df[passenger_movement_df['Type of Passenger Movement'].isin(options)]\n",
    "\n",
    "#copied"
   ]
  },
  {
   "cell_type": "code",
   "execution_count": 21,
   "id": "728c6de5",
   "metadata": {},
   "outputs": [
    {
     "data": {
      "text/html": [
       "<div>\n",
       "<style scoped>\n",
       "    .dataframe tbody tr th:only-of-type {\n",
       "        vertical-align: middle;\n",
       "    }\n",
       "\n",
       "    .dataframe tbody tr th {\n",
       "        vertical-align: top;\n",
       "    }\n",
       "\n",
       "    .dataframe thead th {\n",
       "        text-align: right;\n",
       "    }\n",
       "</style>\n",
       "<table border=\"1\" class=\"dataframe\">\n",
       "  <thead>\n",
       "    <tr style=\"text-align: right;\">\n",
       "      <th></th>\n",
       "      <th>VALUE</th>\n",
       "      <th>decimal_year</th>\n",
       "    </tr>\n",
       "  </thead>\n",
       "  <tbody>\n",
       "    <tr>\n",
       "      <th>count</th>\n",
       "      <td>4.702000e+03</td>\n",
       "      <td>4702.000000</td>\n",
       "    </tr>\n",
       "    <tr>\n",
       "      <th>mean</th>\n",
       "      <td>1.302282e+05</td>\n",
       "      <td>1985.532539</td>\n",
       "    </tr>\n",
       "    <tr>\n",
       "      <th>std</th>\n",
       "      <td>2.245016e+05</td>\n",
       "      <td>14.142647</td>\n",
       "    </tr>\n",
       "    <tr>\n",
       "      <th>min</th>\n",
       "      <td>4.815000e+03</td>\n",
       "      <td>1961.083333</td>\n",
       "    </tr>\n",
       "    <tr>\n",
       "      <th>25%</th>\n",
       "      <td>2.872375e+04</td>\n",
       "      <td>1973.270833</td>\n",
       "    </tr>\n",
       "    <tr>\n",
       "      <th>50%</th>\n",
       "      <td>4.420000e+04</td>\n",
       "      <td>1985.500000</td>\n",
       "    </tr>\n",
       "    <tr>\n",
       "      <th>75%</th>\n",
       "      <td>1.245878e+05</td>\n",
       "      <td>1997.750000</td>\n",
       "    </tr>\n",
       "    <tr>\n",
       "      <th>max</th>\n",
       "      <td>1.603381e+06</td>\n",
       "      <td>2010.000000</td>\n",
       "    </tr>\n",
       "  </tbody>\n",
       "</table>\n",
       "</div>"
      ],
      "text/plain": [
       "              VALUE  decimal_year\n",
       "count  4.702000e+03   4702.000000\n",
       "mean   1.302282e+05   1985.532539\n",
       "std    2.245016e+05     14.142647\n",
       "min    4.815000e+03   1961.083333\n",
       "25%    2.872375e+04   1973.270833\n",
       "50%    4.420000e+04   1985.500000\n",
       "75%    1.245878e+05   1997.750000\n",
       "max    1.603381e+06   2010.000000"
      ]
     },
     "execution_count": 21,
     "metadata": {},
     "output_type": "execute_result"
    }
   ],
   "source": [
    "passenger_movement_net_df.describe() #TLIST is the time so not really relevant here\n",
    "#copied"
   ]
  },
  {
   "cell_type": "code",
   "execution_count": 22,
   "id": "bc0c66c1",
   "metadata": {},
   "outputs": [
    {
     "data": {
      "text/html": [
       "<div>\n",
       "<style scoped>\n",
       "    .dataframe tbody tr th:only-of-type {\n",
       "        vertical-align: middle;\n",
       "    }\n",
       "\n",
       "    .dataframe tbody tr th {\n",
       "        vertical-align: top;\n",
       "    }\n",
       "\n",
       "    .dataframe thead th {\n",
       "        text-align: right;\n",
       "    }\n",
       "</style>\n",
       "<table border=\"1\" class=\"dataframe\">\n",
       "  <thead>\n",
       "    <tr style=\"text-align: right;\">\n",
       "      <th></th>\n",
       "      <th>Year</th>\n",
       "      <th>Direction</th>\n",
       "      <th>Type of Passenger Movement</th>\n",
       "    </tr>\n",
       "  </thead>\n",
       "  <tbody>\n",
       "    <tr>\n",
       "      <th>count</th>\n",
       "      <td>4702</td>\n",
       "      <td>4702</td>\n",
       "      <td>4702</td>\n",
       "    </tr>\n",
       "    <tr>\n",
       "      <th>unique</th>\n",
       "      <td>588</td>\n",
       "      <td>2</td>\n",
       "      <td>4</td>\n",
       "    </tr>\n",
       "    <tr>\n",
       "      <th>top</th>\n",
       "      <td>196101</td>\n",
       "      <td>Arriving in Eire</td>\n",
       "      <td>Passenger Movement by Sea to All Countries</td>\n",
       "    </tr>\n",
       "    <tr>\n",
       "      <th>freq</th>\n",
       "      <td>8</td>\n",
       "      <td>2351</td>\n",
       "      <td>1176</td>\n",
       "    </tr>\n",
       "  </tbody>\n",
       "</table>\n",
       "</div>"
      ],
      "text/plain": [
       "          Year         Direction                  Type of Passenger Movement\n",
       "count     4702              4702                                        4702\n",
       "unique     588                 2                                           4\n",
       "top     196101  Arriving in Eire  Passenger Movement by Sea to All Countries\n",
       "freq         8              2351                                        1176"
      ]
     },
     "execution_count": 22,
     "metadata": {},
     "output_type": "execute_result"
    }
   ],
   "source": [
    "passenger_movement_net_df.describe(include=\"object\")\n",
    "#copied"
   ]
  },
  {
   "cell_type": "code",
   "execution_count": 23,
   "id": "836bda89",
   "metadata": {},
   "outputs": [
    {
     "data": {
      "text/plain": [
       "array(['Arriving in Eire', 'Departing Eire'], dtype=object)"
      ]
     },
     "execution_count": 23,
     "metadata": {},
     "output_type": "execute_result"
    }
   ],
   "source": [
    "passenger_movement_df[\"Direction\"].unique()\n",
    "#copired"
   ]
  },
  {
   "cell_type": "code",
   "execution_count": 24,
   "id": "94ccc4cf",
   "metadata": {},
   "outputs": [
    {
     "data": {
      "text/plain": [
       "array(['Passenger Movement by Sea to All Countries',\n",
       "       'Passenger Movement by Sea to Great Britain',\n",
       "       'Passenger Movement by Sea to Countries Other Than Great Britain',\n",
       "       'Passenger Movement Cross-Border Rail',\n",
       "       'Passenger Movement Cross-Border Bus',\n",
       "       'Passenger Movement by Air from All Airports',\n",
       "       'Passenger Movement by Air from Dublin Airport',\n",
       "       'Passenger Movement by Air from Cork Airport',\n",
       "       'Passenger Movement by Air from Shannon Airport',\n",
       "       'Passenger Movement by Air from Shannon Airport (Eastbound)',\n",
       "       'Passenger Movement by Air from Shannon Airport (Westbound)'],\n",
       "      dtype=object)"
      ]
     },
     "execution_count": 24,
     "metadata": {},
     "output_type": "execute_result"
    }
   ],
   "source": [
    "passenger_movement_df[\"Type of Passenger Movement\"].unique()\n",
    "#copied"
   ]
  },
  {
   "cell_type": "code",
   "execution_count": 25,
   "id": "b00c6a0a",
   "metadata": {},
   "outputs": [],
   "source": [
    "def season(x):\n",
    "    month = int(str(x)[-2:])\n",
    "    if month in [12, 1, 2]:\n",
    "        return 'Winter'\n",
    "    elif month in [3, 4, 5]:\n",
    "        return 'Spring'\n",
    "    elif month in [6, 7, 8]:\n",
    "        return 'Summer'\n",
    "    else:\n",
    "        return 'Autumn'\n",
    "    \n",
    "passenger_movement_df['Season'] =  passenger_movement_df['Year'].apply(season)"
   ]
  },
  {
   "cell_type": "markdown",
   "id": "853646b4",
   "metadata": {},
   "source": [
    "# Want to use a for loop to automate the splitting of the dataframes"
   ]
  },
  {
   "cell_type": "code",
   "execution_count": 26,
   "id": "7c3eb96d",
   "metadata": {},
   "outputs": [
    {
     "data": {
      "text/html": [
       "<div>\n",
       "<style scoped>\n",
       "    .dataframe tbody tr th:only-of-type {\n",
       "        vertical-align: middle;\n",
       "    }\n",
       "\n",
       "    .dataframe tbody tr th {\n",
       "        vertical-align: top;\n",
       "    }\n",
       "\n",
       "    .dataframe thead th {\n",
       "        text-align: right;\n",
       "    }\n",
       "</style>\n",
       "<table border=\"1\" class=\"dataframe\">\n",
       "  <thead>\n",
       "    <tr style=\"text-align: right;\">\n",
       "      <th></th>\n",
       "      <th>Year</th>\n",
       "      <th>Direction</th>\n",
       "      <th>Type of Passenger Movement</th>\n",
       "      <th>VALUE</th>\n",
       "      <th>decimal_year</th>\n",
       "    </tr>\n",
       "  </thead>\n",
       "  <tbody>\n",
       "    <tr>\n",
       "      <th>11</th>\n",
       "      <td>196101</td>\n",
       "      <td>Departing Eire</td>\n",
       "      <td>Passenger Movement by Sea to All Countries</td>\n",
       "      <td>44076.0</td>\n",
       "      <td>1961.083333</td>\n",
       "    </tr>\n",
       "    <tr>\n",
       "      <th>14</th>\n",
       "      <td>196101</td>\n",
       "      <td>Departing Eire</td>\n",
       "      <td>Passenger Movement Cross-Border Rail</td>\n",
       "      <td>9967.0</td>\n",
       "      <td>1961.083333</td>\n",
       "    </tr>\n",
       "    <tr>\n",
       "      <th>15</th>\n",
       "      <td>196101</td>\n",
       "      <td>Departing Eire</td>\n",
       "      <td>Passenger Movement Cross-Border Bus</td>\n",
       "      <td>40137.0</td>\n",
       "      <td>1961.083333</td>\n",
       "    </tr>\n",
       "    <tr>\n",
       "      <th>16</th>\n",
       "      <td>196101</td>\n",
       "      <td>Departing Eire</td>\n",
       "      <td>Passenger Movement by Air from All Airports</td>\n",
       "      <td>27496.0</td>\n",
       "      <td>1961.083333</td>\n",
       "    </tr>\n",
       "    <tr>\n",
       "      <th>33</th>\n",
       "      <td>196102</td>\n",
       "      <td>Departing Eire</td>\n",
       "      <td>Passenger Movement by Sea to All Countries</td>\n",
       "      <td>22006.0</td>\n",
       "      <td>1961.166667</td>\n",
       "    </tr>\n",
       "    <tr>\n",
       "      <th>36</th>\n",
       "      <td>196102</td>\n",
       "      <td>Departing Eire</td>\n",
       "      <td>Passenger Movement Cross-Border Rail</td>\n",
       "      <td>9944.0</td>\n",
       "      <td>1961.166667</td>\n",
       "    </tr>\n",
       "    <tr>\n",
       "      <th>37</th>\n",
       "      <td>196102</td>\n",
       "      <td>Departing Eire</td>\n",
       "      <td>Passenger Movement Cross-Border Bus</td>\n",
       "      <td>36091.0</td>\n",
       "      <td>1961.166667</td>\n",
       "    </tr>\n",
       "    <tr>\n",
       "      <th>38</th>\n",
       "      <td>196102</td>\n",
       "      <td>Departing Eire</td>\n",
       "      <td>Passenger Movement by Air from All Airports</td>\n",
       "      <td>18533.0</td>\n",
       "      <td>1961.166667</td>\n",
       "    </tr>\n",
       "    <tr>\n",
       "      <th>55</th>\n",
       "      <td>196103</td>\n",
       "      <td>Departing Eire</td>\n",
       "      <td>Passenger Movement by Sea to All Countries</td>\n",
       "      <td>27749.0</td>\n",
       "      <td>1961.250000</td>\n",
       "    </tr>\n",
       "    <tr>\n",
       "      <th>58</th>\n",
       "      <td>196103</td>\n",
       "      <td>Departing Eire</td>\n",
       "      <td>Passenger Movement Cross-Border Rail</td>\n",
       "      <td>16116.0</td>\n",
       "      <td>1961.250000</td>\n",
       "    </tr>\n",
       "    <tr>\n",
       "      <th>59</th>\n",
       "      <td>196103</td>\n",
       "      <td>Departing Eire</td>\n",
       "      <td>Passenger Movement Cross-Border Bus</td>\n",
       "      <td>39821.0</td>\n",
       "      <td>1961.250000</td>\n",
       "    </tr>\n",
       "    <tr>\n",
       "      <th>60</th>\n",
       "      <td>196103</td>\n",
       "      <td>Departing Eire</td>\n",
       "      <td>Passenger Movement by Air from All Airports</td>\n",
       "      <td>23420.0</td>\n",
       "      <td>1961.250000</td>\n",
       "    </tr>\n",
       "    <tr>\n",
       "      <th>77</th>\n",
       "      <td>196104</td>\n",
       "      <td>Departing Eire</td>\n",
       "      <td>Passenger Movement by Sea to All Countries</td>\n",
       "      <td>43877.0</td>\n",
       "      <td>1961.333333</td>\n",
       "    </tr>\n",
       "    <tr>\n",
       "      <th>80</th>\n",
       "      <td>196104</td>\n",
       "      <td>Departing Eire</td>\n",
       "      <td>Passenger Movement Cross-Border Rail</td>\n",
       "      <td>14874.0</td>\n",
       "      <td>1961.333333</td>\n",
       "    </tr>\n",
       "    <tr>\n",
       "      <th>81</th>\n",
       "      <td>196104</td>\n",
       "      <td>Departing Eire</td>\n",
       "      <td>Passenger Movement Cross-Border Bus</td>\n",
       "      <td>40823.0</td>\n",
       "      <td>1961.333333</td>\n",
       "    </tr>\n",
       "    <tr>\n",
       "      <th>82</th>\n",
       "      <td>196104</td>\n",
       "      <td>Departing Eire</td>\n",
       "      <td>Passenger Movement by Air from All Airports</td>\n",
       "      <td>32752.0</td>\n",
       "      <td>1961.333333</td>\n",
       "    </tr>\n",
       "    <tr>\n",
       "      <th>99</th>\n",
       "      <td>196105</td>\n",
       "      <td>Departing Eire</td>\n",
       "      <td>Passenger Movement by Sea to All Countries</td>\n",
       "      <td>43925.0</td>\n",
       "      <td>1961.416667</td>\n",
       "    </tr>\n",
       "    <tr>\n",
       "      <th>102</th>\n",
       "      <td>196105</td>\n",
       "      <td>Departing Eire</td>\n",
       "      <td>Passenger Movement Cross-Border Rail</td>\n",
       "      <td>18953.0</td>\n",
       "      <td>1961.416667</td>\n",
       "    </tr>\n",
       "    <tr>\n",
       "      <th>103</th>\n",
       "      <td>196105</td>\n",
       "      <td>Departing Eire</td>\n",
       "      <td>Passenger Movement Cross-Border Bus</td>\n",
       "      <td>43981.0</td>\n",
       "      <td>1961.416667</td>\n",
       "    </tr>\n",
       "    <tr>\n",
       "      <th>104</th>\n",
       "      <td>196105</td>\n",
       "      <td>Departing Eire</td>\n",
       "      <td>Passenger Movement by Air from All Airports</td>\n",
       "      <td>35922.0</td>\n",
       "      <td>1961.416667</td>\n",
       "    </tr>\n",
       "  </tbody>\n",
       "</table>\n",
       "</div>"
      ],
      "text/plain": [
       "       Year       Direction                   Type of Passenger Movement   \n",
       "11   196101  Departing Eire   Passenger Movement by Sea to All Countries  \\\n",
       "14   196101  Departing Eire         Passenger Movement Cross-Border Rail   \n",
       "15   196101  Departing Eire          Passenger Movement Cross-Border Bus   \n",
       "16   196101  Departing Eire  Passenger Movement by Air from All Airports   \n",
       "33   196102  Departing Eire   Passenger Movement by Sea to All Countries   \n",
       "36   196102  Departing Eire         Passenger Movement Cross-Border Rail   \n",
       "37   196102  Departing Eire          Passenger Movement Cross-Border Bus   \n",
       "38   196102  Departing Eire  Passenger Movement by Air from All Airports   \n",
       "55   196103  Departing Eire   Passenger Movement by Sea to All Countries   \n",
       "58   196103  Departing Eire         Passenger Movement Cross-Border Rail   \n",
       "59   196103  Departing Eire          Passenger Movement Cross-Border Bus   \n",
       "60   196103  Departing Eire  Passenger Movement by Air from All Airports   \n",
       "77   196104  Departing Eire   Passenger Movement by Sea to All Countries   \n",
       "80   196104  Departing Eire         Passenger Movement Cross-Border Rail   \n",
       "81   196104  Departing Eire          Passenger Movement Cross-Border Bus   \n",
       "82   196104  Departing Eire  Passenger Movement by Air from All Airports   \n",
       "99   196105  Departing Eire   Passenger Movement by Sea to All Countries   \n",
       "102  196105  Departing Eire         Passenger Movement Cross-Border Rail   \n",
       "103  196105  Departing Eire          Passenger Movement Cross-Border Bus   \n",
       "104  196105  Departing Eire  Passenger Movement by Air from All Airports   \n",
       "\n",
       "       VALUE  decimal_year  \n",
       "11   44076.0   1961.083333  \n",
       "14    9967.0   1961.083333  \n",
       "15   40137.0   1961.083333  \n",
       "16   27496.0   1961.083333  \n",
       "33   22006.0   1961.166667  \n",
       "36    9944.0   1961.166667  \n",
       "37   36091.0   1961.166667  \n",
       "38   18533.0   1961.166667  \n",
       "55   27749.0   1961.250000  \n",
       "58   16116.0   1961.250000  \n",
       "59   39821.0   1961.250000  \n",
       "60   23420.0   1961.250000  \n",
       "77   43877.0   1961.333333  \n",
       "80   14874.0   1961.333333  \n",
       "81   40823.0   1961.333333  \n",
       "82   32752.0   1961.333333  \n",
       "99   43925.0   1961.416667  \n",
       "102  18953.0   1961.416667  \n",
       "103  43981.0   1961.416667  \n",
       "104  35922.0   1961.416667  "
      ]
     },
     "execution_count": 26,
     "metadata": {},
     "output_type": "execute_result"
    }
   ],
   "source": [
    "departing_net_df.head(20)"
   ]
  },
  {
   "cell_type": "code",
   "execution_count": 27,
   "id": "0503b5ce",
   "metadata": {},
   "outputs": [
    {
     "data": {
      "image/png": "[encoded data removed]",
      "text/plain": [
       "<Figure size 640x480 with 1 Axes>"
      ]
     },
     "metadata": {},
     "output_type": "display_data"
    }
   ],
   "source": [
    "sns.histplot(data=passenger_movement_net_df, x=\"VALUE\", kde = True)\n",
    "plt.xlabel('Number of passengers')\n",
    "plt.ylabel('Count')\n",
    "plt.savefig('hist')\n",
    "#copied"
   ]
  },
  {
   "cell_type": "code",
   "execution_count": 33,
   "id": "2dd419da",
   "metadata": {},
   "outputs": [
    {
     "data": {
      "text/plain": [
       "Text(0.5, 1.0, 'Boxplot')"
      ]
     },
     "execution_count": 33,
     "metadata": {},
     "output_type": "execute_result"
    },
    {
     "data": {
      "image/png": "[encoded data removed]",
      "text/plain": [
       "<Figure size 640x480 with 1 Axes>"
      ]
     },
     "metadata": {},
     "output_type": "display_data"
    }
   ],
   "source": [
    "sns.boxplot(y = 'VALUE', data = passenger_movement_net_df) #numbers arriving by sea have remained very stable over the years - presents better on the boxplot, too much variance otherwise\n",
    "plt.title('Boxplot')\n",
    "#copied"
   ]
  },
  {
   "cell_type": "code",
   "execution_count": 29,
   "id": "be64f72b",
   "metadata": {},
   "outputs": [
    {
     "data": {
      "text/plain": [
       "<Axes: xlabel='VALUE', ylabel='Count'>"
      ]
     },
     "execution_count": 29,
     "metadata": {},
     "output_type": "execute_result"
    },
    {
     "data": {
      "image/png": "[encoded data removed]",
      "text/plain": [
       "<Figure size 640x480 with 1 Axes>"
      ]
     },
     "metadata": {},
     "output_type": "display_data"
    }
   ],
   "source": [
    "sns.histplot(data=departing_net_df, x=\"VALUE\", kde = True) #why are there white lines?\n",
    "#arriving_df[\"decimal_year\"] = pd.to_datetime(arriving_df[\"decimal_year\"], format='%Y.%f')\n",
    "#arriving_df[\"sum_year\"] = pd.to_datetime(arriving_df[\"decimal_year\"], format='%Y', errors='coerce') + pd.to_timedelta((arriving_df['decimal_year'] - arriving_df['decimal_year'].astype(int)) * 365.25, unit='D')\n",
    "\n",
    "# Group by year and sum the values in the specified column\n",
    "#sum_for_year = arriving_df.groupby(arriving_df['VALUE'].dt.year)['VALUE'].sum().reset_index()\n",
    "\n",
    "# Create a Seaborn bar plot\n",
    "# plt.figure(figsize=(10, 6))\n",
    "# sns.barplot(x='sum_year', y='VALUE', data=yearly_totals)\n",
    "# plt.xlabel('Year')\n",
    "# plt.ylabel('Sum of Values')\n",
    "# plt.title('Sum of Values by Year')\n",
    "# plt.xticks(rotation=45)\n",
    "# plt.tight_layout()\n",
    "# plt.show()\n",
    "# #need to check about how to plot histogram properly\n",
    "#copied"
   ]
  },
  {
   "cell_type": "markdown",
   "id": "e25126f2",
   "metadata": {},
   "source": [
    "# Normal Distribution"
   ]
  },
  {
   "cell_type": "code",
   "execution_count": 31,
   "id": "fd77445a",
   "metadata": {},
   "outputs": [
    {
     "ename": "NameError",
     "evalue": "name 'departing_by_sea_df' is not defined",
     "output_type": "error",
     "traceback": [
      "\u001b[0;31m---------------------------------------------------------------------------\u001b[0m",
      "\u001b[0;31mNameError\u001b[0m                                 Traceback (most recent call last)",
      "Cell \u001b[0;32mIn[31], line 1\u001b[0m\n\u001b[0;32m----> 1\u001b[0m departing_by_sea_summer_df \u001b[38;5;241m=\u001b[39m departing_by_sea_df[departing_by_sea_df[\u001b[38;5;124m'\u001b[39m\u001b[38;5;124mSeason\u001b[39m\u001b[38;5;124m'\u001b[39m]\u001b[38;5;241m.\u001b[39mstr\u001b[38;5;241m.\u001b[39mcontains(\u001b[38;5;124m'\u001b[39m\u001b[38;5;124mSummer\u001b[39m\u001b[38;5;124m'\u001b[39m)]\n\u001b[1;32m      2\u001b[0m departing_by_air_summer_df \u001b[38;5;241m=\u001b[39m departing_by_air_df[departing_by_air_df[\u001b[38;5;124m'\u001b[39m\u001b[38;5;124mSeason\u001b[39m\u001b[38;5;124m'\u001b[39m]\u001b[38;5;241m.\u001b[39mstr\u001b[38;5;241m.\u001b[39mcontains(\u001b[38;5;124m'\u001b[39m\u001b[38;5;124mSummer\u001b[39m\u001b[38;5;124m'\u001b[39m) ]\n\u001b[1;32m      3\u001b[0m sns\u001b[38;5;241m.\u001b[39mhistplot(data\u001b[38;5;241m=\u001b[39mdeparting_by_sea_summer_df, x\u001b[38;5;241m=\u001b[39m\u001b[38;5;124m\"\u001b[39m\u001b[38;5;124mVALUE\u001b[39m\u001b[38;5;124m\"\u001b[39m, kde \u001b[38;5;241m=\u001b[39m \u001b[38;5;28;01mTrue\u001b[39;00m)\n",
      "\u001b[0;31mNameError\u001b[0m: name 'departing_by_sea_df' is not defined"
     ]
    }
   ],
   "source": [
    "departing_by_sea_summer_df = departing_by_sea_df[departing_by_sea_df['Season'].str.contains('Summer')]\n",
    "departing_by_air_summer_df = departing_by_air_df[departing_by_air_df['Season'].str.contains('Summer') ]\n",
    "sns.histplot(data=departing_by_sea_summer_df, x=\"VALUE\", kde = True)"
   ]
  },
  {
   "cell_type": "code",
   "execution_count": null,
   "id": "fa16501e",
   "metadata": {},
   "outputs": [],
   "source": [
    "sns.histplot(data=departing_by_sea_summer_df, color='red', x=\"VALUE\", kde = True, label='departing_by_sea_summer_df') \n",
    "data = np.random.normal(loc=217441.510204, scale=87330.674017, size=350)\n",
    "sns.histplot(data, kde=True, color='skyblue', bins=30, label='Model Normal Distribution')\n",
    "plt.legend(loc='upper left')\n",
    "# Plot the normal distribution curve\n",
    "plt.savefig('approx norm')\n",
    "plt.show()"
   ]
  },
  {
   "cell_type": "code",
   "execution_count": null,
   "id": "128a1183",
   "metadata": {},
   "outputs": [],
   "source": [
    "norm_dist = departing_by_sea_summer_df.describe()\n",
    "mu = norm_dist.iloc[1, 1]\n",
    "sigma = norm_dist.iloc[2, 1]"
   ]
  },
  {
   "cell_type": "code",
   "execution_count": null,
   "id": "ba50ad3f",
   "metadata": {},
   "outputs": [],
   "source": [
    "norm.cdf(500000, mu, sigma)"
   ]
  },
  {
   "cell_type": "code",
   "execution_count": null,
   "id": "2d9bc990",
   "metadata": {},
   "outputs": [],
   "source": [
    "upper = mu+2*sigma\n",
    "lower = mu-2*sigma\n",
    "print(upper, lower)"
   ]
  },
  {
   "cell_type": "code",
   "execution_count": null,
   "id": "3272e4d7",
   "metadata": {},
   "outputs": [],
   "source": [
    "norm_dist"
   ]
  },
  {
   "cell_type": "code",
   "execution_count": null,
   "id": "53f314c8",
   "metadata": {},
   "outputs": [],
   "source": [
    "#this needs to be summed across all the categories and replotted\n",
    "fig, ax = plt.subplots(figsize=(30,6))\n",
    "ax.scatter(departing_net_df[\"decimal_year\"], departing_net_df[\"VALUE\"])\n",
    "ax.set_xlabel(\"Month\")\n",
    "ax.set_ylabel(\"Numbers leaving\")\n",
    "plt.show()"
   ]
  },
  {
   "cell_type": "code",
   "execution_count": null,
   "id": "b768c769",
   "metadata": {},
   "outputs": [],
   "source": []
  },
  {
   "cell_type": "code",
   "execution_count": null,
   "id": "0a9f802f",
   "metadata": {},
   "outputs": [],
   "source": [
    "fig, ax = plt.subplots(figsize=(30,6))\n",
    "ax.scatter(arriving_net_df[\"decimal_year\"], arriving_net_df[\"VALUE\"])\n",
    "ax.set_xlabel(\"Month\")\n",
    "ax.set_ylabel(\"Numbers arriving\")\n",
    "plt.show()\n"
   ]
  },
  {
   "cell_type": "code",
   "execution_count": null,
   "id": "5da36c0d",
   "metadata": {},
   "outputs": [],
   "source": [
    "arriving_by_air_df = arriving_net_df[arriving_df['Type of Passenger Movement'].isin(['Passenger Movement by Air from All Airports'])]  \n",
    "arriving_by_sea_df = arriving_net_df[arriving_df['Type of Passenger Movement'].isin(['Passenger Movement by Sea to All Countries'])]\n",
    "departing_by_air_df = departing_net_df[departing_df['Type of Passenger Movement'].isin(['Passenger Movement by Air from All Airports'])]\n",
    "departing_by_sea_df = departing_net_df[departing_df['Type of Passenger Movement'].isin(['Passenger Movement by Sea to All Countries'])]\n",
    "#Make this into a for loop\n",
    "#For comparison of methods of entering the country"
   ]
  },
  {
   "cell_type": "code",
   "execution_count": null,
   "id": "28da4936",
   "metadata": {},
   "outputs": [],
   "source": [
    "arriving_by_air_df.head(20)"
   ]
  },
  {
   "cell_type": "code",
   "execution_count": null,
   "id": "010e6bae",
   "metadata": {
    "scrolled": true
   },
   "outputs": [],
   "source": [
    "fig, ax = plt.subplots(figsize=(20,6))\n",
    "ax.scatter(arriving_by_air_df[\"decimal_year\"], arriving_by_air_df[\"VALUE\"], s=10, c='b', marker=\"s\", label='air')\n",
    "ax.scatter(arriving_by_sea_df[\"decimal_year\"], arriving_by_sea_df[\"VALUE\"], c='r', marker=\"o\", label='sea')\n",
    "plt.legend(loc='upper left')\n",
    "ax.set_xlabel(\"Year\")\n",
    "ax.set_ylabel(\"Numbers arriving\")\n",
    "plt.show()"
   ]
  },
  {
   "cell_type": "code",
   "execution_count": null,
   "id": "22428681",
   "metadata": {},
   "outputs": [],
   "source": [
    "fig, ax = plt.subplots(figsize=(20,10))\n",
    "ax.scatter(departing_by_air_df[\"decimal_year\"], departing_by_air_df[\"VALUE\"], s=10, c='green', marker=\"s\", label='departing air')\n",
    "ax.scatter(departing_by_sea_df[\"decimal_year\"],departing_by_sea_df[\"VALUE\"],s=10, c='red', marker=\"s\", label='departing sea')\n",
    "ax.scatter(arriving_by_air_df[\"decimal_year\"], arriving_by_air_df[\"VALUE\"], s=10, c='blue', marker=\"o\", label='arriving air')\n",
    "ax.scatter(arriving_by_sea_df[\"decimal_year\"], arriving_by_sea_df[\"VALUE\"], s=10, c='black', marker=\"o\", label='arriving sea')\n",
    "plt.legend(loc='upper left')\n",
    "ax.set_xlabel(\"Year\")\n",
    "ax.set_ylabel(\"Numbers arriving\")\n",
    "plt.savefig('scatter')\n",
    "plt.show()"
   ]
  },
  {
   "cell_type": "code",
   "execution_count": null,
   "id": "3e968af7",
   "metadata": {},
   "outputs": [],
   "source": [
    "fig, ax = plt.subplots(figsize=(20,6))\n",
    "ax.scatter(arriving_net_df[\"decimal_year\"],arriving_net_df[\"VALUE\"], s=10, c='b', marker=\"s\", label='air')\n",
    "ax.scatter(arriving_net_df[\"decimal_year\"], arriving_net_df[\"VALUE\"], c='r', marker=\"o\", label='sea')\n",
    "plt.legend(loc='upper left')\n",
    "ax.set_xlabel(\"Month\")\n",
    "ax.set_ylabel(\"Numbers arriving\")\n",
    "plt.show()"
   ]
  },
  {
   "cell_type": "code",
   "execution_count": null,
   "id": "a2245afc",
   "metadata": {},
   "outputs": [],
   "source": [
    "#look at a plot of one year - normally distributed?\n",
    "departing_by_air_1961_df = departing_by_air_df[departing_by_air_df['Year'].str.contains('1961')]\n",
    "departing_by_air_1962_df = departing_by_air_df[departing_by_air_df['Year'].str.contains('1962')]\n",
    "fig, ax = plt.subplots(figsize=(20,6))\n",
    "ax.scatter(departing_by_air_1961_df[\"decimal_year\"], departing_by_air_1961_df[\"VALUE\"], s=10, c='b', marker=\"s\", label='1961')\n",
    "ax.scatter(departing_by_air_1962_df[\"decimal_year\"], departing_by_air_1962_df[\"VALUE\"], s=10, c='r', marker=\"s\", label='1962')\n",
    "plt.legend(loc='upper left')\n",
    "ax.set_xlabel(\"Month\")\n",
    "ax.set_ylabel(\"Numbers arriving\")\n",
    "plt.show() "
   ]
  },
  {
   "cell_type": "code",
   "execution_count": null,
   "id": "a58c9b61",
   "metadata": {},
   "outputs": [],
   "source": [
    "sns.boxplot(y = 'VALUE', data = arriving_by_air_df) #numbers arriving by sea have remained very stable over the years - presents better on the boxplot, too much variance otherwise \n",
    "plt.ylabel('Number of passengers arriving by air')"
   ]
  },
  {
   "cell_type": "code",
   "execution_count": null,
   "id": "8b935034",
   "metadata": {},
   "outputs": [],
   "source": [
    "sns.boxplot(y = 'VALUE', data = arriving_by_sea_df) #numbers arriving by sea have remained very stable over the years - presents better on the boxplot, too much variance otherwise\n",
    "plt.ylabel('Number of passengers arriving by sea')\n"
   ]
  },
  {
   "cell_type": "code",
   "execution_count": null,
   "id": "c661e7d0",
   "metadata": {
    "scrolled": true
   },
   "outputs": [],
   "source": [
    "arriving_by_air_df['Dataset'] = 'arriving_by_air_df'\n",
    "arriving_by_sea_df['Dataset'] = 'arriving_by_sea_df'\n",
    "departing_by_sea_df['Dataset'] = 'departing_by_sea_df'\n",
    "departing_by_air_df['Dataset'] = 'departing_by_air_df'\n",
    "all_data = pd.concat([arriving_by_air_df, arriving_by_sea_df, departing_by_air_df, departing_by_sea_df])\n",
    "plt.figure(figsize=(8, 5)) \n",
    "sns.boxplot(x='Dataset', y='VALUE', data=all_data, width=0.5)\n",
    "plt.title('') \n",
    "plt.xlabel('')  \n",
    "plt.ylabel('Number of passengers arriving')  \n",
    "plt.savefig('boxplot')\n",
    "plt.show()\n",
    "\n"
   ]
  },
  {
   "cell_type": "code",
   "execution_count": null,
   "id": "ac256a11",
   "metadata": {},
   "outputs": [],
   "source": [
    "print(arriving_by_air_df.describe(), arriving_by_sea_df.describe())"
   ]
  },
  {
   "cell_type": "markdown",
   "id": "8c95e4c6",
   "metadata": {},
   "source": [
    "# Binomial Distribution"
   ]
  },
  {
   "cell_type": "code",
   "execution_count": null,
   "id": "dae87342",
   "metadata": {},
   "outputs": [],
   "source": [
    "len(total_sea_df)"
   ]
  },
  {
   "cell_type": "code",
   "execution_count": null,
   "id": "8c2b5f4d",
   "metadata": {},
   "outputs": [],
   "source": [
    "#Looking into probability of arriving in to or out of the country\n",
    "#Need to sum arcoss all the methods of entering and leaving to get the total inbound and outbound\n",
    "#numbers arriving by departing by sea relatively stable over time - probability will be more constant than air travel\n",
    "total_departing_by_sea = departing_by_sea_df['VALUE'].sum()\n",
    "total_arriving_by_sea = arriving_by_sea_df['VALUE'].sum()\n",
    "total_sea_df = passenger_movement_df[passenger_movement_df['Type of Passenger Movement'] == 'Passenger Movement by Sea to All Countries'] \n",
    "\n",
    "# Sum the values in 'column_to_sum' from the filtered DataFrame\n",
    "total_movement_sea = total_sea_df['VALUE'].sum()\n",
    "print(total_departing_by_sea, total_arriving_by_sea, total_movement_sea)"
   ]
  },
  {
   "cell_type": "code",
   "execution_count": null,
   "id": "c6d71bb9",
   "metadata": {},
   "outputs": [],
   "source": [
    "p = total_departing_by_sea/total_movement_sea\n",
    "q = total_arriving_by_sea/total_movement_sea\n",
    "print(p,q)"
   ]
  },
  {
   "cell_type": "code",
   "execution_count": null,
   "id": "7cc5f7bc",
   "metadata": {},
   "outputs": [],
   "source": [
    "p + q == 1"
   ]
  },
  {
   "cell_type": "code",
   "execution_count": null,
   "id": "316e2c0c",
   "metadata": {},
   "outputs": [],
   "source": [
    "#if xx number of people are chosen at random who arrived by sea what is the probability they were entering or leaving the country?\n",
    "from scipy.stats import binom\n",
    "#binom.pmf(k = number that you want, n = sample size or limit, p = probability)\n",
    "binom.pmf(50, 100, p)\n",
    "#there is a probability of 0.246 that exactly 5 out of 10 people were departing the country by sea from 1961 to 2009"
   ]
  },
  {
   "cell_type": "code",
   "execution_count": null,
   "id": "7bfedce1",
   "metadata": {},
   "outputs": [],
   "source": [
    "binom.cdf(5, 10, p) #from of less than 5 (4 or less) departing"
   ]
  },
  {
   "cell_type": "code",
   "execution_count": null,
   "id": "f027be07",
   "metadata": {},
   "outputs": [],
   "source": [
    "binom.sf(5, 10, p) #4 or more departing"
   ]
  },
  {
   "cell_type": "code",
   "execution_count": null,
   "id": "564c33be",
   "metadata": {},
   "outputs": [],
   "source": [
    "n = 10  # Number of trials\n",
    "\n",
    "# Generate x values (number of successes)\n",
    "x_values = np.arange(0, n+1)\n",
    "\n",
    "# Calculate probabilities using binomial distribution\n",
    "probabilities = binom.pmf(x_values, n, p)\n",
    "\n",
    "# Plot the binomial distribution\n",
    "plt.bar(x_values, probabilities, color='blue')\n",
    "plt.xlabel('Number of Trials')\n",
    "plt.ylabel('Probability chosen person is departing')\n",
    "plt.xticks(x_values)\n",
    "plt.grid(True)\n",
    "plt.show()"
   ]
  },
  {
   "cell_type": "code",
   "execution_count": null,
   "id": "6a61eea1",
   "metadata": {},
   "outputs": [],
   "source": [
    "n = 10  # Number of trials\n",
    "\n",
    "# Generate x values (number of successes)\n",
    "x_values = np.arange(0, n+1)\n",
    "\n",
    "# Calculate probabilities using binomial distribution\n",
    "probabilities = binom.sf(x_values, n, p)\n",
    "\n",
    "# Plot the binomial distribution\n",
    "plt.bar(x_values, probabilities, color='blue')\n",
    "plt.xlabel('Number of Trials')\n",
    "plt.ylabel('Probability chosen person is departing')\n",
    "plt.xticks(x_values)\n",
    "plt.grid(True)\n",
    "plt.show()"
   ]
  },
  {
   "cell_type": "code",
   "execution_count": null,
   "id": "b715dec9",
   "metadata": {},
   "outputs": [],
   "source": [
    "n = 10  # Number of trials\n",
    "\n",
    "# Generate x values (number of successes)\n",
    "x_values = np.arange(0, n+1)\n",
    "\n",
    "# Calculate probabilities using binomial distribution\n",
    "probabilities = binom.cdf(x_values, n, p)\n",
    "\n",
    "# Plot the binomial distribution\n",
    "plt.bar(x_values, probabilities, color='blue')\n",
    "plt.xlabel('Number of Trials')\n",
    "plt.ylabel('Probability chosen person is departing')\n",
    "plt.xticks(x_values)\n",
    "plt.grid(True)\n",
    "plt.show()"
   ]
  },
  {
   "cell_type": "code",
   "execution_count": null,
   "id": "629f09a9",
   "metadata": {},
   "outputs": [],
   "source": [
    "n = 10\n",
    "x_values = np.arange(0, n+1)\n",
    "\n",
    "# Calculate probabilities using binomial distribution\n",
    "probabilities_pmf = binom.pmf(x_values, n, p)\n",
    "probabilities_sf = binom.sf(x_values, n, p)\n",
    "probabilities_cdf = binom.cdf(x_values, n, p)\n",
    "\n",
    "# Plot the binomial distributions\n",
    "plt.figure(figsize=(10, 6))\n",
    "\n",
    "# Plot PMF\n",
    "plt.bar(x_values - 0.2, probabilities_pmf, width=0.2, color='black', label='PMF')\n",
    "\n",
    "# Plot SF\n",
    "plt.bar(x_values, probabilities_sf, width=0.2, color='blue', label='SF')\n",
    "\n",
    "# Plot CDF\n",
    "plt.bar(x_values + 0.2, probabilities_cdf, width=0.2, color='magenta', label='CDF')\n",
    "\n",
    "plt.xlabel('Number of sucesses')\n",
    "plt.ylabel('Probability chosen person is departing')\n",
    "plt.xticks(x_values)\n",
    "plt.legend()\n",
    "plt.grid(True)\n",
    "plt.savefig('binomial')\n",
    "plt.show()"
   ]
  },
  {
   "cell_type": "code",
   "execution_count": null,
   "id": "386a6bc5",
   "metadata": {},
   "outputs": [],
   "source": [
    "#Two probabilities are approx equal\n",
    "#Expected value over the long run that 10 people would be departing\n",
    "n = 10\n",
    "expected_value = 10*p\n",
    "expected_value"
   ]
  },
  {
   "cell_type": "code",
   "execution_count": null,
   "id": "08cbc2c9",
   "metadata": {},
   "outputs": [],
   "source": [
    "n_values = []\n",
    "k_values = []\n",
    "pmf_values = []\n",
    "\n",
    "for i in range(1, 10000, 100):  \n",
    "    n = i\n",
    "    k = i // 2  # Set k to half of n\n",
    "    pmf = binom.pmf(k, n, p)\n",
    "    \n",
    "    # Append values to lists\n",
    "    n_values.append(n)\n",
    "    k_values.append(k)\n",
    "    pmf_values.append(pmf)\n",
    "\n",
    "# Plot the results\n",
    "plt.figure(figsize=(10, 6))\n",
    "plt.plot(n_values, pmf_values, marker='*', linestyle='-', color = 'purple')\n",
    "plt.xlabel('Number of Trials (n)')\n",
    "plt.ylabel('Probability Mass Function')\n",
    "plt.grid(True)\n",
    "plt.savefig('binomial large number of trails')\n",
    "plt.show()"
   ]
  },
  {
   "cell_type": "markdown",
   "id": "28be7ecf",
   "metadata": {},
   "source": [
    "# Poisson"
   ]
  },
  {
   "cell_type": "code",
   "execution_count": null,
   "id": "2fed3ea7",
   "metadata": {},
   "outputs": [],
   "source": [
    "#finding the average number of people moving by by sea\n",
    "from scipy.stats import poisson\n",
    "total_number_of_months = len(departing_by_sea_df)\n",
    "lambda_poisson_daily= (total_departing_by_sea + total_arriving_by_sea)/(total_number_of_months*365)#per day\n",
    "lambda_poisson_daily #avergae number of people coming a day"
   ]
  },
  {
   "cell_type": "code",
   "execution_count": null,
   "id": "3820dfd0",
   "metadata": {},
   "outputs": [],
   "source": [
    "k = round(lambda_poisson_daily)\n",
    "poisson.pmf(k, lambda_poisson_daily)"
   ]
  },
  {
   "cell_type": "code",
   "execution_count": null,
   "id": "585fe83a",
   "metadata": {},
   "outputs": [],
   "source": [
    "lambda_poisson_values = []\n",
    "pmf_values = []\n",
    "lambda_poisson = (total_departing_by_sea + total_arriving_by_sea) / total_number_of_months\n",
    "time_scale = [1/365, 0.5, 1, 6, 12, 24, 36, 48, 120]\n",
    "\n",
    "for time in time_scale:\n",
    "    lambda_poisson_i = lambda_poisson * time\n",
    "    k = round(lambda_poisson_i)\n",
    "    pmf = poisson.pmf(k, lambda_poisson_i)  # Calculate PMF for lambda_poisson_i\n",
    "    # Append values to lists\n",
    "    lambda_poisson_values.append(lambda_poisson_i)\n",
    "    pmf_values.append(pmf)\n",
    "\n",
    "# Plot the results\n",
    "plt.plot(time_scale, pmf_values, marker='*', linestyle='-', color = 'purple')\n",
    "\n",
    "plt.xlabel('Time frame (in months)')\n",
    "plt.ylabel('Probability Mass Function')\n",
    "#plt.legend()\n",
    "plt.grid(True)\n",
    "plt.savefig('large_poisson.png')\n",
    "plt.show()"
   ]
  },
  {
   "cell_type": "code",
   "execution_count": null,
   "id": "7ac112bc",
   "metadata": {},
   "outputs": [],
   "source": []
  },
  {
   "cell_type": "markdown",
   "id": "5bd6ea65",
   "metadata": {},
   "source": [
    "# Machine Learning"
   ]
  },
  {
   "cell_type": "markdown",
   "id": "db5a4ed8",
   "metadata": {},
   "source": [
    "# KNN Nearest Neighbours"
   ]
  },
  {
   "cell_type": "markdown",
   "id": "9e46042e",
   "metadata": {},
   "source": [
    "Initial plan is to determine if the person is entering or leaving the country based off of the month they travelled, method of travel and the number of other people that travelled in that way - going to need to scale the data for sure but will do that afterwards"
   ]
  },
  {
   "cell_type": "code",
   "execution_count": null,
   "id": "7081b377",
   "metadata": {},
   "outputs": [],
   "source": [
    "import warnings\n",
    "warnings.filterwarnings('ignore') # We can suppress the warnings\n",
    "passenger_movement_df"
   ]
  },
  {
   "cell_type": "code",
   "execution_count": null,
   "id": "2ac44823",
   "metadata": {},
   "outputs": [],
   "source": [
    "#sns.heatmap(passenger_movement_df.corr(), annot = True, fmt = '.2f', linewidths = 2)"
   ]
  },
  {
   "cell_type": "code",
   "execution_count": null,
   "id": "2ba2f42c",
   "metadata": {},
   "outputs": [],
   "source": [
    "print(passenger_movement_df.groupby('Type of Passenger Movement').size())"
   ]
  },
  {
   "cell_type": "code",
   "execution_count": null,
   "id": "ed2be3d2",
   "metadata": {},
   "outputs": [],
   "source": [
    "from sklearn.preprocessing import LabelEncoder\n",
    "lencoder = LabelEncoder()\n",
    "#Need to encode all categorical data\n",
    "# passenger_movement_df_encoded = passenger_movement_df.copy()\n",
    "# passenger_movement_df_encoded['Season'] = lencoder.fit_transform(passenger_movement_df_encoded['Season'])\n",
    "# passenger_movement_df_encoded['Direction'] = lencoder.fit_transform(passenger_movement_df_encoded['Direction'])\n",
    "# passenger_movement_df_encoded['Type of Passenger Movement'] = lencoder.fit_transform(passenger_movement_df_encoded['Type of Passenger Movement'])\n",
    "\n",
    "# passenger_movement_df_encoded"
   ]
  },
  {
   "cell_type": "code",
   "execution_count": null,
   "id": "ae8fa43b",
   "metadata": {},
   "outputs": [],
   "source": [
    "passenger_movement_df['Year'] = passenger_movement_df['Year'].astype(float)\n",
    "\n",
    "def encode(dataFrame): #function to encode any dataframe\n",
    "    encoded_df = dataFrame.copy()\n",
    "    for column in encoded_df.columns:\n",
    "        if encoded_df[column].dtype == 'object':\n",
    "            encoded_df[column] = lencoder.fit_transform(encoded_df[column])\n",
    "    return encoded_df"
   ]
  },
  {
   "cell_type": "code",
   "execution_count": null,
   "id": "3c589735",
   "metadata": {},
   "outputs": [],
   "source": [
    "passenger_movement_df_encoded = encode(passenger_movement_df)\n",
    "passenger_movement_df_encoded.head(50)"
   ]
  },
  {
   "cell_type": "code",
   "execution_count": null,
   "id": "0c625792",
   "metadata": {},
   "outputs": [],
   "source": [
    "from sklearn.model_selection import train_test_split\n",
    "#Going to add another column based off of the time of year \n",
    "#month 02, 03, 04 = spring\n",
    "#month 05, 06, 07 = summer\n",
    "#month 08, 09, 10 = autumn\n",
    "#month 11,12, 01 = winter\n",
    "passenger_movement_df_encoded.iloc[:,2:6]"
   ]
  },
  {
   "cell_type": "code",
   "execution_count": null,
   "id": "86425d60",
   "metadata": {},
   "outputs": [],
   "source": [
    " passenger_movement_df_encoded.iloc[:,1] "
   ]
  },
  {
   "cell_type": "code",
   "execution_count": null,
   "id": "88b279cf",
   "metadata": {},
   "outputs": [],
   "source": [
    "from sklearn.neighbors import KNeighborsClassifier\n",
    "neighbors = np.arange(1, 30)                  # number of neighbors\n",
    "train_accuracy = np.zeros(len(neighbors))    # Declare and initialise the matrix\n",
    "test_accuracy = np.zeros(len(neighbors)) \n",
    "\n",
    "from sklearn.model_selection import train_test_split\n",
    "train_data,test_data,train_label,test_label = train_test_split(passenger_movement_df_encoded.iloc[:,2:6], \n",
    "                                                                 passenger_movement_df_encoded.iloc[:,1], test_size=0.3, random_state=42)\n",
    "train_data.shape,train_label.shape,test_data.shape,test_label.shape"
   ]
  },
  {
   "cell_type": "code",
   "execution_count": null,
   "id": "552d22a5",
   "metadata": {},
   "outputs": [],
   "source": [
    "for i,k in enumerate(neighbors):                          # for loop that checks the model for neighbor values 1, 2, 3, ..., 9\n",
    "    knn = KNeighborsClassifier(n_neighbors = k)           # Initialise an object knn using KNeighborsClassifier method\n",
    "\n",
    "    #Fit the model\n",
    "    knn.fit(train_data, train_label)                      # Call fit method to implement the ML KNeighborsClassifier model\n",
    "\n",
    "    #Compute accuracy on the training set\n",
    "    train_accuracy[i] = knn.score(train_data, train_label)   # Save the score value in the train_accuracy array\n",
    "\n",
    "    #Compute accuracy on the test set\n",
    "    test_accuracy[i] = knn.score(test_data, test_label)      # Save the score value in the train_accuracy array"
   ]
  },
  {
   "cell_type": "code",
   "execution_count": null,
   "id": "41c91efe",
   "metadata": {},
   "outputs": [],
   "source": [
    "# Delcare the size of the array\n",
    "plt.figure(figsize = (10, 6))\n",
    "plt.title('KNN accuracy with varying number of neighbors', fontsize = 20)\n",
    "plt.plot(neighbors, test_accuracy, label = 'Testing Accuracy')\n",
    "plt.plot(neighbors, train_accuracy, label = 'Training accuracy')\n",
    "plt.legend(prop = {'size': 20})\n",
    "plt.xlabel('Number of neighbors', fontsize = 20)\n",
    "plt.ylabel('Accuracy', fontsize = 20)\n",
    "plt.xticks(fontsize = 20)\n",
    "plt.yticks(fontsize = 20)\n",
    "plt.show()"
   ]
  },
  {
   "cell_type": "code",
   "execution_count": null,
   "id": "7ce64b92",
   "metadata": {},
   "outputs": [],
   "source": [
    "# Declare and initialise an object 'KNeighborsClassifier' with 3 neighbors\n",
    "knn = KNeighborsClassifier(n_neighbors = 10)\n",
    "\n",
    "# Fit the model\n",
    "knn.fit(train_data, train_label)\n",
    "\n",
    "# Compute accuracy on the training set\n",
    "train_accuracy = knn.score(train_data, train_label)\n",
    "\n",
    "# Compute accuracy on the test set\n",
    "test_accuracy = knn.score(test_data, test_label)\n",
    "# Display the test accuracy\n",
    "print(test_accuracy)"
   ]
  },
  {
   "cell_type": "code",
   "execution_count": null,
   "id": "7955f312",
   "metadata": {},
   "outputs": [],
   "source": [
    "from sklearn.metrics import confusion_matrix\n",
    "\n",
    "# Predict the results by calling a method 'predict()'\n",
    "prediction = knn.predict(test_data)\n",
    "\n",
    "# Display the confusion matrix - \n",
    "confusion_matrix(test_label, prediction)"
   ]
  },
  {
   "cell_type": "code",
   "execution_count": null,
   "id": "f718bb92",
   "metadata": {},
   "outputs": [],
   "source": [
    "# import the library classification_report\n",
    "from sklearn.metrics import classification_report\n",
    "\n",
    "# Display the report\n",
    "print(classification_report(test_label, prediction))"
   ]
  },
  {
   "cell_type": "code",
   "execution_count": null,
   "id": "5e2832e5",
   "metadata": {},
   "outputs": [],
   "source": [
    "#scaling the data\n",
    "passenger_movement_df.describe() #huge variance in value - encode to improve machine learning outcomes"
   ]
  },
  {
   "cell_type": "code",
   "execution_count": null,
   "id": "03354dfc",
   "metadata": {},
   "outputs": [],
   "source": [
    "import sklearn.preprocessing as preproc\n",
    "passenger_movement_df_scaled = passenger_movement_df_encoded.copy()\n",
    "passenger_movement_df_scaled['VALUE'] = preproc.minmax_scale(passenger_movement_df_scaled['VALUE'])\n",
    "passenger_movement_df_scaled"
   ]
  },
  {
   "cell_type": "code",
   "execution_count": null,
   "id": "ca913d58",
   "metadata": {},
   "outputs": [],
   "source": [
    "#repeat the above process on the scaled values"
   ]
  },
  {
   "cell_type": "code",
   "execution_count": null,
   "id": "7d316a50",
   "metadata": {},
   "outputs": [],
   "source": [
    "neighbors = np.arange(1, 30)                  # number of neighbors\n",
    "train_accuracy2 = np.zeros(len(neighbors))    # Declare and initialise the matrix\n",
    "test_accuracy2 = np.zeros(len(neighbors)) \n",
    "train_data2,test_data2,train_label2,test_label2 = train_test_split(passenger_movement_df_scaled.iloc[:,2:6], \n",
    "                                                                 passenger_movement_df_scaled.iloc[:,1], test_size=0.05, random_state=42)\n",
    "train_data2.shape,train_label2.shape,test_data2.shape,test_label2.shape"
   ]
  },
  {
   "cell_type": "code",
   "execution_count": null,
   "id": "07e2ee7b",
   "metadata": {},
   "outputs": [],
   "source": [
    "for i,k in enumerate(neighbors):                          # for loop that checks the model for neighbor values 1, 2, 3, ..., 9\n",
    "    knn = KNeighborsClassifier(n_neighbors = k)           # Initialise an object knn using KNeighborsClassifier method\n",
    "\n",
    "    #Fit the model\n",
    "    knn.fit(train_data2, train_label2)                      # Call fit method to implement the ML KNeighborsClassifier model\n",
    "\n",
    "    #Compute accuracy on the training set\n",
    "    train_accuracy2[i] = knn.score(train_data2, train_label2)   # Save the score value in the train_accuracy array\n",
    "\n",
    "    #Compute accuracy on the test set\n",
    "    test_accuracy2[i] = knn.score(test_data2, test_label2)  "
   ]
  },
  {
   "cell_type": "code",
   "execution_count": null,
   "id": "5a9717f1",
   "metadata": {},
   "outputs": [],
   "source": [
    "# Delcare the size of the array\n",
    "plt.figure(figsize = (10, 6))\n",
    "plt.title('KNN accuracy with varying number of neighbors', fontsize = 20)\n",
    "plt.plot(neighbors, test_accuracy2, label = 'Testing Accuracy')\n",
    "plt.plot(neighbors, train_accuracy2, label = 'Training accuracy')\n",
    "plt.legend(prop = {'size': 20})\n",
    "plt.xlabel('Number of neighbors', fontsize = 20)\n",
    "plt.ylabel('Accuracy', fontsize = 20)\n",
    "plt.xticks(fontsize = 20)\n",
    "plt.yticks(fontsize = 20)\n",
    "plt.show()"
   ]
  },
  {
   "cell_type": "markdown",
   "id": "afbecca4",
   "metadata": {},
   "source": [
    "# Decision Trees/Random Forests - not working"
   ]
  },
  {
   "cell_type": "code",
   "execution_count": null,
   "id": "d9fa93a4",
   "metadata": {},
   "outputs": [],
   "source": [
    "X = passenger_movement_df_scaled.iloc[:, 2:6].values \n",
    "\n",
    "y = passenger_movement_df_scaled.iloc[:, 1].values\n",
    "\n",
    "# Display X and y \n",
    "X, y"
   ]
  },
  {
   "cell_type": "code",
   "execution_count": null,
   "id": "e9029121",
   "metadata": {},
   "outputs": [],
   "source": [
    "# Split the data set into Training and Testing parts\n",
    "X_train, X_test, y_train, y_test = train_test_split(X, y, test_size = 0.25, random_state = 0) #25% to testing, random_state = same result against different calls\n",
    "\n",
    "# Display the Number of rows and columns before (X, y) and after Splitting (X_train, X_test, y_train, y_test)\n",
    "X.shape, y.shape, X_train.shape, X_test.shape, y_train.shape, y_test.shape"
   ]
  },
  {
   "cell_type": "code",
   "execution_count": null,
   "id": "1003c743",
   "metadata": {},
   "outputs": [],
   "source": [
    "# Load the library 'sklearn.tree'\n",
    "from sklearn.tree import DecisionTreeClassifier\n",
    "\n",
    "# Create and initialise a DecisionTreeClassifier\n",
    "classifier = DecisionTreeClassifier(max_depth = 3, random_state = 0) #11 possible parameters \n",
    "\n",
    "# Train the classifier by calling a method 'fit()'\n",
    "classifier.fit(X_train, y_train)"
   ]
  },
  {
   "cell_type": "code",
   "execution_count": null,
   "id": "785e2a96",
   "metadata": {},
   "outputs": [],
   "source": [
    "# Calculate the predicted vlaue by calling a method predict()\n",
    "y_pred = classifier.predict(X_test)"
   ]
  },
  {
   "cell_type": "code",
   "execution_count": null,
   "id": "db4f49ba",
   "metadata": {},
   "outputs": [],
   "source": [
    "from sklearn.metrics import classification_report, confusion_matrix\n",
    "import seaborn as sns\n",
    "\n",
    "# Calculate cm by calling a method named as 'confusion_matrix'\n",
    "cm = confusion_matrix(y_test, y_pred)\n",
    "\n",
    "# Call a method heatmap() to plot confusion matrix\n",
    "sns.heatmap(cm, annot = True)\n",
    "\n",
    "# print the classification_report based on y_test and y_predict\n",
    "print(classification_report(y_test, y_pred))"
   ]
  },
  {
   "cell_type": "code",
   "execution_count": null,
   "id": "124f5aff",
   "metadata": {},
   "outputs": [],
   "source": [
    "from sklearn import metrics                           # Import scikit-learn metrics module for accuracy calculation\n",
    "import warnings\n",
    "warnings.filterwarnings('ignore') # We can suppress the warnings\n",
    "\n",
    "# Model Accuracy, how often is the classifier correct?\n",
    "print(\"Accuracy:\",metrics.accuracy_score(y_test, y_pred))"
   ]
  },
  {
   "cell_type": "code",
   "execution_count": null,
   "id": "e8b15700",
   "metadata": {},
   "outputs": [],
   "source": [
    "import matplotlib.pyplot as plt\n",
    "from sklearn import tree\n",
    "\n",
    "# Set the size of the figure\n",
    "plt.figure(figsize = (12, 8))\n",
    "\n",
    "# Display the tree by calling a method plot_tree()\n",
    "tree.plot_tree(classifier.fit(X_train, y_train)) "
   ]
  },
  {
   "cell_type": "code",
   "execution_count": null,
   "id": "d5a67471",
   "metadata": {},
   "outputs": [],
   "source": [
    "# from matplotlib.colors import ListedColormap\n",
    "\n",
    "# # Store the data into X_set and y_set\n",
    "# X_set, y_set = X_train, y_train\n",
    "\n",
    "# X1, X2 = np.meshgrid(np.arange(start = X_set[:, 0].min() - 1, stop = X_set[:, 0].max() + 1, step = 0.01),\n",
    "#                      np.arange(start = X_set[:, 1].min() - 1, stop = X_set[:, 1].max() + 1, step = 0.01))\n",
    "\n",
    "# plt.contourf(X1, X2, classifier.predict(np.array([X1.ravel(), X2.ravel()]).T).reshape(X1.shape),\n",
    "#              alpha = 0.75, cmap = ListedColormap(('red', 'green')))\n",
    "# plt.xlim(X1.min(), X1.max())\n",
    "# plt.ylim(X2.min(), X2.max())\n",
    "\n",
    "# for i, j in enumerate(np.unique(y_set)):\n",
    "#     plt.scatter(X_set[y_set == j, 0], X_set[y_set == j, 1],\n",
    "#                 c = ListedColormap(('red', 'green'))(i), label = j)\n",
    "# plt.title('Decision Tree Classification (Training set)')\n",
    "# plt.xlabel('Age')\n",
    "# plt.ylabel('Estimated Salary')\n",
    "# plt.legend()\n",
    "# plt.show()"
   ]
  },
  {
   "cell_type": "markdown",
   "id": "639a8c05",
   "metadata": {},
   "source": [
    "# Linear Regression"
   ]
  },
  {
   "cell_type": "code",
   "execution_count": null,
   "id": "33d53c32",
   "metadata": {},
   "outputs": [],
   "source": [
    "# import the libraries for the plot\n",
    "\n",
    "# Set the style for the plot using swaborn library\n",
    "sns.set(style='whitegrid', context='notebook')\n",
    "\n",
    "# Consider the following columns from the entire dataset\n",
    "cols = ['VALUE']\n",
    "\n",
    "# Display the pairplot using the above-mentioned columns\n",
    "sns.pairplot(departing_by_sea_summer_df[cols], height = 2.5)\n",
    "\n",
    "plt.tight_layout()\n",
    "\n",
    "# plt.savefig('./figures/scatter.png', dpi=300)\n",
    "plt.show()"
   ]
  },
  {
   "cell_type": "code",
   "execution_count": null,
   "id": "83ddfb22",
   "metadata": {},
   "outputs": [],
   "source": [
    "class LinearRegressionGD(object):\n",
    "    \n",
    "    def __init__(self, eta = 0.001, n_iter = 20):\n",
    "        self.eta = eta\n",
    "        self.n_iter = n_iter\n",
    "\n",
    "    def fit(self, X, y):\n",
    "        self.w_ = np.zeros(1 + X.shape[1])\n",
    "        self.cost_ = []\n",
    "\n",
    "        for i in range(self.n_iter):\n",
    "            output = self.net_input(X)\n",
    "            errors = (y - output)\n",
    "            self.w_[1:] += self.eta * X.T.dot(errors)\n",
    "            self.w_[0] += self.eta * errors.sum()\n",
    "            cost = (errors**2).sum() / 2.0\n",
    "            self.cost_.append(cost)\n",
    "        return self\n",
    "\n",
    "    def net_input(self, X):\n",
    "        return np.dot(X, self.w_[1:]) + self.w_[0]\n",
    "\n",
    "    def predict(self, X):\n",
    "        return self.net_input(X)"
   ]
  },
  {
   "cell_type": "code",
   "execution_count": null,
   "id": "3ce4f331",
   "metadata": {},
   "outputs": [],
   "source": [
    "#From january every year\n",
    "departing_by_sea_winter_df = departing_by_sea_df[departing_by_sea_df['Season'].str.contains('Winter')]\n",
    "fig, ax = plt.subplots(figsize=(20,6))\n",
    "ax.scatter(departing_by_sea_winter_df[\"decimal_year\"], departing_by_sea_winter_df[\"VALUE\"], s=10, c='b', marker=\"s\", label='air')"
   ]
  },
  {
   "cell_type": "code",
   "execution_count": null,
   "id": "275beacb",
   "metadata": {},
   "outputs": [],
   "source": [
    "sns.boxplot(y = 'VALUE', data = (departing_by_sea_winter_df)) #numbers arriving by sea have remained very stable over the years - presents better on the boxplot, too much variance otherwise\n",
    "plt.title('Boxplot') "
   ]
  },
  {
   "cell_type": "code",
   "execution_count": null,
   "id": "cf11cccb",
   "metadata": {},
   "outputs": [],
   "source": [
    "X = departing_by_sea_winter_df[['decimal_year']].values\n",
    "y = departing_by_sea_winter_df[['VALUE']].values"
   ]
  },
  {
   "cell_type": "code",
   "execution_count": null,
   "id": "945da007",
   "metadata": {},
   "outputs": [],
   "source": [
    "X.shape, y.shape"
   ]
  },
  {
   "cell_type": "code",
   "execution_count": null,
   "id": "bcf1f4e2",
   "metadata": {},
   "outputs": [],
   "source": [
    "# Import the library for normalization of the data\n",
    "from sklearn.preprocessing import StandardScaler\n",
    "import sklearn.preprocessing as preproc\n",
    "\n",
    "# Initialise the objects using StandardScaler() \n",
    "sc_x = StandardScaler()\n",
    "sc_y = StandardScaler()\n",
    "#X_std = preproc.minmax_scale(X)\n",
    "#y_std = preproc.minmax_scale(y)\n",
    "#df[\"minmax\"] = preproc.minmax_scale(df[[\" n_tokens_content\"]]) #2 brackets as 2 dimensions\n",
    "# Train the objects using fit_transform()\n",
    "X_std = sc_x.fit_transform(X)\n",
    "y_std = sc_y.fit_transform(y)\n",
    "#Data is skewed to the right so trying minmax scaling\n",
    "y_len = len(y_std)\n",
    "\n",
    "print(X_std, y_std)"
   ]
  },
  {
   "cell_type": "code",
   "execution_count": null,
   "id": "a4af61f9",
   "metadata": {},
   "outputs": [],
   "source": []
  },
  {
   "cell_type": "code",
   "execution_count": null,
   "id": "36e5dcbd",
   "metadata": {},
   "outputs": [],
   "source": []
  },
  {
   "cell_type": "code",
   "execution_count": null,
   "id": "eac67a26",
   "metadata": {},
   "outputs": [],
   "source": [
    "# Reshape the (506, 1) to (506,) array for Machine Learning model\n",
    "y_std = np.reshape(y_std, len(y_std))\n",
    "\n",
    "# Display the number of rows and columns\n",
    "X_std.shape, y_std.shape"
   ]
  },
  {
   "cell_type": "code",
   "execution_count": null,
   "id": "d01fb8a3",
   "metadata": {},
   "outputs": [],
   "source": [
    "lr = LinearRegressionGD()\n",
    "lr.fit(X_std, y_std)"
   ]
  },
  {
   "cell_type": "code",
   "execution_count": null,
   "id": "02e4e67b",
   "metadata": {},
   "outputs": [],
   "source": [
    "# Draw a plot using linear regression iterations and cost\n",
    "plt.plot(range(1, lr.n_iter + 1), lr.cost_)\n",
    "plt.ylabel('SSE')           # SSE means 'sum of squares error'\n",
    "plt.xlabel('Epoch')         # The number of epochs is a hyperparameter that defines the number times \n",
    "                            # that the learning algorithm will work through the entire training \n",
    "                            # dataset. One epoch means that each sample in the training dataset has \n",
    "                            # had an opportunity to update the internal model parameters. \n",
    "                            # An epoch is comprised of one or more batches.\n",
    "plt.tight_layout()\n",
    "plt.savefig('cost.png', dpi = 300)\n",
    "plt.show()"
   ]
  },
  {
   "cell_type": "code",
   "execution_count": null,
   "id": "d5874029",
   "metadata": {},
   "outputs": [],
   "source": [
    "# Method or Function for Linear Regression plot\n",
    "def lin_regplot(X, y, model):\n",
    "    plt.scatter(X, y, c = 'blue')\n",
    "    plt.plot(X, model.predict(X), color = 'red', linewidth = 2)    \n",
    "    return\n",
    "# Call the method lin_regplot()\n",
    "\n",
    "lin_regplot(X_std, y_std, lr)\n",
    "plt.xlabel('Year')\n",
    "plt.ylabel('No. of visitors')\n",
    "plt.tight_layout()\n",
    "#plt.savefig('./figures/gradient_fit.png', dpi=300)\n",
    "plt.show()\n",
    "#outiers can clearly be seen"
   ]
  },
  {
   "cell_type": "code",
   "execution_count": null,
   "id": "8bc38a16",
   "metadata": {},
   "outputs": [],
   "source": [
    "# Display the slope and intercept of the line\n",
    "print('Slope: %.3f' % lr.w_[1])\n",
    "print('Intercept: %.3f' % lr.w_[0])"
   ]
  },
  {
   "cell_type": "code",
   "execution_count": null,
   "id": "655e9db1",
   "metadata": {},
   "outputs": [],
   "source": [
    "# Transform the year\n",
    "year_std = preproc.minmax_scale([[1970]])\n",
    "\n",
    "\n",
    "# Predicted visitors based on the year\n",
    "vistors_std = lr.predict(year_std)\n",
    "\n",
    "# Reshape the price_std array to be 2D\n",
    "vistors_std_2d = vistors_std.reshape(-1, 1)\n",
    "\n",
    "# Display the predicted number based on 1970\n",
    "print(\"Number of visitors: %.3f\" % sc_y.inverse_transform(vistors_std_2d))"
   ]
  },
  {
   "cell_type": "markdown",
   "id": "0b442b8d",
   "metadata": {},
   "source": [
    "# Estimating coefficient of a regression model via scikit-learn"
   ]
  },
  {
   "cell_type": "code",
   "execution_count": null,
   "id": "44e5ebf4",
   "metadata": {},
   "outputs": [],
   "source": [
    "# import LinearRegression from sklearn library\n",
    "from sklearn.linear_model import LinearRegression\n",
    "\n",
    "# Initialise an object named as 'slr' by calling a method LinearRegression()\n",
    "slr = LinearRegression()\n",
    "\n",
    "# Train the model\n",
    "slr.fit(X_std, y_std)\n",
    "\n",
    "# Predict the results\n",
    "y_pred = slr.predict(X)\n",
    "\n",
    "# Display the Slope and Intercept values\n",
    "print('Slope: %.3f' % slr.coef_[0])\n",
    "print('Intercept: %.3f' % slr.intercept_)"
   ]
  },
  {
   "cell_type": "code",
   "execution_count": null,
   "id": "8922bced",
   "metadata": {},
   "outputs": [],
   "source": [
    "# Display the regression plot using lin_regplot() method\n",
    "lin_regplot(X_std, y_std, slr)\n",
    "plt.xlabel('')\n",
    "plt.ylabel('')\n",
    "plt.tight_layout()\n",
    "# plt.savefig('./figures/scikit_lr_fit.png', dpi=300)\n",
    "plt.show()"
   ]
  },
  {
   "cell_type": "code",
   "execution_count": null,
   "id": "081224a4",
   "metadata": {},
   "outputs": [],
   "source": [
    "# import RANSACRegressor library\n",
    "from sklearn.linear_model import RANSACRegressor\n",
    "\n",
    "# Initialise an object by calling an object RANSACRegressor()\n",
    "ransac = RANSACRegressor(LinearRegression(), \n",
    "                         max_trials = 100, \n",
    "                         min_samples = 50,                          \n",
    "                         residual_threshold = 10, \n",
    "                         random_state = 0)\n",
    "ransac.fit(X, y)\n",
    "\n",
    "# Store the values for inlier and outlier masks\n",
    "inlier_mask = ransac.inlier_mask_\n",
    "outlier_mask = np.logical_not(inlier_mask)\n",
    "line_X = np.arange(1950, 2020, 1)\n",
    "line_y_ransac = ransac.predict(line_X[:, np.newaxis])\n",
    "plt.scatter(X[inlier_mask], y[inlier_mask], c = 'blue', marker = 'o', label = 'Inliers')\n",
    "plt.scatter(X[outlier_mask], y[outlier_mask], c = 'lightgreen', marker = 's', label = 'Outliers')\n",
    "plt.plot(line_X, line_y_ransac, color = 'red')   \n",
    "plt.xlabel('')\n",
    "plt.ylabel('')\n",
    "plt.legend(loc='upper left')\n",
    "plt.scatter(X, y, c = 'blue', marker = 'o', label = 'Inliers')\n",
    "#lin_regplot(X_std, y_std, ransac_fit)\n",
    "plt.tight_layout()\n",
    "plt.xlim(1950, 2020)\n",
    "# plt.savefig('./figures/ransac_fit.png', dpi=300)\n",
    "plt.show()"
   ]
  },
  {
   "cell_type": "code",
   "execution_count": null,
   "id": "312e3ce3",
   "metadata": {},
   "outputs": [],
   "source": [
    "# Display the coefficients and intercepts\n",
    "print('Slope: %.3f' % ransac.estimator_.coef_[0])\n",
    "print('Intercept: %.3f' % ransac.estimator_.intercept_)"
   ]
  },
  {
   "cell_type": "markdown",
   "id": "175fc4e3",
   "metadata": {},
   "source": [
    "# Evaluating the performance of linear regression models"
   ]
  },
  {
   "cell_type": "code",
   "execution_count": null,
   "id": "d79297d2",
   "metadata": {},
   "outputs": [],
   "source": [
    "arriving_df_encoded = encode(arriving_df)\n",
    "#departing_by_sea_winter_df_encoded"
   ]
  },
  {
   "cell_type": "code",
   "execution_count": null,
   "id": "4d5c7534",
   "metadata": {},
   "outputs": [],
   "source": [
    "arriving_df_encoded.head()"
   ]
  },
  {
   "cell_type": "code",
   "execution_count": null,
   "id": "d916e93f",
   "metadata": {},
   "outputs": [],
   "source": [
    "arriving_df_encoded.iloc[:, list(range(1, 3)) + list(range(4, 6))]\n",
    "#departing_by_sea_winter_df['VALUE'].values\n",
    "#maybe type of encoding is not corret?"
   ]
  },
  {
   "cell_type": "code",
   "execution_count": null,
   "id": "7b89aaab",
   "metadata": {},
   "outputs": [],
   "source": [
    "# import train_test_split from the library sklearn\n",
    "from sklearn.model_selection import train_test_split\n",
    "\n",
    "# Declare a variable named as 'X' and 'y'\n",
    "X = arriving_df_encoded.iloc[:, list(range(1, 3)) + list(range(4, 6))].values #add all - need to encode the matrix first\n",
    "y = arriving_df_encoded['VALUE'].values                    \n",
    "\n",
    "# Split the data into 70% and 30% by using a parameter test_size = 30\n",
    "X_train, X_test, y_train, y_test = train_test_split(X, y, test_size = 0.3, random_state = 10)\n",
    "\n",
    "# Display the size of the rows and columns\n",
    "X.shape, y.shape, X_train.shape, X_test.shape, y_train.shape, y_test.shape"
   ]
  },
  {
   "cell_type": "code",
   "execution_count": null,
   "id": "28b76d6f",
   "metadata": {},
   "outputs": [],
   "source": [
    "X"
   ]
  },
  {
   "cell_type": "code",
   "execution_count": null,
   "id": "ef125d7d",
   "metadata": {},
   "outputs": [],
   "source": [
    "# Initialise an object slr by calling a method named as 'LinearRegression()'\n",
    "slr = LinearRegression()\n",
    "\n",
    "# Trian the model\n",
    "slr.fit(X_train, y_train)\n",
    "\n",
    "# Predict the results for the training and testing\n",
    "y_train_pred = slr.predict(X_train)\n",
    "y_test_pred = slr.predict(X_test)\n",
    "\n",
    "# Display the values of y_train_pred and y_test_pred\n",
    "print(y_train_pred, '\\t', y_test_pred)"
   ]
  },
  {
   "cell_type": "code",
   "execution_count": null,
   "id": "e1f26e76",
   "metadata": {},
   "outputs": [],
   "source": [
    "y_train_pred - y_train"
   ]
  },
  {
   "cell_type": "code",
   "execution_count": null,
   "id": "a9770d2d",
   "metadata": {},
   "outputs": [],
   "source": [
    "# Display the graph for the training and testing of the data\n",
    "plt.scatter(y_train_pred,  y_train_pred - y_train, c = 'blue', marker = 'o', label = 'Training data')\n",
    "plt.scatter(y_test_pred,  y_test_pred - y_test, c = 'lightgreen', marker = 's', label = 'Test data')\n",
    "plt.xlabel('Predicted values')\n",
    "plt.ylabel('Residuals')\n",
    "plt.legend(loc = 'upper left')\n",
    "plt.hlines(y = 0, xmin = -0, xmax = 500000, lw = 2, color = 'red')\n",
    "plt.xlim([-200000, 300000])\n",
    "plt.ylim([-100000, 200000])\n",
    "plt.tight_layout()\n",
    "#why not plotting?\n",
    "# plt.savefig('./figures/slr_residuals.png', dpi=300)\n",
    "plt.show()"
   ]
  },
  {
   "cell_type": "code",
   "execution_count": null,
   "id": "34673b04",
   "metadata": {},
   "outputs": [],
   "source": [
    "# Calculate the r2_score and mean squared error\n",
    "from sklearn.metrics import r2_score\n",
    "from sklearn.metrics import mean_squared_error\n",
    "\n",
    "# Display the means squared error and r2 score values\n",
    "print('MSE train: %.3f, test: %.3f' % (mean_squared_error(y_train, y_train_pred), mean_squared_error(y_test, y_test_pred)))\n",
    "print('R^2 train: %.3f, test: %.3f' % (r2_score(y_train, y_train_pred), r2_score(y_test, y_test_pred)))"
   ]
  },
  {
   "cell_type": "markdown",
   "id": "14335de8",
   "metadata": {},
   "source": [
    "# Lasso"
   ]
  },
  {
   "cell_type": "code",
   "execution_count": null,
   "id": "ad8b85c0",
   "metadata": {},
   "outputs": [],
   "source": [
    "from sklearn.linear_model import Lasso\n",
    "lasso = Lasso().fit(X_train, y_train)\n",
    "print(\"Training set score: {:.2f}\".format(lasso.score(X_train, y_train)))\n",
    "print(\"Test set score: {:.2f}\".format(lasso.score(X_test, y_test)))\n",
    "print(\"Number of features used: {}\".format(np.sum(lasso.coef_ != 0)))"
   ]
  },
  {
   "cell_type": "code",
   "execution_count": null,
   "id": "9ccfe7c0",
   "metadata": {},
   "outputs": [],
   "source": [
    "# we increase the default setting of \"max_iter\",\n",
    "# otherwise the model would warn us that we should increase max_iter.\n",
    "lasso001 = Lasso(alpha=0.01).fit(X_train, y_train)\n",
    "print(\"Training set score: {:.2f}\".format(lasso001.score(X_train, y_train)))\n",
    "print(\"Test set score: {:.2f}\".format(lasso001.score(X_test, y_test)))\n",
    "print(\"Number of features used: {}\".format(np.sum(lasso001.coef_ != 0)))"
   ]
  },
  {
   "cell_type": "code",
   "execution_count": null,
   "id": "0a8feb96",
   "metadata": {},
   "outputs": [],
   "source": [
    "lasso00001 = Lasso(alpha=1).fit(X_train, y_train)\n",
    "print(\"Training set score: {:.2f}\".format(lasso00001.score(X_train, y_train)))\n",
    "print(\"Test set score: {:.2f}\".format(lasso00001.score(X_test, y_test)))\n",
    "print(\"Number of features used: {}\".format(np.sum(lasso00001.coef_ != 0)))"
   ]
  },
  {
   "cell_type": "markdown",
   "id": "27a8d156",
   "metadata": {},
   "source": [
    "## Ridge Regression"
   ]
  },
  {
   "cell_type": "code",
   "execution_count": null,
   "id": "882df344",
   "metadata": {},
   "outputs": [],
   "source": [
    "from sklearn.linear_model import Ridge\n",
    "\n",
    "# Train the Ridge() mode by calling a fit() method\n",
    "ridge = Ridge().fit(X_train, y_train)\n",
    "\n",
    "# Display the score by using ridge object\n",
    "print(\"Training set score: {:.2f}\".format(ridge.score(X_train, y_train)))\n",
    "print(\"Test set score: {:.2f}\".format(ridge.score(X_test, y_test)))"
   ]
  },
  {
   "cell_type": "code",
   "execution_count": null,
   "id": "53a51ed4",
   "metadata": {},
   "outputs": [],
   "source": [
    "# alpha = 10 is a parameter using a fit() method\n",
    "ridge10 = Ridge(alpha = 20).fit(X_train, y_train)\n",
    "\n",
    "# Display the score values for Ridge function\n",
    "print(\"Training set score: {:.2f}\".format(ridge10.score(X_train, y_train)))\n",
    "print(\"Test set score: {:.2f}\".format(ridge10.score(X_test, y_test)))"
   ]
  },
  {
   "cell_type": "code",
   "execution_count": null,
   "id": "35b393a5",
   "metadata": {},
   "outputs": [],
   "source": [
    "# alpha = 0.1 is a parameter using a fit() method\n",
    "ridge01 = Ridge(alpha = 0.1).fit(X_train, y_train)\n",
    "\n",
    "# Display the score values for Ridge function\n",
    "print(\"Training set score: {:.2f}\".format(ridge01.score(X_train, y_train)))\n",
    "print(\"Test set score: {:.2f}\".format(ridge01.score(X_test, y_test)))"
   ]
  },
  {
   "cell_type": "markdown",
   "id": "bb4c2c4b",
   "metadata": {},
   "source": [
    "## ElasticNet"
   ]
  },
  {
   "cell_type": "code",
   "execution_count": null,
   "id": "860b5bfd",
   "metadata": {},
   "outputs": [],
   "source": [
    "# Load library for the ElasticNet\n",
    "from sklearn.linear_model import ElasticNet\n",
    "\n",
    "# Train the model\n",
    "e_net = ElasticNet(alpha = 1)\n",
    "\n",
    "e_net.fit(X_train, y_train)\n",
    "\n",
    "# Calculate the prediction and mean square error\n",
    "y_pred_elastic = e_net.predict(X_test)\n",
    "\n",
    "# Calculate the mean_square_error\n",
    "mean_squared_error = np.mean((y_pred_elastic - y_test)**2)\n",
    "\n",
    "# Display the mean square error\n",
    "print(\"Mean Squared Error on test set\", mean_squared_error)"
   ]
  },
  {
   "cell_type": "code",
   "execution_count": null,
   "id": "f508ba64",
   "metadata": {},
   "outputs": [],
   "source": [
    "print(e_net.coef_, e_net.intercept_)"
   ]
  },
  {
   "cell_type": "markdown",
   "id": "b27c2d13",
   "metadata": {},
   "source": [
    "# Decision tree regression"
   ]
  },
  {
   "cell_type": "code",
   "execution_count": null,
   "id": "e9f6c90d",
   "metadata": {},
   "outputs": [],
   "source": [
    "# import DecisionTreeRegressor from the sklearn library\n",
    "from sklearn.tree import DecisionTreeRegressor\n",
    "\n",
    "# Store the feature or attribute values in X and y\n",
    "X = arriving_df_encoded[['decimal_year']].values\n",
    "y = arriving_df_encoded['VALUE'].values\n",
    "\n",
    "# Initialise an object by calling a method DecisionTreeRegressor()\n",
    "tree = DecisionTreeRegressor(max_depth = 3)\n",
    "tree.fit(X, y)\n",
    "\n",
    "# Return a copy of the array collapsed into one dimension.\n",
    "sort_idx = X.flatten().argsort()\n",
    "\n",
    "lin_regplot(X[sort_idx], y[sort_idx], tree)\n",
    "plt.xlabel('% lower status of the population [LSTAT]')\n",
    "plt.ylabel('Price in $1000\\'s [MEDV]')\n",
    "# plt.savefig('./figures/tree_regression.png', dpi = 300)\n",
    "plt.show()"
   ]
  },
  {
   "cell_type": "code",
   "execution_count": null,
   "id": "d66e852f",
   "metadata": {},
   "outputs": [],
   "source": [
    "# Declaration of Varaibles\n",
    "X = arriving_df_encoded.iloc[:, list(range(1, 3)) + list(range(4, 6))].values          # Store all columns into an array (X) except last column, 'MEDV'\n",
    "y = arriving_df_encoded['VALUE'].values               # Store last column into an array (y)\n",
    "\n",
    "# Use train_test_split method to split the data into 40% and 60%\n",
    "X_train, X_test, y_train, y_test = train_test_split(X, y, test_size = 0.4, random_state = 1)"
   ]
  },
  {
   "cell_type": "code",
   "execution_count": null,
   "id": "d36fc1b9",
   "metadata": {},
   "outputs": [],
   "source": [
    "# import RandomForestRegressor from sklearn\n",
    "from sklearn.ensemble import RandomForestRegressor\n",
    "\n",
    "# Create an object forest by calling a method RandomForestRegressor()\n",
    "forest = RandomForestRegressor(n_estimators = 1000, \n",
    "                               criterion='squared_error',  # Change 'mse' to 'squared_error'\n",
    "                               random_state = 1, \n",
    "                               n_jobs = -1)\n",
    "\n",
    "# Train the Model by calling a fit() method\n",
    "forest.fit(X_train, y_train)\n",
    "\n",
    "y_train_pred = forest.predict(X_train)\n",
    "y_test_pred = forest.predict(X_test)\n",
    "\n",
    "# Display the r2 score values\n",
    "print('R^2 train: %.3f, test: %.3f' % (r2_score(y_train, y_train_pred), r2_score(y_test, y_test_pred)))"
   ]
  },
  {
   "cell_type": "code",
   "execution_count": null,
   "id": "ed172050",
   "metadata": {},
   "outputs": [],
   "source": [
    "# Draw a scatter plot\n",
    "plt.scatter(y_train_pred,  \n",
    "            y_train_pred - y_train, \n",
    "            c = 'black', \n",
    "            marker = 'o', \n",
    "            s = 35,\n",
    "            alpha = 0.5,\n",
    "            label = 'Training data')\n",
    "plt.scatter(y_test_pred,  \n",
    "            y_test_pred - y_test, \n",
    "            c = 'lightgreen', \n",
    "            marker = 's', \n",
    "            s = 35,\n",
    "            alpha = 0.7,\n",
    "            label = 'Test data')\n",
    "\n",
    "plt.xlabel('Predicted values')\n",
    "plt.ylabel('Residuals')\n",
    "plt.legend(loc = 'upper left')\n",
    "plt.hlines(y = 0, xmin = -10, xmax = 50, lw = 2, color = 'red')\n",
    "plt.xlim([-10, 50])\n",
    "plt.ylim([-100, 100])\n",
    "\n",
    "plt.tight_layout()\n",
    "\n",
    "# plt.savefig('./figures/slr_residuals.png', dpi=300)\n",
    "plt.show()"
   ]
  },
  {
   "cell_type": "code",
   "execution_count": null,
   "id": "c9a723e4",
   "metadata": {},
   "outputs": [],
   "source": [
    "# Linear regression for time series"
   ]
  },
  {
   "cell_type": "code",
   "execution_count": null,
   "id": "c9483458",
   "metadata": {},
   "outputs": [],
   "source": [
    "# Import the libraries\n",
    "from sklearn.model_selection import train_test_split\n",
    "from sklearn.linear_model import LinearRegression\n",
    "from sklearn.metrics import r2_score\n",
    "\n",
    "# Create X and y objects\n",
    "X = arriving_df_encoded[['decimal_year']]\n",
    "y = arriving_df_encoded['VALUE']\n",
    "\n",
    "# Create Train test split\n",
    "X_train, X_test, y_train, y_test = train_test_split(X, y, test_size = 0.20, random_state = 12345, shuffle = False)\n",
    "\n",
    "# Fit model\n",
    "my_lm = LinearRegression()\n",
    "my_lm.fit(X = X_train, y = y_train)\n",
    "\n",
    "train_fcst = my_lm.predict(X_train)\n",
    "test_fcst = my_lm.predict(X_test)\n",
    "\n",
    "# Store the R2 error into train_r2 and test_r2\n",
    "train_r2 = r2_score(y_train, train_fcst)\n",
    "test_r2 = r2_score(y_test, test_fcst)\n",
    "\n",
    "# Display the training and test score\n",
    "print(train_r2, test_r2)\n",
    "\n",
    "# Plot result\n",
    "plt.plot(list(test_fcst))\n",
    "plt.plot(list(y_test))\n",
    "plt.xlabel('Steps into the test set')\n",
    "plt.ylabel('CO2 levels')\n",
    "plt.show()"
   ]
  },
  {
   "cell_type": "code",
   "execution_count": null,
   "id": "b5ce394b",
   "metadata": {},
   "outputs": [],
   "source": [
    "arriving_df_encoded_2 = arriving_df_encoded.copy()\n",
    "arriving_df_encoded_2['co2_l1'] = arriving_df_encoded['VALUE'].shift(1)\n",
    "arriving_df_encoded_2['co2_l2'] = arriving_df_encoded['VALUE'].shift(2)\n",
    "arriving_df_encoded_2['co2_l3'] = arriving_df_encoded['VALUE'].shift(3)\n",
    "arriving_df_encoded_2['co2_l4'] = arriving_df_encoded['VALUE'].shift(4)\n",
    "arriving_df_encoded_2['co2_l5'] = arriving_df_encoded['VALUE'].shift(5)"
   ]
  },
  {
   "cell_type": "code",
   "execution_count": null,
   "id": "8fa3ccda",
   "metadata": {},
   "outputs": [],
   "source": [
    "arriving_df_encoded_2.head()"
   ]
  },
  {
   "cell_type": "code",
   "execution_count": null,
   "id": "ee5b6ebb",
   "metadata": {},
   "outputs": [],
   "source": [
    "arriving_df_encoded_2 = arriving_df_encoded_2.dropna()"
   ]
  },
  {
   "cell_type": "code",
   "execution_count": null,
   "id": "c0de51cd",
   "metadata": {},
   "outputs": [],
   "source": [
    "# Import the libraries\n",
    "from sklearn.model_selection import train_test_split\n",
    "from sklearn.linear_model import LinearRegression\n",
    "from sklearn.metrics import r2_score\n",
    "\n",
    "# Create X and y objects\n",
    "X = arriving_df_encoded_2[['decimal_year', 'co2_l1', 'co2_l2', 'co2_l3', 'co2_l4', 'co2_l5']]\n",
    "y = arriving_df_encoded_2['VALUE']\n",
    "\n",
    "# Create Train test split\n",
    "X_train, X_test, y_train, y_test = train_test_split(X, y, test_size = 0.20, random_state = 12345, shuffle = False)\n",
    "\n",
    "# Fit model\n",
    "my_lm = LinearRegression()\n",
    "my_lm.fit(X = X_train, y = y_train)\n",
    "\n",
    "train_fcst = my_lm.predict(X_train)\n",
    "test_fcst = my_lm.predict(X_test)\n",
    "\n",
    "# Store the R2 error into train_r2 and test_r2\n",
    "train_r2 = r2_score(y_train, train_fcst)\n",
    "test_r2 = r2_score(y_test, test_fcst)\n",
    "\n",
    "# Display the training and test score\n",
    "print(train_r2, test_r2)\n",
    "\n",
    "# Plot result\n",
    "plt.plot(list(test_fcst))\n",
    "plt.plot(list(y_test))\n",
    "plt.xlabel('Steps into the test set')\n",
    "plt.ylabel('CO2 levels')\n",
    "plt.show()"
   ]
  },
  {
   "cell_type": "markdown",
   "id": "67fba67c",
   "metadata": {},
   "source": [
    "# Tut 4"
   ]
  },
  {
   "cell_type": "code",
   "execution_count": null,
   "id": "e483991d",
   "metadata": {},
   "outputs": [],
   "source": [
    "passenger_movement_df_encoded = encode(passenger_movement_df) \n",
    "passenger_movement_df_encoded.iloc[:, :]"
   ]
  },
  {
   "cell_type": "code",
   "execution_count": null,
   "id": "9052edf8",
   "metadata": {},
   "outputs": [],
   "source": [
    "passenger_movement_air_df = passenger_movement_df[passenger_movement_df['Type of Passenger Movement'].isin(['Summer'])]\n",
    "passenger_movement_summer_df_encoded = encode(passenger_movement_summer_df)\n",
    "y = passenger_movement_summer_df_encoded['Direction'].values\n",
    "X = passenger_movement_summer_df_encoded.iloc[:, 2:5].values "
   ]
  },
  {
   "cell_type": "code",
   "execution_count": null,
   "id": "b44e9c89",
   "metadata": {},
   "outputs": [],
   "source": [
    "# Splitting the dataset into the Training set and Test set\n",
    "X_train, X_test, y_train, y_test = train_test_split(X, y, test_size = 0.30, random_state = 82)\n",
    "\n",
    "# Display the rows and coulmns of X, y, X_train, y_train, X_test, y_test\n",
    "X.shape, y.shape, X_train.shape, y_train.shape, X_test.shape, y_test.shape"
   ]
  },
  {
   "cell_type": "code",
   "execution_count": null,
   "id": "cc03cefa",
   "metadata": {},
   "outputs": [],
   "source": [
    "# Feature Scaling to bring the variable in a single scale\n",
    "from sklearn.preprocessing import StandardScaler\n",
    "\n",
    "# Create and initialise an object sc by calling a method StandardScaler()\n",
    "sc = StandardScaler() #rescaling data\n",
    "\n",
    "# Train the model by calling a method fit_transform()\n",
    "X_train = sc.fit_transform(X_train)\n",
    "\n",
    "# Transforms the test data\n",
    "X_test = sc.transform(X_test) #independent variable "
   ]
  },
  {
   "cell_type": "code",
   "execution_count": null,
   "id": "434ec25a",
   "metadata": {},
   "outputs": [],
   "source": [
    "# Fitting Naive Bayes Classification to the Training set with linear kernel\n",
    "from sklearn.naive_bayes import GaussianNB\n",
    "\n",
    "# Create and initialise an object sc by calling a method GaussianNB()\n",
    "nvclassifier = GaussianNB()\n",
    "\n",
    "# Train the model by calling a method fit()\n",
    "nvclassifier.fit(X_train, y_train)"
   ]
  },
  {
   "cell_type": "code",
   "execution_count": null,
   "id": "a233ccd0",
   "metadata": {},
   "outputs": [],
   "source": [
    "# Predicting the Test set results\n",
    "y_pred = nvclassifier.predict(X_test)\n",
    "\n",
    "# Display the predicted values\n",
    "print(y_pred)"
   ]
  },
  {
   "cell_type": "code",
   "execution_count": null,
   "id": "2fe79ba7",
   "metadata": {},
   "outputs": [],
   "source": [
    "# Check the actual and predicted value side by side\n",
    "y_compare = np.vstack((y_test, y_pred)).T\n",
    "# actual value on the left side and predicted value on the right hand side\n",
    "# printing the top 10 values\n",
    "y_compare[:10, :]"
   ]
  },
  {
   "cell_type": "code",
   "execution_count": null,
   "id": "42cfb7ec",
   "metadata": {},
   "outputs": [],
   "source": [
    "# Construct the Confusion Matrix\n",
    "from sklearn.metrics import confusion_matrix\n",
    "cm = confusion_matrix(y_test, y_pred)\n",
    "print(cm)"
   ]
  },
  {
   "cell_type": "code",
   "execution_count": null,
   "id": "a2d16516",
   "metadata": {},
   "outputs": [],
   "source": [
    "# Import scikit-learn metrics module for accuracy calculation\n",
    "from sklearn import metrics\n",
    "\n",
    "# Model Accuracy, how often is the classifier correct?\n",
    "print(\"Accuracy:\",metrics.accuracy_score(y_test, y_pred))\n",
    "\n",
    "# Rounded upto 2 decimal places\n",
    "print( \"Accuracy: {:.2f}\".format(metrics.accuracy_score(y_test, y_pred)) )"
   ]
  },
  {
   "cell_type": "code",
   "execution_count": null,
   "id": "4ca6de86",
   "metadata": {},
   "outputs": [],
   "source": [
    "from sklearn.model_selection import cross_val_score\n",
    "nvclassifier = GaussianNB()\n",
    "cross_val_score(nvclassifier, X, y, scoring='accuracy', cv = 20).mean()\n",
    "#gives authenticity - can be used on all models"
   ]
  },
  {
   "cell_type": "code",
   "execution_count": null,
   "id": "f786e825",
   "metadata": {},
   "outputs": [],
   "source": [
    "#Bayes multivariable"
   ]
  },
  {
   "cell_type": "code",
   "execution_count": null,
   "id": "9d03a701",
   "metadata": {},
   "outputs": [],
   "source": [
    "#Import Gaussian Naive Bayes model\n",
    "from sklearn.naive_bayes import GaussianNB\n",
    "\n",
    "#Create a Gaussian Classifier\n",
    "gnb = GaussianNB()\n",
    "\n",
    "#Train the model using the training sets\n",
    "gnb.fit(X_train, y_train)\n",
    "\n",
    "#Predict the response for test dataset\n",
    "y_pred = gnb.predict(X_test)"
   ]
  },
  {
   "cell_type": "code",
   "execution_count": null,
   "id": "d0e68bba",
   "metadata": {},
   "outputs": [],
   "source": [
    "#Import scikit-learn metrics module for accuracy calculation\n",
    "from sklearn import metrics\n",
    "\n",
    "# Model Accuracy, how often is the classifier correct?\n",
    "print(\"Accuracy:\",metrics.accuracy_score(y_test, y_pred))"
   ]
  },
  {
   "cell_type": "code",
   "execution_count": null,
   "id": "494b74ae",
   "metadata": {},
   "outputs": [],
   "source": [
    "# from sklearn.model_selection import cross_val_score\n",
    "# gnb = GaussianNB()\n",
    "# cross_val_scor(gnb, wine.data, wine.target, scoring='accuracy', cv=30).mean()\n"
   ]
  },
  {
   "cell_type": "markdown",
   "id": "527f05e9",
   "metadata": {},
   "source": [
    "# Support Vector Machines"
   ]
  },
  {
   "cell_type": "code",
   "execution_count": null,
   "id": "23725906",
   "metadata": {},
   "outputs": [],
   "source": [
    "import pandas as pd\n",
    "import numpy as np\n",
    "from sklearn.svm import SVC\n",
    "from sklearn.metrics import accuracy_score\n",
    "from sklearn.preprocessing import StandardScaler"
   ]
  }
 ],
 "metadata": {
  "kernelspec": {
   "display_name": "Python 3 (ipykernel)",
   "language": "python",
   "name": "python3"
  },
  "language_info": {
   "codemirror_mode": {
    "name": "ipython",
    "version": 3
   },
   "file_extension": ".py",
   "mimetype": "text/x-python",
   "name": "python",
   "nbconvert_exporter": "python",
   "pygments_lexer": "ipython3",
   "version": "3.11.5"
  }
 },
 "nbformat": 4,
 "nbformat_minor": 5
}
